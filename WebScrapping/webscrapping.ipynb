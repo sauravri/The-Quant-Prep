{
 "cells": [
  {
   "cell_type": "markdown",
   "metadata": {},
   "source": [
    "<img src = 'img/logo.png' style = \"height:70px; width:70px;float:right;\"> \n",
    "<h1><center> Webscrapping to MySQL</center></h1>\n",
    "\n",
    "In this script we attempt to obtain market quotes from [investing.com](https://www.investing.com/). Despite there being an existent API from [investing.com](https://www.investing.com/) in Python (check out [`investpy`](https://pypi.org/project/investpy/)), this is a fun little project to introduce webscrapping with 2 important python packages: `Selenium` and `BeautifulSoup`.\n",
    "\n",
    "Finally, we will do a quick overview of SQL and how to input the data we've scraped to MySQL. To do this, we will use the `mysql` package in Python.\n",
    "\n",
    "`Selenium` is an API that allows us to use Selenium Webdriver to automate tasks on our browser. Using `selenium` we can direct our browser to specific pages where we want to scrape our data. \n",
    "\n",
    "`BeautifulSoup` on the other hand allows us to extract useful information from the pages we've obtained from `selenium`.\n",
    "\n",
    "\n",
    "### Workflow\n",
    "1. Set up selenium\n",
    "2. Connect to [investing.com](https://www.investing.com/)\n",
    "3. Parse HTML page using beautifulSoup\n",
    "4. Store data in MySQL\n",
    "\n",
    "<h2><center> 0. Import packages </center></h2>"
   ]
  },
  {
   "cell_type": "code",
   "execution_count": 1,
   "metadata": {},
   "outputs": [],
   "source": [
    "from bs4 import BeautifulSoup\n",
    "import requests\n",
    "import re\n",
    "import time \n",
    "import pandas as pd\n",
    "import os\n",
    "from datetime import datetime as dt\n",
    "import time\n",
    "import itertools \n",
    "\n",
    "# Selenium Related packages\n",
    "###############################\n",
    "from selenium import webdriver\n",
    "from selenium.webdriver.common.by import By\n",
    "from selenium.webdriver.support.ui import WebDriverWait\n",
    "from selenium.webdriver.support import expected_conditions as EC\n",
    "\n",
    "\n",
    "##SQL (pip install mysql-connector-python)\n",
    "import mysql.connector"
   ]
  },
  {
   "cell_type": "markdown",
   "metadata": {},
   "source": [
    "<h2><center>1. Set up Selenium </center></h2>\n",
    "\n",
    "### Log in to investing.com"
   ]
  },
  {
   "cell_type": "code",
   "execution_count": 2,
   "metadata": {},
   "outputs": [],
   "source": [
    "# Investing login URL\n",
    "url = 'https://www.investing.com'\n",
    "\n",
    "# On ubuntu: sudo apt-get install chromium-chromedriver\n",
    "# Connect to driver using Python\n",
    "# Setting up options for WebDriver\n",
    "driver = webdriver.Chrome()\n",
    "\n",
    "# Connect to url\n",
    "driver.get(url + '/login')\n",
    "\n",
    "# Set up email and password to investing account\n",
    "mail = 'calebmigosi@gmail.com' # lol mail me\n",
    "password = PASSWORD\n",
    "\n",
    "# Fill email\n",
    "email = driver.find_element_by_id(\"loginFormUser_email\")\n",
    "email.clear()\n",
    "email.send_keys(mail)\n",
    "\n",
    "# Send Password\n",
    "pwd = driver.find_element_by_id(\"loginForm_password\")\n",
    "pwd.clear()\n",
    "pwd.send_keys(password)\n",
    "\n",
    "# Click Sign in Button\n",
    "driver.find_element_by_id(\"onetrust-accept-btn-handler\").click()\n",
    "driver.find_element_by_link_text(\"Sign In\").click()\n",
    "\n",
    "## Direct to Home Page\n",
    "driver.get(url)"
   ]
  },
  {
   "cell_type": "markdown",
   "metadata": {},
   "source": [
    "### Define pages of interest "
   ]
  },
  {
   "cell_type": "code",
   "execution_count": 3,
   "metadata": {},
   "outputs": [],
   "source": [
    "#Regions of interest\n",
    "regions = ['Americas', 'Europe', 'Asia/Pacific']\n",
    "assetTypes = ['Indices', 'Stocks', 'ETFs', 'Bonds']"
   ]
  },
  {
   "cell_type": "code",
   "execution_count": 4,
   "metadata": {},
   "outputs": [],
   "source": [
    "def pageExtractor(region, assetType):\n",
    "    driver.find_element_by_link_text(\"Markets\").click()\n",
    "    driver.find_element_by_link_text(region).click()\n",
    "    driver.find_element_by_link_text(assetType).click()\n",
    "    time.sleep(1)\n",
    "\n",
    "    # Direct to main table and find the link on each\n",
    "    wrapper = driver.find_elements_by_xpath(\"//div[@class = 'wrapper']\")\n",
    "    leftColumn = driver.find_element_by_id(\"leftColumn\")\n",
    "\n",
    "    content = leftColumn.find_element_by_css_selector(\"table[id = 'cross_rate_markets_indices_1']\")\n",
    "    overviewTable = content.find_elements_by_xpath(\"//table[@id = 'cross_rate_markets_indices_1']\")\n",
    "    tableElements = content.find_elements_by_xpath(\"//td[@class = 'bold left noWrap elp plusIconTd']\")\n",
    "    links = [elem.find_elements_by_tag_name(\"a\")[0].get_attribute(\"href\")\n",
    "                for elem in tableElements]\n",
    "    \n",
    "    htmlPages = []\n",
    "    for link in links:\n",
    "        driver.get(link)\n",
    "        driver.find_element_by_link_text(\"Historical Data\").click()\n",
    "        \n",
    "        # Wait for page to load\n",
    "        time.sleep(2)\n",
    "        try:\n",
    "            elem = driver.find_element_by_id(\"widgetFieldDateRange\")\n",
    "        except:\n",
    "            print(link)\n",
    "            next \n",
    "            \n",
    "        # Change first date to 01/01/1970\n",
    "        driver.find_element_by_id(\"widgetField\").click()\n",
    "        startDate = driver.find_element_by_id(\"startDate\")\n",
    "        startDate.clear()\n",
    "        startDate.send_keys('01/01/1980')\n",
    "\n",
    "        endDate = driver.find_element_by_id(\"endDate\")\n",
    "        endDate.clear()\n",
    "        endDate.send_keys('01/01/2005')\n",
    "\n",
    "        # Click apply button (Bit of an exception because of a JS element on the button)\n",
    "        button = driver.find_element_by_xpath('//a[@id=\"applyBtn\" and @class=\"newBtn Arrow LightGray float_lang_base_2\"]')\n",
    "        driver.execute_script(\"arguments[0].click();\", button)\n",
    "        time.sleep(2)\n",
    "\n",
    "        htmlTable = []\n",
    "        # Extract page as HTML\n",
    "        htmlTable.append(BeautifulSoup(driver.page_source, 'html.parser'))\n",
    "\n",
    "        # Change first date to 01/01/1970\n",
    "        driver.find_element_by_id(\"widgetField\").click()\n",
    "        startDate = driver.find_element_by_id(\"startDate\")\n",
    "        startDate.clear()\n",
    "        startDate.send_keys('01/01/2005')\n",
    "\n",
    "        endDate = driver.find_element_by_id(\"endDate\")\n",
    "        endDate.clear()\n",
    "        endDate.send_keys('01/01/2025')\n",
    "\n",
    "        # Click apply button (Bit of an exception because of a JS element on the button)\n",
    "        button = driver.find_element_by_xpath('//a[@id=\"applyBtn\" and @class=\"newBtn Arrow LightGray float_lang_base_2\"]')\n",
    "        driver.execute_script(\"arguments[0].click();\", button)\n",
    "        time.sleep(2)\n",
    "\n",
    "        # Extract page as HTML\n",
    "        htmlTable.append(BeautifulSoup(driver.page_source, 'html.parser'))\n",
    "        \n",
    "        htmlPages.append(htmlTable)\n",
    "        driver.find_element_by_link_text(\"Markets\").click()\n",
    "        driver.find_element_by_link_text(region).click()\n",
    "        driver.find_element_by_link_text(assetType).click()\n",
    "        \n",
    "    return(htmlPages)"
   ]
  },
  {
   "cell_type": "markdown",
   "metadata": {},
   "source": [
    "<h2><center> 2. BeautifulSoup to extract quotes </center></h2>\n",
    "\n",
    "Create a function to clean quotes from HTML and extract a table of quotes."
   ]
  },
  {
   "cell_type": "code",
   "execution_count": 5,
   "metadata": {},
   "outputs": [],
   "source": [
    "def quoteExtractor(HTMLInput):\n",
    "    # Find all table rows(tr) of a table \n",
    "    htmlTable = HTMLInput.find_all('tr')\n",
    "\n",
    "    # Find text on the line\n",
    "    quotes = [line.find_all(text = True) for line in htmlTable]\n",
    "\n",
    "    # If 'No results found' return NA\n",
    "    quoteStr = [' '.join(quote) for quote in quotes]\n",
    "    if '\\n No results found \\n' in quoteStr: return(pd.DataFrame([]))\n",
    "\n",
    "    # Select either dates or numbers(quotes)\n",
    "    regexQuotes =  re.compile(r'([A-Za-z]{3} [0-9]{2})|([0-9.]{1,20})')\n",
    "    regexDates =  re.compile(r'([A-Za-z]{3} [0-9]{2})')\n",
    "    reg = re.compile(r'^(?!\\n$)')\n",
    "\n",
    "    'Extract quotes as nested list'\n",
    "    quoteList = []\n",
    "    # Filter out dates and quotes in each row\n",
    "    for row in quotes:\n",
    "        quote = list(filter(reg.match, row))     # Remove \\n strings\n",
    "        quoteList.append(list(filter(regexQuotes.match, quote)))\n",
    "\n",
    "    # Remove Empty Lists\n",
    "    quoteList = list(filter(None, quoteList))\n",
    "\n",
    "    'Find column names'\n",
    "    # Find column headers by class\n",
    "    colnames = [line.find_all('th', \n",
    "                              {\"class\": {\"noWrap pointer\", \"first left noWrap pointer\"}}) for line in htmlTable]\n",
    "\n",
    "    # Remove empty classes \n",
    "    colnames = list(filter(None, colnames))\n",
    "    cols = [line.find_all(text = True) for line in colnames[0]]\n",
    "\n",
    "    # Find field names\n",
    "    fields = list(itertools.chain(*cols))\n",
    "\n",
    "    'Assign column names to columns'\n",
    "    # Select only the first 6 columns\n",
    "    quoteData = pd.DataFrame(quoteList)\n",
    "    quoteData.columns = fields \n",
    "\n",
    "    validRows = list(filter(regexDates.match, quoteData['Date']))\n",
    "    validDates = [(quote in validRows) for quote in quoteData['Date']]\n",
    "\n",
    "    # Filter out by valid dates\n",
    "    quoteData = quoteData[validDates]\n",
    "\n",
    "    # Set Dates as index\n",
    "    quoteData.Date = [dt.strptime(re.sub(',', '', date), '%b %d %Y') for date in quoteData.Date]\n",
    "\n",
    "    # Change Close, Open, High and Low columns\n",
    "    # Change quotes from strings to floats\n",
    "    quoteCleaner = lambda x: [float(re.sub(\",\", \"\", quote)) for quote in  x]\n",
    "    quoteData[['Price', 'Open', 'High', 'Low']] = quoteData[['Price', 'Open', 'High', 'Low']].apply(quoteCleaner)\n",
    "    \n",
    "    return quoteData[['Date', 'Price', 'Open', 'High', 'Low']]"
   ]
  },
  {
   "cell_type": "markdown",
   "metadata": {},
   "source": [
    "<h2><center> 3. Data into SQL </center></h2>\n",
    "\n",
    "### Create market data schema"
   ]
  },
  {
   "cell_type": "code",
   "execution_count": 6,
   "metadata": {},
   "outputs": [],
   "source": [
    "mydb = mysql.connector.connect(\n",
    "  host=\"localhost\",\n",
    "  user=\"root\",\n",
    "  password=\"xj6yFfEtOA3NjaLT*tx0\"\n",
    ")\n",
    "\n",
    "mycursor = mydb.cursor()\n",
    "# mycursor.execute(\"CREATE DATABASE market_data\")\n",
    "\n",
    "# Connect to marker_data\n",
    "mydb = mysql.connector.connect(\n",
    "  host=\"localhost\",\n",
    "  user=\"root\",\n",
    "  password= PASSWORD,\n",
    "  database = 'market_data')\n",
    "\n",
    "mycursor = mydb.cursor()"
   ]
  },
  {
   "cell_type": "markdown",
   "metadata": {},
   "source": [
    "### Create data tables"
   ]
  },
  {
   "cell_type": "code",
   "execution_count": 7,
   "metadata": {},
   "outputs": [],
   "source": [
    "# Stock Quote Table Function\n",
    "def tableCreator(table_name, colnames, coltype):\n",
    "    '''Concatenate the commands'''\n",
    "    sqlCommand = \"CREATE TABLE \"+ table_name +\" (\"\n",
    "    columnDefs = [colname +\" \"+ coltype for colname, coltype in zip(colnames, coltype)]\n",
    "    columnDefs = \", \".join(columnDefs)\n",
    "\n",
    "    # Execute commands\n",
    "    mycursor.execute(sqlCommand + columnDefs  + ')')\n",
    "    \n",
    "    print(table_name + ' created.')"
   ]
  },
  {
   "cell_type": "markdown",
   "metadata": {},
   "source": [
    "#### Stock and ETF Quote Table"
   ]
  },
  {
   "cell_type": "code",
   "execution_count": 8,
   "metadata": {},
   "outputs": [
    {
     "name": "stdout",
     "output_type": "stream",
     "text": [
      "stock_quotes created.\n",
      "index_quotes created.\n",
      "etf_quotes created.\n",
      "commodity_quotes created.\n",
      "crypto_quotes created.\n"
     ]
    }
   ],
   "source": [
    "# Create stock quote parameters\n",
    "colnames = ['id', 'name', 'asset_id', 'Close', 'Open', 'High', 'Low', 'Volume']\n",
    "coltypes = ['INT AUTO_INCREMENT PRIMARY KEY NOT NULL', 'DATE NOT NULL', 'INT',\n",
    "           'DECIMAL(20,6)',\n",
    "           'DECIMAL(20,6)',\n",
    "           'DECIMAL(20,6)',\n",
    "           'DECIMAL(20,6)','INT']\n",
    "\n",
    "# Create stock quotes\n",
    "tableCreator('stock_quotes', colnames, coltypes)\n",
    "tableCreator('index_quotes', colnames, coltypes)\n",
    "tableCreator('etf_quotes', colnames, coltypes)\n",
    "tableCreator('commodity_quotes', colnames, coltypes)\n",
    "tableCreator('crypto_quotes', colnames, coltypes)"
   ]
  },
  {
   "cell_type": "markdown",
   "metadata": {},
   "source": [
    "#### Other Asset Quote Table"
   ]
  },
  {
   "cell_type": "code",
   "execution_count": 9,
   "metadata": {},
   "outputs": [
    {
     "name": "stdout",
     "output_type": "stream",
     "text": [
      "forex_quotes created.\n",
      "bond_yield_quotes created.\n"
     ]
    }
   ],
   "source": [
    "# Create stock quote parameters\n",
    "colnames = ['id', 'name', 'asset_id', 'Close', 'Open', 'High', 'Low']\n",
    "coltypes = ['INT AUTO_INCREMENT PRIMARY KEY NOT NULL', 'DATE NOT NULL', 'INT',\n",
    "           'DECIMAL(20,6)',\n",
    "           'DECIMAL(20,6)',\n",
    "           'DECIMAL(20,6)',\n",
    "           'DECIMAL(20,6)']\n",
    "\n",
    "# Create stock quotes\n",
    "tableCreator('forex_quotes', colnames, coltypes)\n",
    "tableCreator('bond_yield_quotes', colnames, coltypes)"
   ]
  },
  {
   "cell_type": "markdown",
   "metadata": {},
   "source": [
    "#### Fund Quote Table"
   ]
  },
  {
   "cell_type": "code",
   "execution_count": 10,
   "metadata": {},
   "outputs": [
    {
     "name": "stdout",
     "output_type": "stream",
     "text": [
      "fund_quotes created.\n"
     ]
    }
   ],
   "source": [
    "# Create stock quote parameters\n",
    "colnames = ['id', 'name', 'asset_id', 'NAV']\n",
    "coltypes = ['INT AUTO_INCREMENT PRIMARY KEY NOT NULL', 'DATE NOT NULL', 'INT',\n",
    "           'DECIMAL(20,6)']\n",
    "\n",
    "# Create stock quotes\n",
    "tableCreator('fund_quotes', colnames, coltypes)"
   ]
  },
  {
   "cell_type": "markdown",
   "metadata": {},
   "source": [
    "#### Stock and ETF Static Data"
   ]
  },
  {
   "cell_type": "code",
   "execution_count": 11,
   "metadata": {},
   "outputs": [
    {
     "name": "stdout",
     "output_type": "stream",
     "text": [
      "stock_details created.\n",
      "etf_details created.\n"
     ]
    }
   ],
   "source": [
    "# Create stock quote parameters\n",
    "colnames = ['id', 'name', 'Ticker', 'Industry', 'Sector', 'Beta', 'EPS', 'Shares']\n",
    "coltypes = ['INT AUTO_INCREMENT PRIMARY KEY NOT NULL', \n",
    "           'VARCHAR(45)',\n",
    "           'VARCHAR(45)',\n",
    "           'VARCHAR(45)',\n",
    "           'VARCHAR(45)',\n",
    "           'DECIMAL(8,6)',\n",
    "           'DECIMAL(10,6)',\n",
    "           'INT']\n",
    "\n",
    "# Create stock quotes\n",
    "tableCreator('stock_details', colnames, coltypes)\n",
    "tableCreator('etf_details', colnames, coltypes)"
   ]
  },
  {
   "cell_type": "markdown",
   "metadata": {},
   "source": [
    "#### Bond Spread Data (vs Bund)"
   ]
  },
  {
   "cell_type": "code",
   "execution_count": 12,
   "metadata": {},
   "outputs": [
    {
     "name": "stdout",
     "output_type": "stream",
     "text": [
      "bond_spread_quotes created.\n"
     ]
    }
   ],
   "source": [
    "# Create stock quote parameters\n",
    "colnames = ['id', 'name', 'asset_id', 'NAV']\n",
    "coltypes = ['INT AUTO_INCREMENT PRIMARY KEY NOT NULL', 'DATE NOT NULL', 'INT',\n",
    "           'DECIMAL(20,6)']\n",
    "\n",
    "# Create stock quotes\n",
    "tableCreator('bond_spread_quotes', colnames, coltypes)"
   ]
  }
 ],
 "metadata": {
  "kernelspec": {
   "display_name": "Python 3",
   "language": "python",
   "name": "python3"
  },
  "language_info": {
   "codemirror_mode": {
    "name": "ipython",
    "version": 3
   },
   "file_extension": ".py",
   "mimetype": "text/x-python",
   "name": "python",
   "nbconvert_exporter": "python",
   "pygments_lexer": "ipython3",
   "version": "3.8.5"
  }
 },
 "nbformat": 4,
 "nbformat_minor": 4
}
