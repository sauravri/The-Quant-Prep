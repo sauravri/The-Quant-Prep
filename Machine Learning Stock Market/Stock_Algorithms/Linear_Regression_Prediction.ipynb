{
  "cells": [
    {
      "cell_type": "markdown",
      "source": [
        "# Linear Regression Prediction"
      ],
      "metadata": {
        "nteract": {
          "transient": {
            "deleting": false
          }
        }
      }
    },
    {
      "cell_type": "code",
      "source": [
        "import numpy as np\n",
        "import pandas as pd\n",
        "import matplotlib.pyplot as plt\n",
        "import seaborn as sns\n",
        "\n",
        "import warnings\n",
        "warnings.filterwarnings(\"ignore\")\n",
        "\n",
        "# yfinance is used to fetch data \n",
        "import yfinance as yf\n",
        "yf.pdr_override()"
      ],
      "outputs": [],
      "execution_count": 1,
      "metadata": {
        "collapsed": true,
        "jupyter": {
          "source_hidden": false,
          "outputs_hidden": false
        },
        "nteract": {
          "transient": {
            "deleting": false
          }
        },
        "execution": {
          "iopub.status.busy": "2021-07-19T01:08:30.247Z",
          "iopub.execute_input": "2021-07-19T01:08:30.252Z",
          "iopub.status.idle": "2021-07-19T01:08:30.944Z",
          "shell.execute_reply": "2021-07-19T01:08:30.964Z"
        }
      }
    },
    {
      "cell_type": "code",
      "source": [
        "# input\n",
        "symbol = 'AMD'\n",
        "start = '2012-01-01'\n",
        "end = '2021-07-16'\n",
        "\n",
        "# Read data \n",
        "dataset = yf.download(symbol,start,end)\n",
        "\n",
        "# View Columns\n",
        "dataset.head()"
      ],
      "outputs": [
        {
          "output_type": "stream",
          "name": "stdout",
          "text": [
            "[*********************100%***********************]  1 of 1 completed\n"
          ]
        },
        {
          "output_type": "execute_result",
          "execution_count": 2,
          "data": {
            "text/plain": "            Open  High   Low  Close  Adj Close    Volume\nDate                                                    \n2012-01-03  5.53  5.59  5.44   5.48       5.48  12675100\n2012-01-04  5.47  5.49  5.41   5.46       5.46   8034900\n2012-01-05  5.45  5.57  5.35   5.46       5.46  11476900\n2012-01-06  5.44  5.52  5.39   5.43       5.43  12938600\n2012-01-09  5.42  5.60  5.38   5.59       5.59  12585400",
            "text/html": "<div>\n<style scoped>\n    .dataframe tbody tr th:only-of-type {\n        vertical-align: middle;\n    }\n\n    .dataframe tbody tr th {\n        vertical-align: top;\n    }\n\n    .dataframe thead th {\n        text-align: right;\n    }\n</style>\n<table border=\"1\" class=\"dataframe\">\n  <thead>\n    <tr style=\"text-align: right;\">\n      <th></th>\n      <th>Open</th>\n      <th>High</th>\n      <th>Low</th>\n      <th>Close</th>\n      <th>Adj Close</th>\n      <th>Volume</th>\n    </tr>\n    <tr>\n      <th>Date</th>\n      <th></th>\n      <th></th>\n      <th></th>\n      <th></th>\n      <th></th>\n      <th></th>\n    </tr>\n  </thead>\n  <tbody>\n    <tr>\n      <th>2012-01-03</th>\n      <td>5.53</td>\n      <td>5.59</td>\n      <td>5.44</td>\n      <td>5.48</td>\n      <td>5.48</td>\n      <td>12675100</td>\n    </tr>\n    <tr>\n      <th>2012-01-04</th>\n      <td>5.47</td>\n      <td>5.49</td>\n      <td>5.41</td>\n      <td>5.46</td>\n      <td>5.46</td>\n      <td>8034900</td>\n    </tr>\n    <tr>\n      <th>2012-01-05</th>\n      <td>5.45</td>\n      <td>5.57</td>\n      <td>5.35</td>\n      <td>5.46</td>\n      <td>5.46</td>\n      <td>11476900</td>\n    </tr>\n    <tr>\n      <th>2012-01-06</th>\n      <td>5.44</td>\n      <td>5.52</td>\n      <td>5.39</td>\n      <td>5.43</td>\n      <td>5.43</td>\n      <td>12938600</td>\n    </tr>\n    <tr>\n      <th>2012-01-09</th>\n      <td>5.42</td>\n      <td>5.60</td>\n      <td>5.38</td>\n      <td>5.59</td>\n      <td>5.59</td>\n      <td>12585400</td>\n    </tr>\n  </tbody>\n</table>\n</div>"
          },
          "metadata": {}
        }
      ],
      "execution_count": 2,
      "metadata": {
        "collapsed": true,
        "jupyter": {
          "source_hidden": false,
          "outputs_hidden": false
        },
        "nteract": {
          "transient": {
            "deleting": false
          }
        },
        "execution": {
          "iopub.status.busy": "2021-07-19T01:08:30.952Z",
          "iopub.execute_input": "2021-07-19T01:08:30.956Z",
          "iopub.status.idle": "2021-07-19T01:08:31.787Z",
          "shell.execute_reply": "2021-07-19T01:08:31.899Z"
        }
      }
    },
    {
      "cell_type": "code",
      "source": [
        "dataset.tail()"
      ],
      "outputs": [
        {
          "output_type": "execute_result",
          "execution_count": 3,
          "data": {
            "text/plain": "                 Open       High        Low      Close  Adj Close    Volume\nDate                                                                       \n2021-07-09  90.040001  91.260002  88.529999  90.900002  90.900002  35256400\n2021-07-12  91.220001  91.900002  89.650002  90.809998  90.809998  28526600\n2021-07-13  90.480003  91.410004  89.830002  90.260002  90.260002  30367600\n2021-07-14  90.760002  91.400002  88.940002  89.050003  89.050003  28108500\n2021-07-15  89.779999  89.779999  86.180000  86.930000  86.930000  38944700",
            "text/html": "<div>\n<style scoped>\n    .dataframe tbody tr th:only-of-type {\n        vertical-align: middle;\n    }\n\n    .dataframe tbody tr th {\n        vertical-align: top;\n    }\n\n    .dataframe thead th {\n        text-align: right;\n    }\n</style>\n<table border=\"1\" class=\"dataframe\">\n  <thead>\n    <tr style=\"text-align: right;\">\n      <th></th>\n      <th>Open</th>\n      <th>High</th>\n      <th>Low</th>\n      <th>Close</th>\n      <th>Adj Close</th>\n      <th>Volume</th>\n    </tr>\n    <tr>\n      <th>Date</th>\n      <th></th>\n      <th></th>\n      <th></th>\n      <th></th>\n      <th></th>\n      <th></th>\n    </tr>\n  </thead>\n  <tbody>\n    <tr>\n      <th>2021-07-09</th>\n      <td>90.040001</td>\n      <td>91.260002</td>\n      <td>88.529999</td>\n      <td>90.900002</td>\n      <td>90.900002</td>\n      <td>35256400</td>\n    </tr>\n    <tr>\n      <th>2021-07-12</th>\n      <td>91.220001</td>\n      <td>91.900002</td>\n      <td>89.650002</td>\n      <td>90.809998</td>\n      <td>90.809998</td>\n      <td>28526600</td>\n    </tr>\n    <tr>\n      <th>2021-07-13</th>\n      <td>90.480003</td>\n      <td>91.410004</td>\n      <td>89.830002</td>\n      <td>90.260002</td>\n      <td>90.260002</td>\n      <td>30367600</td>\n    </tr>\n    <tr>\n      <th>2021-07-14</th>\n      <td>90.760002</td>\n      <td>91.400002</td>\n      <td>88.940002</td>\n      <td>89.050003</td>\n      <td>89.050003</td>\n      <td>28108500</td>\n    </tr>\n    <tr>\n      <th>2021-07-15</th>\n      <td>89.779999</td>\n      <td>89.779999</td>\n      <td>86.180000</td>\n      <td>86.930000</td>\n      <td>86.930000</td>\n      <td>38944700</td>\n    </tr>\n  </tbody>\n</table>\n</div>"
          },
          "metadata": {}
        }
      ],
      "execution_count": 3,
      "metadata": {
        "collapsed": true,
        "jupyter": {
          "source_hidden": false,
          "outputs_hidden": false
        },
        "nteract": {
          "transient": {
            "deleting": false
          }
        },
        "execution": {
          "iopub.status.busy": "2021-07-19T01:08:31.795Z",
          "iopub.execute_input": "2021-07-19T01:08:31.800Z",
          "iopub.status.idle": "2021-07-19T01:08:31.811Z",
          "shell.execute_reply": "2021-07-19T01:08:31.903Z"
        }
      }
    },
    {
      "cell_type": "code",
      "source": [
        "y = dataset['Adj Close']\n",
        "X = dataset.drop('Adj Close',axis=1)"
      ],
      "outputs": [],
      "execution_count": 4,
      "metadata": {
        "collapsed": true,
        "jupyter": {
          "source_hidden": false,
          "outputs_hidden": false
        },
        "nteract": {
          "transient": {
            "deleting": false
          }
        },
        "execution": {
          "iopub.status.busy": "2021-07-19T01:08:31.817Z",
          "iopub.execute_input": "2021-07-19T01:08:31.822Z",
          "iopub.status.idle": "2021-07-19T01:08:31.829Z",
          "shell.execute_reply": "2021-07-19T01:08:31.907Z"
        }
      }
    },
    {
      "cell_type": "code",
      "source": [
        "dataset.dtypes"
      ],
      "outputs": [
        {
          "output_type": "execute_result",
          "execution_count": 5,
          "data": {
            "text/plain": "Open         float64\nHigh         float64\nLow          float64\nClose        float64\nAdj Close    float64\nVolume         int64\ndtype: object"
          },
          "metadata": {}
        }
      ],
      "execution_count": 5,
      "metadata": {
        "collapsed": true,
        "jupyter": {
          "source_hidden": false,
          "outputs_hidden": false
        },
        "nteract": {
          "transient": {
            "deleting": false
          }
        },
        "execution": {
          "iopub.status.busy": "2021-07-19T01:08:31.836Z",
          "iopub.execute_input": "2021-07-19T01:08:31.840Z",
          "shell.execute_reply": "2021-07-19T01:08:31.910Z",
          "iopub.status.idle": "2021-07-19T01:08:31.851Z"
        }
      }
    },
    {
      "cell_type": "code",
      "source": [
        "print(len(X))\n",
        "print(len(y))"
      ],
      "outputs": [
        {
          "output_type": "stream",
          "name": "stdout",
          "text": [
            "2399\n",
            "2399\n"
          ]
        }
      ],
      "execution_count": 6,
      "metadata": {
        "collapsed": true,
        "jupyter": {
          "source_hidden": false,
          "outputs_hidden": false
        },
        "nteract": {
          "transient": {
            "deleting": false
          }
        },
        "execution": {
          "shell.execute_reply": "2021-07-19T01:08:31.914Z",
          "iopub.status.busy": "2021-07-19T01:08:31.858Z",
          "iopub.execute_input": "2021-07-19T01:08:31.862Z",
          "iopub.status.idle": "2021-07-19T01:08:31.872Z"
        }
      }
    },
    {
      "cell_type": "code",
      "source": [
        "from sklearn.model_selection import train_test_split\n",
        "from sklearn.linear_model import LinearRegression\n",
        "from sklearn.metrics import mean_squared_error, r2_score\n",
        "from sklearn.metrics import confusion_matrix,accuracy_score"
      ],
      "outputs": [],
      "execution_count": 7,
      "metadata": {
        "collapsed": true,
        "jupyter": {
          "source_hidden": false,
          "outputs_hidden": false
        },
        "nteract": {
          "transient": {
            "deleting": false
          }
        },
        "execution": {
          "iopub.status.busy": "2021-07-19T01:08:31.878Z",
          "iopub.execute_input": "2021-07-19T01:08:31.883Z",
          "iopub.status.idle": "2021-07-19T01:08:31.963Z",
          "shell.execute_reply": "2021-07-19T01:08:31.955Z"
        }
      }
    },
    {
      "cell_type": "code",
      "source": [
        "X_train, X_test, y_train, y_test=train_test_split(X,y,test_size=0.2,random_state=0)"
      ],
      "outputs": [],
      "execution_count": 8,
      "metadata": {
        "collapsed": true,
        "jupyter": {
          "source_hidden": false,
          "outputs_hidden": false
        },
        "nteract": {
          "transient": {
            "deleting": false
          }
        },
        "execution": {
          "iopub.status.busy": "2021-07-19T01:08:31.970Z",
          "iopub.execute_input": "2021-07-19T01:08:31.974Z",
          "iopub.status.idle": "2021-07-19T01:08:31.981Z",
          "shell.execute_reply": "2021-07-19T01:08:32.251Z"
        }
      }
    },
    {
      "cell_type": "code",
      "source": [
        "X_test.columns"
      ],
      "outputs": [
        {
          "output_type": "execute_result",
          "execution_count": 9,
          "data": {
            "text/plain": "Index(['Open', 'High', 'Low', 'Close', 'Volume'], dtype='object')"
          },
          "metadata": {}
        }
      ],
      "execution_count": 9,
      "metadata": {
        "collapsed": true,
        "jupyter": {
          "source_hidden": false,
          "outputs_hidden": false
        },
        "nteract": {
          "transient": {
            "deleting": false
          }
        },
        "execution": {
          "iopub.status.busy": "2021-07-19T01:08:31.991Z",
          "iopub.execute_input": "2021-07-19T01:08:31.996Z",
          "iopub.status.idle": "2021-07-19T01:08:32.007Z",
          "shell.execute_reply": "2021-07-19T01:08:32.255Z"
        }
      }
    },
    {
      "cell_type": "code",
      "source": [
        "model = LinearRegression()"
      ],
      "outputs": [],
      "execution_count": 10,
      "metadata": {
        "collapsed": true,
        "jupyter": {
          "source_hidden": false,
          "outputs_hidden": false
        },
        "nteract": {
          "transient": {
            "deleting": false
          }
        },
        "execution": {
          "iopub.status.busy": "2021-07-19T01:08:32.014Z",
          "iopub.execute_input": "2021-07-19T01:08:32.019Z",
          "iopub.status.idle": "2021-07-19T01:08:32.027Z",
          "shell.execute_reply": "2021-07-19T01:08:32.258Z"
        }
      }
    },
    {
      "cell_type": "code",
      "source": [
        "model.fit(X_train,y_train)"
      ],
      "outputs": [
        {
          "output_type": "execute_result",
          "execution_count": 11,
          "data": {
            "text/plain": "LinearRegression()"
          },
          "metadata": {}
        }
      ],
      "execution_count": 11,
      "metadata": {
        "collapsed": true,
        "jupyter": {
          "source_hidden": false,
          "outputs_hidden": false
        },
        "nteract": {
          "transient": {
            "deleting": false
          }
        },
        "execution": {
          "iopub.status.busy": "2021-07-19T01:08:32.035Z",
          "iopub.execute_input": "2021-07-19T01:08:32.040Z",
          "iopub.status.idle": "2021-07-19T01:08:32.053Z",
          "shell.execute_reply": "2021-07-19T01:08:32.260Z"
        }
      }
    },
    {
      "cell_type": "code",
      "source": [
        "y_predict = model.predict(X_test)"
      ],
      "outputs": [],
      "execution_count": 12,
      "metadata": {
        "collapsed": true,
        "jupyter": {
          "source_hidden": false,
          "outputs_hidden": false
        },
        "nteract": {
          "transient": {
            "deleting": false
          }
        },
        "execution": {
          "iopub.status.busy": "2021-07-19T01:08:32.059Z",
          "iopub.execute_input": "2021-07-19T01:08:32.063Z",
          "iopub.status.idle": "2021-07-19T01:08:32.071Z",
          "shell.execute_reply": "2021-07-19T01:08:32.264Z"
        }
      }
    },
    {
      "cell_type": "code",
      "source": [
        "rmse = mean_squared_error(y_test,y_predict)"
      ],
      "outputs": [],
      "execution_count": 13,
      "metadata": {
        "collapsed": true,
        "jupyter": {
          "source_hidden": false,
          "outputs_hidden": false
        },
        "nteract": {
          "transient": {
            "deleting": false
          }
        },
        "execution": {
          "iopub.status.busy": "2021-07-19T01:08:32.077Z",
          "iopub.execute_input": "2021-07-19T01:08:32.084Z",
          "iopub.status.idle": "2021-07-19T01:08:32.092Z",
          "shell.execute_reply": "2021-07-19T01:08:32.267Z"
        }
      }
    },
    {
      "cell_type": "code",
      "source": [
        "r2 = r2_score(y_test,y_predict)"
      ],
      "outputs": [],
      "execution_count": 14,
      "metadata": {
        "collapsed": true,
        "jupyter": {
          "source_hidden": false,
          "outputs_hidden": false
        },
        "nteract": {
          "transient": {
            "deleting": false
          }
        },
        "execution": {
          "iopub.status.busy": "2021-07-19T01:08:32.101Z",
          "iopub.execute_input": "2021-07-19T01:08:32.105Z",
          "iopub.status.idle": "2021-07-19T01:08:32.114Z",
          "shell.execute_reply": "2021-07-19T01:08:32.271Z"
        }
      }
    },
    {
      "cell_type": "code",
      "source": [
        "coefficient = model.coef_"
      ],
      "outputs": [],
      "execution_count": 15,
      "metadata": {
        "collapsed": true,
        "jupyter": {
          "source_hidden": false,
          "outputs_hidden": false
        },
        "nteract": {
          "transient": {
            "deleting": false
          }
        },
        "execution": {
          "iopub.status.busy": "2021-07-19T01:08:32.120Z",
          "iopub.execute_input": "2021-07-19T01:08:32.124Z",
          "iopub.status.idle": "2021-07-19T01:08:32.131Z",
          "shell.execute_reply": "2021-07-19T01:08:32.274Z"
        }
      }
    },
    {
      "cell_type": "code",
      "source": [
        "intercept = model.intercept_"
      ],
      "outputs": [],
      "execution_count": 16,
      "metadata": {
        "collapsed": true,
        "jupyter": {
          "source_hidden": false,
          "outputs_hidden": false
        },
        "nteract": {
          "transient": {
            "deleting": false
          }
        },
        "execution": {
          "iopub.status.busy": "2021-07-19T01:08:32.137Z",
          "iopub.execute_input": "2021-07-19T01:08:32.141Z",
          "iopub.status.idle": "2021-07-19T01:08:32.149Z",
          "shell.execute_reply": "2021-07-19T01:08:32.277Z"
        }
      }
    },
    {
      "cell_type": "code",
      "source": [
        "print('rmse=',rmse)\n",
        "print('r2=',r2)\n",
        "print('coefficient=',coefficient)\n",
        "print('intercept=',intercept)"
      ],
      "outputs": [
        {
          "output_type": "stream",
          "name": "stdout",
          "text": [
            "rmse= 2.3990246245440438e-20\n",
            "r2= 1.0\n",
            "coefficient= [ 1.60684683e-14 -2.09032320e-14  6.45546616e-15  1.00000000e+00\n",
            " -4.16274342e-18]\n",
            "intercept= 1.8123103018297115e-10\n"
          ]
        }
      ],
      "execution_count": 17,
      "metadata": {
        "collapsed": true,
        "jupyter": {
          "source_hidden": false,
          "outputs_hidden": false
        },
        "nteract": {
          "transient": {
            "deleting": false
          }
        },
        "execution": {
          "iopub.status.busy": "2021-07-19T01:08:32.157Z",
          "iopub.execute_input": "2021-07-19T01:08:32.161Z",
          "iopub.status.idle": "2021-07-19T01:08:32.172Z",
          "shell.execute_reply": "2021-07-19T01:08:32.281Z"
        }
      }
    },
    {
      "cell_type": "code",
      "source": [
        "p ={'y_test':y_test,'y_predict':y_predict}\n"
      ],
      "outputs": [],
      "execution_count": 18,
      "metadata": {
        "collapsed": true,
        "jupyter": {
          "source_hidden": false,
          "outputs_hidden": false
        },
        "nteract": {
          "transient": {
            "deleting": false
          }
        },
        "execution": {
          "iopub.status.busy": "2021-07-19T01:08:32.180Z",
          "iopub.execute_input": "2021-07-19T01:08:32.186Z",
          "iopub.status.idle": "2021-07-19T01:08:32.194Z",
          "shell.execute_reply": "2021-07-19T01:08:32.285Z"
        }
      }
    },
    {
      "cell_type": "code",
      "source": [
        "df = pd.DataFrame(data=p)"
      ],
      "outputs": [],
      "execution_count": 19,
      "metadata": {
        "collapsed": true,
        "jupyter": {
          "source_hidden": false,
          "outputs_hidden": false
        },
        "nteract": {
          "transient": {
            "deleting": false
          }
        },
        "execution": {
          "iopub.status.busy": "2021-07-19T01:08:32.202Z",
          "iopub.execute_input": "2021-07-19T01:08:32.207Z",
          "iopub.status.idle": "2021-07-19T01:08:32.216Z",
          "shell.execute_reply": "2021-07-19T01:08:32.288Z"
        }
      }
    },
    {
      "cell_type": "code",
      "source": [
        "plt.figure(figsize=(20,8))\n",
        "df.resample('Y').mean().plot.barh(color=['blue','green'])"
      ],
      "outputs": [
        {
          "output_type": "execute_result",
          "execution_count": 20,
          "data": {
            "text/plain": "<AxesSubplot:ylabel='Date'>"
          },
          "metadata": {}
        },
        {
          "output_type": "display_data",
          "data": {
            "text/plain": "<Figure size 1440x576 with 0 Axes>"
          },
          "metadata": {}
        },
        {
          "output_type": "display_data",
          "data": {
            "text/plain": "<Figure size 432x288 with 1 Axes>",
            "image/png": "[encoded data removed]"
          },
          "metadata": {
            "needs_background": "light"
          }
        }
      ],
      "execution_count": 20,
      "metadata": {
        "collapsed": true,
        "jupyter": {
          "source_hidden": false,
          "outputs_hidden": false
        },
        "nteract": {
          "transient": {
            "deleting": false
          }
        },
        "execution": {
          "iopub.status.busy": "2021-07-19T01:08:32.224Z",
          "iopub.execute_input": "2021-07-19T01:08:32.229Z",
          "shell.execute_reply": "2021-07-19T01:08:32.361Z",
          "iopub.status.idle": "2021-07-19T01:08:32.329Z"
        }
      }
    },
    {
      "cell_type": "code",
      "source": [
        "r2_score = model.score(X_test,y_test) \n",
        "print(r2_score*100,'%')"
      ],
      "outputs": [
        {
          "output_type": "stream",
          "name": "stdout",
          "text": [
            "100.0 %\n"
          ]
        }
      ],
      "execution_count": 21,
      "metadata": {
        "collapsed": true,
        "jupyter": {
          "source_hidden": false,
          "outputs_hidden": false
        },
        "nteract": {
          "transient": {
            "deleting": false
          }
        },
        "execution": {
          "iopub.status.busy": "2021-07-19T01:08:32.336Z",
          "iopub.execute_input": "2021-07-19T01:08:32.341Z",
          "iopub.status.idle": "2021-07-19T01:08:32.352Z",
          "shell.execute_reply": "2021-07-19T01:08:32.365Z"
        }
      }
    }
  ],
  "metadata": {
    "kernel_info": {
      "name": "python3"
    },
    "language_info": {
      "name": "python",
      "version": "3.6.12",
      "mimetype": "text/x-python",
      "codemirror_mode": {
        "name": "ipython",
        "version": 3
      },
      "pygments_lexer": "ipython3",
      "nbconvert_exporter": "python",
      "file_extension": ".py"
    },
    "kernelspec": {
      "argv": [
        "C:/Users/Tin Hang/Anaconda3\\python.exe",
        "-m",
        "ipykernel_launcher",
        "-f",
        "{connection_file}"
      ],
      "display_name": "Python 3",
      "language": "python",
      "name": "python3"
    },
    "nteract": {
      "version": "0.28.0"
    }
  },
  "nbformat": 4,
  "nbformat_minor": 0
}