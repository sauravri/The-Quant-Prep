{
  "cells": [
    {
      "cell_type": "markdown",
      "source": [
        "# Quantile Regression"
      ],
      "metadata": {}
    },
    {
      "cell_type": "code",
      "source": [
        "import numpy as np\n",
        "import matplotlib.pyplot as plt\n",
        "import pandas as pd\n",
        "\n",
        "import statsmodels.api as sm\n",
        "import statsmodels.formula.api as smf\n",
        "\n",
        "import warnings\n",
        "warnings.filterwarnings(\"ignore\")\n",
        "\n",
        "# yahoo finance is used to fetch data \n",
        "import yfinance as yf\n",
        "yf.pdr_override()"
      ],
      "outputs": [],
      "execution_count": 1,
      "metadata": {
        "collapsed": false,
        "outputHidden": false,
        "inputHidden": false,
        "execution": {
          "iopub.status.busy": "2022-11-20T04:58:43.429Z",
          "iopub.execute_input": "2022-11-20T04:58:43.433Z",
          "shell.execute_reply": "2022-11-20T04:58:44.477Z",
          "iopub.status.idle": "2022-11-20T04:58:44.483Z"
        }
      }
    },
    {
      "cell_type": "code",
      "source": [
        "# input\n",
        "symbol = 'AMD'\n",
        "start = '2014-01-01'\n",
        "end = '2018-08-27'\n",
        "\n",
        "# Read data \n",
        "dataset = yf.download(symbol,start,end)\n",
        "\n",
        "# View Columns\n",
        "dataset.head()"
      ],
      "outputs": [
        {
          "output_type": "stream",
          "name": "stdout",
          "text": [
            "[*********************100%***********************]  1 of 1 completed\n"
          ]
        },
        {
          "output_type": "execute_result",
          "execution_count": 2,
          "data": {
            "text/plain": "                           Open  High   Low  Close  Adj Close    Volume\nDate                                                                   \n2014-01-02 00:00:00-05:00  3.85  3.98  3.84   3.95       3.95  20548400\n2014-01-03 00:00:00-05:00  3.98  4.00  3.88   4.00       4.00  22887200\n2014-01-06 00:00:00-05:00  4.01  4.18  3.99   4.13       4.13  42398300\n2014-01-07 00:00:00-05:00  4.19  4.25  4.11   4.18       4.18  42932100\n2014-01-08 00:00:00-05:00  4.23  4.26  4.14   4.18       4.18  30678700",
            "text/html": "<div>\n<style scoped>\n    .dataframe tbody tr th:only-of-type {\n        vertical-align: middle;\n    }\n\n    .dataframe tbody tr th {\n        vertical-align: top;\n    }\n\n    .dataframe thead th {\n        text-align: right;\n    }\n</style>\n<table border=\"1\" class=\"dataframe\">\n  <thead>\n    <tr style=\"text-align: right;\">\n      <th></th>\n      <th>Open</th>\n      <th>High</th>\n      <th>Low</th>\n      <th>Close</th>\n      <th>Adj Close</th>\n      <th>Volume</th>\n    </tr>\n    <tr>\n      <th>Date</th>\n      <th></th>\n      <th></th>\n      <th></th>\n      <th></th>\n      <th></th>\n      <th></th>\n    </tr>\n  </thead>\n  <tbody>\n    <tr>\n      <th>2014-01-02 00:00:00-05:00</th>\n      <td>3.85</td>\n      <td>3.98</td>\n      <td>3.84</td>\n      <td>3.95</td>\n      <td>3.95</td>\n      <td>20548400</td>\n    </tr>\n    <tr>\n      <th>2014-01-03 00:00:00-05:00</th>\n      <td>3.98</td>\n      <td>4.00</td>\n      <td>3.88</td>\n      <td>4.00</td>\n      <td>4.00</td>\n      <td>22887200</td>\n    </tr>\n    <tr>\n      <th>2014-01-06 00:00:00-05:00</th>\n      <td>4.01</td>\n      <td>4.18</td>\n      <td>3.99</td>\n      <td>4.13</td>\n      <td>4.13</td>\n      <td>42398300</td>\n    </tr>\n    <tr>\n      <th>2014-01-07 00:00:00-05:00</th>\n      <td>4.19</td>\n      <td>4.25</td>\n      <td>4.11</td>\n      <td>4.18</td>\n      <td>4.18</td>\n      <td>42932100</td>\n    </tr>\n    <tr>\n      <th>2014-01-08 00:00:00-05:00</th>\n      <td>4.23</td>\n      <td>4.26</td>\n      <td>4.14</td>\n      <td>4.18</td>\n      <td>4.18</td>\n      <td>30678700</td>\n    </tr>\n  </tbody>\n</table>\n</div>"
          },
          "metadata": {}
        }
      ],
      "execution_count": 2,
      "metadata": {
        "collapsed": false,
        "outputHidden": false,
        "inputHidden": false,
        "execution": {
          "iopub.status.busy": "2022-11-20T04:58:44.488Z",
          "iopub.execute_input": "2022-11-20T04:58:44.491Z",
          "shell.execute_reply": "2022-11-20T04:58:45.549Z",
          "iopub.status.idle": "2022-11-20T04:58:45.510Z"
        }
      }
    },
    {
      "cell_type": "code",
      "source": [
        "dataset.tail()"
      ],
      "outputs": [
        {
          "output_type": "execute_result",
          "execution_count": 3,
          "data": {
            "text/plain": "                                Open   High        Low      Close  Adj Close  \\\nDate                                                                           \n2018-08-20 00:00:00-04:00  19.790001  20.08  19.350000  19.980000  19.980000   \n2018-08-21 00:00:00-04:00  19.980000  20.42  19.860001  20.400000  20.400000   \n2018-08-22 00:00:00-04:00  20.280001  20.92  20.209999  20.900000  20.900000   \n2018-08-23 00:00:00-04:00  21.190001  22.32  21.139999  22.290001  22.290001   \n2018-08-24 00:00:00-04:00  22.910000  24.00  22.670000  23.980000  23.980000   \n\n                              Volume  \nDate                                  \n2018-08-20 00:00:00-04:00   62983200  \n2018-08-21 00:00:00-04:00   55629000  \n2018-08-22 00:00:00-04:00   62002700  \n2018-08-23 00:00:00-04:00  113444100  \n2018-08-24 00:00:00-04:00  164328200  ",
            "text/html": "<div>\n<style scoped>\n    .dataframe tbody tr th:only-of-type {\n        vertical-align: middle;\n    }\n\n    .dataframe tbody tr th {\n        vertical-align: top;\n    }\n\n    .dataframe thead th {\n        text-align: right;\n    }\n</style>\n<table border=\"1\" class=\"dataframe\">\n  <thead>\n    <tr style=\"text-align: right;\">\n      <th></th>\n      <th>Open</th>\n      <th>High</th>\n      <th>Low</th>\n      <th>Close</th>\n      <th>Adj Close</th>\n      <th>Volume</th>\n    </tr>\n    <tr>\n      <th>Date</th>\n      <th></th>\n      <th></th>\n      <th></th>\n      <th></th>\n      <th></th>\n      <th></th>\n    </tr>\n  </thead>\n  <tbody>\n    <tr>\n      <th>2018-08-20 00:00:00-04:00</th>\n      <td>19.790001</td>\n      <td>20.08</td>\n      <td>19.350000</td>\n      <td>19.980000</td>\n      <td>19.980000</td>\n      <td>62983200</td>\n    </tr>\n    <tr>\n      <th>2018-08-21 00:00:00-04:00</th>\n      <td>19.980000</td>\n      <td>20.42</td>\n      <td>19.860001</td>\n      <td>20.400000</td>\n      <td>20.400000</td>\n      <td>55629000</td>\n    </tr>\n    <tr>\n      <th>2018-08-22 00:00:00-04:00</th>\n      <td>20.280001</td>\n      <td>20.92</td>\n      <td>20.209999</td>\n      <td>20.900000</td>\n      <td>20.900000</td>\n      <td>62002700</td>\n    </tr>\n    <tr>\n      <th>2018-08-23 00:00:00-04:00</th>\n      <td>21.190001</td>\n      <td>22.32</td>\n      <td>21.139999</td>\n      <td>22.290001</td>\n      <td>22.290001</td>\n      <td>113444100</td>\n    </tr>\n    <tr>\n      <th>2018-08-24 00:00:00-04:00</th>\n      <td>22.910000</td>\n      <td>24.00</td>\n      <td>22.670000</td>\n      <td>23.980000</td>\n      <td>23.980000</td>\n      <td>164328200</td>\n    </tr>\n  </tbody>\n</table>\n</div>"
          },
          "metadata": {}
        }
      ],
      "execution_count": 3,
      "metadata": {
        "collapsed": false,
        "outputHidden": false,
        "inputHidden": false,
        "execution": {
          "iopub.status.busy": "2022-11-20T04:58:45.515Z",
          "iopub.execute_input": "2022-11-20T04:58:45.517Z",
          "iopub.status.idle": "2022-11-20T04:58:45.525Z",
          "shell.execute_reply": "2022-11-20T04:58:45.551Z"
        }
      }
    },
    {
      "cell_type": "code",
      "source": [
        "Y = dataset['Adj Close']\n",
        "X = dataset['Low']"
      ],
      "outputs": [],
      "execution_count": 4,
      "metadata": {
        "collapsed": true,
        "jupyter": {
          "source_hidden": false,
          "outputs_hidden": false
        },
        "nteract": {
          "transient": {
            "deleting": false
          }
        },
        "execution": {
          "iopub.status.busy": "2022-11-20T04:58:45.530Z",
          "iopub.execute_input": "2022-11-20T04:58:45.533Z",
          "iopub.status.idle": "2022-11-20T04:58:45.537Z",
          "shell.execute_reply": "2022-11-20T04:58:45.553Z"
        }
      }
    },
    {
      "cell_type": "code",
      "source": [
        "#fit the model\n",
        "model = smf.quantreg('Y ~ X', dataset).fit(q=0.9)"
      ],
      "outputs": [],
      "execution_count": 5,
      "metadata": {
        "collapsed": true,
        "jupyter": {
          "source_hidden": false,
          "outputs_hidden": false
        },
        "nteract": {
          "transient": {
            "deleting": false
          }
        },
        "execution": {
          "iopub.status.busy": "2022-11-20T04:58:45.542Z",
          "iopub.execute_input": "2022-11-20T04:58:45.545Z",
          "shell.execute_reply": "2022-11-20T04:58:45.592Z",
          "iopub.status.idle": "2022-11-20T04:58:45.568Z"
        }
      }
    },
    {
      "cell_type": "code",
      "source": [
        "#view model summary\n",
        "print(model.summary())"
      ],
      "outputs": [
        {
          "output_type": "stream",
          "name": "stdout",
          "text": [
            "                         QuantReg Regression Results                          \n",
            "==============================================================================\n",
            "Dep. Variable:                      Y   Pseudo R-squared:               0.9660\n",
            "Model:                       QuantReg   Bandwidth:                     0.05644\n",
            "Method:                 Least Squares   Sparsity:                       0.7401\n",
            "Date:                Sat, 19 Nov 2022   No. Observations:                 1171\n",
            "Time:                        20:58:45   Df Residuals:                     1169\n",
            "                                        Df Model:                            1\n",
            "==============================================================================\n",
            "                 coef    std err          t      P>|t|      [0.025      0.975]\n",
            "------------------------------------------------------------------------------\n",
            "Intercept      0.0132      0.012      1.098      0.272      -0.010       0.037\n",
            "X              1.0433      0.001    709.548      0.000       1.040       1.046\n",
            "==============================================================================\n"
          ]
        }
      ],
      "execution_count": 6,
      "metadata": {
        "collapsed": false,
        "outputHidden": false,
        "inputHidden": false,
        "execution": {
          "iopub.status.busy": "2022-11-20T04:58:45.573Z",
          "iopub.execute_input": "2022-11-20T04:58:45.576Z",
          "iopub.status.idle": "2022-11-20T04:58:45.583Z",
          "shell.execute_reply": "2022-11-20T04:58:45.595Z"
        }
      }
    },
    {
      "cell_type": "code",
      "source": [
        "#define figure and axis\n",
        "fig, ax = plt.subplots(figsize=(8, 6))\n",
        "\n",
        "#get y values\n",
        "get_y = lambda a, b: a + b * X\n",
        "y = get_y(model.params['Intercept'], model.params['X'])\n",
        "\n",
        "#plot data points with quantile regression equation overlaid\n",
        "ax.plot(X, Y, color='black')\n",
        "ax.scatter(X, Y, alpha=.3)\n",
        "ax.set_xlabel('Low', fontsize=14)\n",
        "ax.set_ylabel('Close', fontsize=14)"
      ],
      "outputs": [
        {
          "output_type": "execute_result",
          "execution_count": 7,
          "data": {
            "text/plain": "Text(0, 0.5, 'Close')"
          },
          "metadata": {}
        },
        {
          "output_type": "display_data",
          "data": {
            "text/plain": "<Figure size 576x432 with 1 Axes>",
            "image/png": "[encoded data removed]"
          },
          "metadata": {
            "needs_background": "light"
          }
        }
      ],
      "execution_count": 7,
      "metadata": {
        "collapsed": false,
        "outputHidden": false,
        "inputHidden": false,
        "execution": {
          "iopub.status.busy": "2022-11-20T04:58:45.601Z",
          "iopub.execute_input": "2022-11-20T04:58:45.604Z",
          "iopub.status.idle": "2022-11-20T04:58:45.691Z",
          "shell.execute_reply": "2022-11-20T04:58:45.695Z"
        }
      }
    }
  ],
  "metadata": {
    "kernel_info": {
      "name": "python3"
    },
    "language_info": {
      "name": "python",
      "version": "3.6.13",
      "mimetype": "text/x-python",
      "codemirror_mode": {
        "name": "ipython",
        "version": 3
      },
      "pygments_lexer": "ipython3",
      "nbconvert_exporter": "python",
      "file_extension": ".py"
    },
    "kernelspec": {
      "name": "python3",
      "language": "python",
      "display_name": "Python 3"
    },
    "nteract": {
      "version": "0.28.0"
    }
  },
  "nbformat": 4,
  "nbformat_minor": 4
}