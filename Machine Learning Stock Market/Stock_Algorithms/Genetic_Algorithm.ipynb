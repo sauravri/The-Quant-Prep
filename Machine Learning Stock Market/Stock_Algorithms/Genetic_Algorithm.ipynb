{
  "cells": [
    {
      "cell_type": "markdown",
      "source": [
        "# Genetic Algorithm"
      ],
      "metadata": {
        "nteract": {
          "transient": {
            "deleting": false
          }
        }
      }
    },
    {
      "cell_type": "code",
      "source": [
        "import numpy as np\n",
        "import matplotlib.pyplot as plt\n",
        "import pandas as pd\n",
        "\n",
        "# yahoo finance is used to fetch data \n",
        "import yfinance as yf\n",
        "yf.pdr_override()"
      ],
      "outputs": [],
      "execution_count": 1,
      "metadata": {
        "collapsed": true,
        "jupyter": {
          "source_hidden": false,
          "outputs_hidden": false
        },
        "nteract": {
          "transient": {
            "deleting": false
          }
        },
        "execution": {
          "iopub.status.busy": "2023-10-31T22:01:03.828Z",
          "iopub.execute_input": "2023-10-31T22:01:03.832Z",
          "shell.execute_reply": "2023-10-31T22:01:04.394Z",
          "iopub.status.idle": "2023-10-31T22:01:04.399Z"
        }
      }
    },
    {
      "cell_type": "code",
      "source": [
        "# input\n",
        "symbol = 'AMD'\n",
        "start = '2014-01-01'\n",
        "end = '2019-01-01'\n",
        "\n",
        "# Read data \n",
        "dataset = yf.download(symbol,start,end)"
      ],
      "outputs": [
        {
          "output_type": "stream",
          "name": "stdout",
          "text": [
            "[*********************100%***********************]  1 of 1 completed\n"
          ]
        }
      ],
      "execution_count": 2,
      "metadata": {
        "collapsed": true,
        "jupyter": {
          "source_hidden": false,
          "outputs_hidden": false
        },
        "nteract": {
          "transient": {
            "deleting": false
          }
        },
        "execution": {
          "iopub.status.busy": "2023-10-31T22:01:04.404Z",
          "iopub.execute_input": "2023-10-31T22:01:04.406Z",
          "shell.execute_reply": "2023-10-31T22:01:04.798Z",
          "iopub.status.idle": "2023-10-31T22:01:04.805Z"
        }
      }
    },
    {
      "cell_type": "code",
      "source": [
        "dataset['Open_Close'] = (dataset['Open'] - dataset['Adj Close'])/dataset['Open']\n",
        "dataset['High_Low'] = (dataset['High'] - dataset['Low'])/dataset['Low']\n",
        "dataset['Increase_Decrease'] = np.where(dataset['Volume'].shift(-1) > dataset['Volume'],1,0)\n",
        "dataset['Buy_Sell_on_Open'] = np.where(dataset['Open'].shift(-1) > dataset['Open'],1,0)\n",
        "dataset['Buy_Sell'] = np.where(dataset['Adj Close'].shift(-1) > dataset['Adj Close'],1,0)\n",
        "dataset['Returns'] = dataset['Adj Close'].pct_change()\n",
        "dataset = dataset.dropna()\n",
        "dataset.head()\n",
        "\n",
        "# View Columns\n",
        "dataset.head()"
      ],
      "outputs": [
        {
          "output_type": "execute_result",
          "execution_count": 3,
          "data": {
            "text/plain": "            Open  High   Low  Close  Adj Close    Volume  Open_Close  \\\nDate                                                                   \n2014-01-03  3.98  4.00  3.88   4.00       4.00  22887200   -0.005025   \n2014-01-06  4.01  4.18  3.99   4.13       4.13  42398300   -0.029925   \n2014-01-07  4.19  4.25  4.11   4.18       4.18  42932100    0.002387   \n2014-01-08  4.23  4.26  4.14   4.18       4.18  30678700    0.011820   \n2014-01-09  4.20  4.23  4.05   4.09       4.09  30667600    0.026190   \n\n            High_Low  Increase_Decrease  Buy_Sell_on_Open  Buy_Sell   Returns  \nDate                                                                           \n2014-01-03  0.030928                  1                 1         1  0.012658  \n2014-01-06  0.047619                  1                 1         1  0.032500  \n2014-01-07  0.034063                  0                 1         0  0.012106  \n2014-01-08  0.028986                  0                 0         0  0.000000  \n2014-01-09  0.044444                  0                 0         1 -0.021531  ",
            "text/html": "<div>\n<style scoped>\n    .dataframe tbody tr th:only-of-type {\n        vertical-align: middle;\n    }\n\n    .dataframe tbody tr th {\n        vertical-align: top;\n    }\n\n    .dataframe thead th {\n        text-align: right;\n    }\n</style>\n<table border=\"1\" class=\"dataframe\">\n  <thead>\n    <tr style=\"text-align: right;\">\n      <th></th>\n      <th>Open</th>\n      <th>High</th>\n      <th>Low</th>\n      <th>Close</th>\n      <th>Adj Close</th>\n      <th>Volume</th>\n      <th>Open_Close</th>\n      <th>High_Low</th>\n      <th>Increase_Decrease</th>\n      <th>Buy_Sell_on_Open</th>\n      <th>Buy_Sell</th>\n      <th>Returns</th>\n    </tr>\n    <tr>\n      <th>Date</th>\n      <th></th>\n      <th></th>\n      <th></th>\n      <th></th>\n      <th></th>\n      <th></th>\n      <th></th>\n      <th></th>\n      <th></th>\n      <th></th>\n      <th></th>\n      <th></th>\n    </tr>\n  </thead>\n  <tbody>\n    <tr>\n      <th>2014-01-03</th>\n      <td>3.98</td>\n      <td>4.00</td>\n      <td>3.88</td>\n      <td>4.00</td>\n      <td>4.00</td>\n      <td>22887200</td>\n      <td>-0.005025</td>\n      <td>0.030928</td>\n      <td>1</td>\n      <td>1</td>\n      <td>1</td>\n      <td>0.012658</td>\n    </tr>\n    <tr>\n      <th>2014-01-06</th>\n      <td>4.01</td>\n      <td>4.18</td>\n      <td>3.99</td>\n      <td>4.13</td>\n      <td>4.13</td>\n      <td>42398300</td>\n      <td>-0.029925</td>\n      <td>0.047619</td>\n      <td>1</td>\n      <td>1</td>\n      <td>1</td>\n      <td>0.032500</td>\n    </tr>\n    <tr>\n      <th>2014-01-07</th>\n      <td>4.19</td>\n      <td>4.25</td>\n      <td>4.11</td>\n      <td>4.18</td>\n      <td>4.18</td>\n      <td>42932100</td>\n      <td>0.002387</td>\n      <td>0.034063</td>\n      <td>0</td>\n      <td>1</td>\n      <td>0</td>\n      <td>0.012106</td>\n    </tr>\n    <tr>\n      <th>2014-01-08</th>\n      <td>4.23</td>\n      <td>4.26</td>\n      <td>4.14</td>\n      <td>4.18</td>\n      <td>4.18</td>\n      <td>30678700</td>\n      <td>0.011820</td>\n      <td>0.028986</td>\n      <td>0</td>\n      <td>0</td>\n      <td>0</td>\n      <td>0.000000</td>\n    </tr>\n    <tr>\n      <th>2014-01-09</th>\n      <td>4.20</td>\n      <td>4.23</td>\n      <td>4.05</td>\n      <td>4.09</td>\n      <td>4.09</td>\n      <td>30667600</td>\n      <td>0.026190</td>\n      <td>0.044444</td>\n      <td>0</td>\n      <td>0</td>\n      <td>1</td>\n      <td>-0.021531</td>\n    </tr>\n  </tbody>\n</table>\n</div>"
          },
          "metadata": {}
        }
      ],
      "execution_count": 3,
      "metadata": {
        "collapsed": true,
        "jupyter": {
          "source_hidden": false,
          "outputs_hidden": false
        },
        "nteract": {
          "transient": {
            "deleting": false
          }
        },
        "execution": {
          "iopub.status.busy": "2023-10-31T22:01:04.810Z",
          "iopub.execute_input": "2023-10-31T22:01:04.815Z",
          "iopub.status.idle": "2023-10-31T22:01:04.835Z",
          "shell.execute_reply": "2023-10-31T22:01:04.859Z"
        }
      }
    },
    {
      "cell_type": "code",
      "source": [
        "# Define a placeholder for the fitness function (you should implement this)\n",
        "def fitness_function(individual):\n",
        "    # Calculate the fitness of the individual\n",
        "    # You should define your fitness function based on your problem\n",
        "    return 0  # Replace this with your actual fitness calculation\n",
        "\n",
        "def genetic_algorithm(population_size, num_generations, mutation_rate):\n",
        "    population = np.random.randint(2, size=(population_size, 4))  # Initialize the population\n",
        "\n",
        "    for generation in range(num_generations):\n",
        "        fitness_scores = [fitness_function(individual) for individual in population]\n",
        "        best_individual = population[np.argmax(fitness_scores)]\n",
        "        best_fitness = max(fitness_scores)\n",
        "\n",
        "        if generation % 10 == 0:\n",
        "            print(f\"Generation {generation}: Best Fitness = {best_fitness}\")\n",
        "\n",
        "        # Create a new population using mutation and crossover\n",
        "        new_population = []\n",
        "\n",
        "        for _ in range(population_size):\n",
        "            parent1 = population[np.random.choice(range(population_size))]\n",
        "            parent2 = population[np.random.choice(range(population_size))]\n",
        "            crossover_point = np.random.randint(4)\n",
        "            child = np.zeros(4)  # Initialize child as an array of zeros\n",
        "            child[:crossover_point] = parent1[:crossover_point]\n",
        "            child[crossover_point:] = parent2[crossover_point:]\n",
        "            # Apply mutation\n",
        "            mutation_mask = (np.random.rand(4) < mutation_rate).astype(int)\n",
        "            child = (child + mutation_mask) % 2\n",
        "            new_population.append(child)\n",
        "\n",
        "        population = np.array(new_population)\n",
        "\n",
        "    return best_individual, best_fitness"
      ],
      "outputs": [],
      "execution_count": 4,
      "metadata": {
        "collapsed": true,
        "jupyter": {
          "source_hidden": false,
          "outputs_hidden": false
        },
        "nteract": {
          "transient": {
            "deleting": false
          }
        },
        "execution": {
          "iopub.status.busy": "2023-10-31T22:01:04.840Z",
          "iopub.execute_input": "2023-10-31T22:01:04.842Z",
          "iopub.status.idle": "2023-10-31T22:01:04.848Z",
          "shell.execute_reply": "2023-10-31T22:01:04.863Z"
        }
      }
    },
    {
      "cell_type": "code",
      "source": [
        "# Set genetic algorithm parameters\n",
        "population_size = 100\n",
        "num_generations = 100\n",
        "mutation_rate = 0.01\n",
        "\n",
        "# Run the genetic algorithm\n",
        "best_individual, best_fitness = genetic_algorithm(population_size, num_generations, mutation_rate)\n",
        "\n",
        "print(\"Best Individual:\", best_individual)\n",
        "print(\"Best Fitness:\", best_fitness)"
      ],
      "outputs": [
        {
          "output_type": "stream",
          "name": "stdout",
          "text": [
            "Generation 0: Best Fitness = 0\n",
            "Generation 10: Best Fitness = 0\n",
            "Generation 20: Best Fitness = 0\n",
            "Generation 30: Best Fitness = 0\n",
            "Generation 40: Best Fitness = 0\n",
            "Generation 50: Best Fitness = 0\n",
            "Generation 60: Best Fitness = 0\n",
            "Generation 70: Best Fitness = 0\n",
            "Generation 80: Best Fitness = 0\n",
            "Generation 90: Best Fitness = 0\n",
            "Best Individual: [1. 1. 1. 1.]\n",
            "Best Fitness: 0\n"
          ]
        }
      ],
      "execution_count": 5,
      "metadata": {
        "collapsed": true,
        "jupyter": {
          "source_hidden": false,
          "outputs_hidden": false
        },
        "nteract": {
          "transient": {
            "deleting": false
          }
        },
        "execution": {
          "iopub.status.busy": "2023-10-31T22:01:04.852Z",
          "iopub.execute_input": "2023-10-31T22:01:04.855Z",
          "iopub.status.idle": "2023-10-31T22:01:05.294Z",
          "shell.execute_reply": "2023-10-31T22:01:05.301Z"
        }
      }
    }
  ],
  "metadata": {
    "kernel_info": {
      "name": "python3"
    },
    "language_info": {
      "name": "python",
      "version": "3.7.6",
      "mimetype": "text/x-python",
      "codemirror_mode": {
        "name": "ipython",
        "version": 3
      },
      "pygments_lexer": "ipython3",
      "nbconvert_exporter": "python",
      "file_extension": ".py"
    },
    "kernelspec": {
      "argv": [
        "C:/Users/Tin Hang/anaconda3\\python.exe",
        "-m",
        "ipykernel_launcher",
        "-f",
        "{connection_file}"
      ],
      "display_name": "Python 3",
      "language": "python",
      "name": "python3"
    },
    "nteract": {
      "version": "0.28.0"
    }
  },
  "nbformat": 4,
  "nbformat_minor": 0
}