{
 "cells": [
  {
   "cell_type": "markdown",
   "metadata": {},
   "source": [
    "# QUANT DEV - CASE STUDY\n",
    "Get the data of daily close price for following coins </br>\n",
    "\n",
    "- Bitcoin, Ethereum, Cardano, Solana and Polkadot using the sample API below-\n"
   ]
  },
  {
   "cell_type": "code",
   "execution_count": 12,
   "metadata": {},
   "outputs": [
    {
     "name": "stdout",
     "output_type": "stream",
     "text": [
      "200\n"
     ]
    }
   ],
   "source": [
    "import json\n",
    "import requests\n",
    "URL = 'https://min-api.cryptocompare.com/data/v2/histoday?fsym=BTC&tsym=USD&limit=1095'\n",
    "response_API = requests.get(URL)\n",
    "#requests.get('https:// min-api.cryptocompare.com/data/v2/histoday?fsym=BTC & tsym=USD & limit=1095')\n",
    "print(response_API.status_code)\n"
   ]
  },
  {
   "cell_type": "code",
   "execution_count": 13,
   "metadata": {},
   "outputs": [],
   "source": [
    "#print(response_API.json())\n",
    "response_json = response_API.json()\n",
    "# print(response_json)\n",
    "import pandas as pd\n",
    "\n",
    "df = pd.read_json(URL)\n"
   ]
  },
  {
   "cell_type": "code",
   "execution_count": 14,
   "metadata": {},
   "outputs": [
    {
     "data": {
      "text/html": [
       "<div>\n",
       "<style scoped>\n",
       "    .dataframe tbody tr th:only-of-type {\n",
       "        vertical-align: middle;\n",
       "    }\n",
       "\n",
       "    .dataframe tbody tr th {\n",
       "        vertical-align: top;\n",
       "    }\n",
       "\n",
       "    .dataframe thead th {\n",
       "        text-align: right;\n",
       "    }\n",
       "</style>\n",
       "<table border=\"1\" class=\"dataframe\">\n",
       "  <thead>\n",
       "    <tr style=\"text-align: right;\">\n",
       "      <th></th>\n",
       "      <th>Response</th>\n",
       "      <th>Message</th>\n",
       "      <th>HasWarning</th>\n",
       "      <th>Type</th>\n",
       "      <th>RateLimit</th>\n",
       "      <th>Data</th>\n",
       "    </tr>\n",
       "  </thead>\n",
       "  <tbody>\n",
       "    <tr>\n",
       "      <th>Aggregated</th>\n",
       "      <td>Success</td>\n",
       "      <td></td>\n",
       "      <td>False</td>\n",
       "      <td>100</td>\n",
       "      <td>NaN</td>\n",
       "      <td>False</td>\n",
       "    </tr>\n",
       "    <tr>\n",
       "      <th>TimeFrom</th>\n",
       "      <td>Success</td>\n",
       "      <td></td>\n",
       "      <td>False</td>\n",
       "      <td>100</td>\n",
       "      <td>NaN</td>\n",
       "      <td>1572739200</td>\n",
       "    </tr>\n",
       "    <tr>\n",
       "      <th>TimeTo</th>\n",
       "      <td>Success</td>\n",
       "      <td></td>\n",
       "      <td>False</td>\n",
       "      <td>100</td>\n",
       "      <td>NaN</td>\n",
       "      <td>1667347200</td>\n",
       "    </tr>\n",
       "    <tr>\n",
       "      <th>Data</th>\n",
       "      <td>Success</td>\n",
       "      <td></td>\n",
       "      <td>False</td>\n",
       "      <td>100</td>\n",
       "      <td>NaN</td>\n",
       "      <td>[{'time': 1572739200, 'high': 9396.1, 'low': 9...</td>\n",
       "    </tr>\n",
       "  </tbody>\n",
       "</table>\n",
       "</div>"
      ],
      "text/plain": [
       "           Response Message  HasWarning  Type  RateLimit  \\\n",
       "Aggregated  Success               False   100        NaN   \n",
       "TimeFrom    Success               False   100        NaN   \n",
       "TimeTo      Success               False   100        NaN   \n",
       "Data        Success               False   100        NaN   \n",
       "\n",
       "                                                         Data  \n",
       "Aggregated                                              False  \n",
       "TimeFrom                                           1572739200  \n",
       "TimeTo                                             1667347200  \n",
       "Data        [{'time': 1572739200, 'high': 9396.1, 'low': 9...  "
      ]
     },
     "execution_count": 14,
     "metadata": {},
     "output_type": "execute_result"
    }
   ],
   "source": [
    "df.head()\n",
    "df.to_excel()"
   ]
  }
 ],
 "metadata": {
  "kernelspec": {
   "display_name": "Python 3",
   "language": "python",
   "name": "python3"
  },
  "language_info": {
   "codemirror_mode": {
    "name": "ipython",
    "version": 3
   },
   "file_extension": ".py",
   "mimetype": "text/x-python",
   "name": "python",
   "nbconvert_exporter": "python",
   "pygments_lexer": "ipython3",
   "version": "3.8.5"
  },
  "orig_nbformat": 4
 },
 "nbformat": 4,
 "nbformat_minor": 2
}
