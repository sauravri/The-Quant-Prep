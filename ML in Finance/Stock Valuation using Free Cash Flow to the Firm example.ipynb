{
 "cells": [
  {
   "cell_type": "markdown",
   "metadata": {},
   "source": [
    "# Stock Valuation using Free Cash Flow to the Firm with Python"
   ]
  },
  {
   "cell_type": "markdown",
   "metadata": {},
   "source": [
    "**Hugh Donnelly, CFA**<br> \n",
    "*AlphaWave Data*\n",
    "\n",
    "**November 2020**"
   ]
  },
  {
   "cell_type": "markdown",
   "metadata": {},
   "source": [
    "For this analysis, we use several Python-based scientific computing technologies along with the [AlphaWave Data Financial Statements API](https://rapidapi.com/alphawave/api/financial-statements/endpoints) and the [AlphaWave Data Stock Analysis API](https://rapidapi.com/alphawave/api/stock-analysis/endpoints).  Jupyter Notebooks detailing this analysis are also available on [Google Colab](https://colab.research.google.com/drive/1BWmRIDtZGRndLk8lLGgpoURaAzHC8_jg?usp=sharing) and [Github](https://github.com/AlphaWaveData/Jupyter-Notebooks/blob/master/AlphaWave%20Stock%20Valuation%20using%20Free%20Cash%20Flow%20to%20the%20Firm%20example.ipynb)."
   ]
  },
  {
   "cell_type": "code",
   "execution_count": 1,
   "metadata": {},
   "outputs": [],
   "source": [
    "from bs4 import BeautifulSoup as bs\n",
    "import pandas as pd\n",
    "import requests\n",
    "import pandas_datareader as dr\n",
    "import datetime"
   ]
  },
  {
   "cell_type": "markdown",
   "metadata": {},
   "source": [
    "We will value Apple Inc. (AAPL) in the subsequent code; however, this analysis works with the ticker of any large publicly traded company."
   ]
  },
  {
   "cell_type": "code",
   "execution_count": 2,
   "metadata": {},
   "outputs": [],
   "source": [
    "company_ticker = 'AAPL'"
   ]
  },
  {
   "cell_type": "markdown",
   "metadata": {},
   "source": [
    "### Introduction to Free Cash Flow Valuation"
   ]
  },
  {
   "cell_type": "markdown",
   "metadata": {},
   "source": [
    "In stock valuation models, there are three predominant definitions of future cash flows: dividends, free cash flows, and residual income.  We will focus on building a free cash flow model for stock valuation in this article.  Let's discuss the advantages and disadvantages of free cash flow valuation.\n",
    "\n",
    "One advantage of free cash flow models is that they can be applied to many firms, regardless of dividend policies or capital structures.  The ability to influence the distribution and application of a firm's free cash flow makes these models more pertinent to a firm's controlling shareholders.\n",
    "\n",
    "However, there are cases in which the application of a free cash flow model may be very difficult.  Firms that have significant capital requirements may have negative free cash flow for many years into the future.  This can be caused by a technological revolution in an industry that requires greater investment to remain competitive or by rapid expansion into untapped markets.  This negative free cash flow complicates the cash flow forecast and makes the estimates less reliable.\n",
    "\n",
    "Free cash flow models are most appropriate:\n",
    "* For firms that do not have a dividend payment history or have a dividend payment history that is not clearly and appropriately related to earnings.\n",
    "* For firms with free cash flow that corresponds with their profitability.\n",
    "* When the valuation perspective is that of a controlling shareholder.\n",
    "\n",
    "We will build our free cash flow model in three steps.  First, we will calculate the Free Cash Flow to the Firm.  Second, we will determine the Weighted Average Cost of Capital.  Finally, we will perform Stock Valuation using these inputs."
   ]
  },
  {
   "cell_type": "markdown",
   "metadata": {},
   "source": [
    "### 1. Free Cash Flow to the Firm"
   ]
  },
  {
   "cell_type": "markdown",
   "metadata": {},
   "source": [
    "Forget about all the complicated financial statement relationships for a minute and simply picture the firm as a cash \"processor.\"  Cash flows into the firm in the form of revenue as it sells its product, and cash flows out as it pays its cash operating expenses (e.g., salaries and taxes, but not interest expense, which is a financing and not an operating expense).  The firm takes the cash that is left over and makes short-term net investments in working capital (e.g., inventory and receivables) and long-term investments in property, plant, and equipment.  After these actions, the cash that remains is available to pay out to the firm's investors: bondholders, and common shareholders (let's assume for the moment that the firm has not issued preferred stock).  That pile of remaining cash is called Free Cash Flow to the Firm (FCFF) because it's \"free\" to payout to the firm's investors.\n",
    "\n",
    "The formal definition of FCFF is the cash available to all of the firm's investors, including stockholders and bondholders, after the firm buys and sells products, provides services, pays its cash operating expenses, and makes short-term and long-term investments.\n",
    "\n",
    "When building a FCFF valuation model, one can typically choose between a single-stage, two-stage, or three stage valuation model.  The single-stage FCFF valuation model is useful for stable firms in mature industries.  Two-stage and three-stage FCFF valuation models are used when you want to model multiple phases of growth (e.g., a growth phase, a mature phase, and a transition phase).  We use a two-stage FCFF valuation model in this example.\n",
    "\n",
    "A general expression for the two-stage FCFF valuation model is:\n",
    "\n",
    "$$Firm\\ Value = \\sum_{t=1}^n\\overbrace{\\frac{FCFF_t}{(1 + WACC)^t}}^{Stage\\ 1}+\\overbrace{\\frac{FCFF_{n+1}}{(WACC - g)}*\\frac{1}{(1 + WACC)^n}}^{Stage\\ 2}$$<br>\n",
    "\n",
    "$FCFF_t = expected\\ free\\ cash\\ flow\\ to\\ the\\ firm\\ in\\ year\\ t$<br>\n",
    "$FCFF_{n+1} = expected\\ free\\ cash\\ flow\\ to\\ the\\ firm\\ in\\ the\\ last\\ year\\ (Year\\ 6\\ in\\ this\\ example)$<br>\n",
    "$g = constant\\ expected\\ growth\\ rate\\ in\\ FCFF$<br>\n",
    "$WACC = weighted\\ average\\ cost\\ of\\ capital$<br>\n",
    "\n",
    "One common two-stage model assumes a constant growth rate in each stage, and a second common model assumes declining growth in Stage 1 followed by a long-run sustainable growth rate in Stage 2.  In our model, we assume a constant growth rate in each stage.\n",
    "\n",
    "We will show how to obtain each component of the two-stage FCFF valuation model, but we begin with expected FCFF which requires an ability to determine the appropriate growth rate.\n",
    "\n",
    "To calculate the FCFF growth rate, we take the compound annual growth rate (CAGR) of FCFF over the past three years.  This FCFF growth rate is then used to generate FCFF forecasts for each of the next 5 years, which is Stage 1 in our model. For the constant expected growth rate that will be applied to Stage 2, we divide the CAGR of FCFF by two in order to estimate the long-term growth rate of FCFF in perpetuity.\n",
    "\n",
    "In order to calculate the FCFF growth rate and long-term growth rate, we must first acquire the FCFF from the company's financial statements.  Using the [Cash Flow Statement](https://rapidapi.com/alphawave/api/financial-statements?endpoint=apiendpoint_1cf7a51e-32f9-41a5-901a-fa4f66ba9807) and [Income Statement](https://rapidapi.com/alphawave/api/financial-statements?endpoint=apiendpoint_b4be9cff-500e-4b0a-a5a9-a8d73f9cde7a) endpoints from the [AlphaWave Data Financial Statements API](https://rapidapi.com/alphawave/api/financial-statements/endpoints), we can access the data needed to calculate FCFF.\n",
    "\n",
    "To call these APIs with Python, you can choose one of the supported Python code snippets provided in the API console. The following are examples of how to invoke the APIs with Python Requests. You will need to insert your own x-rapidapi-host and x-rapidapi-key information in the code blocks below."
   ]
  },
  {
   "cell_type": "code",
   "execution_count": 3,
   "metadata": {
    "scrolled": false
   },
   "outputs": [
    {
     "data": {
      "text/html": [
       "<div>\n",
       "<style scoped>\n",
       "    .dataframe tbody tr th:only-of-type {\n",
       "        vertical-align: middle;\n",
       "    }\n",
       "\n",
       "    .dataframe tbody tr th {\n",
       "        vertical-align: top;\n",
       "    }\n",
       "\n",
       "    .dataframe thead th {\n",
       "        text-align: right;\n",
       "    }\n",
       "</style>\n",
       "<table border=\"1\" class=\"dataframe\">\n",
       "  <thead>\n",
       "    <tr style=\"text-align: right;\">\n",
       "      <th></th>\n",
       "      <th>9/30/2017</th>\n",
       "      <th>9/30/2018</th>\n",
       "      <th>9/30/2019</th>\n",
       "      <th>9/30/2020</th>\n",
       "    </tr>\n",
       "  </thead>\n",
       "  <tbody>\n",
       "    <tr>\n",
       "      <td>Capital Expenditure</td>\n",
       "      <td>-12795000</td>\n",
       "      <td>-13313000</td>\n",
       "      <td>-10495000</td>\n",
       "      <td>-7309000</td>\n",
       "    </tr>\n",
       "    <tr>\n",
       "      <td>End Cash Position</td>\n",
       "      <td>20289000</td>\n",
       "      <td>25913000</td>\n",
       "      <td>50224000</td>\n",
       "      <td>39789000</td>\n",
       "    </tr>\n",
       "    <tr>\n",
       "      <td>Financing Cash Flow</td>\n",
       "      <td>-17347000</td>\n",
       "      <td>-87876000</td>\n",
       "      <td>-90976000</td>\n",
       "      <td>-86820000</td>\n",
       "    </tr>\n",
       "    <tr>\n",
       "      <td>Free Cash Flow</td>\n",
       "      <td>50803000</td>\n",
       "      <td>64121000</td>\n",
       "      <td>58896000</td>\n",
       "      <td>73365000</td>\n",
       "    </tr>\n",
       "    <tr>\n",
       "      <td>Income Tax Paid Supplemental Data</td>\n",
       "      <td>11591000</td>\n",
       "      <td>10417000</td>\n",
       "      <td>15263000</td>\n",
       "      <td>9501000</td>\n",
       "    </tr>\n",
       "    <tr>\n",
       "      <td>Interest Paid Supplemental Data</td>\n",
       "      <td>2092000</td>\n",
       "      <td>3022000</td>\n",
       "      <td>3423000</td>\n",
       "      <td>3002000</td>\n",
       "    </tr>\n",
       "    <tr>\n",
       "      <td>Investing Cash Flow</td>\n",
       "      <td>-46446000</td>\n",
       "      <td>16066000</td>\n",
       "      <td>45896000</td>\n",
       "      <td>-4289000</td>\n",
       "    </tr>\n",
       "    <tr>\n",
       "      <td>Issuance of Capital Stock</td>\n",
       "      <td>555000</td>\n",
       "      <td>669000</td>\n",
       "      <td>781000</td>\n",
       "      <td>880000</td>\n",
       "    </tr>\n",
       "    <tr>\n",
       "      <td>Issuance of Debt</td>\n",
       "      <td>28662000</td>\n",
       "      <td>6969000</td>\n",
       "      <td>6963000</td>\n",
       "      <td>16091000</td>\n",
       "    </tr>\n",
       "    <tr>\n",
       "      <td>Operating Cash Flow</td>\n",
       "      <td>63598000</td>\n",
       "      <td>77434000</td>\n",
       "      <td>69391000</td>\n",
       "      <td>80674000</td>\n",
       "    </tr>\n",
       "    <tr>\n",
       "      <td>Repayment of Debt</td>\n",
       "      <td>-3500000</td>\n",
       "      <td>-6500000</td>\n",
       "      <td>-8805000</td>\n",
       "      <td>-12629000</td>\n",
       "    </tr>\n",
       "    <tr>\n",
       "      <td>Repurchase of Capital Stock</td>\n",
       "      <td>-32900000</td>\n",
       "      <td>-72738000</td>\n",
       "      <td>-66897000</td>\n",
       "      <td>-72358000</td>\n",
       "    </tr>\n",
       "  </tbody>\n",
       "</table>\n",
       "</div>"
      ],
      "text/plain": [
       "                                   9/30/2017  9/30/2018  9/30/2019  9/30/2020\n",
       "Capital Expenditure                -12795000  -13313000  -10495000   -7309000\n",
       "End Cash Position                   20289000   25913000   50224000   39789000\n",
       "Financing Cash Flow                -17347000  -87876000  -90976000  -86820000\n",
       "Free Cash Flow                      50803000   64121000   58896000   73365000\n",
       "Income Tax Paid Supplemental Data   11591000   10417000   15263000    9501000\n",
       "Interest Paid Supplemental Data      2092000    3022000    3423000    3002000\n",
       "Investing Cash Flow                -46446000   16066000   45896000   -4289000\n",
       "Issuance of Capital Stock             555000     669000     781000     880000\n",
       "Issuance of Debt                    28662000    6969000    6963000   16091000\n",
       "Operating Cash Flow                 63598000   77434000   69391000   80674000\n",
       "Repayment of Debt                   -3500000   -6500000   -8805000  -12629000\n",
       "Repurchase of Capital Stock        -32900000  -72738000  -66897000  -72358000"
      ]
     },
     "execution_count": 3,
     "metadata": {},
     "output_type": "execute_result"
    }
   ],
   "source": [
    "url = \"https://financial-statements.p.rapidapi.com/api/v1/resources/cash-flow\"\n",
    "\n",
    "querystring = {\"ticker\":company_ticker}\n",
    "\n",
    "headers = {\n",
    "    'x-rapidapi-host': \"YOUR_X-RAPIDAPI-HOST_WILL_COPY_DIRECTLY_FROM_RAPIDAPI_PYTHON_CODE_SNIPPETS\",\n",
    "    'x-rapidapi-key': \"YOUR_X-RAPIDAPI-KEY_WILL_COPY_DIRECTLY_FROM_RAPIDAPI_PYTHON_CODE_SNIPPETS\"\n",
    "    }\n",
    "\n",
    "cash_flow_response = requests.request(\"GET\", url, headers=headers, params=querystring)\n",
    "\n",
    "# Create Cash Flow Statement DataFrame\n",
    "cash_flow_df = pd.DataFrame.from_dict(cash_flow_response.json())\n",
    "cash_flow_df = cash_flow_df.drop('ttm', axis = 1)\n",
    "cash_flow_df"
   ]
  },
  {
   "cell_type": "code",
   "execution_count": 4,
   "metadata": {
    "scrolled": false
   },
   "outputs": [
    {
     "data": {
      "text/html": [
       "<div>\n",
       "<style scoped>\n",
       "    .dataframe tbody tr th:only-of-type {\n",
       "        vertical-align: middle;\n",
       "    }\n",
       "\n",
       "    .dataframe tbody tr th {\n",
       "        vertical-align: top;\n",
       "    }\n",
       "\n",
       "    .dataframe thead th {\n",
       "        text-align: right;\n",
       "    }\n",
       "</style>\n",
       "<table border=\"1\" class=\"dataframe\">\n",
       "  <thead>\n",
       "    <tr style=\"text-align: right;\">\n",
       "      <th></th>\n",
       "      <th>9/30/2017</th>\n",
       "      <th>9/30/2018</th>\n",
       "      <th>9/30/2019</th>\n",
       "      <th>9/30/2020</th>\n",
       "    </tr>\n",
       "  </thead>\n",
       "  <tbody>\n",
       "    <tr>\n",
       "      <td>Basic Average Shares</td>\n",
       "      <td>20868968</td>\n",
       "      <td>19821508</td>\n",
       "      <td>18471336</td>\n",
       "      <td>17352119</td>\n",
       "    </tr>\n",
       "    <tr>\n",
       "      <td>Basic EPS</td>\n",
       "      <td>0.0023</td>\n",
       "      <td>0.003</td>\n",
       "      <td>0.003</td>\n",
       "      <td>0.0033</td>\n",
       "    </tr>\n",
       "    <tr>\n",
       "      <td>Cost of Revenue</td>\n",
       "      <td>141048000</td>\n",
       "      <td>163756000</td>\n",
       "      <td>161782000</td>\n",
       "      <td>169559000</td>\n",
       "    </tr>\n",
       "    <tr>\n",
       "      <td>Diluted Average Shares</td>\n",
       "      <td>21006768</td>\n",
       "      <td>20000436</td>\n",
       "      <td>18595652</td>\n",
       "      <td>17528214</td>\n",
       "    </tr>\n",
       "    <tr>\n",
       "      <td>Diluted EPS</td>\n",
       "      <td>0.0023</td>\n",
       "      <td>0.003</td>\n",
       "      <td>0.003</td>\n",
       "      <td>0.0033</td>\n",
       "    </tr>\n",
       "    <tr>\n",
       "      <td>Diluted NI Available to Com Stockholders</td>\n",
       "      <td>48351000</td>\n",
       "      <td>59531000</td>\n",
       "      <td>55256000</td>\n",
       "      <td>57411000</td>\n",
       "    </tr>\n",
       "    <tr>\n",
       "      <td>EBIT</td>\n",
       "      <td>66412000</td>\n",
       "      <td>76143000</td>\n",
       "      <td>69313000</td>\n",
       "      <td>69964000</td>\n",
       "    </tr>\n",
       "    <tr>\n",
       "      <td>Gross Profit</td>\n",
       "      <td>88186000</td>\n",
       "      <td>101839000</td>\n",
       "      <td>98392000</td>\n",
       "      <td>104956000</td>\n",
       "    </tr>\n",
       "    <tr>\n",
       "      <td>Interest Expense</td>\n",
       "      <td>2323000</td>\n",
       "      <td>3240000</td>\n",
       "      <td>3576000</td>\n",
       "      <td>2873000</td>\n",
       "    </tr>\n",
       "    <tr>\n",
       "      <td>Interest Income</td>\n",
       "      <td>5201000</td>\n",
       "      <td>5686000</td>\n",
       "      <td>4961000</td>\n",
       "      <td>3763000</td>\n",
       "    </tr>\n",
       "    <tr>\n",
       "      <td>Net Income Common Stockholders</td>\n",
       "      <td>48351000</td>\n",
       "      <td>59531000</td>\n",
       "      <td>55256000</td>\n",
       "      <td>57411000</td>\n",
       "    </tr>\n",
       "    <tr>\n",
       "      <td>Net Income from Continuing &amp; Discontinued Operation</td>\n",
       "      <td>48351000</td>\n",
       "      <td>59531000</td>\n",
       "      <td>55256000</td>\n",
       "      <td>57411000</td>\n",
       "    </tr>\n",
       "    <tr>\n",
       "      <td>Net Income from Continuing Operation Net Minority Interest</td>\n",
       "      <td>48351000</td>\n",
       "      <td>59531000</td>\n",
       "      <td>55256000</td>\n",
       "      <td>57411000</td>\n",
       "    </tr>\n",
       "    <tr>\n",
       "      <td>Net Interest Income</td>\n",
       "      <td>2878000</td>\n",
       "      <td>2446000</td>\n",
       "      <td>1385000</td>\n",
       "      <td>890000</td>\n",
       "    </tr>\n",
       "    <tr>\n",
       "      <td>Net Non Operating Interest Income Expense</td>\n",
       "      <td>2878000</td>\n",
       "      <td>2446000</td>\n",
       "      <td>1385000</td>\n",
       "      <td>890000</td>\n",
       "    </tr>\n",
       "    <tr>\n",
       "      <td>Normalized EBITDA</td>\n",
       "      <td>76569000</td>\n",
       "      <td>87046000</td>\n",
       "      <td>81860000</td>\n",
       "      <td>81020000</td>\n",
       "    </tr>\n",
       "    <tr>\n",
       "      <td>Normalized Income</td>\n",
       "      <td>48351000</td>\n",
       "      <td>59531000</td>\n",
       "      <td>55256000</td>\n",
       "      <td>57411000</td>\n",
       "    </tr>\n",
       "    <tr>\n",
       "      <td>Operating Expense</td>\n",
       "      <td>26842000</td>\n",
       "      <td>30941000</td>\n",
       "      <td>34462000</td>\n",
       "      <td>38668000</td>\n",
       "    </tr>\n",
       "    <tr>\n",
       "      <td>Operating Income</td>\n",
       "      <td>61344000</td>\n",
       "      <td>70898000</td>\n",
       "      <td>63930000</td>\n",
       "      <td>66288000</td>\n",
       "    </tr>\n",
       "    <tr>\n",
       "      <td>Other Income Expense</td>\n",
       "      <td>-133000</td>\n",
       "      <td>-441000</td>\n",
       "      <td>422000</td>\n",
       "      <td>-87000</td>\n",
       "    </tr>\n",
       "    <tr>\n",
       "      <td>Pretax Income</td>\n",
       "      <td>64089000</td>\n",
       "      <td>72903000</td>\n",
       "      <td>65737000</td>\n",
       "      <td>67091000</td>\n",
       "    </tr>\n",
       "    <tr>\n",
       "      <td>Reconciled Cost of Revenue</td>\n",
       "      <td>141048000</td>\n",
       "      <td>163756000</td>\n",
       "      <td>161782000</td>\n",
       "      <td>169559000</td>\n",
       "    </tr>\n",
       "    <tr>\n",
       "      <td>Reconciled Depreciation</td>\n",
       "      <td>10157000</td>\n",
       "      <td>10903000</td>\n",
       "      <td>12547000</td>\n",
       "      <td>11056000</td>\n",
       "    </tr>\n",
       "    <tr>\n",
       "      <td>Tax Effect of Unusual Items</td>\n",
       "      <td>0</td>\n",
       "      <td>0</td>\n",
       "      <td>0</td>\n",
       "      <td>0</td>\n",
       "    </tr>\n",
       "    <tr>\n",
       "      <td>Tax Provision</td>\n",
       "      <td>15738000</td>\n",
       "      <td>13372000</td>\n",
       "      <td>10481000</td>\n",
       "      <td>9680000</td>\n",
       "    </tr>\n",
       "    <tr>\n",
       "      <td>Tax Rate for Calcs</td>\n",
       "      <td>0</td>\n",
       "      <td>0</td>\n",
       "      <td>0</td>\n",
       "      <td>0</td>\n",
       "    </tr>\n",
       "    <tr>\n",
       "      <td>Total Expenses</td>\n",
       "      <td>167890000</td>\n",
       "      <td>194697000</td>\n",
       "      <td>196244000</td>\n",
       "      <td>208227000</td>\n",
       "    </tr>\n",
       "    <tr>\n",
       "      <td>Total Operating Income as Reported</td>\n",
       "      <td>61344000</td>\n",
       "      <td>70898000</td>\n",
       "      <td>63930000</td>\n",
       "      <td>66288000</td>\n",
       "    </tr>\n",
       "    <tr>\n",
       "      <td>Total Revenue</td>\n",
       "      <td>229234000</td>\n",
       "      <td>265595000</td>\n",
       "      <td>260174000</td>\n",
       "      <td>274515000</td>\n",
       "    </tr>\n",
       "  </tbody>\n",
       "</table>\n",
       "</div>"
      ],
      "text/plain": [
       "                                                    9/30/2017  9/30/2018  \\\n",
       "Basic Average Shares                                 20868968   19821508   \n",
       "Basic EPS                                              0.0023      0.003   \n",
       "Cost of Revenue                                     141048000  163756000   \n",
       "Diluted Average Shares                               21006768   20000436   \n",
       "Diluted EPS                                            0.0023      0.003   \n",
       "Diluted NI Available to Com Stockholders             48351000   59531000   \n",
       "EBIT                                                 66412000   76143000   \n",
       "Gross Profit                                         88186000  101839000   \n",
       "Interest Expense                                      2323000    3240000   \n",
       "Interest Income                                       5201000    5686000   \n",
       "Net Income Common Stockholders                       48351000   59531000   \n",
       "Net Income from Continuing & Discontinued Opera...   48351000   59531000   \n",
       "Net Income from Continuing Operation Net Minori...   48351000   59531000   \n",
       "Net Interest Income                                   2878000    2446000   \n",
       "Net Non Operating Interest Income Expense             2878000    2446000   \n",
       "Normalized EBITDA                                    76569000   87046000   \n",
       "Normalized Income                                    48351000   59531000   \n",
       "Operating Expense                                    26842000   30941000   \n",
       "Operating Income                                     61344000   70898000   \n",
       "Other Income Expense                                  -133000    -441000   \n",
       "Pretax Income                                        64089000   72903000   \n",
       "Reconciled Cost of Revenue                          141048000  163756000   \n",
       "Reconciled Depreciation                              10157000   10903000   \n",
       "Tax Effect of Unusual Items                                 0          0   \n",
       "Tax Provision                                        15738000   13372000   \n",
       "Tax Rate for Calcs                                          0          0   \n",
       "Total Expenses                                      167890000  194697000   \n",
       "Total Operating Income as Reported                   61344000   70898000   \n",
       "Total Revenue                                       229234000  265595000   \n",
       "\n",
       "                                                    9/30/2019  9/30/2020  \n",
       "Basic Average Shares                                 18471336   17352119  \n",
       "Basic EPS                                               0.003     0.0033  \n",
       "Cost of Revenue                                     161782000  169559000  \n",
       "Diluted Average Shares                               18595652   17528214  \n",
       "Diluted EPS                                             0.003     0.0033  \n",
       "Diluted NI Available to Com Stockholders             55256000   57411000  \n",
       "EBIT                                                 69313000   69964000  \n",
       "Gross Profit                                         98392000  104956000  \n",
       "Interest Expense                                      3576000    2873000  \n",
       "Interest Income                                       4961000    3763000  \n",
       "Net Income Common Stockholders                       55256000   57411000  \n",
       "Net Income from Continuing & Discontinued Opera...   55256000   57411000  \n",
       "Net Income from Continuing Operation Net Minori...   55256000   57411000  \n",
       "Net Interest Income                                   1385000     890000  \n",
       "Net Non Operating Interest Income Expense             1385000     890000  \n",
       "Normalized EBITDA                                    81860000   81020000  \n",
       "Normalized Income                                    55256000   57411000  \n",
       "Operating Expense                                    34462000   38668000  \n",
       "Operating Income                                     63930000   66288000  \n",
       "Other Income Expense                                   422000     -87000  \n",
       "Pretax Income                                        65737000   67091000  \n",
       "Reconciled Cost of Revenue                          161782000  169559000  \n",
       "Reconciled Depreciation                              12547000   11056000  \n",
       "Tax Effect of Unusual Items                                 0          0  \n",
       "Tax Provision                                        10481000    9680000  \n",
       "Tax Rate for Calcs                                          0          0  \n",
       "Total Expenses                                      196244000  208227000  \n",
       "Total Operating Income as Reported                   63930000   66288000  \n",
       "Total Revenue                                       260174000  274515000  "
      ]
     },
     "execution_count": 4,
     "metadata": {},
     "output_type": "execute_result"
    }
   ],
   "source": [
    "url = \"https://financial-statements.p.rapidapi.com/api/v1/resources/income-statement\"\n",
    "\n",
    "querystring = {\"ticker\":company_ticker}\n",
    "\n",
    "headers = {\n",
    "    'x-rapidapi-host': \"YOUR_X-RAPIDAPI-HOST_WILL_COPY_DIRECTLY_FROM_RAPIDAPI_PYTHON_CODE_SNIPPETS\",\n",
    "    'x-rapidapi-key': \"YOUR_X-RAPIDAPI-KEY_WILL_COPY_DIRECTLY_FROM_RAPIDAPI_PYTHON_CODE_SNIPPETS\"\n",
    "    }\n",
    "\n",
    "income_statement_response = requests.request(\"GET\", url, headers=headers, params=querystring)\n",
    "\n",
    "# Create Income Statement DataFrame\n",
    "income_statement_df = pd.DataFrame.from_dict(income_statement_response.json())\n",
    "income_statement_df = income_statement_df.drop('ttm', axis = 1)\n",
    "income_statement_df"
   ]
  },
  {
   "cell_type": "markdown",
   "metadata": {},
   "source": [
    "Using the Cash Flow Statement and Income Statement, we calculate FCFF as:\n",
    "\n",
    "$$FCFF = Free\\ Cash\\ Flow\\ +\\ Interest\\ Expense*(1\\ -\\ Effective\\ Tax\\ Rate)$$\n",
    "\n",
    "With this understanding, we are able to store the historical FCFF in a dataframe when running the code below.  "
   ]
  },
  {
   "cell_type": "code",
   "execution_count": 5,
   "metadata": {},
   "outputs": [
    {
     "data": {
      "text/html": [
       "<div>\n",
       "<style scoped>\n",
       "    .dataframe tbody tr th:only-of-type {\n",
       "        vertical-align: middle;\n",
       "    }\n",
       "\n",
       "    .dataframe tbody tr th {\n",
       "        vertical-align: top;\n",
       "    }\n",
       "\n",
       "    .dataframe thead th {\n",
       "        text-align: right;\n",
       "    }\n",
       "</style>\n",
       "<table border=\"1\" class=\"dataframe\">\n",
       "  <thead>\n",
       "    <tr style=\"text-align: right;\">\n",
       "      <th></th>\n",
       "      <th>9/30/2017</th>\n",
       "      <th>9/30/2018</th>\n",
       "      <th>9/30/2019</th>\n",
       "      <th>9/30/2020</th>\n",
       "    </tr>\n",
       "  </thead>\n",
       "  <tbody>\n",
       "    <tr>\n",
       "      <td>0</td>\n",
       "      <td>52555553</td>\n",
       "      <td>66766713</td>\n",
       "      <td>61901848</td>\n",
       "      <td>75823478</td>\n",
       "    </tr>\n",
       "  </tbody>\n",
       "</table>\n",
       "</div>"
      ],
      "text/plain": [
       "   9/30/2017  9/30/2018  9/30/2019  9/30/2020\n",
       "0   52555553   66766713   61901848   75823478"
      ]
     },
     "execution_count": 5,
     "metadata": {},
     "output_type": "execute_result"
    }
   ],
   "source": [
    "# FCFF Calculation using Cash Flow Statement and Income Statement Inputs\n",
    "free_cash_flow_firm = (cash_flow_df.loc['Free Cash Flow'].astype(int) \\\n",
    "                    + (income_statement_df.loc['Interest Expense'].astype(int) \\\n",
    "                       * (1 - income_statement_df.loc['Tax Provision'].astype(int) \\\n",
    "                          / income_statement_df.loc['Pretax Income'].astype(int)))).astype(int)\n",
    "\n",
    "# Change Series to a Pandas Dataframe\n",
    "free_cash_flow_firm_df = free_cash_flow_firm.to_frame().transpose()\n",
    "free_cash_flow_firm_df"
   ]
  },
  {
   "cell_type": "markdown",
   "metadata": {},
   "source": [
    "This allows us to proceed in determining the CAGR and the long-term growth rate that will be used in calculating the forecasted FCFF."
   ]
  },
  {
   "cell_type": "code",
   "execution_count": 6,
   "metadata": {},
   "outputs": [
    {
     "data": {
      "text/plain": [
       "0.06566782294550455"
      ]
     },
     "execution_count": 6,
     "metadata": {},
     "output_type": "execute_result"
    }
   ],
   "source": [
    "# CAGR of FCFF\n",
    "latest_free_cash_flow_firm = float(free_cash_flow_firm_df.iloc[0,len(free_cash_flow_firm_df.columns)-1])\n",
    "earliest_free_cash_flow_firm = float(free_cash_flow_firm_df.iloc[0,1])\n",
    "free_cash_flow_firm_CAGR = (latest_free_cash_flow_firm/earliest_free_cash_flow_firm)\\\n",
    "                            **(float(1/(len(free_cash_flow_firm_df.columns)-2)))-1\n",
    "free_cash_flow_firm_CAGR"
   ]
  },
  {
   "cell_type": "code",
   "execution_count": 7,
   "metadata": {},
   "outputs": [
    {
     "data": {
      "text/plain": [
       "0.032833911472752275"
      ]
     },
     "execution_count": 7,
     "metadata": {},
     "output_type": "execute_result"
    }
   ],
   "source": [
    "# Constant Expected Growth Rate\n",
    "long_term_growth = free_cash_flow_firm_CAGR / 2\n",
    "long_term_growth"
   ]
  },
  {
   "cell_type": "code",
   "execution_count": 8,
   "metadata": {},
   "outputs": [
    {
     "data": {
      "text/html": [
       "<div>\n",
       "<style scoped>\n",
       "    .dataframe tbody tr th:only-of-type {\n",
       "        vertical-align: middle;\n",
       "    }\n",
       "\n",
       "    .dataframe tbody tr th {\n",
       "        vertical-align: top;\n",
       "    }\n",
       "\n",
       "    .dataframe thead th {\n",
       "        text-align: right;\n",
       "    }\n",
       "</style>\n",
       "<table border=\"1\" class=\"dataframe\">\n",
       "  <thead>\n",
       "    <tr style=\"text-align: right;\">\n",
       "      <th></th>\n",
       "      <th>Year 1</th>\n",
       "      <th>Year 2</th>\n",
       "      <th>Year 3</th>\n",
       "      <th>Year 4</th>\n",
       "      <th>Year 5</th>\n",
       "      <th>Year 6</th>\n",
       "    </tr>\n",
       "  </thead>\n",
       "  <tbody>\n",
       "    <tr>\n",
       "      <td>0</td>\n",
       "      <td>80802640</td>\n",
       "      <td>86108774</td>\n",
       "      <td>91763349</td>\n",
       "      <td>97789249</td>\n",
       "      <td>104210856</td>\n",
       "      <td>107632506</td>\n",
       "    </tr>\n",
       "  </tbody>\n",
       "</table>\n",
       "</div>"
      ],
      "text/plain": [
       "     Year 1    Year 2    Year 3    Year 4     Year 5     Year 6\n",
       "0  80802640  86108774  91763349  97789249  104210856  107632506"
      ]
     },
     "execution_count": 8,
     "metadata": {},
     "output_type": "execute_result"
    }
   ],
   "source": [
    "# Forecasted FCFF\n",
    "forecast_free_cash_flow_firm_df = pd.DataFrame(columns=['Year ' + str(i) for i in range(1,7)])\n",
    "free_cash_flow_firm_forecast_lst = []\n",
    "for i in range(1,7):\n",
    "    if i != 6:\n",
    "        free_cash_flow_firm_forecast = latest_free_cash_flow_firm*(1+free_cash_flow_firm_CAGR)**i\n",
    "    else:\n",
    "        free_cash_flow_firm_forecast = latest_free_cash_flow_firm*(1+free_cash_flow_firm_CAGR)\\\n",
    "                                        **(i-1)*(1+long_term_growth)\n",
    "    free_cash_flow_firm_forecast_lst.append(int(free_cash_flow_firm_forecast))\n",
    "forecast_free_cash_flow_firm_df.loc[0] = free_cash_flow_firm_forecast_lst\n",
    "forecast_free_cash_flow_firm_df"
   ]
  },
  {
   "cell_type": "markdown",
   "metadata": {},
   "source": [
    "Now that we have successfully forecasted FCFF for the next six years and calculated the long-term growth rate, we turn our attention to WACC, which is the final input required in our two-stage FCFF valuation model."
   ]
  },
  {
   "cell_type": "markdown",
   "metadata": {},
   "source": [
    "### 2. Weighted Average Cost of Capital"
   ]
  },
  {
   "cell_type": "markdown",
   "metadata": {},
   "source": [
    "The Weighted Average Cost of Capital (WACC) is the weighted average of the rates of return required by each of the capital suppliers to the firm (usually this is just equity and debt) where the weights are the proportions of the firm's total market value from each capital source:\n",
    "\n",
    "WACC = (equity-to-capital ratio * required return on equity) + (debt-to-capital ratio * after-tax required return on debt)\n",
    "\n",
    "$$WACC = \\frac{E}{E+D}r_e\\ +\\ \\frac{D}{E+D}r_d(1\\ -\\ tax\\ rate)$$<br>\n",
    "$E = market\\ value\\ of\\ equity$<br>\n",
    "$D = market\\ value\\ of\\ debt$<br>\n",
    "$r_e = required\\ return\\ on\\ equity$<br>\n",
    "$r_d = required\\ return\\ on\\ debt$<br>\n",
    "$tax\\ rate = effective\\ tax\\ rate$<br>\n",
    "\n",
    "Adding the [Balance Sheet Statement](https://rapidapi.com/alphawave/api/financial-statements?endpoint=apiendpoint_df251606-fb96-4468-9067-0d65886ce5b9) endpoint from the [AlphaWave Data Financial Statements API](https://rapidapi.com/alphawave/api/financial-statements/endpoints) and the [Key Statistics](https://rapidapi.com/alphawave/api/stock-analysis?endpoint=apiendpoint_dff4b882-4be4-4169-a700-04275c92bdce) endpoint from the [AlphaWave Data Stock Analysis API](https://rapidapi.com/alphawave/api/stock-analysis/endpoints), we can pull in the remaining data required to calculate WACC.\n",
    "\n",
    "To call these APIs with Python, you can choose one of the supported Python code snippets provided in the API console. The following are examples of how to invoke the APIs with Python Requests. You will need to insert your own x-rapidapi-host and x-rapidapi-key information in the code blocks below."
   ]
  },
  {
   "cell_type": "code",
   "execution_count": 9,
   "metadata": {
    "scrolled": false
   },
   "outputs": [
    {
     "data": {
      "text/html": [
       "<div>\n",
       "<style scoped>\n",
       "    .dataframe tbody tr th:only-of-type {\n",
       "        vertical-align: middle;\n",
       "    }\n",
       "\n",
       "    .dataframe tbody tr th {\n",
       "        vertical-align: top;\n",
       "    }\n",
       "\n",
       "    .dataframe thead th {\n",
       "        text-align: right;\n",
       "    }\n",
       "</style>\n",
       "<table border=\"1\" class=\"dataframe\">\n",
       "  <thead>\n",
       "    <tr style=\"text-align: right;\">\n",
       "      <th></th>\n",
       "      <th>9/30/2017</th>\n",
       "      <th>9/30/2018</th>\n",
       "      <th>9/30/2019</th>\n",
       "      <th>9/30/2020</th>\n",
       "    </tr>\n",
       "  </thead>\n",
       "  <tbody>\n",
       "    <tr>\n",
       "      <td>Common Stock Equity</td>\n",
       "      <td>134047000</td>\n",
       "      <td>107147000</td>\n",
       "      <td>90488000</td>\n",
       "      <td>65339000</td>\n",
       "    </tr>\n",
       "    <tr>\n",
       "      <td>Invested Capital</td>\n",
       "      <td>249727000</td>\n",
       "      <td>221630000</td>\n",
       "      <td>198535000</td>\n",
       "      <td>177775000</td>\n",
       "    </tr>\n",
       "    <tr>\n",
       "      <td>Net Debt</td>\n",
       "      <td>95391000</td>\n",
       "      <td>88570000</td>\n",
       "      <td>59203000</td>\n",
       "      <td>74420000</td>\n",
       "    </tr>\n",
       "    <tr>\n",
       "      <td>Net Tangible Assets</td>\n",
       "      <td>126032000</td>\n",
       "      <td>107147000</td>\n",
       "      <td>90488000</td>\n",
       "      <td>65339000</td>\n",
       "    </tr>\n",
       "    <tr>\n",
       "      <td>Ordinary Shares Number</td>\n",
       "      <td>20504804</td>\n",
       "      <td>19019944</td>\n",
       "      <td>17772944</td>\n",
       "      <td>16976763</td>\n",
       "    </tr>\n",
       "    <tr>\n",
       "      <td>Share Issued</td>\n",
       "      <td>20504804</td>\n",
       "      <td>19019944</td>\n",
       "      <td>17772944</td>\n",
       "      <td>16976763</td>\n",
       "    </tr>\n",
       "    <tr>\n",
       "      <td>Tangible Book Value</td>\n",
       "      <td>126032000</td>\n",
       "      <td>107147000</td>\n",
       "      <td>90488000</td>\n",
       "      <td>65339000</td>\n",
       "    </tr>\n",
       "    <tr>\n",
       "      <td>Total Assets</td>\n",
       "      <td>375319000</td>\n",
       "      <td>365725000</td>\n",
       "      <td>338516000</td>\n",
       "      <td>323888000</td>\n",
       "    </tr>\n",
       "    <tr>\n",
       "      <td>Total Capitalization</td>\n",
       "      <td>231254000</td>\n",
       "      <td>200882000</td>\n",
       "      <td>182295000</td>\n",
       "      <td>164006000</td>\n",
       "    </tr>\n",
       "    <tr>\n",
       "      <td>Total Debt</td>\n",
       "      <td>115680000</td>\n",
       "      <td>114483000</td>\n",
       "      <td>108047000</td>\n",
       "      <td>112436000</td>\n",
       "    </tr>\n",
       "    <tr>\n",
       "      <td>Total Equity Gross Minority Interest</td>\n",
       "      <td>134047000</td>\n",
       "      <td>107147000</td>\n",
       "      <td>90488000</td>\n",
       "      <td>65339000</td>\n",
       "    </tr>\n",
       "    <tr>\n",
       "      <td>Total Liabilities Net Minority Interest</td>\n",
       "      <td>241272000</td>\n",
       "      <td>258578000</td>\n",
       "      <td>248028000</td>\n",
       "      <td>258549000</td>\n",
       "    </tr>\n",
       "    <tr>\n",
       "      <td>Working Capital</td>\n",
       "      <td>27831000</td>\n",
       "      <td>14473000</td>\n",
       "      <td>57101000</td>\n",
       "      <td>38321000</td>\n",
       "    </tr>\n",
       "  </tbody>\n",
       "</table>\n",
       "</div>"
      ],
      "text/plain": [
       "                                         9/30/2017  9/30/2018  9/30/2019  \\\n",
       "Common Stock Equity                      134047000  107147000   90488000   \n",
       "Invested Capital                         249727000  221630000  198535000   \n",
       "Net Debt                                  95391000   88570000   59203000   \n",
       "Net Tangible Assets                      126032000  107147000   90488000   \n",
       "Ordinary Shares Number                    20504804   19019944   17772944   \n",
       "Share Issued                              20504804   19019944   17772944   \n",
       "Tangible Book Value                      126032000  107147000   90488000   \n",
       "Total Assets                             375319000  365725000  338516000   \n",
       "Total Capitalization                     231254000  200882000  182295000   \n",
       "Total Debt                               115680000  114483000  108047000   \n",
       "Total Equity Gross Minority Interest     134047000  107147000   90488000   \n",
       "Total Liabilities Net Minority Interest  241272000  258578000  248028000   \n",
       "Working Capital                           27831000   14473000   57101000   \n",
       "\n",
       "                                         9/30/2020  \n",
       "Common Stock Equity                       65339000  \n",
       "Invested Capital                         177775000  \n",
       "Net Debt                                  74420000  \n",
       "Net Tangible Assets                       65339000  \n",
       "Ordinary Shares Number                    16976763  \n",
       "Share Issued                              16976763  \n",
       "Tangible Book Value                       65339000  \n",
       "Total Assets                             323888000  \n",
       "Total Capitalization                     164006000  \n",
       "Total Debt                               112436000  \n",
       "Total Equity Gross Minority Interest      65339000  \n",
       "Total Liabilities Net Minority Interest  258549000  \n",
       "Working Capital                           38321000  "
      ]
     },
     "execution_count": 9,
     "metadata": {},
     "output_type": "execute_result"
    }
   ],
   "source": [
    "url = \"https://financial-statements.p.rapidapi.com/api/v1/resources/balance-sheet\"\n",
    "\n",
    "querystring = {\"ticker\":company_ticker}\n",
    "\n",
    "headers = {\n",
    "    'x-rapidapi-host': \"YOUR_X-RAPIDAPI-HOST_WILL_COPY_DIRECTLY_FROM_RAPIDAPI_PYTHON_CODE_SNIPPETS\",\n",
    "    'x-rapidapi-key': \"YOUR_X-RAPIDAPI-KEY_WILL_COPY_DIRECTLY_FROM_RAPIDAPI_PYTHON_CODE_SNIPPETS\"\n",
    "    }\n",
    "\n",
    "balance_sheet_response = requests.request(\"GET\", url, headers=headers, params=querystring)\n",
    "\n",
    "# Create Balance Sheet DataFrame\n",
    "balance_sheet_df = pd.DataFrame.from_dict(balance_sheet_response.json())\n",
    "balance_sheet_df"
   ]
  },
  {
   "cell_type": "code",
   "execution_count": 10,
   "metadata": {
    "scrolled": false
   },
   "outputs": [
    {
     "data": {
      "text/html": [
       "<div>\n",
       "<style scoped>\n",
       "    .dataframe tbody tr th:only-of-type {\n",
       "        vertical-align: middle;\n",
       "    }\n",
       "\n",
       "    .dataframe tbody tr th {\n",
       "        vertical-align: top;\n",
       "    }\n",
       "\n",
       "    .dataframe thead th {\n",
       "        text-align: right;\n",
       "    }\n",
       "</style>\n",
       "<table border=\"1\" class=\"dataframe\">\n",
       "  <thead>\n",
       "    <tr style=\"text-align: right;\">\n",
       "      <th></th>\n",
       "      <th>Value</th>\n",
       "    </tr>\n",
       "  </thead>\n",
       "  <tbody>\n",
       "    <tr>\n",
       "      <td>% held by insiders</td>\n",
       "      <td>0.07%</td>\n",
       "    </tr>\n",
       "    <tr>\n",
       "      <td>% held by institutions</td>\n",
       "      <td>60.63%</td>\n",
       "    </tr>\n",
       "    <tr>\n",
       "      <td>200-day moving average</td>\n",
       "      <td>101.94</td>\n",
       "    </tr>\n",
       "    <tr>\n",
       "      <td>5-year average dividend yield</td>\n",
       "      <td>1.50</td>\n",
       "    </tr>\n",
       "    <tr>\n",
       "      <td>50-day moving average</td>\n",
       "      <td>116.12</td>\n",
       "    </tr>\n",
       "    <tr>\n",
       "      <td>52-week change</td>\n",
       "      <td>78.60%</td>\n",
       "    </tr>\n",
       "    <tr>\n",
       "      <td>52-week high</td>\n",
       "      <td>137.98</td>\n",
       "    </tr>\n",
       "    <tr>\n",
       "      <td>52-week low</td>\n",
       "      <td>53.15</td>\n",
       "    </tr>\n",
       "    <tr>\n",
       "      <td>Avg vol (10-day)</td>\n",
       "      <td>121.08M</td>\n",
       "    </tr>\n",
       "    <tr>\n",
       "      <td>Avg vol (3-month)</td>\n",
       "      <td>158.01M</td>\n",
       "    </tr>\n",
       "    <tr>\n",
       "      <td>Beta (5Y monthly)</td>\n",
       "      <td>1.35</td>\n",
       "    </tr>\n",
       "    <tr>\n",
       "      <td>Book value per share (mrq)</td>\n",
       "      <td>3.85</td>\n",
       "    </tr>\n",
       "    <tr>\n",
       "      <td>Current ratio (mrq)</td>\n",
       "      <td>1.36</td>\n",
       "    </tr>\n",
       "    <tr>\n",
       "      <td>Diluted EPS (ttm)</td>\n",
       "      <td>3.28</td>\n",
       "    </tr>\n",
       "    <tr>\n",
       "      <td>Dividend date</td>\n",
       "      <td>11 Nov 2020</td>\n",
       "    </tr>\n",
       "    <tr>\n",
       "      <td>EBITDA</td>\n",
       "      <td>77.34B</td>\n",
       "    </tr>\n",
       "    <tr>\n",
       "      <td>Enterprise value</td>\n",
       "      <td>2.06T</td>\n",
       "    </tr>\n",
       "    <tr>\n",
       "      <td>Enterprise value/EBITDA</td>\n",
       "      <td>26.62</td>\n",
       "    </tr>\n",
       "    <tr>\n",
       "      <td>Enterprise value/revenue</td>\n",
       "      <td>7.50</td>\n",
       "    </tr>\n",
       "    <tr>\n",
       "      <td>Ex-dividend date</td>\n",
       "      <td>05 Nov 2020</td>\n",
       "    </tr>\n",
       "    <tr>\n",
       "      <td>Fiscal year ends</td>\n",
       "      <td>25 Sep 2020</td>\n",
       "    </tr>\n",
       "    <tr>\n",
       "      <td>Float</td>\n",
       "      <td>16.98B</td>\n",
       "    </tr>\n",
       "    <tr>\n",
       "      <td>Forward P/E</td>\n",
       "      <td>27.73</td>\n",
       "    </tr>\n",
       "    <tr>\n",
       "      <td>Forward annual dividend rate</td>\n",
       "      <td>0.82</td>\n",
       "    </tr>\n",
       "    <tr>\n",
       "      <td>Forward annual dividend yield</td>\n",
       "      <td>0.69%</td>\n",
       "    </tr>\n",
       "    <tr>\n",
       "      <td>Gross profit (ttm)</td>\n",
       "      <td>104.96B</td>\n",
       "    </tr>\n",
       "    <tr>\n",
       "      <td>Last split date</td>\n",
       "      <td>30 Aug 2020</td>\n",
       "    </tr>\n",
       "    <tr>\n",
       "      <td>Last split factor</td>\n",
       "      <td>4:1</td>\n",
       "    </tr>\n",
       "    <tr>\n",
       "      <td>Levered free cash flow (ttm)</td>\n",
       "      <td>60.39B</td>\n",
       "    </tr>\n",
       "    <tr>\n",
       "      <td>Market cap (intra-day)</td>\n",
       "      <td>2.03T</td>\n",
       "    </tr>\n",
       "    <tr>\n",
       "      <td>Most-recent quarter (mrq)</td>\n",
       "      <td>25 Sep 2020</td>\n",
       "    </tr>\n",
       "    <tr>\n",
       "      <td>Net income avi to common (ttm)</td>\n",
       "      <td>57.41B</td>\n",
       "    </tr>\n",
       "    <tr>\n",
       "      <td>Operating cash flow (ttm)</td>\n",
       "      <td>80.67B</td>\n",
       "    </tr>\n",
       "    <tr>\n",
       "      <td>Operating margin (ttm)</td>\n",
       "      <td>24.15%</td>\n",
       "    </tr>\n",
       "    <tr>\n",
       "      <td>PEG Ratio (5 yr expected)</td>\n",
       "      <td>2.39</td>\n",
       "    </tr>\n",
       "    <tr>\n",
       "      <td>Payout ratio</td>\n",
       "      <td>24.24%</td>\n",
       "    </tr>\n",
       "    <tr>\n",
       "      <td>Price/book (mrq)</td>\n",
       "      <td>30.98</td>\n",
       "    </tr>\n",
       "    <tr>\n",
       "      <td>Price/sales (ttm)</td>\n",
       "      <td>7.39</td>\n",
       "    </tr>\n",
       "    <tr>\n",
       "      <td>Profit margin</td>\n",
       "      <td>20.91%</td>\n",
       "    </tr>\n",
       "    <tr>\n",
       "      <td>Quarterly earnings growth (yoy)</td>\n",
       "      <td>-7.40%</td>\n",
       "    </tr>\n",
       "    <tr>\n",
       "      <td>Quarterly revenue growth (yoy)</td>\n",
       "      <td>1.00%</td>\n",
       "    </tr>\n",
       "    <tr>\n",
       "      <td>Return on assets (ttm)</td>\n",
       "      <td>12.51%</td>\n",
       "    </tr>\n",
       "    <tr>\n",
       "      <td>Return on equity (ttm)</td>\n",
       "      <td>73.69%</td>\n",
       "    </tr>\n",
       "    <tr>\n",
       "      <td>Revenue (ttm)</td>\n",
       "      <td>274.52B</td>\n",
       "    </tr>\n",
       "    <tr>\n",
       "      <td>Revenue per share (ttm)</td>\n",
       "      <td>15.82</td>\n",
       "    </tr>\n",
       "    <tr>\n",
       "      <td>S&amp;P500 52-week change</td>\n",
       "      <td>14.83%</td>\n",
       "    </tr>\n",
       "    <tr>\n",
       "      <td>Shares outstanding</td>\n",
       "      <td>17.1B</td>\n",
       "    </tr>\n",
       "    <tr>\n",
       "      <td>Shares short (29 Oct 2020)</td>\n",
       "      <td>80.53M</td>\n",
       "    </tr>\n",
       "    <tr>\n",
       "      <td>Shares short (prior month 29 Sep 2020)</td>\n",
       "      <td>88.09M</td>\n",
       "    </tr>\n",
       "    <tr>\n",
       "      <td>Short % of float (29 Oct 2020)</td>\n",
       "      <td>0.47%</td>\n",
       "    </tr>\n",
       "    <tr>\n",
       "      <td>Short % of shares outstanding (29 Oct 2020)</td>\n",
       "      <td>0.47%</td>\n",
       "    </tr>\n",
       "    <tr>\n",
       "      <td>Short ratio (29 Oct 2020)</td>\n",
       "      <td>0.61</td>\n",
       "    </tr>\n",
       "    <tr>\n",
       "      <td>Total cash (mrq)</td>\n",
       "      <td>90.94B</td>\n",
       "    </tr>\n",
       "    <tr>\n",
       "      <td>Total cash per share (mrq)</td>\n",
       "      <td>5.35</td>\n",
       "    </tr>\n",
       "    <tr>\n",
       "      <td>Total debt (mrq)</td>\n",
       "      <td>122.28B</td>\n",
       "    </tr>\n",
       "    <tr>\n",
       "      <td>Total debt/equity (mrq)</td>\n",
       "      <td>187.14</td>\n",
       "    </tr>\n",
       "    <tr>\n",
       "      <td>Trailing P/E</td>\n",
       "      <td>36.36</td>\n",
       "    </tr>\n",
       "    <tr>\n",
       "      <td>Trailing annual dividend rate</td>\n",
       "      <td>0.80</td>\n",
       "    </tr>\n",
       "    <tr>\n",
       "      <td>Trailing annual dividend yield</td>\n",
       "      <td>0.67%</td>\n",
       "    </tr>\n",
       "  </tbody>\n",
       "</table>\n",
       "</div>"
      ],
      "text/plain": [
       "                                                    Value\n",
       "% held by insiders                                  0.07%\n",
       "% held by institutions                             60.63%\n",
       "200-day moving average                             101.94\n",
       "5-year average dividend yield                        1.50\n",
       "50-day moving average                              116.12\n",
       "52-week change                                     78.60%\n",
       "52-week high                                       137.98\n",
       "52-week low                                         53.15\n",
       "Avg vol (10-day)                                  121.08M\n",
       "Avg vol (3-month)                                 158.01M\n",
       "Beta (5Y monthly)                                    1.35\n",
       "Book value per share (mrq)                           3.85\n",
       "Current ratio (mrq)                                  1.36\n",
       "Diluted EPS (ttm)                                    3.28\n",
       "Dividend date                                 11 Nov 2020\n",
       "EBITDA                                             77.34B\n",
       "Enterprise value                                    2.06T\n",
       "Enterprise value/EBITDA                             26.62\n",
       "Enterprise value/revenue                             7.50\n",
       "Ex-dividend date                              05 Nov 2020\n",
       "Fiscal year ends                              25 Sep 2020\n",
       "Float                                              16.98B\n",
       "Forward P/E                                         27.73\n",
       "Forward annual dividend rate                         0.82\n",
       "Forward annual dividend yield                       0.69%\n",
       "Gross profit (ttm)                                104.96B\n",
       "Last split date                               30 Aug 2020\n",
       "Last split factor                                     4:1\n",
       "Levered free cash flow (ttm)                       60.39B\n",
       "Market cap (intra-day)                              2.03T\n",
       "Most-recent quarter (mrq)                     25 Sep 2020\n",
       "Net income avi to common (ttm)                     57.41B\n",
       "Operating cash flow (ttm)                          80.67B\n",
       "Operating margin (ttm)                             24.15%\n",
       "PEG Ratio (5 yr expected)                            2.39\n",
       "Payout ratio                                       24.24%\n",
       "Price/book (mrq)                                    30.98\n",
       "Price/sales (ttm)                                    7.39\n",
       "Profit margin                                      20.91%\n",
       "Quarterly earnings growth (yoy)                    -7.40%\n",
       "Quarterly revenue growth (yoy)                      1.00%\n",
       "Return on assets (ttm)                             12.51%\n",
       "Return on equity (ttm)                             73.69%\n",
       "Revenue (ttm)                                     274.52B\n",
       "Revenue per share (ttm)                             15.82\n",
       "S&P500 52-week change                              14.83%\n",
       "Shares outstanding                                  17.1B\n",
       "Shares short (29 Oct 2020)                         80.53M\n",
       "Shares short (prior month 29 Sep 2020)             88.09M\n",
       "Short % of float (29 Oct 2020)                      0.47%\n",
       "Short % of shares outstanding (29 Oct 2020)         0.47%\n",
       "Short ratio (29 Oct 2020)                            0.61\n",
       "Total cash (mrq)                                   90.94B\n",
       "Total cash per share (mrq)                           5.35\n",
       "Total debt (mrq)                                  122.28B\n",
       "Total debt/equity (mrq)                            187.14\n",
       "Trailing P/E                                        36.36\n",
       "Trailing annual dividend rate                        0.80\n",
       "Trailing annual dividend yield                      0.67%"
      ]
     },
     "execution_count": 10,
     "metadata": {},
     "output_type": "execute_result"
    }
   ],
   "source": [
    "url = \"https://stock-analysis.p.rapidapi.com/api/v1/resources/key-stats\"\n",
    "\n",
    "querystring = {\"ticker\":company_ticker}\n",
    "\n",
    "headers = {\n",
    "    'x-rapidapi-host': \"YOUR_X-RAPIDAPI-HOST_WILL_COPY_DIRECTLY_FROM_RAPIDAPI_PYTHON_CODE_SNIPPETS\",\n",
    "    'x-rapidapi-key': \"YOUR_X-RAPIDAPI-KEY_WILL_COPY_DIRECTLY_FROM_RAPIDAPI_PYTHON_CODE_SNIPPETS\"\n",
    "    }\n",
    "\n",
    "key_stats_response = requests.request(\"GET\", url, headers=headers, params=querystring)\n",
    "\n",
    "# Create Key Statistics DataFrame\n",
    "key_stats_df = pd.DataFrame.from_dict(key_stats_response.json())\n",
    "key_stats_df = key_stats_df.transpose()\n",
    "key_stats_df"
   ]
  },
  {
   "cell_type": "markdown",
   "metadata": {},
   "source": [
    "\n",
    "\n",
    "**2a. Estimating the Required Return on Equity**<br>\n",
    "In order to calculate the Required Return on Equity, we will use the Capital Asset Pricing Model (CAPM) which is an equilibrium model that takes the risk-free rate, the stock's equity beta, and the market risk premium as inputs.\n",
    "\n",
    "$$r_e = r_f\\ +(\\beta*MRP)$$<br>\n",
    "$r_e = required\\ return\\ on\\ equity$<br>\n",
    "$r_f = risk-free\\ rate$<br>\n",
    "$\\beta = beta$<br>\n",
    "$MRP = market\\ risk\\ premium$<br>"
   ]
  },
  {
   "cell_type": "markdown",
   "metadata": {},
   "source": [
    "*Estimating the Risk-Free Rate*<br>\n",
    "Government securities are assumed to be risk-free, at least from a credit standpoint.  With this assumption, the appropriate rate to use in the CAPM is the government security having approximately the same duration as the asset being valued and sufficient liquidity so that the yield does not have an embedded liquidity risk premium.  Equities are assumed to have a long duration, so a long-term government bond yield is an appropriate proxy for the risk-free rate.\n",
    "\n",
    "In this model, the yield on the 10 Year U.S. Treasury Note will be used as the risk-free rate.  We can scrape the current yield on the 10 Year U.S. Treasury Note from Yahoo Finance using the code below."
   ]
  },
  {
   "cell_type": "code",
   "execution_count": 11,
   "metadata": {},
   "outputs": [
    {
     "data": {
      "text/plain": [
       "0.008930000066757203"
      ]
     },
     "execution_count": 11,
     "metadata": {},
     "output_type": "execute_result"
    }
   ],
   "source": [
    "# Risk-free Rate\n",
    "timespan = 100\n",
    "current_date = datetime.date.today()\n",
    "past_date = current_date-datetime.timedelta(days=timespan)\n",
    "risk_free_rate_df = dr.DataReader('^TNX', 'yahoo', past_date, current_date) \n",
    "risk_free_rate = (risk_free_rate_df.iloc[len(risk_free_rate_df)-1,5])/100\n",
    "risk_free_rate"
   ]
  },
  {
   "cell_type": "markdown",
   "metadata": {},
   "source": [
    "*Estimating the Stock's Beta*<br>\n",
    "A stock's beta is the sensitivity of that stock's return to the return of the market index.  It is a measure of systematic risk and can be obtained using the [Key Statistics](https://rapidapi.com/alphawave/api/stock-analysis?endpoint=apiendpoint_dff4b882-4be4-4169-a700-04275c92bdce) endpoint from the [AlphaWave Data Stock Analysis API](https://rapidapi.com/alphawave/api/stock-analysis/endpoints) using the code below."
   ]
  },
  {
   "cell_type": "code",
   "execution_count": 12,
   "metadata": {},
   "outputs": [
    {
     "data": {
      "text/plain": [
       "1.35"
      ]
     },
     "execution_count": 12,
     "metadata": {},
     "output_type": "execute_result"
    }
   ],
   "source": [
    "# Stock's Beta\n",
    "equity_beta = float(key_stats_df.loc[r'Beta (5Y monthly)'])\n",
    "equity_beta"
   ]
  },
  {
   "cell_type": "markdown",
   "metadata": {},
   "source": [
    "*Estimating the Market Risk Premium*<br>\n",
    "The market risk premium should be the expected return on the market index less the expected return (or yield) on the long-term government bond.  For our purposes, we use the annual [market risk premium](http://pages.stern.nyu.edu/~adamodar/New_Home_Page/datafile/ctryprem.html) provided by Aswath Damodaran, who is a professor at the Stern School of Business at New York University.  Professor Damodaran teaches Corporate Finance and Equity Instruments & Markets.  He provides a multitude of financial information and I encourage you to visit his [website](http://pages.stern.nyu.edu/~adamodar/)."
   ]
  },
  {
   "cell_type": "code",
   "execution_count": 13,
   "metadata": {},
   "outputs": [],
   "source": [
    "# Market Risk Premium\n",
    "market_risk_premium = 0.0523"
   ]
  },
  {
   "cell_type": "markdown",
   "metadata": {},
   "source": [
    "Using the CAPM, we can now calculate the required return on equity for the company."
   ]
  },
  {
   "cell_type": "code",
   "execution_count": 14,
   "metadata": {},
   "outputs": [
    {
     "data": {
      "text/plain": [
       "0.0795350000667572"
      ]
     },
     "execution_count": 14,
     "metadata": {},
     "output_type": "execute_result"
    }
   ],
   "source": [
    "# Required Return on Equity\n",
    "equity_return = risk_free_rate + (equity_beta*market_risk_premium)\n",
    "equity_return"
   ]
  },
  {
   "cell_type": "markdown",
   "metadata": {},
   "source": [
    "**2b. Estimating the Required Return on Debt**<br>\n",
    "Firms have a cost of debt, which is the interest rate a company pays on its debt, such as bonds and loans. From the lender's perspective, this rate is the required return on debt. To calculate the required return on debt, we use the [AlphaWave Data Financial Statements API](https://rapidapi.com/alphawave/api/financial-statements/endpoints) to pull the firm's Interest Expense from the [Income Statement](https://rapidapi.com/alphawave/api/financial-statements?endpoint=apiendpoint_b4be9cff-500e-4b0a-a5a9-a8d73f9cde7a) endpoint and Total Debt from the [Balance Sheet Statement](https://rapidapi.com/alphawave/api/financial-statements?endpoint=apiendpoint_df251606-fb96-4468-9067-0d65886ce5b9) endpoint.\n",
    "\n",
    "After dividing Interest Expense by Total Debt to calculate the required rate of return on debt, we will multiply this rate by (1 - effective tax rate) as seen in the WACC formula in order to get the after-tax required return on debt.  The reason for this is because there are tax deductions available on interest paid, which are often to the firm's benefit. As a result, the net cost of a company's debt is the amount of interest the firm is paying minus the amount it has saved in taxes because of its tax-deductible interest payments.\n",
    "\n",
    "Using the [AlphaWave Data Financial Statements API](https://rapidapi.com/alphawave/api/financial-statements/endpoints), we can calculate the effective tax rate by taking the average of the Tax Provision values returned through the [Income Statement](https://rapidapi.com/alphawave/api/financial-statements?endpoint=apiendpoint_b4be9cff-500e-4b0a-a5a9-a8d73f9cde7a) endpoint.\n",
    "\n",
    "The code below gives a good approximation for the required rate of return on debt and the effective tax rate that will be used in the WACC calculation."
   ]
  },
  {
   "cell_type": "code",
   "execution_count": 15,
   "metadata": {},
   "outputs": [
    {
     "data": {
      "text/plain": [
       "0.025552314205414636"
      ]
     },
     "execution_count": 15,
     "metadata": {},
     "output_type": "execute_result"
    }
   ],
   "source": [
    "# Interest Expense\n",
    "interest_expense = income_statement_df.loc['Interest Expense']\n",
    "interest_expense_df = interest_expense.to_frame().transpose()\n",
    "interest_expense_str = interest_expense_df.values[0][-1:]\n",
    "interest_expense_int = int(interest_expense_str)\n",
    "\n",
    "# Total Debt\n",
    "total_debt = balance_sheet_df.loc['Total Debt']\n",
    "total_debt_df = total_debt.to_frame().transpose()\n",
    "total_debt_str = total_debt_df.values[0][-1:]\n",
    "total_debt_int = int(total_debt_str)\n",
    "\n",
    "# Required Return on Debt\n",
    "debt_return = interest_expense_int / total_debt_int\n",
    "debt_return"
   ]
  },
  {
   "cell_type": "code",
   "execution_count": 16,
   "metadata": {},
   "outputs": [
    {
     "data": {
      "text/plain": [
       "0.18317664597985506"
      ]
     },
     "execution_count": 16,
     "metadata": {},
     "output_type": "execute_result"
    }
   ],
   "source": [
    "# Effective Tax Rate\n",
    "effective_tax_rate = income_statement_df.loc['Tax Provision'].astype(int) \\\n",
    "                    / income_statement_df.loc['Pretax Income'].astype(int)\n",
    "avg_effective_tax_rate = sum(effective_tax_rate) / len(effective_tax_rate)\n",
    "avg_effective_tax_rate"
   ]
  },
  {
   "cell_type": "markdown",
   "metadata": {},
   "source": [
    "**2c. Estimating the Capital Structure**<br>\n",
    "The final inputs for calculating WACC deal with the firm's capital structure, which is a company's mix of equity and debt.  As previously noted, WACC is a blend of a company’s equity and debt cost of capital based on the company's equity and debt capital ratio.\n",
    "\n",
    "To calculate the market value of equity for a firm, we can use the [AlphaWave Data Stock Analysis API](https://rapidapi.com/alphawave/api/stock-analysis/endpoints) to pull the firm's Market Cap from the [Key Statistics](https://rapidapi.com/alphawave/api/stock-analysis?endpoint=apiendpoint_dff4b882-4be4-4169-a700-04275c92bdce) endpoint."
   ]
  },
  {
   "cell_type": "code",
   "execution_count": 17,
   "metadata": {},
   "outputs": [
    {
     "data": {
      "text/plain": [
       "2030000000"
      ]
     },
     "execution_count": 17,
     "metadata": {},
     "output_type": "execute_result"
    }
   ],
   "source": [
    "# Market Value of Equity\n",
    "market_cap_str = key_stats_df.loc[r'Market cap (intra-day) '][0]\n",
    "\n",
    "market_cap_lst = market_cap_str.split('.')\n",
    "if market_cap_str[len(market_cap_str)-1] == 'T':\n",
    "    market_cap_length = len(market_cap_lst[1])-1\n",
    "    market_cap_lst[1] = market_cap_lst[1].replace('T',(9-market_cap_length)*'0')\n",
    "    market_cap_int = int(''.join(market_cap_lst))\n",
    "if market_cap_str[len(market_cap_str)-1] == 'B':\n",
    "    market_cap_length = len(market_cap_lst[1])-1\n",
    "    market_cap_lst[1] = market_cap_lst[1].replace('B',(6-market_cap_length)*'0')\n",
    "    market_cap_int = int(''.join(market_cap_lst))\n",
    "\n",
    "market_cap_int"
   ]
  },
  {
   "cell_type": "markdown",
   "metadata": {},
   "source": [
    "In most cases, you can use the book value of debt from a company’s latest balance sheet as an approximation for market value of debt. Unlike equity, the market value of debt usually does not deviate too far from the book value.  To calculate the market value of debt, we can use the [AlphaWave Data Financial Statements API](https://rapidapi.com/alphawave/api/financial-statements/endpoints) to pull the firm's Net Debt from the [Balance Sheet Statement](https://rapidapi.com/alphawave/api/financial-statements?endpoint=apiendpoint_df251606-fb96-4468-9067-0d65886ce5b9) endpoint."
   ]
  },
  {
   "cell_type": "code",
   "execution_count": 18,
   "metadata": {},
   "outputs": [
    {
     "data": {
      "text/plain": [
       "74420000"
      ]
     },
     "execution_count": 18,
     "metadata": {},
     "output_type": "execute_result"
    }
   ],
   "source": [
    "# Market Value of Debt\n",
    "net_debt = balance_sheet_df.loc['Net Debt']\n",
    "net_debt_df = net_debt.to_frame().transpose()\n",
    "net_debt_str = net_debt_df.values[0][-1:]\n",
    "net_debt_int = int(net_debt_str)\n",
    "net_debt_int"
   ]
  },
  {
   "cell_type": "markdown",
   "metadata": {},
   "source": [
    "The company value is the sum of its equity and debt market values."
   ]
  },
  {
   "cell_type": "code",
   "execution_count": 19,
   "metadata": {},
   "outputs": [
    {
     "data": {
      "text/plain": [
       "2104420000"
      ]
     },
     "execution_count": 19,
     "metadata": {},
     "output_type": "execute_result"
    }
   ],
   "source": [
    "# Company Value\n",
    "company_value = market_cap_int + net_debt_int\n",
    "company_value"
   ]
  },
  {
   "cell_type": "markdown",
   "metadata": {},
   "source": [
    "We are now able to determine the equity and debt capital ratios by dividing both the market value of equity and the market value of debt by the company value.\n",
    "\n",
    "With all the components acquired, we can calculate the firm's WACC."
   ]
  },
  {
   "cell_type": "code",
   "execution_count": 20,
   "metadata": {},
   "outputs": [
    {
     "data": {
      "text/plain": [
       "0.07746045183864433"
      ]
     },
     "execution_count": 20,
     "metadata": {},
     "output_type": "execute_result"
    }
   ],
   "source": [
    "WACC = ((market_cap_int/company_value) * equity_return) \\\n",
    "        + ((net_debt_int/company_value) * (debt_return * (1-avg_effective_tax_rate)))\n",
    "WACC"
   ]
  },
  {
   "cell_type": "markdown",
   "metadata": {},
   "source": [
    "### 3. Stock Valuation"
   ]
  },
  {
   "cell_type": "markdown",
   "metadata": {},
   "source": [
    "We need to discount all the forecasted cash flows to get the Firm Value. First, discount the forecasted FCFF for each of the next five years (Stage 1). Then, the present value of the terminal value of the firm using the forecasted FCFF in Year 6 is added to this amount (Stage 2).\n",
    "\n",
    "$$Firm\\ Value = \\sum_{t=1}^n\\overbrace{\\frac{FCFF_t}{(1 + WACC)^t}}^{Stage\\ 1}+\\overbrace{\\frac{FCFF_{n+1}}{(WACC - g)}*\\frac{1}{(1 + WACC)^n}}^{Stage\\ 2}$$<br>\n",
    "\n",
    "$FCFF_t = expected\\ free\\ cash\\ flow\\ to\\ the\\ firm\\ in\\ year\\ t$<br>\n",
    "$FCFF_{n+1} = expected\\ free\\ cash\\ flow\\ to\\ the\\ firm\\ in\\ the\\ last\\ year\\ (Year\\ 6\\ in\\ this\\ example)$<br>\n",
    "$g = constant\\ expected\\ growth\\ rate\\ in\\ FCFF$<br>\n",
    "$WACC = weighted\\ average\\ cost\\ of\\ capital$<br>\n",
    "\n",
    "As the resulting value gives us the Firm Value of the company (which is the value to both equity and debt holders), we need to deduct the company’s Market Value of Debt to arrive at the Equity Value of the firm.\n",
    "\n",
    "Equity Value = Firm Value – Market Value of Debt"
   ]
  },
  {
   "cell_type": "code",
   "execution_count": 21,
   "metadata": {},
   "outputs": [
    {
     "data": {
      "text/plain": [
       "1953329634"
      ]
     },
     "execution_count": 21,
     "metadata": {},
     "output_type": "execute_result"
    }
   ],
   "source": [
    "# Equity Value Calculation\n",
    "discounted_FCFF_lst = []\n",
    "for year in range(0,5):\n",
    "    discounted_FCFF = forecast_free_cash_flow_firm_df.iloc[0,year]/(1+WACC)**(year+1)\n",
    "    discounted_FCFF_lst.append(int(discounted_FCFF))\n",
    "terminal_value = forecast_free_cash_flow_firm_df.iloc[0,5]/(WACC-long_term_growth)\n",
    "PV_terminal_value = int(terminal_value/(1+WACC)**5)\n",
    "enterprise_value = sum(discounted_FCFF_lst)+PV_terminal_value\n",
    "equity_value = enterprise_value-net_debt_int\n",
    "equity_value"
   ]
  },
  {
   "cell_type": "markdown",
   "metadata": {},
   "source": [
    "The [Key Statistics](https://rapidapi.com/alphawave/api/stock-analysis?endpoint=apiendpoint_dff4b882-4be4-4169-a700-04275c92bdce) endpoint from the [AlphaWave Data Stock Analysis API](https://rapidapi.com/alphawave/api/stock-analysis/endpoints) enables us to pull in the firm's total Shares Outstanding, which we will use to calculate the two-stage FCFF valuation model's stock price estimate for the firm."
   ]
  },
  {
   "cell_type": "code",
   "execution_count": 22,
   "metadata": {},
   "outputs": [
    {
     "data": {
      "text/plain": [
       "17100000"
      ]
     },
     "execution_count": 22,
     "metadata": {},
     "output_type": "execute_result"
    }
   ],
   "source": [
    "# Total Shares Outstanding\n",
    "shares_outstanding_str = key_stats_df.loc[r'Shares outstanding '][0]\n",
    "\n",
    "shares_outstanding_lst = shares_outstanding_str.split('.')\n",
    "if shares_outstanding_str[len(shares_outstanding_str)-1] == 'T':\n",
    "    shares_outstanding_length = len(shares_outstanding_lst[1])-1\n",
    "    shares_outstanding_lst[1] = shares_outstanding_lst[1].replace('T',(9-shares_outstanding_length)*'0')\n",
    "    shares_outstanding_int = int(''.join(shares_outstanding_lst))\n",
    "if shares_outstanding_str[len(shares_outstanding_str)-1] == 'B':\n",
    "    shares_outstanding_length = len(shares_outstanding_lst[1])-1\n",
    "    shares_outstanding_lst[1] = shares_outstanding_lst[1].replace('B',(6-shares_outstanding_length)*'0')\n",
    "    shares_outstanding_int = int(''.join(shares_outstanding_lst))\n",
    "\n",
    "shares_outstanding_int"
   ]
  },
  {
   "cell_type": "code",
   "execution_count": 23,
   "metadata": {},
   "outputs": [
    {
     "name": "stdout",
     "output_type": "stream",
     "text": [
      "Model Stock Price = $114.23\n",
      "Actual Stock Price = $118.71\n"
     ]
    }
   ],
   "source": [
    "# Two-stage FCFF Valuation Model Stock Price Estimate\n",
    "stock_price = equity_value / shares_outstanding_int\n",
    "stock_price = '${:,.2f}'.format(stock_price)\n",
    "print(\"Model Stock Price = %s\"%(stock_price))\n",
    "\n",
    "# Actual Stock Price\n",
    "actual_stock_price = market_cap_int / shares_outstanding_int\n",
    "actual_stock_price = '${:,.2f}'.format(actual_stock_price)\n",
    "print(\"Actual Stock Price = %s\"%(actual_stock_price))"
   ]
  },
  {
   "cell_type": "markdown",
   "metadata": {},
   "source": [
    "### 4. Conclusion"
   ]
  },
  {
   "cell_type": "markdown",
   "metadata": {},
   "source": [
    "As can be seen in this article, we were able to calculate Stock Valuation using FCFF and WACC.  In the example above, the two-stage FCFF valuation model does a reasonably good job at estimating the fair value of a company's stock price.  However, the model is very sensitive to the discount and growth rates selected.  When applying this model, it is important to consider the type of growth the company is currently experiencing along with the anticipated growth characteristics for the future. A single-stage FCFF valuation model is useful for stable firms in mature industries while two-stage and three-stage FCFF valuation models are useful when you want to model multiple phases of growth.\n",
    "\n",
    "If you liked this article, you may also enjoy AlphaWave Data's [Bayesian Pairs Trading using Corporate Supply Chain Data](https://medium.com/@hdonnelly6/bayesian-pairs-trading-using-corporate-supply-chain-data-8b96305686d) article.  Using the [AlphaWave Data Corporate Supply Chain API](https://rapidapi.com/alphawave/api/corporate-supply-chain/endpoints), we can get a list of suppliers and customers for a given stock symbol.  You can further filter this list of suppliers and customers using the two-stage FCFF valuation model discussed in this article to get a grouping of good pairs trading candidates that are potentially misvalued.  A list of company tickers that have supply chain data is included at the bottom of the Jupyter Notebooks available on [Google Colab](https://colab.research.google.com/drive/1e_SiiZn7WEW3OUNG-ftN3riPNjiz0M0C?usp=sharing) and [Github](https://github.com/AlphaWaveData/Jupyter-Notebooks/blob/master/AlphaWave%20Corporate%20Supply%20Chain%20API%20Example.ipynb), which could be a good list of tickers to run through the two-stage FCFF valuation model discussed above."
   ]
  },
  {
   "cell_type": "code",
   "execution_count": null,
   "metadata": {},
   "outputs": [],
   "source": []
  }
 ],
 "metadata": {
  "kernelspec": {
   "display_name": "Python 3",
   "language": "python",
   "name": "python3"
  },
  "language_info": {
   "codemirror_mode": {
    "name": "ipython",
    "version": 3
   },
   "file_extension": ".py",
   "mimetype": "text/x-python",
   "name": "python",
   "nbconvert_exporter": "python",
   "pygments_lexer": "ipython3",
   "version": "3.7.4"
  }
 },
 "nbformat": 4,
 "nbformat_minor": 2
}
