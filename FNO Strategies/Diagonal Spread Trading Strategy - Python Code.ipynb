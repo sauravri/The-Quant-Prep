{
 "cells": [
  {
   "cell_type": "code",
   "execution_count": 71,
   "metadata": {
    "collapsed": true
   },
   "outputs": [],
   "source": [
    "# Importing Libraries\n",
    "\n",
    "# Data manipulation\n",
    "import numpy as np\n",
    "import pandas as pd\n",
    "\n",
    "# To plot\n",
    "import matplotlib.pyplot as plt\n",
    "import seaborn\n",
    "plt.style.use('ggplot')\n",
    "\n",
    "# BS Model\n",
    "import mibian"
   ]
  },
  {
   "cell_type": "code",
   "execution_count": 72,
   "metadata": {},
   "outputs": [],
   "source": [
    "# Nifty futures price \n",
    "nifty_april_fut = 10595.40\n",
    "nifty_may_fut = 10625.50\n",
    "\n",
    "april_strike_price = 10600\n",
    "may_strike_price = 10800\n",
    "\n",
    "april_call_price = 10\n",
    "may_call_price = 82\n",
    "setup_cost = may_call_price - april_call_price\n",
    "\n",
    "# Today's date is 20 April 2018. Therefore, days to April expiry is 7 days and days to May expiry is 41 days.\n",
    "days_to_expiry_april_call = 6\n",
    "days_to_expiry_may_call = 41\n",
    "\n",
    "# Range of values for Nifty\n",
    "sT = np.arange(0.97*nifty_april_fut,1.03*nifty_april_fut,1) \n",
    "\n",
    "#interest rate for input to Black-Scholes model\n",
    "interest_rate = 0.0"
   ]
  },
  {
   "cell_type": "code",
   "execution_count": 73,
   "metadata": {},
   "outputs": [
    {
     "name": "stdout",
     "output_type": "stream",
     "text": [
      "Front Month IV 8.53 %\n",
      "Back Month IV 11.26 %\n"
     ]
    }
   ],
   "source": [
    "# Front-month IV\n",
    "april_call_iv = mibian.BS([nifty_april_fut, april_strike_price, interest_rate, days_to_expiry_april_call], \n",
    "                        callPrice=april_call_price).impliedVolatility\n",
    "print \"Front Month IV %.2f\" % april_call_iv,\"%\"\n",
    "\n",
    "# Back-month IV\n",
    "may_call_iv = mibian.BS([nifty_may_fut, may_strike_price, interest_rate, days_to_expiry_may_call], \n",
    "                        callPrice=may_call_price).impliedVolatility\n",
    "print \"Back Month IV %.2f\" % may_call_iv,\"%\""
   ]
  },
  {
   "cell_type": "code",
   "execution_count": 74,
   "metadata": {},
   "outputs": [
    {
     "data": {
      "text/html": [
       "<div>\n",
       "<style scoped>\n",
       "    .dataframe tbody tr th:only-of-type {\n",
       "        vertical-align: middle;\n",
       "    }\n",
       "\n",
       "    .dataframe tbody tr th {\n",
       "        vertical-align: top;\n",
       "    }\n",
       "\n",
       "    .dataframe thead th {\n",
       "        text-align: right;\n",
       "    }\n",
       "</style>\n",
       "<table border=\"1\" class=\"dataframe\">\n",
       "  <thead>\n",
       "    <tr style=\"text-align: right;\">\n",
       "      <th></th>\n",
       "      <th>nifty_price</th>\n",
       "      <th>april_call_price</th>\n",
       "      <th>may_call_price</th>\n",
       "    </tr>\n",
       "  </thead>\n",
       "  <tbody>\n",
       "    <tr>\n",
       "      <th>0</th>\n",
       "      <td>10277.538</td>\n",
       "      <td>0.0</td>\n",
       "      <td>27.305711</td>\n",
       "    </tr>\n",
       "    <tr>\n",
       "      <th>1</th>\n",
       "      <td>10278.538</td>\n",
       "      <td>0.0</td>\n",
       "      <td>27.455138</td>\n",
       "    </tr>\n",
       "    <tr>\n",
       "      <th>2</th>\n",
       "      <td>10279.538</td>\n",
       "      <td>0.0</td>\n",
       "      <td>27.605211</td>\n",
       "    </tr>\n",
       "    <tr>\n",
       "      <th>3</th>\n",
       "      <td>10280.538</td>\n",
       "      <td>0.0</td>\n",
       "      <td>27.755935</td>\n",
       "    </tr>\n",
       "    <tr>\n",
       "      <th>4</th>\n",
       "      <td>10281.538</td>\n",
       "      <td>0.0</td>\n",
       "      <td>27.907309</td>\n",
       "    </tr>\n",
       "  </tbody>\n",
       "</table>\n",
       "</div>"
      ],
      "text/plain": [
       "   nifty_price  april_call_price  may_call_price\n",
       "0    10277.538               0.0       27.305711\n",
       "1    10278.538               0.0       27.455138\n",
       "2    10279.538               0.0       27.605211\n",
       "3    10280.538               0.0       27.755935\n",
       "4    10281.538               0.0       27.907309"
      ]
     },
     "execution_count": 74,
     "metadata": {},
     "output_type": "execute_result"
    }
   ],
   "source": [
    "# Changing days to expiry to a day before the front-month expiry\n",
    "days_to_expiry_april_call = 0.001\n",
    "days_to_expiry_may_call = 35 - days_to_expiry_april_call\n",
    "\n",
    "df = pd.DataFrame()\n",
    "df['nifty_price'] = sT\n",
    "df['april_call_price'] = np.nan\n",
    "df['may_call_price'] = np.nan\n",
    "\n",
    "# Calculating call price for different possible values of Nifty\n",
    "for i in range(0,len(df)):\n",
    "    df.loc[i,'april_call_price'] = mibian.BS([df.iloc[i]['nifty_price'], april_strike_price, interest_rate, days_to_expiry_april_call], \n",
    "                                           volatility=april_call_iv).callPrice\n",
    "    \n",
    "    # Since, interest rate is considered 0%, 35 is added to the nifty price to get the Nifty December futures price. \n",
    "    df.loc[i,'may_call_price'] = mibian.BS([df.iloc[i]['nifty_price']+35, may_strike_price, interest_rate, days_to_expiry_may_call], \n",
    "                                           volatility=may_call_iv).callPrice\n",
    "df.head()"
   ]
  },
  {
   "cell_type": "code",
   "execution_count": null,
   "metadata": {
    "collapsed": true
   },
   "outputs": [],
   "source": []
  },
  {
   "cell_type": "code",
   "execution_count": 75,
   "metadata": {},
   "outputs": [
    {
     "data": {
      "image/png": "[encoded data removed]",
      "text/plain": [
       "<matplotlib.figure.Figure at 0x17dcaa58>"
      ]
     },
     "metadata": {},
     "output_type": "display_data"
    }
   ],
   "source": [
    "df['payoff'] = df.may_call_price - df.april_call_price - setup_cost\n",
    "plt.figure(figsize=(10,5))\n",
    "plt.ylabel(\"Payoff\")\n",
    "plt.xlabel(\"Nifty Price\")\n",
    "plt.plot(sT,df.payoff)\n",
    "plt.show()"
   ]
  },
  {
   "cell_type": "code",
   "execution_count": 76,
   "metadata": {},
   "outputs": [
    {
     "name": "stdout",
     "output_type": "stream",
     "text": [
      "35.55\n",
      "-88.94\n"
     ]
    }
   ],
   "source": [
    "max_profit = max(df['payoff'])\n",
    "min_profit = min(df['payoff'])\n",
    "\n",
    "print \"%.2f\" %max_profit\n",
    "print \"%.2f\" %min_profit"
   ]
  }
 ],
 "metadata": {
  "kernelspec": {
   "display_name": "Python 3",
   "language": "python",
   "name": "python3"
  },
  "language_info": {
   "codemirror_mode": {
    "name": "ipython",
    "version": 3
   },
   "file_extension": ".py",
   "mimetype": "text/x-python",
   "name": "python",
   "nbconvert_exporter": "python",
   "pygments_lexer": "ipython3",
   "version": "3.6.4"
  }
 },
 "nbformat": 4,
 "nbformat_minor": 2
}
