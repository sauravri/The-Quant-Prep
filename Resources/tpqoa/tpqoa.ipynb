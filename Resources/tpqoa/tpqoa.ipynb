{
 "cells": [
  {
   "cell_type": "markdown",
   "metadata": {
    "slideshow": {
     "slide_type": "slide"
    }
   },
   "source": [
    "<img src=\"http://hilpisch.com/tpq_logo.png\" alt=\"The Python Quants\" width=\"35%\" align=\"right\" border=\"0\"><br>"
   ]
  },
  {
   "cell_type": "markdown",
   "metadata": {},
   "source": [
    "# tpqoa"
   ]
  },
  {
   "cell_type": "markdown",
   "metadata": {},
   "source": [
    "## Algorithmic Trading with Oanda"
   ]
  },
  {
   "cell_type": "markdown",
   "metadata": {},
   "source": [
    "`tpqoa` is a wrapper class for the Oanda REST API v20 (http://developer.oanda.com/). It makes use of the Python package `v20` from Oanda (https://github.com/oanda/v20-python). The package is authored and maintained by The Python Quants GmbH. &copy; Dr. Yves J. Hilpisch. MIT License."
   ]
  },
  {
   "cell_type": "markdown",
   "metadata": {},
   "source": [
    "## Disclaimer"
   ]
  },
  {
   "cell_type": "markdown",
   "metadata": {},
   "source": [
    "Trading forex/CFDs on margin carries a high level of risk and may not be suitable for all investors as you could sustain losses in excess of deposits. Leverage can work against you. Due to the certain restrictions imposed by the local law and regulation, German resident retail client(s) could sustain a total loss of deposited funds but are not subject to subsequent payment obligations beyond the deposited funds. Be aware and fully understand all risks associated with the market and trading. Prior to trading any products, carefully consider your financial situation and experience level. Any opinions, news, research, analyses, prices, code examples or other information is provided as general market commentary, and does not constitute investment advice. The Python Quants GmbH will not accept liability for any loss or damage, including without limitation to, any loss of profit, which may arise directly or indirectly from use of or reliance on such information.\n",
    "\n",
    "The `tpqoa` package is intended as a technological illustration only. It comes with no warranties or representations, to the extent permitted by applicable law."
   ]
  },
  {
   "cell_type": "markdown",
   "metadata": {},
   "source": [
    "## Installation"
   ]
  },
  {
   "cell_type": "markdown",
   "metadata": {},
   "source": [
    "Installing from source via `Git` and `Github`:\n",
    "\n",
    "    git clone https://github.com/yhilpisch/tpqoa\n",
    "    cd tpqoa\n",
    "    python setup.py install\n",
    "    \n",
    "Using `pip` in combination with `Github`:\n",
    "\n",
    "    pip install git+git://github.com/yhilpisch/tpqoa"
   ]
  },
  {
   "cell_type": "markdown",
   "metadata": {},
   "source": [
    "## Connection"
   ]
  },
  {
   "cell_type": "markdown",
   "metadata": {},
   "source": [
    "In order to connect to the API, you need to have at least a practice account with Oanda (https://oanda.com/). Once logged in to you account, you can create an API token and can copy your account number. These are expected to be stored in a configuration file, with name `oanda.cfg`, for instance, as follows:\n",
    "\n",
    "    [oanda]\n",
    "    account_id = XYZ-ABC-...\n",
    "    access_token = ZYXCAB...\n",
    "    account_type = practice (default) or live"
   ]
  },
  {
   "cell_type": "markdown",
   "metadata": {},
   "source": [
    "You can then set up an API connection by instantiating a connection object."
   ]
  },
  {
   "cell_type": "code",
   "execution_count": 1,
   "metadata": {
    "tags": []
   },
   "outputs": [],
   "source": [
    "import tpqoa"
   ]
  },
  {
   "cell_type": "code",
   "execution_count": 2,
   "metadata": {
    "tags": []
   },
   "outputs": [],
   "source": [
    "oanda = tpqoa.tpqoa('../../oanda.cfg')  # adjust path as necessary"
   ]
  },
  {
   "cell_type": "markdown",
   "metadata": {},
   "source": [
    "## Available Instruments"
   ]
  },
  {
   "cell_type": "markdown",
   "metadata": {},
   "source": [
    "The `get_instruments()` method retrieves all available instruments."
   ]
  },
  {
   "cell_type": "code",
   "execution_count": 3,
   "metadata": {
    "tags": []
   },
   "outputs": [],
   "source": [
    "ins = oanda.get_instruments()"
   ]
  },
  {
   "cell_type": "code",
   "execution_count": 4,
   "metadata": {
    "tags": []
   },
   "outputs": [
    {
     "data": {
      "text/plain": [
       "[('AUD/CAD', 'AUD_CAD'),\n",
       " ('AUD/CHF', 'AUD_CHF'),\n",
       " ('AUD/HKD', 'AUD_HKD'),\n",
       " ('AUD/JPY', 'AUD_JPY'),\n",
       " ('AUD/NZD', 'AUD_NZD'),\n",
       " ('AUD/SGD', 'AUD_SGD'),\n",
       " ('AUD/USD', 'AUD_USD'),\n",
       " ('Australia 200', 'AU200_AUD'),\n",
       " ('Brent Crude Oil', 'BCO_USD'),\n",
       " ('Bund', 'DE10YB_EUR')]"
      ]
     },
     "execution_count": 4,
     "metadata": {},
     "output_type": "execute_result"
    }
   ],
   "source": [
    "ins[:10]"
   ]
  },
  {
   "cell_type": "markdown",
   "metadata": {},
   "source": [
    "## Historical Data"
   ]
  },
  {
   "cell_type": "markdown",
   "metadata": {},
   "source": [
    "The `get_history()` method retrieves historical data."
   ]
  },
  {
   "cell_type": "code",
   "execution_count": 5,
   "metadata": {
    "tags": []
   },
   "outputs": [
    {
     "name": "stdout",
     "output_type": "stream",
     "text": [
      "Help on method get_history in module tpqoa.tpqoa:\n",
      "\n",
      "get_history(instrument, start, end, granularity, price, localize=True) method of tpqoa.tpqoa.tpqoa instance\n",
      "    Retrieves historical data for instrument.\n",
      "    \n",
      "    Parameters\n",
      "    ==========\n",
      "    instrument: string\n",
      "        valid instrument name\n",
      "    start, end: datetime, str\n",
      "        Python datetime or string objects for start and end\n",
      "    granularity: string\n",
      "        a string like 'S5', 'M1' or 'D'\n",
      "    price: string\n",
      "        one of 'A' (ask), 'B' (bid) or 'M' (middle)\n",
      "    \n",
      "    Returns\n",
      "    =======\n",
      "    data: pd.DataFrame\n",
      "        pandas DataFrame object with data\n",
      "\n"
     ]
    }
   ],
   "source": [
    "help(oanda.get_history)"
   ]
  },
  {
   "cell_type": "code",
   "execution_count": 6,
   "metadata": {
    "tags": []
   },
   "outputs": [],
   "source": [
    "# oanda.get_history??"
   ]
  },
  {
   "cell_type": "code",
   "execution_count": 7,
   "metadata": {
    "tags": []
   },
   "outputs": [],
   "source": [
    "data = oanda.get_history(instrument='EUR_USD',\n",
    "                  start='2022-06-15',\n",
    "                  end='2023-06-15',\n",
    "                  granularity='D',\n",
    "                  price='M')"
   ]
  },
  {
   "cell_type": "code",
   "execution_count": 8,
   "metadata": {
    "tags": []
   },
   "outputs": [
    {
     "name": "stdout",
     "output_type": "stream",
     "text": [
      "<class 'pandas.core.frame.DataFrame'>\n",
      "DatetimeIndex: 261 entries, 2022-06-14 21:00:00 to 2023-06-14 21:00:00\n",
      "Data columns (total 6 columns):\n",
      " #   Column    Non-Null Count  Dtype  \n",
      "---  ------    --------------  -----  \n",
      " 0   o         261 non-null    float64\n",
      " 1   h         261 non-null    float64\n",
      " 2   l         261 non-null    float64\n",
      " 3   c         261 non-null    float64\n",
      " 4   volume    261 non-null    int64  \n",
      " 5   complete  261 non-null    bool   \n",
      "dtypes: bool(1), float64(4), int64(1)\n",
      "memory usage: 12.5 KB\n"
     ]
    }
   ],
   "source": [
    "data.info()"
   ]
  },
  {
   "cell_type": "code",
   "execution_count": 9,
   "metadata": {
    "tags": []
   },
   "outputs": [
    {
     "name": "stdout",
     "output_type": "stream",
     "text": [
      "                           o        h        l        c  volume  complete\n",
      "time                                                                     \n",
      "2022-06-14 21:00:00  1.04114  1.05078  1.03593  1.04466  204826      True\n",
      "2022-06-15 21:00:00  1.04444  1.06014  1.03809  1.05524  183417      True\n",
      "2022-06-16 21:00:00  1.05496  1.05612  1.04445  1.04938  156233      True\n",
      "2022-06-19 21:00:00  1.04841  1.05460  1.04746  1.05112   85713      True\n",
      "2022-06-20 21:00:00  1.05088  1.05826  1.05086  1.05348  101517      True\n"
     ]
    }
   ],
   "source": [
    "print(data.head())"
   ]
  },
  {
   "cell_type": "markdown",
   "metadata": {},
   "source": [
    "## Streaming Data"
   ]
  },
  {
   "cell_type": "markdown",
   "metadata": {},
   "source": [
    "The method `stream_data()` allows the streaming of real-time data (bid & ask)."
   ]
  },
  {
   "cell_type": "code",
   "execution_count": 10,
   "metadata": {
    "tags": []
   },
   "outputs": [
    {
     "name": "stdout",
     "output_type": "stream",
     "text": [
      "2023-06-27T06:57:58.204324464Z 1.09299 1.09313\n",
      "2023-06-27T06:57:58.400409926Z 1.09301 1.09315\n",
      "2023-06-27T06:58:00.348284643Z 1.093 1.09314\n"
     ]
    }
   ],
   "source": [
    "oanda.stream_data('EUR_USD', stop=3)"
   ]
  },
  {
   "cell_type": "markdown",
   "metadata": {},
   "source": [
    "By redefining the `on_success()` method, you can control what happes with the streaming data."
   ]
  },
  {
   "cell_type": "code",
   "execution_count": 11,
   "metadata": {
    "tags": []
   },
   "outputs": [],
   "source": [
    "class myOanda(tpqoa.tpqoa):\n",
    "    def on_success(self, time, bid, ask):\n",
    "        ''' Method called when new data is retrieved. '''\n",
    "        print('BID: {:.5f} | ASK: {:.5f}'.format(bid, ask))"
   ]
  },
  {
   "cell_type": "code",
   "execution_count": 12,
   "metadata": {
    "tags": []
   },
   "outputs": [],
   "source": [
    "my_oanda = myOanda('../../oanda.cfg')"
   ]
  },
  {
   "cell_type": "code",
   "execution_count": 13,
   "metadata": {
    "tags": []
   },
   "outputs": [
    {
     "name": "stdout",
     "output_type": "stream",
     "text": [
      "BID: 1.09297 | ASK: 1.09311\n",
      "BID: 1.09297 | ASK: 1.09310\n",
      "BID: 1.09297 | ASK: 1.09311\n",
      "BID: 1.09297 | ASK: 1.09312\n",
      "BID: 1.09294 | ASK: 1.09309\n"
     ]
    }
   ],
   "source": [
    "my_oanda.stream_data('EUR_USD', stop=5)"
   ]
  },
  {
   "cell_type": "markdown",
   "metadata": {},
   "source": [
    "## Placing Orders"
   ]
  },
  {
   "cell_type": "code",
   "execution_count": 14,
   "metadata": {
    "tags": []
   },
   "outputs": [
    {
     "name": "stdout",
     "output_type": "stream",
     "text": [
      "Help on method create_order in module tpqoa.tpqoa:\n",
      "\n",
      "create_order(instrument, units, price=None, sl_distance=None, tsl_distance=None, tp_price=None, comment=None, touch=False, suppress=False, ret=False) method of tpqoa.tpqoa.tpqoa instance\n",
      "    Places order with Oanda.\n",
      "    \n",
      "    Parameters\n",
      "    ==========\n",
      "    instrument: string\n",
      "        valid instrument name\n",
      "    units: int\n",
      "        number of units of instrument to be bought\n",
      "        (positive int, eg 'units=50')\n",
      "        or to be sold (negative int, eg 'units=-100')\n",
      "    price: float\n",
      "        limit order price, touch order price\n",
      "    sl_distance: float\n",
      "        stop loss distance price, mandatory eg in Germany\n",
      "    tsl_distance: float\n",
      "        trailing stop loss distance\n",
      "    tp_price: float\n",
      "        take profit price to be used for the trade\n",
      "    comment: str\n",
      "        string\n",
      "    touch: boolean\n",
      "        market_if_touched order (requires price to be set)\n",
      "    suppress: boolean\n",
      "        whether to suppress print out\n",
      "    ret: boolean\n",
      "        whether to return the order object\n",
      "\n"
     ]
    }
   ],
   "source": [
    "help(oanda.create_order)"
   ]
  },
  {
   "cell_type": "code",
   "execution_count": 15,
   "metadata": {
    "tags": []
   },
   "outputs": [
    {
     "name": "stdout",
     "output_type": "stream",
     "text": [
      "\n",
      "\n",
      " {'id': '3608', 'time': '2023-06-27T06:58:16.307275954Z', 'userID': 13834683, 'accountID': '101-004-13834683-001', 'batchID': '3607', 'requestID': '61122547747050135', 'type': 'ORDER_FILL', 'orderID': '3607', 'instrument': 'EUR_USD', 'units': '100.0', 'gainQuoteHomeConversionFactor': '0.910326029089', 'lossQuoteHomeConversionFactor': '0.919475034407', 'price': 1.09309, 'fullVWAP': 1.09309, 'fullPrice': {'type': 'PRICE', 'bids': [{'price': 1.09294, 'liquidity': '10000000'}], 'asks': [{'price': 1.09309, 'liquidity': '10000000'}], 'closeoutBid': 1.09294, 'closeoutAsk': 1.09309}, 'reason': 'MARKET_ORDER', 'pl': '0.0', 'financing': '0.0', 'commission': '0.0', 'guaranteedExecutionFee': '0.0', 'accountBalance': '101295.189', 'tradeOpened': {'tradeID': '3608', 'units': '100.0', 'price': 1.09309, 'guaranteedExecutionFee': '0.0', 'halfSpreadCost': '0.0069', 'initialMarginRequired': '3.33'}, 'halfSpreadCost': '0.0069'} \n",
      "\n"
     ]
    }
   ],
   "source": [
    "# going long 100 units\n",
    "# sl_distance of 20 pips\n",
    "oanda.create_order('EUR_USD', units=100, sl_distance=0.002)"
   ]
  },
  {
   "cell_type": "code",
   "execution_count": 16,
   "metadata": {
    "tags": []
   },
   "outputs": [
    {
     "name": "stdout",
     "output_type": "stream",
     "text": [
      "\n",
      "\n",
      " {'id': '3611', 'time': '2023-06-27T06:58:16.523945599Z', 'userID': 13834683, 'accountID': '101-004-13834683-001', 'batchID': '3610', 'requestID': '61122547747050332', 'type': 'ORDER_FILL', 'orderID': '3610', 'instrument': 'EUR_USD', 'units': '-100.0', 'gainQuoteHomeConversionFactor': '0.910326029089', 'lossQuoteHomeConversionFactor': '0.919475034407', 'price': 1.09294, 'fullVWAP': 1.09294, 'fullPrice': {'type': 'PRICE', 'bids': [{'price': 1.09294, 'liquidity': '10000000'}], 'asks': [{'price': 1.09309, 'liquidity': '9999900'}], 'closeoutBid': 1.09294, 'closeoutAsk': 1.09309}, 'reason': 'MARKET_ORDER', 'pl': '-0.0138', 'financing': '0.0', 'commission': '0.0', 'guaranteedExecutionFee': '0.0', 'accountBalance': '101295.1752', 'tradesClosed': [{'tradeID': '3608', 'units': '-100.0', 'price': 1.09294, 'realizedPL': '-0.0138', 'financing': '0.0', 'guaranteedExecutionFee': '0.0', 'halfSpreadCost': '0.0069'}], 'halfSpreadCost': '0.0069'} \n",
      "\n"
     ]
    }
   ],
   "source": [
    "# closing out the position\n",
    "oanda.create_order('EUR_USD', units=-100)"
   ]
  },
  {
   "cell_type": "markdown",
   "metadata": {},
   "source": [
    "## Canceling Orders "
   ]
  },
  {
   "cell_type": "code",
   "execution_count": 17,
   "metadata": {
    "tags": []
   },
   "outputs": [
    {
     "name": "stdout",
     "output_type": "stream",
     "text": [
      "\n",
      "\n",
      " {'id': '3614', 'time': '2023-06-27T06:58:33.953341530Z', 'userID': 13834683, 'accountID': '101-004-13834683-001', 'batchID': '3613', 'requestID': '61122547818369950', 'type': 'ORDER_FILL', 'orderID': '3613', 'instrument': 'EUR_USD', 'units': '10000.0', 'gainQuoteHomeConversionFactor': '0.910363508679', 'lossQuoteHomeConversionFactor': '0.919512890676', 'price': 1.09304, 'fullVWAP': 1.09304, 'fullPrice': {'type': 'PRICE', 'bids': [{'price': 1.0929, 'liquidity': '10000000'}], 'asks': [{'price': 1.09304, 'liquidity': '10000000'}], 'closeoutBid': 1.0929, 'closeoutAsk': 1.09304}, 'reason': 'MARKET_ORDER', 'pl': '0.0', 'financing': '0.0', 'commission': '0.0', 'guaranteedExecutionFee': '0.0', 'accountBalance': '101295.1752', 'tradeOpened': {'tradeID': '3614', 'units': '10000.0', 'price': 1.09304, 'guaranteedExecutionFee': '0.0', 'halfSpreadCost': '0.6405', 'initialMarginRequired': '333.0'}, 'halfSpreadCost': '0.6405'} \n",
      "\n"
     ]
    }
   ],
   "source": [
    "order = oanda.create_order('EUR_USD', units=10000, sl_distance=0.01, ret=True)"
   ]
  },
  {
   "cell_type": "code",
   "execution_count": 18,
   "metadata": {
    "tags": []
   },
   "outputs": [
    {
     "data": {
      "text/plain": [
       "{'id': '3615',\n",
       " 'time': '2023-06-27T06:58:33.953341530Z',\n",
       " 'userID': 13834683,\n",
       " 'accountID': '101-004-13834683-001',\n",
       " 'batchID': '3613',\n",
       " 'requestID': '61122547818369950',\n",
       " 'type': 'STOP_LOSS_ORDER',\n",
       " 'tradeID': '3614',\n",
       " 'price': 1.08304,\n",
       " 'distance': '0.01',\n",
       " 'timeInForce': 'GTC',\n",
       " 'triggerCondition': 'DEFAULT',\n",
       " 'reason': 'ON_FILL'}"
      ]
     },
     "execution_count": 18,
     "metadata": {},
     "output_type": "execute_result"
    }
   ],
   "source": [
    "oanda.get_transaction(tid=int(order['id']) + 1)"
   ]
  },
  {
   "cell_type": "code",
   "execution_count": 19,
   "metadata": {
    "tags": []
   },
   "outputs": [
    {
     "data": {
      "text/plain": [
       "{'orderCancelTransaction': {'id': '3616',\n",
       "  'accountID': '101-004-13834683-001',\n",
       "  'userID': 13834683,\n",
       "  'batchID': '3616',\n",
       "  'requestID': '61122547826759581',\n",
       "  'time': '2023-06-27T06:58:35.038788414Z',\n",
       "  'type': 'ORDER_CANCEL',\n",
       "  'orderID': '3615',\n",
       "  'reason': 'CLIENT_REQUEST'},\n",
       " 'relatedTransactionIDs': ['3616'],\n",
       " 'lastTransactionID': '3616'}"
      ]
     },
     "execution_count": 19,
     "metadata": {},
     "output_type": "execute_result"
    }
   ],
   "source": [
    "oanda.cancel_order(int(order['id']) + 1)"
   ]
  },
  {
   "cell_type": "code",
   "execution_count": 20,
   "metadata": {
    "tags": []
   },
   "outputs": [
    {
     "name": "stdout",
     "output_type": "stream",
     "text": [
      "\n",
      "\n",
      " {'id': '3618', 'time': '2023-06-27T06:58:36.381641548Z', 'userID': 13834683, 'accountID': '101-004-13834683-001', 'batchID': '3617', 'requestID': '61122547830955203', 'type': 'ORDER_FILL', 'orderID': '3617', 'instrument': 'EUR_USD', 'units': '-10000.0', 'gainQuoteHomeConversionFactor': '0.910359343552', 'lossQuoteHomeConversionFactor': '0.919508683689', 'price': 1.09291, 'fullVWAP': 1.09291, 'fullPrice': {'type': 'PRICE', 'bids': [{'price': 1.09291, 'liquidity': '10000000'}], 'asks': [{'price': 1.09304, 'liquidity': '9990000'}], 'closeoutBid': 1.09291, 'closeoutAsk': 1.09304}, 'reason': 'MARKET_ORDER', 'pl': '-1.1954', 'financing': '0.0', 'commission': '0.0', 'guaranteedExecutionFee': '0.0', 'accountBalance': '101293.9798', 'tradesClosed': [{'tradeID': '3614', 'units': '-10000.0', 'price': 1.09291, 'realizedPL': '-1.1954', 'financing': '0.0', 'guaranteedExecutionFee': '0.0', 'halfSpreadCost': '0.5947'}], 'halfSpreadCost': '0.5947'} \n",
      "\n"
     ]
    }
   ],
   "source": [
    "order = oanda.create_order('EUR_USD', units=-10000)"
   ]
  },
  {
   "cell_type": "markdown",
   "metadata": {},
   "source": [
    "## Account-Related Methods"
   ]
  },
  {
   "cell_type": "code",
   "execution_count": 21,
   "metadata": {
    "tags": []
   },
   "outputs": [
    {
     "name": "stdout",
     "output_type": "stream",
     "text": [
      "Help on method get_account_summary in module tpqoa.tpqoa:\n",
      "\n",
      "get_account_summary(detailed=False) method of tpqoa.tpqoa.tpqoa instance\n",
      "    Returns summary data for Oanda account.\n",
      "\n"
     ]
    }
   ],
   "source": [
    "help(oanda.get_account_summary)"
   ]
  },
  {
   "cell_type": "code",
   "execution_count": 22,
   "metadata": {
    "tags": []
   },
   "outputs": [
    {
     "data": {
      "text/plain": [
       "{'id': '101-004-13834683-001',\n",
       " 'alias': 'Primary',\n",
       " 'currency': 'EUR',\n",
       " 'balance': '101293.9798',\n",
       " 'createdByUserID': 13834683,\n",
       " 'createdTime': '2020-03-19T06:08:14.363139403Z',\n",
       " 'guaranteedStopLossOrderMode': 'ALLOWED',\n",
       " 'pl': '1488.9357',\n",
       " 'resettablePL': '1488.9357',\n",
       " 'resettablePLTime': '0',\n",
       " 'financing': '-194.9559',\n",
       " 'commission': '0.0',\n",
       " 'guaranteedExecutionFees': '0.0',\n",
       " 'marginRate': '0.0333',\n",
       " 'openTradeCount': 0,\n",
       " 'openPositionCount': 0,\n",
       " 'pendingOrderCount': 0,\n",
       " 'hedgingEnabled': False,\n",
       " 'unrealizedPL': '0.0',\n",
       " 'NAV': '101293.9798',\n",
       " 'marginUsed': '0.0',\n",
       " 'marginAvailable': '101293.9798',\n",
       " 'positionValue': '0.0',\n",
       " 'marginCloseoutUnrealizedPL': '0.0',\n",
       " 'marginCloseoutNAV': '101293.9798',\n",
       " 'marginCloseoutMarginUsed': '0.0',\n",
       " 'marginCloseoutPercent': '0.0',\n",
       " 'marginCloseoutPositionValue': '0.0',\n",
       " 'withdrawalLimit': '101293.9798',\n",
       " 'marginCallMarginUsed': '0.0',\n",
       " 'marginCallPercent': '0.0',\n",
       " 'lastTransactionID': '3618'}"
      ]
     },
     "execution_count": 22,
     "metadata": {},
     "output_type": "execute_result"
    }
   ],
   "source": [
    "oanda.get_account_summary()"
   ]
  },
  {
   "cell_type": "code",
   "execution_count": 23,
   "metadata": {
    "tags": []
   },
   "outputs": [
    {
     "name": "stdout",
     "output_type": "stream",
     "text": [
      "Help on method get_transactions in module tpqoa.tpqoa:\n",
      "\n",
      "get_transactions(tid=0) method of tpqoa.tpqoa.tpqoa instance\n",
      "    Retrieves and returns transactions data.\n",
      "\n"
     ]
    }
   ],
   "source": [
    "help(oanda.get_transactions)"
   ]
  },
  {
   "cell_type": "code",
   "execution_count": 24,
   "metadata": {
    "tags": []
   },
   "outputs": [
    {
     "name": "stdout",
     "output_type": "stream",
     "text": [
      "Help on method print_transactions in module tpqoa.tpqoa:\n",
      "\n",
      "print_transactions(tid=0) method of tpqoa.tpqoa.tpqoa instance\n",
      "    Prints basic transactions data.\n",
      "\n"
     ]
    }
   ],
   "source": [
    "help(oanda.print_transactions)"
   ]
  },
  {
   "cell_type": "code",
   "execution_count": 25,
   "metadata": {
    "collapsed": false,
    "jupyter": {
     "outputs_hidden": false
    },
    "pycharm": {
     "name": "#%%\n"
    },
    "tags": []
   },
   "outputs": [
    {
     "name": "stdout",
     "output_type": "stream",
     "text": [
      "3547 | 2023-06-27T06:07:18.75 | EUR_USD | -10000.0 |   2.0954\n",
      "3550 | 2023-06-27T06:12:25.19 | EUR_USD |  10000.0 |      0.0\n",
      "3553 | 2023-06-27T06:37:02.60 | EUR_USD | -10000.0 |   3.0046\n",
      "3556 | 2023-06-27T06:39:10.34 | EUR_USD |    100.0 |      0.0\n",
      "3559 | 2023-06-27T06:39:10.50 | EUR_USD |   -100.0 |  -0.0129\n",
      "3562 | 2023-06-27T06:39:34.89 | EUR_USD |  10000.0 |      0.0\n",
      "3568 | 2023-06-27T06:43:59.81 | EUR_USD | -10000.0 |  -1.5631\n",
      "3570 | 2023-06-27T06:44:08.72 | EUR_USD |  10000.0 |      0.0\n",
      "3574 | 2023-06-27T06:52:58.26 | EUR_USD |    100.0 |      0.0\n",
      "3577 | 2023-06-27T06:52:58.45 | EUR_USD |   -100.0 |  -0.0451\n",
      "3579 | 2023-06-27T06:53:12.67 | EUR_USD |  10000.0 |      0.0\n",
      "3583 | 2023-06-27T06:54:17.23 | EUR_USD | -10000.0 |  -4.9358\n",
      "3586 | 2023-06-27T06:54:20.61 | EUR_USD |  10000.0 |      0.0\n",
      "3590 | 2023-06-27T06:56:29.21 | EUR_USD |    100.0 |      0.0\n",
      "3593 | 2023-06-27T06:56:29.42 | EUR_USD |   -100.0 |   0.0246\n",
      "3595 | 2023-06-27T06:56:29.63 | EUR_USD |  10000.0 |      0.0\n",
      "3599 | 2023-06-27T06:56:30.24 | EUR_USD | -10000.0 |   2.0921\n",
      "3601 | 2023-06-27T06:57:23.19 | EUR_USD | -10000.0 |    0.091\n",
      "3603 | 2023-06-27T06:57:27.47 | EUR_USD |   -100.0 |  -0.0074\n",
      "3606 | 2023-06-27T06:57:33.23 | EUR_USD |  -9900.0 |   3.1541\n",
      "3608 | 2023-06-27T06:58:16.30 | EUR_USD |    100.0 |      0.0\n",
      "3611 | 2023-06-27T06:58:16.52 | EUR_USD |   -100.0 |  -0.0138\n",
      "3614 | 2023-06-27T06:58:33.95 | EUR_USD |  10000.0 |      0.0\n",
      "3618 | 2023-06-27T06:58:36.38 | EUR_USD | -10000.0 |  -1.1954\n"
     ]
    }
   ],
   "source": [
    "oanda.print_transactions(tid=3545)"
   ]
  },
  {
   "cell_type": "markdown",
   "metadata": {},
   "source": [
    "<img src=\"http://hilpisch.com/tpq_logo.png\" alt=\"The Python Quants\" width=\"35%\" align=\"right\" border=\"0\"><br>\n",
    "\n",
    "<a href=\"http://tpq.io\" target=\"_blank\">http://tpq.io</a> | <a href=\"http://twitter.com/dyjh\" target=\"_blank\">@dyjh</a> | <a href=\"mailto:training@tpq.io\">training@tpq.io</a>"
   ]
  }
 ],
 "metadata": {
  "anaconda-cloud": {},
  "kernelspec": {
   "display_name": "Python 3 (ipykernel)",
   "language": "python",
   "name": "python3"
  },
  "language_info": {
   "codemirror_mode": {
    "name": "ipython",
    "version": 3
   },
   "file_extension": ".py",
   "mimetype": "text/x-python",
   "name": "python",
   "nbconvert_exporter": "python",
   "pygments_lexer": "ipython3",
   "version": "3.10.10"
  },
  "pycharm": {
   "stem_cell": {
    "cell_type": "raw",
    "metadata": {
     "collapsed": false
    },
    "source": []
   }
  }
 },
 "nbformat": 4,
 "nbformat_minor": 4
}
