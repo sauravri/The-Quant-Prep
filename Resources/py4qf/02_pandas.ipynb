{
 "cells": [
  {
   "cell_type": "markdown",
   "id": "260510c6-c648-4b6c-837c-ed7494e8703a",
   "metadata": {
    "slideshow": {
     "slide_type": "slide"
    },
    "tags": []
   },
   "source": [
    "<img src=\"http://hilpisch.com/tpq_logo.png\" alt=\"The Python Quants\" width=\"35%\" align=\"right\" border=\"0\"><br>"
   ]
  },
  {
   "cell_type": "markdown",
   "id": "a6398862-74f3-40e2-9a6d-b0c24fa4af11",
   "metadata": {},
   "source": [
    "# Python for Quantitative Finance"
   ]
  },
  {
   "cell_type": "markdown",
   "id": "7da71368-0dc0-4807-8187-77d4cd578715",
   "metadata": {
    "tags": []
   },
   "source": [
    "&copy; Dr. Yves J. Hilpisch | The Python Quants GmbH\n",
    "\n",
    "http://tpq.io | [training@tpq.io](mailto:trainin@tpq.io) | [@dyjh](http://twitter.com/dyjh)"
   ]
  },
  {
   "cell_type": "markdown",
   "id": "84212751-b8e2-4844-84a1-f208895beaa2",
   "metadata": {},
   "source": [
    "# `pandas` package"
   ]
  },
  {
   "cell_type": "code",
   "execution_count": null,
   "id": "22fc8d01-29e4-49b0-9948-e7e458b59c2e",
   "metadata": {},
   "outputs": [],
   "source": [
    "import sys\n",
    "import numpy as np\n",
    "import pandas as pd\n",
    "from pylab import plt\n",
    "plt.style.use('seaborn')\n",
    "%config InlineBackend.figure_format = 'svg'"
   ]
  },
  {
   "cell_type": "markdown",
   "id": "14015db9-e146-4497-be25-a1d9821a510c",
   "metadata": {},
   "source": [
    "## Financial Data"
   ]
  },
  {
   "cell_type": "code",
   "execution_count": null,
   "id": "483c9fa6-7539-4879-bdd1-049bb78f9382",
   "metadata": {},
   "outputs": [],
   "source": [
    "url = 'https://certificate.tpq.io/mlfin.csv'"
   ]
  },
  {
   "cell_type": "code",
   "execution_count": null,
   "id": "c6babcaa-a956-4d40-a912-31f16b98c53c",
   "metadata": {},
   "outputs": [],
   "source": [
    "raw = pd.read_csv(url, index_col=0, parse_dates=True)"
   ]
  },
  {
   "cell_type": "code",
   "execution_count": null,
   "id": "28b585ac-ea86-42ff-9a74-ebe66a909514",
   "metadata": {},
   "outputs": [],
   "source": [
    "raw.info()"
   ]
  },
  {
   "cell_type": "code",
   "execution_count": null,
   "id": "d77bd4db-8c5d-448a-87d2-a0fe423592bd",
   "metadata": {},
   "outputs": [],
   "source": [
    "print(raw.head())"
   ]
  },
  {
   "cell_type": "code",
   "execution_count": null,
   "id": "b118722f-a733-457e-99aa-3f0b74494f80",
   "metadata": {},
   "outputs": [],
   "source": [
    "print(raw.tail())"
   ]
  },
  {
   "cell_type": "code",
   "execution_count": null,
   "id": "56e2bbae-6471-42ab-8636-2083993d6053",
   "metadata": {},
   "outputs": [],
   "source": [
    "print(raw.describe())"
   ]
  },
  {
   "cell_type": "markdown",
   "id": "f6f52a8d-3774-47e3-acd6-42e43fb5c49b",
   "metadata": {},
   "source": [
    "## Visualization"
   ]
  },
  {
   "cell_type": "code",
   "execution_count": null,
   "id": "411b3826-1c4f-4b25-97e7-056cd6ca13d9",
   "metadata": {},
   "outputs": [],
   "source": [
    "raw['BTC='].dropna().plot();"
   ]
  },
  {
   "cell_type": "code",
   "execution_count": null,
   "id": "a435facc-c2f4-4a4a-b4dc-b3c615a31ce1",
   "metadata": {},
   "outputs": [],
   "source": [
    "raw['BTC='].dropna().iloc[1000:].plot();"
   ]
  },
  {
   "cell_type": "code",
   "execution_count": null,
   "id": "bf2f22be-c257-4883-9bcc-a1d262979896",
   "metadata": {},
   "outputs": [],
   "source": [
    "raw['BTC='].dropna().loc['2017-7-1':].plot();"
   ]
  },
  {
   "cell_type": "code",
   "execution_count": null,
   "id": "7a672fed-01ea-4083-b1f7-17aa7defe8f0",
   "metadata": {},
   "outputs": [],
   "source": [
    "raw[['AAPL.O', 'AMZN.O']].dropna().plot();"
   ]
  },
  {
   "cell_type": "code",
   "execution_count": null,
   "id": "0c19690c-ffb1-4fe2-8e35-d5a0cc210729",
   "metadata": {},
   "outputs": [],
   "source": [
    "(raw[['AAPL.O', 'AMZN.O']] / raw[['AAPL.O', 'AMZN.O']].iloc[0]).dropna().plot();"
   ]
  },
  {
   "cell_type": "code",
   "execution_count": null,
   "id": "e6be28c5-54ea-4a1c-8af6-38c56067a71f",
   "metadata": {},
   "outputs": [],
   "source": [
    "raw[['.SPX', '.VIX']].dropna().plot(subplots=True);"
   ]
  },
  {
   "cell_type": "code",
   "execution_count": null,
   "id": "53d00c51-e90b-4625-941c-f3ed0da0b37b",
   "metadata": {},
   "outputs": [],
   "source": [
    "raw[['.SPX', '.VIX']].dropna().pct_change().hist(bins=50);"
   ]
  },
  {
   "cell_type": "code",
   "execution_count": null,
   "id": "01f9cf78-c562-475f-be5d-6949fdedb0e2",
   "metadata": {},
   "outputs": [],
   "source": [
    "raw[['.SPX', '.VIX']].dropna().pct_change().corr()"
   ]
  },
  {
   "cell_type": "code",
   "execution_count": null,
   "id": "4db013db-c2b9-47e5-99d6-af7d1ce27593",
   "metadata": {},
   "outputs": [],
   "source": [
    "raw[['.SPX', '.VIX']].dropna().plot(secondary_y='.VIX', lw=1, alpha=0.8);"
   ]
  },
  {
   "cell_type": "markdown",
   "id": "d9e075c4-6c6c-46fd-8c40-5561901b6e58",
   "metadata": {},
   "source": [
    "## Adding Statistics"
   ]
  },
  {
   "cell_type": "code",
   "execution_count": null,
   "id": "5c05e062-16dc-4b74-9d22-5b4e20afcc41",
   "metadata": {},
   "outputs": [],
   "source": [
    "data = pd.DataFrame(raw['EUR=']).dropna()"
   ]
  },
  {
   "cell_type": "code",
   "execution_count": null,
   "id": "e9b46df0-a44c-4dbf-8583-bed3313ab74c",
   "metadata": {},
   "outputs": [],
   "source": [
    "data.head()"
   ]
  },
  {
   "cell_type": "code",
   "execution_count": null,
   "id": "fa3151c6-3ffa-46af-816b-950166658a3d",
   "metadata": {},
   "outputs": [],
   "source": [
    "data['min'] = data['EUR='].rolling(42).min()"
   ]
  },
  {
   "cell_type": "code",
   "execution_count": null,
   "id": "1f32d2c2-52be-467f-bf0e-866d0304f3b7",
   "metadata": {},
   "outputs": [],
   "source": [
    "data['sma'] = data['EUR='].rolling(42).mean()"
   ]
  },
  {
   "cell_type": "code",
   "execution_count": null,
   "id": "1c0b1302-ecf8-44af-b0fb-573ae1b707d8",
   "metadata": {},
   "outputs": [],
   "source": [
    "data['max'] = data['EUR='].rolling(42).max()"
   ]
  },
  {
   "cell_type": "code",
   "execution_count": null,
   "id": "9368b701-8742-400e-ab6f-658bd220d911",
   "metadata": {},
   "outputs": [],
   "source": [
    "data.info()"
   ]
  },
  {
   "cell_type": "code",
   "execution_count": null,
   "id": "e8aaeb32-3c4c-4030-8b43-cb1529677b71",
   "metadata": {},
   "outputs": [],
   "source": [
    "data.iloc[-750:].plot(lw=1, style=['-', 'g--', 'r-.', 'g--']);"
   ]
  },
  {
   "cell_type": "markdown",
   "id": "6e078033-7b40-487a-ad94-520565410c2c",
   "metadata": {},
   "source": [
    "## Interactive Visualization"
   ]
  },
  {
   "cell_type": "markdown",
   "id": "4bff9cb7-5b64-4ef4-9604-dd8d0bc68e70",
   "metadata": {},
   "source": [
    "**<p style=\"color:red;\">The following does not work as it is on Google Colab.</p>**"
   ]
  },
  {
   "cell_type": "code",
   "execution_count": null,
   "id": "0f31512f-aae0-46b8-852a-ec4905bcfb83",
   "metadata": {},
   "outputs": [],
   "source": [
    "import cufflinks\n",
    "cufflinks.set_config_file(offline=True)"
   ]
  },
  {
   "cell_type": "code",
   "execution_count": null,
   "id": "097dbb34-1b0a-4418-9207-c0c9c2c32c1d",
   "metadata": {},
   "outputs": [],
   "source": [
    "data.iloc[-1500:].iplot();"
   ]
  },
  {
   "cell_type": "code",
   "execution_count": null,
   "id": "eab494d5-3f17-4fbb-8d44-7ab1345760ef",
   "metadata": {},
   "outputs": [],
   "source": [
    "ohlc = raw['AAPL.O'].resample('1w', label='right').ohlc()"
   ]
  },
  {
   "cell_type": "code",
   "execution_count": null,
   "id": "4589d2e9-5b1b-4738-a87c-24baf79a346f",
   "metadata": {},
   "outputs": [],
   "source": [
    "ohlc.head()"
   ]
  },
  {
   "cell_type": "code",
   "execution_count": null,
   "id": "ffad7138-ecb9-4799-8341-8744463f1f36",
   "metadata": {},
   "outputs": [],
   "source": [
    "qf = cufflinks.QuantFig(ohlc.iloc[-100:], title='Apple Stock',\n",
    "                        legend='top', name='AAPL.O',\n",
    "                        up_color='green', down_color='red')"
   ]
  },
  {
   "cell_type": "code",
   "execution_count": null,
   "id": "b6e51748-8f39-4d18-8fe8-99d43e41ddbd",
   "metadata": {},
   "outputs": [],
   "source": [
    "qf.iplot()"
   ]
  },
  {
   "cell_type": "code",
   "execution_count": null,
   "id": "8022aa74-cd34-463b-a9eb-b9754fa3d19c",
   "metadata": {},
   "outputs": [],
   "source": [
    "raw.iloc[:, :4].pct_change().iplot(kind='hist', subplots=True, bins=50);"
   ]
  },
  {
   "cell_type": "code",
   "execution_count": null,
   "id": "2ddbf057-5065-4061-869f-5ce4ef7db097",
   "metadata": {},
   "outputs": [],
   "source": [
    "raw.pct_change().corr().iplot(kind='heatmap', colorscale='Reds');"
   ]
  },
  {
   "cell_type": "markdown",
   "id": "afed8835-993e-4677-9b1d-3c8211fe32c9",
   "metadata": {},
   "source": [
    "## Streaming Visualization"
   ]
  },
  {
   "cell_type": "code",
   "execution_count": null,
   "id": "21836455-1bd2-4646-899b-e84ff1b2f059",
   "metadata": {},
   "outputs": [],
   "source": [
    "import zmq\n",
    "import time\n",
    "import random\n",
    "import datetime as dt\n",
    "from multiprocess import Process\n",
    "import plotly.graph_objects as go"
   ]
  },
  {
   "cell_type": "code",
   "execution_count": null,
   "id": "d9b3acee-0675-4f05-9bcf-1bc181918663",
   "metadata": {},
   "outputs": [],
   "source": [
    "def tick_serv():\n",
    "    context = zmq.Context()\n",
    "    socket = context.socket(zmq.PUB)\n",
    "    socket.bind('tcp://127.0.0.1:5555')\n",
    "    PRICE = 100.\n",
    "    while True:\n",
    "        PRICE += random.gauss(0, 1) / 2\n",
    "        msg = {'PRICE': PRICE}\n",
    "        socket.send_pyobj(msg)\n",
    "        time.sleep(random.random() * 2)"
   ]
  },
  {
   "cell_type": "code",
   "execution_count": null,
   "id": "65d30ad3-887a-43e8-85c1-2600e1557432",
   "metadata": {},
   "outputs": [],
   "source": [
    "process = Process(target=tick_serv)"
   ]
  },
  {
   "cell_type": "code",
   "execution_count": null,
   "id": "dd61b191-1596-4838-8f6b-a7db9b8efc9d",
   "metadata": {},
   "outputs": [],
   "source": [
    "process.start()"
   ]
  },
  {
   "cell_type": "code",
   "execution_count": null,
   "id": "1cd7e5e5-01f9-465b-84f5-53e47d65caab",
   "metadata": {},
   "outputs": [],
   "source": [
    "context = zmq.Context()\n",
    "socket = context.socket(zmq.SUB)\n",
    "socket.connect('tcp://127.0.0.1:5555')\n",
    "socket.setsockopt_string(zmq.SUBSCRIBE, '')"
   ]
  },
  {
   "cell_type": "code",
   "execution_count": null,
   "id": "2cf037ec-149f-44db-a38e-71e4ad7b07f5",
   "metadata": {},
   "outputs": [],
   "source": [
    "fig = go.FigureWidget()\n",
    "fig.add_scatter()\n",
    "fig"
   ]
  },
  {
   "cell_type": "code",
   "execution_count": null,
   "id": "b247d4bd-da7b-4758-ac01-b7f6437770e2",
   "metadata": {},
   "outputs": [],
   "source": [
    "times = list()\n",
    "prices = list()\n",
    "while True:\n",
    "    msg = socket.recv_pyobj()\n",
    "    t = dt.datetime.now()\n",
    "    times.append(t)\n",
    "    price = msg['PRICE']\n",
    "    prices.append(float(price))\n",
    "    fig.data[0].x = times\n",
    "    fig.data[0].y = prices"
   ]
  },
  {
   "cell_type": "markdown",
   "id": "0176abb3-9cff-495c-9d04-d7e1b4469d31",
   "metadata": {},
   "source": [
    "<img src=\"http://hilpisch.com/tpq_logo.png\" alt=\"The Python Quants\" width=\"35%\" align=\"right\" border=\"0\"><br>\n",
    "\n",
    "<a href=\"http://tpq.io\" target=\"_blank\">http://tpq.io</a> | <a href=\"mailto:training@tpq.io\">training@tpq.io</a> | <a href=\"http://twitter.com/dyjh\" target=\"_blank\">@dyjh</a> "
   ]
  }
 ],
 "metadata": {
  "kernelspec": {
   "display_name": "Python 3 (ipykernel)",
   "language": "python",
   "name": "python3"
  },
  "language_info": {
   "codemirror_mode": {
    "name": "ipython",
    "version": 3
   },
   "file_extension": ".py",
   "mimetype": "text/x-python",
   "name": "python",
   "nbconvert_exporter": "python",
   "pygments_lexer": "ipython3",
   "version": "3.8.15"
  }
 },
 "nbformat": 4,
 "nbformat_minor": 5
}
