{
 "cells": [
  {
   "cell_type": "markdown",
   "id": "260510c6-c648-4b6c-837c-ed7494e8703a",
   "metadata": {
    "slideshow": {
     "slide_type": "slide"
    }
   },
   "source": [
    "<img src=\"http://hilpisch.com/tpq_logo.png\" alt=\"The Python Quants\" width=\"35%\" align=\"right\" border=\"0\"><br>"
   ]
  },
  {
   "cell_type": "markdown",
   "id": "a6398862-74f3-40e2-9a6d-b0c24fa4af11",
   "metadata": {},
   "source": [
    "# Python for Quantitative Finance"
   ]
  },
  {
   "cell_type": "markdown",
   "id": "84212751-b8e2-4844-84a1-f208895beaa2",
   "metadata": {},
   "source": [
    "# `numpy` package"
   ]
  },
  {
   "cell_type": "markdown",
   "id": "af3dff3e-920a-452b-8d44-d12c556203a2",
   "metadata": {
    "tags": []
   },
   "source": [
    "&copy; Dr. Yves J. Hilpisch | The Python Quants GmbH\n",
    "\n",
    "http://tpq.io | [training@tpq.io](mailto:trainin@tpq.io) | [@dyjh](http://twitter.com/dyjh)"
   ]
  },
  {
   "cell_type": "markdown",
   "id": "13b5f3bc-f350-4676-b3dd-2da2222786d3",
   "metadata": {},
   "source": [
    "## Monte Carlo Simulation"
   ]
  },
  {
   "cell_type": "markdown",
   "id": "59430402-d819-4b80-9132-d18f80bacb87",
   "metadata": {},
   "source": [
    "### Single Path"
   ]
  },
  {
   "cell_type": "markdown",
   "id": "7db8dc93-6437-47f2-a8ba-22e5ec115694",
   "metadata": {},
   "source": [
    "#### Python"
   ]
  },
  {
   "cell_type": "code",
   "execution_count": null,
   "id": "98ca4fd0-1339-41ed-a16e-fc61620cefca",
   "metadata": {},
   "outputs": [],
   "source": [
    "import math\n",
    "import random"
   ]
  },
  {
   "cell_type": "code",
   "execution_count": null,
   "id": "0fc9c28c-fff3-4fb7-b521-83fd4f753fb2",
   "metadata": {},
   "outputs": [],
   "source": [
    "S0 = 36\n",
    "T = 1.0\n",
    "r = 0.06\n",
    "sigma = 0.2"
   ]
  },
  {
   "cell_type": "code",
   "execution_count": null,
   "id": "f4c40c27-5d77-47fe-8300-873a2c7ba836",
   "metadata": {},
   "outputs": [],
   "source": [
    "M = 100"
   ]
  },
  {
   "cell_type": "code",
   "execution_count": null,
   "id": "f13f946a-86a3-4900-a472-adbf66e8152e",
   "metadata": {},
   "outputs": [],
   "source": [
    "dt = T / M\n",
    "dt"
   ]
  },
  {
   "cell_type": "code",
   "execution_count": null,
   "id": "bd8d2839-653d-4e58-8dae-fc4c6c65d9fb",
   "metadata": {},
   "outputs": [],
   "source": [
    "path = [S0]"
   ]
  },
  {
   "cell_type": "code",
   "execution_count": null,
   "id": "d10196be-5bb2-4d48-934b-8f3df941086f",
   "metadata": {},
   "outputs": [],
   "source": [
    "%%time\n",
    "for t in range(1, M + 1):\n",
    "    path.append(path[t - 1] * math.exp(\n",
    "        (r - sigma ** 2 / 2) * dt +\n",
    "        sigma * math.sqrt(dt) * random.gauss(0, 1))\n",
    "               )"
   ]
  },
  {
   "cell_type": "code",
   "execution_count": null,
   "id": "43282707-311d-4f78-9e8d-2307ce3b52e9",
   "metadata": {},
   "outputs": [],
   "source": [
    "from pylab import plt\n",
    "plt.style.use('seaborn')\n",
    "%config InlineBackend.figure_format = 'svg'"
   ]
  },
  {
   "cell_type": "code",
   "execution_count": null,
   "id": "91ed841d-b705-41f2-b19b-8d2fb51e2316",
   "metadata": {},
   "outputs": [],
   "source": [
    "plt.plot(path);"
   ]
  },
  {
   "cell_type": "markdown",
   "id": "8fbfda6d-4b1e-4f85-a659-4996aa4c75a6",
   "metadata": {},
   "source": [
    "#### `numpy`"
   ]
  },
  {
   "cell_type": "code",
   "execution_count": null,
   "id": "0fa870b7-1fe5-4a86-930a-2b8891714b7b",
   "metadata": {},
   "outputs": [],
   "source": [
    "import numpy as np"
   ]
  },
  {
   "cell_type": "code",
   "execution_count": null,
   "id": "a17ee12b-8ee3-42d3-b340-745ddc03ac8a",
   "metadata": {},
   "outputs": [],
   "source": [
    "from numpy.random import default_rng"
   ]
  },
  {
   "cell_type": "code",
   "execution_count": null,
   "id": "732a3fe3-90ed-42b5-98c3-ee550d3b7d4f",
   "metadata": {},
   "outputs": [],
   "source": [
    "rng = default_rng()"
   ]
  },
  {
   "cell_type": "code",
   "execution_count": null,
   "id": "817dbe36-e0e8-437a-ad71-377775739590",
   "metadata": {},
   "outputs": [],
   "source": [
    "rn = rng.standard_normal((M))"
   ]
  },
  {
   "cell_type": "code",
   "execution_count": null,
   "id": "cb792767-07cb-489c-8fbe-e3ccf6a54e2c",
   "metadata": {},
   "outputs": [],
   "source": [
    "rn[0] = 0"
   ]
  },
  {
   "cell_type": "code",
   "execution_count": null,
   "id": "312270a4-7a47-4e63-9eb4-43dadc6d4b96",
   "metadata": {},
   "outputs": [],
   "source": [
    "%%time\n",
    "path = S0 * np.exp(((r - sigma ** 2 / 2) * dt +\n",
    "                   sigma * math.sqrt(dt) * rn).cumsum())"
   ]
  },
  {
   "cell_type": "code",
   "execution_count": null,
   "id": "fe448c1d-a23b-4c88-b016-38164a1486a2",
   "metadata": {},
   "outputs": [],
   "source": [
    "path = np.concatenate(([S0], path))"
   ]
  },
  {
   "cell_type": "code",
   "execution_count": null,
   "id": "f909237c-c47d-44c2-b759-29c122c55404",
   "metadata": {},
   "outputs": [],
   "source": [
    "plt.plot(path);"
   ]
  },
  {
   "cell_type": "markdown",
   "id": "0466bc44-2b8e-49ce-80d1-3d94b4dd2452",
   "metadata": {},
   "source": [
    "### Multiple Paths"
   ]
  },
  {
   "cell_type": "markdown",
   "id": "fb1259f5-983e-4f06-a73a-30ad96997719",
   "metadata": {},
   "source": [
    "#### Python"
   ]
  },
  {
   "cell_type": "code",
   "execution_count": null,
   "id": "55152de0-01a3-48c0-959d-8a159fb1c3af",
   "metadata": {},
   "outputs": [],
   "source": [
    "I = 100000"
   ]
  },
  {
   "cell_type": "code",
   "execution_count": null,
   "id": "c2f61792-b72d-46a0-9d08-064679dfa212",
   "metadata": {},
   "outputs": [],
   "source": [
    "paths = []"
   ]
  },
  {
   "cell_type": "code",
   "execution_count": null,
   "id": "7afc0f8c-6579-4b2f-8035-bb1a651f7ad2",
   "metadata": {},
   "outputs": [],
   "source": [
    "%%time\n",
    "for i in range(I):\n",
    "    path = [S0]\n",
    "    for t in range(1, M + 1):\n",
    "        path.append(path[t - 1] * math.exp(\n",
    "            (r - sigma ** 2 / 2) * dt +\n",
    "            sigma * math.sqrt(dt) * random.gauss(0, 1))\n",
    "               )\n",
    "    paths.append(path)"
   ]
  },
  {
   "cell_type": "code",
   "execution_count": null,
   "id": "d28a5aa0-5f10-44f1-b203-f852e8bd8aaf",
   "metadata": {},
   "outputs": [],
   "source": [
    "for i in range(25):\n",
    "    plt.plot(paths[i]);"
   ]
  },
  {
   "cell_type": "code",
   "execution_count": null,
   "id": "47b6ab9b-e1d7-4cdb-add6-2b016ddb987c",
   "metadata": {},
   "outputs": [],
   "source": [
    "ST = [path[-1] for path in paths]"
   ]
  },
  {
   "cell_type": "code",
   "execution_count": null,
   "id": "cfb65b7f-a0d7-42db-9b3a-af37707d0918",
   "metadata": {},
   "outputs": [],
   "source": [
    "ST_ = sum(ST) / len(ST)"
   ]
  },
  {
   "cell_type": "code",
   "execution_count": null,
   "id": "8e5be7b5-2cb1-4f69-a85f-d57a36d1669e",
   "metadata": {},
   "outputs": [],
   "source": [
    "ST_"
   ]
  },
  {
   "cell_type": "code",
   "execution_count": null,
   "id": "52834a42-b502-4ddc-b33e-89c56b9a7479",
   "metadata": {},
   "outputs": [],
   "source": [
    "S0 * math.exp(r * T)"
   ]
  },
  {
   "cell_type": "code",
   "execution_count": null,
   "id": "6a5b4f25-743b-4f24-b2f8-babc208fa353",
   "metadata": {},
   "outputs": [],
   "source": [
    "import sys"
   ]
  },
  {
   "cell_type": "code",
   "execution_count": null,
   "id": "414d68ab-43ab-41f9-8727-d11e49cf430c",
   "metadata": {},
   "outputs": [],
   "source": [
    "sum([sys.getsizeof(path) for path in paths])"
   ]
  },
  {
   "cell_type": "code",
   "execution_count": null,
   "id": "7a4db749-a178-427d-8375-5a4b6dd376b2",
   "metadata": {},
   "outputs": [],
   "source": [
    "import pickle"
   ]
  },
  {
   "cell_type": "code",
   "execution_count": null,
   "id": "0e17b2d9-ff88-4e4e-b609-7406057ffc93",
   "metadata": {},
   "outputs": [],
   "source": [
    "store = '/Users/yves/Temp/data/'\n",
    "# store = ''  # to store the files in the working directory"
   ]
  },
  {
   "cell_type": "code",
   "execution_count": null,
   "id": "fe4086d3-1dd4-4f9e-afc6-729748f64414",
   "metadata": {},
   "outputs": [],
   "source": [
    "%time pickle.dump(paths, open(store + 'paths.pkl', 'wb'))"
   ]
  },
  {
   "cell_type": "code",
   "execution_count": null,
   "id": "69168850-a741-400e-b8fd-b84aadc3c7ed",
   "metadata": {},
   "outputs": [],
   "source": [
    "%time p = pickle.load(open(store + 'paths.pkl', 'rb'))"
   ]
  },
  {
   "cell_type": "code",
   "execution_count": null,
   "id": "2a81e2fc-626c-4e28-8638-feead965d2cf",
   "metadata": {},
   "outputs": [],
   "source": [
    "!ls -n $store/paths*"
   ]
  },
  {
   "cell_type": "markdown",
   "id": "da8e7ea9-78fa-43e5-89a6-4f4f81ca467e",
   "metadata": {},
   "source": [
    "#### `numpy`"
   ]
  },
  {
   "cell_type": "code",
   "execution_count": null,
   "id": "72fd94c5-27a0-4883-ad82-c04c18edf0c6",
   "metadata": {},
   "outputs": [],
   "source": [
    "%time rn = rng.standard_normal((M, I))"
   ]
  },
  {
   "cell_type": "code",
   "execution_count": null,
   "id": "7a9f1822-1c3d-4ce7-a456-30be2d50cc68",
   "metadata": {},
   "outputs": [],
   "source": [
    "rn = (rn - rn.mean()) / rn.std()"
   ]
  },
  {
   "cell_type": "code",
   "execution_count": null,
   "id": "5a05af33-48e4-47cc-8768-00e8cc9668ef",
   "metadata": {},
   "outputs": [],
   "source": [
    "%%time\n",
    "paths = S0 * np.exp(((r - sigma ** 2 / 2) * dt +\n",
    "                   sigma * math.sqrt(dt) * rn).cumsum(axis=0))\n",
    "paths = np.concatenate(([S0 * np.ones(I)], paths), axis=0)"
   ]
  },
  {
   "cell_type": "code",
   "execution_count": null,
   "id": "1416f4bd-e02b-45b8-b7e5-fd8cffbdd621",
   "metadata": {},
   "outputs": [],
   "source": [
    "plt.plot(paths[:, :25]);"
   ]
  },
  {
   "cell_type": "code",
   "execution_count": null,
   "id": "9255c56c-0890-4513-8ad8-0bb79b0a7eae",
   "metadata": {},
   "outputs": [],
   "source": [
    "ST_ = paths[-1].mean()\n",
    "ST_"
   ]
  },
  {
   "cell_type": "code",
   "execution_count": null,
   "id": "036965d2-7b53-4dc8-b51a-38f9c3c8ccc0",
   "metadata": {},
   "outputs": [],
   "source": [
    "S0 * math.exp(r * T)"
   ]
  },
  {
   "cell_type": "code",
   "execution_count": null,
   "id": "7806cd2c-e9dd-457e-9749-4fa12ad75a8a",
   "metadata": {},
   "outputs": [],
   "source": [
    "sys.getsizeof(paths)"
   ]
  },
  {
   "cell_type": "code",
   "execution_count": null,
   "id": "2d4db32a-8104-40e3-a827-29c7491e4d78",
   "metadata": {},
   "outputs": [],
   "source": [
    "%time np.save(store + 'paths', paths)"
   ]
  },
  {
   "cell_type": "code",
   "execution_count": null,
   "id": "5016929c-4fc8-4463-a1c1-73767e180319",
   "metadata": {},
   "outputs": [],
   "source": [
    "%time p = np.load(store + 'paths.npy')"
   ]
  },
  {
   "cell_type": "code",
   "execution_count": null,
   "id": "7588b423-d45d-4c5b-818f-e138a59e8f6c",
   "metadata": {},
   "outputs": [],
   "source": [
    "!ls -n $store/paths*"
   ]
  },
  {
   "cell_type": "code",
   "execution_count": null,
   "id": "cee2c918-a8a2-42d7-9d43-d7dc5fd3b936",
   "metadata": {},
   "outputs": [],
   "source": [
    "!rm $store/paths*"
   ]
  },
  {
   "cell_type": "markdown",
   "id": "a8dd98f5-c8e1-48ac-a8e6-374c45dddfc1",
   "metadata": {},
   "source": [
    "## Pricing Options"
   ]
  },
  {
   "cell_type": "code",
   "execution_count": null,
   "id": "59914dd1-ed4d-4434-9a90-c7cb0fa745ed",
   "metadata": {},
   "outputs": [],
   "source": [
    "M = 100\n",
    "I = 200000"
   ]
  },
  {
   "cell_type": "code",
   "execution_count": null,
   "id": "4d4da8ae-260d-4242-a6c6-b6c0cb6219fd",
   "metadata": {},
   "outputs": [],
   "source": [
    "dt = T / M\n",
    "df = math.exp(-r * dt)"
   ]
  },
  {
   "cell_type": "code",
   "execution_count": null,
   "id": "7eaf2a35-98f4-4a63-875d-c33b9e98a454",
   "metadata": {},
   "outputs": [],
   "source": [
    "def simulate_paths(M=M, I=I):\n",
    "    dt = T / M\n",
    "    rn = rng.standard_normal((M, I))\n",
    "    rn = (rn - rn.mean()) / rn.std()\n",
    "    paths = S0 * np.exp(((r - sigma ** 2 / 2) * dt +\n",
    "                       sigma * math.sqrt(dt) * rn).cumsum(axis=0))\n",
    "    paths = np.concatenate(([S0 * np.ones(I)], paths), axis=0)\n",
    "    return paths"
   ]
  },
  {
   "cell_type": "markdown",
   "id": "cbe66b94-1270-4614-916c-7dcaeb082811",
   "metadata": {},
   "source": [
    "### European Options"
   ]
  },
  {
   "cell_type": "code",
   "execution_count": null,
   "id": "b54b1203-ec88-4035-a22c-989f22095907",
   "metadata": {},
   "outputs": [],
   "source": [
    "K = 40"
   ]
  },
  {
   "cell_type": "code",
   "execution_count": null,
   "id": "8e1fab3e-edd9-4161-8573-f873a9166047",
   "metadata": {},
   "outputs": [],
   "source": [
    "%time paths = simulate_paths()"
   ]
  },
  {
   "cell_type": "code",
   "execution_count": null,
   "id": "83156c1f-f5bf-440a-ae6c-69acca1560be",
   "metadata": {},
   "outputs": [],
   "source": [
    "h = np.maximum(K - paths, 0)"
   ]
  },
  {
   "cell_type": "code",
   "execution_count": null,
   "id": "d16c774f-f12a-4aaa-8d6d-091d7230efa8",
   "metadata": {},
   "outputs": [],
   "source": [
    "P0 = math.exp(-r * T) * h[-1].mean()"
   ]
  },
  {
   "cell_type": "code",
   "execution_count": null,
   "id": "c227837c-5c19-4bf2-b88d-5b40f0cb6622",
   "metadata": {},
   "outputs": [],
   "source": [
    "P0"
   ]
  },
  {
   "cell_type": "code",
   "execution_count": null,
   "id": "8326683b-15db-4ea0-a30d-b317fd2ae08c",
   "metadata": {},
   "outputs": [],
   "source": [
    "# 3.844 (Longstaff-Schwartz 2001)"
   ]
  },
  {
   "cell_type": "markdown",
   "id": "f3d470df-a523-415a-b637-354d467f5077",
   "metadata": {},
   "source": [
    "### American Options"
   ]
  },
  {
   "cell_type": "code",
   "execution_count": null,
   "id": "d6aa4ff5-bb03-45f5-b176-f535d349f979",
   "metadata": {},
   "outputs": [],
   "source": [
    "%%time\n",
    "V = h[-1]\n",
    "for t in range(M - 1, 1, -1):\n",
    "    reg = np.polyfit(paths[t], df * V, deg=5) \n",
    "    C = np.polyval(reg, paths[t])\n",
    "    V = np.where(h[t] > C, h[t], df * V)\n",
    "P0 = df * C.mean()"
   ]
  },
  {
   "cell_type": "code",
   "execution_count": null,
   "id": "a66aa7b7-299f-43b1-b8a2-0be54a45c87e",
   "metadata": {},
   "outputs": [],
   "source": [
    "P0"
   ]
  },
  {
   "cell_type": "code",
   "execution_count": null,
   "id": "33ac8e61-ea3b-4971-bfff-c65cb9a0fbec",
   "metadata": {},
   "outputs": [],
   "source": [
    "# 4.478 (Longstaff-Schwartz 2001)"
   ]
  },
  {
   "cell_type": "markdown",
   "id": "0176abb3-9cff-495c-9d04-d7e1b4469d31",
   "metadata": {},
   "source": [
    "<img src=\"http://hilpisch.com/tpq_logo.png\" alt=\"The Python Quants\" width=\"35%\" align=\"right\" border=\"0\"><br>\n",
    "\n",
    "<a href=\"http://tpq.io\" target=\"_blank\">http://tpq.io</a> | <a href=\"mailto:training@tpq.io\">training@tpq.io</a> | <a href=\"http://twitter.com/dyjh\" target=\"_blank\">@dyjh</a> "
   ]
  }
 ],
 "metadata": {
  "kernelspec": {
   "display_name": "Python 3 (ipykernel)",
   "language": "python",
   "name": "python3"
  },
  "language_info": {
   "codemirror_mode": {
    "name": "ipython",
    "version": 3
   },
   "file_extension": ".py",
   "mimetype": "text/x-python",
   "name": "python",
   "nbconvert_exporter": "python",
   "pygments_lexer": "ipython3",
   "version": "3.8.15"
  }
 },
 "nbformat": 4,
 "nbformat_minor": 5
}
