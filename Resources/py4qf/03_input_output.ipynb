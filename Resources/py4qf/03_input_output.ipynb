{
 "cells": [
  {
   "cell_type": "markdown",
   "id": "92fdebcf-53b5-4f02-8244-b4bb93aa9b92",
   "metadata": {
    "slideshow": {
     "slide_type": "slide"
    },
    "tags": []
   },
   "source": [
    "<img src=\"http://hilpisch.com/tpq_logo.png\" alt=\"The Python Quants\" width=\"35%\" align=\"right\" border=\"0\"><br>"
   ]
  },
  {
   "cell_type": "markdown",
   "id": "e0ccc340-2b6f-4944-a385-729a934d4af6",
   "metadata": {},
   "source": [
    "# Python for Quantitative Finance"
   ]
  },
  {
   "cell_type": "markdown",
   "id": "130fddc3-0652-41b0-bc4a-11004c6d7f71",
   "metadata": {
    "tags": []
   },
   "source": [
    "&copy; Dr. Yves J. Hilpisch | The Python Quants GmbH\n",
    "\n",
    "http://tpq.io | [training@tpq.io](mailto:trainin@tpq.io) | [@dyjh](http://twitter.com/dyjh)"
   ]
  },
  {
   "cell_type": "markdown",
   "id": "3386dfc3-4ef0-4430-b4e6-cbe6629f1d28",
   "metadata": {},
   "source": [
    "# Input-Output Operations"
   ]
  },
  {
   "cell_type": "code",
   "execution_count": null,
   "id": "22fc8d01-29e4-49b0-9948-e7e458b59c2e",
   "metadata": {},
   "outputs": [],
   "source": [
    "import sys\n",
    "import numpy as np\n",
    "import pandas as pd"
   ]
  },
  {
   "cell_type": "code",
   "execution_count": null,
   "id": "72a1bf39-19fb-41cd-ab68-546a5ffd58a7",
   "metadata": {},
   "outputs": [],
   "source": [
    "from numpy.random import default_rng"
   ]
  },
  {
   "cell_type": "code",
   "execution_count": null,
   "id": "62bd4e96-9eea-41c4-ab5c-1cf6ebb5ccf1",
   "metadata": {},
   "outputs": [],
   "source": [
    "rng = default_rng()"
   ]
  },
  {
   "cell_type": "code",
   "execution_count": null,
   "id": "071b0e8b-ab53-446b-9e7f-f6dea05f162f",
   "metadata": {},
   "outputs": [],
   "source": [
    "N = 2_000_000"
   ]
  },
  {
   "cell_type": "code",
   "execution_count": null,
   "id": "04a3226c-204b-43cd-84d4-f16fcfe66c69",
   "metadata": {},
   "outputs": [],
   "source": [
    "%time a = rng.standard_normal((N, 5)).round(8)"
   ]
  },
  {
   "cell_type": "code",
   "execution_count": null,
   "id": "72fc0f1b-95a8-4598-9650-c443c345e3eb",
   "metadata": {},
   "outputs": [],
   "source": [
    "a.nbytes"
   ]
  },
  {
   "cell_type": "code",
   "execution_count": null,
   "id": "0a640727-3e3a-41e3-9886-c0a19523d051",
   "metadata": {},
   "outputs": [],
   "source": [
    "%time df = pd.DataFrame(a, columns=list('abcde'))"
   ]
  },
  {
   "cell_type": "code",
   "execution_count": null,
   "id": "3722a72a-c432-441c-98b9-db5470fcc6d1",
   "metadata": {},
   "outputs": [],
   "source": [
    "df.head()"
   ]
  },
  {
   "cell_type": "markdown",
   "id": "0f16467c-2054-477b-9e7e-caba4e9b64c4",
   "metadata": {},
   "source": [
    "## `CSV` Files"
   ]
  },
  {
   "cell_type": "code",
   "execution_count": null,
   "id": "d9defcea-ba89-4faa-94d1-382dccb996e1",
   "metadata": {},
   "outputs": [],
   "source": [
    "store = '/Users/yves/Temp/data/'  # adjust the store to a local one\n",
    "# store = ''  # for local storage"
   ]
  },
  {
   "cell_type": "code",
   "execution_count": null,
   "id": "bbfc453c-84f1-47ff-9562-fa4b6762b62f",
   "metadata": {},
   "outputs": [],
   "source": [
    "%time df.to_csv(store + 'data.csv')"
   ]
  },
  {
   "cell_type": "code",
   "execution_count": null,
   "id": "7410c6a6-715a-42b2-8ac4-f50abb110159",
   "metadata": {},
   "outputs": [],
   "source": [
    "!ls -n $store"
   ]
  },
  {
   "cell_type": "code",
   "execution_count": null,
   "id": "d5d49628-71df-4da3-87b6-e3993a2a5546",
   "metadata": {},
   "outputs": [],
   "source": [
    "!head $store/data.csv"
   ]
  },
  {
   "cell_type": "code",
   "execution_count": null,
   "id": "a5ad51f9-26ff-4c71-9f99-686291e8ea0c",
   "metadata": {},
   "outputs": [],
   "source": [
    "%time df_ = pd.read_csv(store + 'data.csv', index_col=0)"
   ]
  },
  {
   "cell_type": "markdown",
   "id": "e44e205a-4278-435e-9f08-e72aa42e53f2",
   "metadata": {},
   "source": [
    "## Binary Storage Formats"
   ]
  },
  {
   "cell_type": "markdown",
   "id": "8bbbd1cd-7b91-41e1-958e-35e3d9a2cf8c",
   "metadata": {},
   "source": [
    "**HDF5 Standard** (https://www.hdfgroup.org/solutions/hdf5/)"
   ]
  },
  {
   "cell_type": "code",
   "execution_count": null,
   "id": "a9162b65-2ab3-47b7-85a5-70988394efc6",
   "metadata": {},
   "outputs": [],
   "source": [
    "%time df.to_hdf(store + 'data.h5', 'data')"
   ]
  },
  {
   "cell_type": "code",
   "execution_count": null,
   "id": "43738f9b-0a66-49ed-9416-0fe36f600c51",
   "metadata": {},
   "outputs": [],
   "source": [
    "!ls -n $store"
   ]
  },
  {
   "cell_type": "code",
   "execution_count": null,
   "id": "9937b181-319c-4076-99df-c1e7030f5371",
   "metadata": {},
   "outputs": [],
   "source": [
    "%time df_ = pd.read_hdf(store + 'data.h5', 'data')"
   ]
  },
  {
   "cell_type": "code",
   "execution_count": null,
   "id": "b9b03a9d-3569-499e-acfc-2a1c80aebbc2",
   "metadata": {},
   "outputs": [],
   "source": [
    "df_.head()"
   ]
  },
  {
   "cell_type": "code",
   "execution_count": null,
   "id": "5242bb28-3147-4019-a28e-aa67d0725ba2",
   "metadata": {},
   "outputs": [],
   "source": [
    "%timeit df_ = pd.read_hdf(store + 'data.h5', 'data')"
   ]
  },
  {
   "cell_type": "markdown",
   "id": "13cc2919-b26d-40c9-a992-2aebdcfdae4f",
   "metadata": {},
   "source": [
    "**Apache Parquet** (https://parquet.apache.org/) "
   ]
  },
  {
   "cell_type": "code",
   "execution_count": null,
   "id": "b9b92e17-b670-4409-a243-55045ef204e1",
   "metadata": {},
   "outputs": [],
   "source": [
    "%time df.to_parquet(store + 'data.pq')"
   ]
  },
  {
   "cell_type": "code",
   "execution_count": null,
   "id": "f7194808-af04-4ff8-90da-c84fc4cc4e0d",
   "metadata": {},
   "outputs": [],
   "source": [
    "!ls -n $store"
   ]
  },
  {
   "cell_type": "code",
   "execution_count": null,
   "id": "28b9c08c-b86f-4a57-ab9b-4a205f24815a",
   "metadata": {},
   "outputs": [],
   "source": [
    "%timeit df_ = pd.read_parquet(store + 'data.pq')"
   ]
  },
  {
   "cell_type": "markdown",
   "id": "baad03aa-fa70-481e-a5aa-52052d47d5d4",
   "metadata": {},
   "source": [
    "## SQL Databases"
   ]
  },
  {
   "cell_type": "code",
   "execution_count": null,
   "id": "aa482311-0fd0-4a20-bf21-4e725330917e",
   "metadata": {},
   "outputs": [],
   "source": [
    "import sqlite3 as sq3"
   ]
  },
  {
   "cell_type": "code",
   "execution_count": null,
   "id": "bb8fc4bb-8d7c-4436-8e5d-618328a2c9d8",
   "metadata": {},
   "outputs": [],
   "source": [
    "con = sq3.connect(store + 'data.sql')"
   ]
  },
  {
   "cell_type": "code",
   "execution_count": null,
   "id": "d66020e4-cf7a-4cf6-9e2f-eda6667e24be",
   "metadata": {},
   "outputs": [],
   "source": [
    "%time df.to_sql('data', con)"
   ]
  },
  {
   "cell_type": "code",
   "execution_count": null,
   "id": "7b1ae316-2862-460c-b289-5049118267dd",
   "metadata": {},
   "outputs": [],
   "source": [
    "!ls -n $store"
   ]
  },
  {
   "cell_type": "code",
   "execution_count": null,
   "id": "2ac38b64-f1a0-4ab0-8116-3548b2ba245d",
   "metadata": {},
   "outputs": [],
   "source": [
    "%time df_ = pd.read_sql('SELECT * FROM data', con)"
   ]
  },
  {
   "cell_type": "code",
   "execution_count": null,
   "id": "21f32778-6ede-4673-9408-7af37de98406",
   "metadata": {},
   "outputs": [],
   "source": [
    "%time con.execute('SELECT * FROM data WHERE c > 4.0').fetchmany(3)"
   ]
  },
  {
   "cell_type": "code",
   "execution_count": null,
   "id": "b9995833-31a8-4008-bd92-0f2eb2e09a6b",
   "metadata": {},
   "outputs": [],
   "source": [
    "%time df.query('c > 4.0').head(3)"
   ]
  },
  {
   "cell_type": "code",
   "execution_count": null,
   "id": "faf54d48-a218-4d51-b46b-0e482a66e056",
   "metadata": {},
   "outputs": [],
   "source": [
    "%time df_ = pd.read_sql('SELECT * FROM data WHERE a < -4.1', con)"
   ]
  },
  {
   "cell_type": "code",
   "execution_count": null,
   "id": "ff5962a5-b61c-4a26-a523-105b192aadc8",
   "metadata": {},
   "outputs": [],
   "source": [
    "df_.head()"
   ]
  },
  {
   "cell_type": "code",
   "execution_count": null,
   "id": "cf33c11a-9201-4cd1-8880-fb5b28db8640",
   "metadata": {},
   "outputs": [],
   "source": [
    "%%time\n",
    "df_ = pd.read_sql('SELECT * FROM data WHERE a < -2.75 AND e > 2.75',\n",
    "                  con, index_col='index')"
   ]
  },
  {
   "cell_type": "code",
   "execution_count": null,
   "id": "c01f2571-043c-4d79-9ba5-326de7f29223",
   "metadata": {},
   "outputs": [],
   "source": [
    "df_.head()"
   ]
  },
  {
   "cell_type": "code",
   "execution_count": null,
   "id": "f1a4d12a-b9e7-4b06-b7a2-f62550d7d457",
   "metadata": {},
   "outputs": [],
   "source": [
    "!rm $store*"
   ]
  },
  {
   "cell_type": "code",
   "execution_count": null,
   "id": "328d40c1-1988-4541-8219-a9373c5beaeb",
   "metadata": {},
   "outputs": [],
   "source": [
    "!ls -n $store"
   ]
  },
  {
   "cell_type": "markdown",
   "id": "c5f4612a-5421-42f9-8e69-dc9b8b29ab02",
   "metadata": {},
   "source": [
    "<img src=\"http://hilpisch.com/tpq_logo.png\" alt=\"The Python Quants\" width=\"35%\" align=\"right\" border=\"0\"><br>\n",
    "\n",
    "<a href=\"http://tpq.io\" target=\"_blank\">http://tpq.io</a> | <a href=\"mailto:training@tpq.io\">training@tpq.io</a> | <a href=\"http://twitter.com/dyjh\" target=\"_blank\">@dyjh</a> "
   ]
  }
 ],
 "metadata": {
  "celltoolbar": "Slideshow",
  "kernelspec": {
   "display_name": "Python 3 (ipykernel)",
   "language": "python",
   "name": "python3"
  },
  "language_info": {
   "codemirror_mode": {
    "name": "ipython",
    "version": 3
   },
   "file_extension": ".py",
   "mimetype": "text/x-python",
   "name": "python",
   "nbconvert_exporter": "python",
   "pygments_lexer": "ipython3",
   "version": "3.8.15"
  }
 },
 "nbformat": 4,
 "nbformat_minor": 5
}
