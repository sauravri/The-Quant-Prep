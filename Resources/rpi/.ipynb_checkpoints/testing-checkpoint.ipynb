{
 "metadata": {
  "name": "",
  "signature": "sha256:9d8bdfea4595c163c5beb70b377dddfd74e1aa80692627a0c265e75845d6beed"
 },
 "nbformat": 3,
 "nbformat_minor": 0,
 "worksheets": []
}