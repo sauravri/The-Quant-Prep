{
 "cells": [
  {
   "cell_type": "markdown",
   "id": "cc157712-0978-490b-abc7-fab2091ac5f3",
   "metadata": {
    "slideshow": {
     "slide_type": "slide"
    }
   },
   "source": [
    "<img src=\"http://certificate.tpq.io/tpq_logo.png\" alt=\"The Python Quants\" width=\"35%\" align=\"right\" border=\"0\"><br>"
   ]
  },
  {
   "cell_type": "markdown",
   "id": "8978678d-311a-4896-a13d-48f196b331dd",
   "metadata": {},
   "source": [
    "# AI in Finance"
   ]
  },
  {
   "cell_type": "markdown",
   "id": "8f772084-0ca5-4a0d-91fb-5bdd0f8bd50d",
   "metadata": {},
   "source": [
    "**Workshop at Texas State University (October 2023)**\n",
    "\n",
    "**_Quantitative Finance with ChatGPT_**\n",
    "\n",
    "Dr. Yves J. Hilpisch | The Python Quants GmbH | http://tpq.io"
   ]
  },
  {
   "cell_type": "markdown",
   "id": "74f5c9bf-e35a-43f8-b3b4-a69f259b86c6",
   "metadata": {},
   "source": [
    "**<p style=\"color:green\">All of the following examples are generated with ChatGPT Plus (GPT 4.0) unless indicated otherwise.</p>**"
   ]
  },
  {
   "cell_type": "markdown",
   "id": "103d1373-8616-4cb1-b330-595aef54a1f3",
   "metadata": {},
   "source": [
    "## Research"
   ]
  },
  {
   "cell_type": "markdown",
   "id": "a90ed668-26b6-4785-a491-f8cee26078b3",
   "metadata": {},
   "source": [
    "https://certificate.tpq.io/ftwp_ch_01.pdf\n",
    "\n",
    "https://certificate.tpq.io/the_golden_age_of_math_finance.pdf\n",
    "\n",
    "https://certificate.tpq.io/time_series_gan.pdf\n",
    "\n",
    "https://certificate.tpq.io/generative_adversarial_networks.pdf\n",
    "\n",
    "https://certificate.tpq.io/attention_is_all_you_need.pdf\n",
    "\n",
    "https://certificate.tpq.io/bert_deep_bidirectional_transformers.pdf\n",
    "\n",
    "https://certificate.tpq.io/gpt3_nature_scopre_limits.pdf"
   ]
  },
  {
   "cell_type": "markdown",
   "id": "7471e37c-edbb-46f9-83ba-e6d2e89d98bb",
   "metadata": {},
   "source": [
    "## Quizzes"
   ]
  },
  {
   "cell_type": "markdown",
   "id": "615d13b9-84b2-48bf-adff-4d581fe85dcb",
   "metadata": {},
   "source": [
    "### Yes-No Questions"
   ]
  },
  {
   "cell_type": "markdown",
   "id": "f388a25c-7ab1-4901-b2da-fe7af0175d99",
   "metadata": {},
   "source": [
    "> Generate 10 yes-no questions about NumPy ndarray objects. Make sure that the answers are half yes and half no. Provide the answers, possibly with explanations, after the questions."
   ]
  },
  {
   "cell_type": "markdown",
   "id": "bc178200-ad1b-4599-b73b-84b6c3411419",
   "metadata": {},
   "source": [
    "### MCQ Questions"
   ]
  },
  {
   "cell_type": "markdown",
   "id": "f9a96921-4385-4214-aeb2-8642531ef176",
   "metadata": {},
   "source": [
    "> Generate 4 MCQ with 4 options each about pandas DataFrame objects. Make sure that the answering options are as clear as possible and that only one option is correct. Provide the answers, possibly with explanations, after the questions."
   ]
  },
  {
   "cell_type": "markdown",
   "id": "a12e7e51-4896-44d0-905b-c50754de8e0f",
   "metadata": {},
   "source": [
    "### Coding Exercises"
   ]
  },
  {
   "cell_type": "markdown",
   "id": "9a90f3a7-eedb-42a9-a788-37623a06694f",
   "metadata": {},
   "source": [
    "> Generate 5 Python coding exercises about Python list objects. The exercises shall build on each other. Provide sample code solutions, potentially with comments/explanations, after the questions."
   ]
  },
  {
   "cell_type": "markdown",
   "id": "6b642198-c0e9-4c86-9fbf-b4c2f6f2dd5e",
   "metadata": {
    "slideshow": {
     "slide_type": "slide"
    }
   },
   "source": [
    "<img src=\"http://certificate.tpq.io/tpq_logo.png\" alt=\"The Python Quants\" width=\"35%\" align=\"right\" border=\"0\"><br>"
   ]
  },
  {
   "cell_type": "markdown",
   "id": "6f4b3002-787a-433e-985c-b12d51cbf8fe",
   "metadata": {},
   "source": [
    "<img src='http://hilpisch.com/tpq_logo.png' width=\"35%\" align=\"right\">\n",
    "\n",
    "<br><br><a href=\"http://tpq.io\" target=\"_blank\">http://tpq.io</a> | <a href=\"http://twitter.com/dyjh\" target=\"_blank\">@dyjh</a> | <a href=\"mailto:team@tpq.io\">team@tpq.io</a>"
   ]
  }
 ],
 "metadata": {
  "kernelspec": {
   "display_name": "Python 3 (ipykernel)",
   "language": "python",
   "name": "python3"
  },
  "language_info": {
   "codemirror_mode": {
    "name": "ipython",
    "version": 3
   },
   "file_extension": ".py",
   "mimetype": "text/x-python",
   "name": "python",
   "nbconvert_exporter": "python",
   "pygments_lexer": "ipython3",
   "version": "3.10.12"
  }
 },
 "nbformat": 4,
 "nbformat_minor": 5
}
