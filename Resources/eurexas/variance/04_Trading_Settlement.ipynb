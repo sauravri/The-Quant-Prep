{
 "metadata": {
  "name": "",
  "signature": "sha256:b918947cf22d5199a913574f4996d334e75f949d1066944ba08736ddc7e3390c"
 },
 "nbformat": 3,
 "nbformat_minor": 0,
 "worksheets": [
  {
   "cells": [
    {
     "cell_type": "markdown",
     "metadata": {},
     "source": [
      "<div id=\"under\" style=\"left: 0px; top: 0px; position: relative\"> <img src=\"http://hilpisch.com/header.jpg\"> </div>"
     ]
    },
    {
     "cell_type": "heading",
     "level": 1,
     "metadata": {},
     "source": [
      "Trading and Settlement"
     ]
    },
    {
     "cell_type": "markdown",
     "metadata": {},
     "source": [
      "Dr. Yves J. Hilpisch\n",
      "\n",
      "The Python Quants GmbH\n",
      "\n",
      "<a href='mailto:analytics@pythonquants.com'>analytics@pythonquants.com</a>\n",
      "\n",
      "<a href='http://pythonquants.com'>www.pythonquants.com</a>"
     ]
    },
    {
     "cell_type": "heading",
     "level": 2,
     "metadata": {},
     "source": [
      "Tutorial Pages"
     ]
    },
    {
     "cell_type": "markdown",
     "metadata": {},
     "source": [
      "You find the **Variance Advanced Services** tutorial pages under\n",
      "\n",
      "**<a href=\"http://www.eurexchange.com/advanced-services/variance/\" target=\"_blank\">http://www.eurexchange.com/advanced-services/variance/</a>**\n",
      "\n",
      "The respective **tutorial page** on which this IPython Notebook is based on is found under:\n",
      "\n",
      "**<a href=\"http://www.eurexchange.com/advanced-services/variance/04_Trading_Settlement.html\" target=\"_blank\">Trading and Settlement</a>**\n",
      "\n",
      "A **general overview** of the Advanced Services offering is given here:\n",
      "\n",
      "**<a href=\"http://www.eurexchange.com/advanced-services/\" target=\"_blank\">http://www.eurexchange.com/advanced-services/</a>**"
     ]
    },
    {
     "cell_type": "heading",
     "level": 2,
     "metadata": {},
     "source": [
      "Overview of Variance Futures Terms"
     ]
    },
    {
     "cell_type": "heading",
     "level": 2,
     "metadata": {},
     "source": [
      "Intraday Trading"
     ]
    },
    {
     "cell_type": "code",
     "collapsed": false,
     "input": [
      "import pandas as pd\n",
      "h5 = pd.HDFStore('data/var_data.h5', 'r')\n",
      "data = h5['var_future']\n",
      "h5.close()"
     ],
     "language": "python",
     "metadata": {},
     "outputs": [],
     "prompt_number": 1
    },
    {
     "cell_type": "code",
     "collapsed": false,
     "input": [
      "data.head()"
     ],
     "language": "python",
     "metadata": {},
     "outputs": [
      {
       "html": [
        "<div style=\"max-height:1000px;max-width:1500px;overflow:auto;\">\n",
        "<table border=\"1\" class=\"dataframe\">\n",
        "  <thead>\n",
        "    <tr style=\"text-align: right;\">\n",
        "      <th></th>\n",
        "      <th>SX5E</th>\n",
        "      <th>V6I1</th>\n",
        "      <th>2w</th>\n",
        "      <th>EONIA</th>\n",
        "      <th>R_t</th>\n",
        "      <th>sigma**2</th>\n",
        "      <th>t</th>\n",
        "      <th>DF_t</th>\n",
        "      <th>F_tS</th>\n",
        "      <th>ARMVM_t</th>\n",
        "    </tr>\n",
        "    <tr>\n",
        "      <th>Date</th>\n",
        "      <th></th>\n",
        "      <th></th>\n",
        "      <th></th>\n",
        "      <th></th>\n",
        "      <th></th>\n",
        "      <th></th>\n",
        "      <th></th>\n",
        "      <th></th>\n",
        "      <th></th>\n",
        "      <th></th>\n",
        "    </tr>\n",
        "  </thead>\n",
        "  <tbody>\n",
        "    <tr>\n",
        "      <th>2014-07-01</th>\n",
        "      <td> 3258.71</td>\n",
        "      <td> 14.0030</td>\n",
        "      <td> 0.061</td>\n",
        "      <td> 0.026</td>\n",
        "      <td>      NaN</td>\n",
        "      <td>        NaN</td>\n",
        "      <td> 1</td>\n",
        "      <td> 0.999979</td>\n",
        "      <td> 3000.000000</td>\n",
        "      <td> 0.000000</td>\n",
        "    </tr>\n",
        "    <tr>\n",
        "      <th>2014-07-02</th>\n",
        "      <td> 3252.25</td>\n",
        "      <td> 13.5367</td>\n",
        "      <td> 0.058</td>\n",
        "      <td> 0.023</td>\n",
        "      <td>-0.001984</td>\n",
        "      <td>   9.922836</td>\n",
        "      <td> 2</td>\n",
        "      <td> 0.999980</td>\n",
        "      <td> 2962.399064</td>\n",
        "      <td> 0.000000</td>\n",
        "    </tr>\n",
        "    <tr>\n",
        "      <th>2014-07-03</th>\n",
        "      <td> 3289.75</td>\n",
        "      <td> 11.9063</td>\n",
        "      <td> 0.060</td>\n",
        "      <td> 0.032</td>\n",
        "      <td> 0.011465</td>\n",
        "      <td> 170.569492</td>\n",
        "      <td> 3</td>\n",
        "      <td> 0.999982</td>\n",
        "      <td> 2951.853740</td>\n",
        "      <td>-0.003432</td>\n",
        "    </tr>\n",
        "    <tr>\n",
        "      <th>2014-07-04</th>\n",
        "      <td> 3270.47</td>\n",
        "      <td> 11.8867</td>\n",
        "      <td> 0.059</td>\n",
        "      <td> 0.032</td>\n",
        "      <td>-0.005878</td>\n",
        "      <td> 142.734439</td>\n",
        "      <td> 4</td>\n",
        "      <td> 0.999984</td>\n",
        "      <td> 2945.631726</td>\n",
        "      <td>-0.009547</td>\n",
        "    </tr>\n",
        "    <tr>\n",
        "      <th>2014-07-07</th>\n",
        "      <td> 3230.92</td>\n",
        "      <td> 14.1179</td>\n",
        "      <td> 0.059</td>\n",
        "      <td> 0.029</td>\n",
        "      <td>-0.012167</td>\n",
        "      <td> 200.310053</td>\n",
        "      <td> 5</td>\n",
        "      <td> 0.999985</td>\n",
        "      <td> 3003.602831</td>\n",
        "      <td>-0.016452</td>\n",
        "    </tr>\n",
        "  </tbody>\n",
        "</table>\n",
        "</div>"
       ],
       "metadata": {},
       "output_type": "pyout",
       "prompt_number": 2,
       "text": [
        "               SX5E     V6I1     2w  EONIA       R_t    sigma**2  t      DF_t  \\\n",
        "Date                                                                            \n",
        "2014-07-01  3258.71  14.0030  0.061  0.026       NaN         NaN  1  0.999979   \n",
        "2014-07-02  3252.25  13.5367  0.058  0.023 -0.001984    9.922836  2  0.999980   \n",
        "2014-07-03  3289.75  11.9063  0.060  0.032  0.011465  170.569492  3  0.999982   \n",
        "2014-07-04  3270.47  11.8867  0.059  0.032 -0.005878  142.734439  4  0.999984   \n",
        "2014-07-07  3230.92  14.1179  0.059  0.029 -0.012167  200.310053  5  0.999985   \n",
        "\n",
        "                   F_tS   ARMVM_t  \n",
        "Date                               \n",
        "2014-07-01  3000.000000  0.000000  \n",
        "2014-07-02  2962.399064  0.000000  \n",
        "2014-07-03  2951.853740 -0.003432  \n",
        "2014-07-04  2945.631726 -0.009547  \n",
        "2014-07-07  3003.602831 -0.016452  "
       ]
      }
     ],
     "prompt_number": 2
    },
    {
     "cell_type": "code",
     "collapsed": false,
     "input": [
      "T = data['t'][-1]\n",
      "T"
     ],
     "language": "python",
     "metadata": {},
     "outputs": [
      {
       "metadata": {},
       "output_type": "pyout",
       "prompt_number": 3,
       "text": [
        "14"
       ]
      }
     ],
     "prompt_number": 3
    },
    {
     "cell_type": "code",
     "collapsed": false,
     "input": [
      "sigma_K = data['V6I1'][0]\n",
      "sigma_K"
     ],
     "language": "python",
     "metadata": {},
     "outputs": [
      {
       "metadata": {},
       "output_type": "pyout",
       "prompt_number": 4,
       "text": [
        "14.003"
       ]
      }
     ],
     "prompt_number": 4
    },
    {
     "cell_type": "code",
     "collapsed": false,
     "input": [
      "data['F_ti'] = 3000.0\n",
      "for t in data.index[2:]:\n",
      "    data['F_ti'][t] = data['DF_t'].shift(1)[t] * ((data['t'][t]  * data['sigma**2'].shift(1)[t]\n",
      "                                  + (T - data['t'][t]) * data['V6I1'].shift(1)[t] ** 2) / T\n",
      "                                  - sigma_K ** 2) - data['ARMVM_t'].shift(1)[t] + 3000"
     ],
     "language": "python",
     "metadata": {},
     "outputs": [
      {
       "output_type": "stream",
       "stream": "stderr",
       "text": [
        "-c:5: SettingWithCopyWarning: \n",
        "A value is trying to be set on a copy of a slice from a DataFrame\n",
        "\n",
        "See the the caveats in the documentation: http://pandas.pydata.org/pandas-docs/stable/indexing.html#indexing-view-versus-copy\n"
       ]
      }
     ],
     "prompt_number": 5
    },
    {
     "cell_type": "code",
     "collapsed": false,
     "input": [
      "data"
     ],
     "language": "python",
     "metadata": {},
     "outputs": [
      {
       "html": [
        "<div style=\"max-height:1000px;max-width:1500px;overflow:auto;\">\n",
        "<table border=\"1\" class=\"dataframe\">\n",
        "  <thead>\n",
        "    <tr style=\"text-align: right;\">\n",
        "      <th></th>\n",
        "      <th>SX5E</th>\n",
        "      <th>V6I1</th>\n",
        "      <th>2w</th>\n",
        "      <th>EONIA</th>\n",
        "      <th>R_t</th>\n",
        "      <th>sigma**2</th>\n",
        "      <th>t</th>\n",
        "      <th>DF_t</th>\n",
        "      <th>F_tS</th>\n",
        "      <th>ARMVM_t</th>\n",
        "      <th>F_ti</th>\n",
        "    </tr>\n",
        "    <tr>\n",
        "      <th>Date</th>\n",
        "      <th></th>\n",
        "      <th></th>\n",
        "      <th></th>\n",
        "      <th></th>\n",
        "      <th></th>\n",
        "      <th></th>\n",
        "      <th></th>\n",
        "      <th></th>\n",
        "      <th></th>\n",
        "      <th></th>\n",
        "      <th></th>\n",
        "    </tr>\n",
        "  </thead>\n",
        "  <tbody>\n",
        "    <tr>\n",
        "      <th>2014-07-01</th>\n",
        "      <td> 3258.71</td>\n",
        "      <td> 14.0030</td>\n",
        "      <td> 0.061</td>\n",
        "      <td> 0.026</td>\n",
        "      <td>      NaN</td>\n",
        "      <td>        NaN</td>\n",
        "      <td>  1</td>\n",
        "      <td> 0.999979</td>\n",
        "      <td> 3000.000000</td>\n",
        "      <td> 0.000000</td>\n",
        "      <td> 3000.000000</td>\n",
        "    </tr>\n",
        "    <tr>\n",
        "      <th>2014-07-02</th>\n",
        "      <td> 3252.25</td>\n",
        "      <td> 13.5367</td>\n",
        "      <td> 0.058</td>\n",
        "      <td> 0.023</td>\n",
        "      <td>-0.001984</td>\n",
        "      <td>   9.922836</td>\n",
        "      <td>  2</td>\n",
        "      <td> 0.999980</td>\n",
        "      <td> 2962.399064</td>\n",
        "      <td> 0.000000</td>\n",
        "      <td> 3000.000000</td>\n",
        "    </tr>\n",
        "    <tr>\n",
        "      <th>2014-07-03</th>\n",
        "      <td> 3289.75</td>\n",
        "      <td> 11.9063</td>\n",
        "      <td> 0.060</td>\n",
        "      <td> 0.032</td>\n",
        "      <td> 0.011465</td>\n",
        "      <td> 170.569492</td>\n",
        "      <td>  3</td>\n",
        "      <td> 0.999982</td>\n",
        "      <td> 2951.853740</td>\n",
        "      <td>-0.003432</td>\n",
        "      <td> 2950.019350</td>\n",
        "    </tr>\n",
        "    <tr>\n",
        "      <th>2014-07-04</th>\n",
        "      <td> 3270.47</td>\n",
        "      <td> 11.8867</td>\n",
        "      <td> 0.059</td>\n",
        "      <td> 0.032</td>\n",
        "      <td>-0.005878</td>\n",
        "      <td> 142.734439</td>\n",
        "      <td>  4</td>\n",
        "      <td> 0.999984</td>\n",
        "      <td> 2945.631726</td>\n",
        "      <td>-0.009547</td>\n",
        "      <td> 2953.911525</td>\n",
        "    </tr>\n",
        "    <tr>\n",
        "      <th>2014-07-07</th>\n",
        "      <td> 3230.92</td>\n",
        "      <td> 14.1179</td>\n",
        "      <td> 0.059</td>\n",
        "      <td> 0.029</td>\n",
        "      <td>-0.012167</td>\n",
        "      <td> 200.310053</td>\n",
        "      <td>  5</td>\n",
        "      <td> 0.999985</td>\n",
        "      <td> 3003.602831</td>\n",
        "      <td>-0.016452</td>\n",
        "      <td> 2945.734639</td>\n",
        "    </tr>\n",
        "    <tr>\n",
        "      <th>2014-07-08</th>\n",
        "      <td> 3184.38</td>\n",
        "      <td> 16.5533</td>\n",
        "      <td> 0.059</td>\n",
        "      <td> 0.027</td>\n",
        "      <td>-0.014509</td>\n",
        "      <td> 266.350289</td>\n",
        "      <td>  6</td>\n",
        "      <td> 0.999987</td>\n",
        "      <td> 3074.659311</td>\n",
        "      <td>-0.016039</td>\n",
        "      <td> 3003.673898</td>\n",
        "    </tr>\n",
        "    <tr>\n",
        "      <th>2014-07-09</th>\n",
        "      <td> 3203.10</td>\n",
        "      <td> 15.3004</td>\n",
        "      <td> 0.058</td>\n",
        "      <td> 0.033</td>\n",
        "      <td> 0.005861</td>\n",
        "      <td> 236.388509</td>\n",
        "      <td>  7</td>\n",
        "      <td> 0.999988</td>\n",
        "      <td> 3039.168956</td>\n",
        "      <td>-0.008042</td>\n",
        "      <td> 3074.112071</td>\n",
        "    </tr>\n",
        "    <tr>\n",
        "      <th>2014-07-10</th>\n",
        "      <td> 3150.59</td>\n",
        "      <td> 17.5459</td>\n",
        "      <td> 0.058</td>\n",
        "      <td> 0.036</td>\n",
        "      <td>-0.016529</td>\n",
        "      <td> 300.977757</td>\n",
        "      <td>  8</td>\n",
        "      <td> 0.999990</td>\n",
        "      <td> 3107.844533</td>\n",
        "      <td>-0.002913</td>\n",
        "      <td> 3039.332259</td>\n",
        "    </tr>\n",
        "    <tr>\n",
        "      <th>2014-07-11</th>\n",
        "      <td> 3157.05</td>\n",
        "      <td> 16.0369</td>\n",
        "      <td> 0.058</td>\n",
        "      <td> 0.050</td>\n",
        "      <td> 0.002048</td>\n",
        "      <td> 264.677144</td>\n",
        "      <td>  9</td>\n",
        "      <td> 0.999992</td>\n",
        "      <td> 3065.903320</td>\n",
        "      <td> 0.012494</td>\n",
        "      <td> 3107.353049</td>\n",
        "    </tr>\n",
        "    <tr>\n",
        "      <th>2014-07-14</th>\n",
        "      <td> 3185.86</td>\n",
        "      <td> 15.4014</td>\n",
        "      <td> 0.058</td>\n",
        "      <td> 0.052</td>\n",
        "      <td> 0.009084</td>\n",
        "      <td> 258.375032</td>\n",
        "      <td> 10</td>\n",
        "      <td> 0.999993</td>\n",
        "      <td> 3056.215962</td>\n",
        "      <td> 0.025574</td>\n",
        "      <td> 3066.438671</td>\n",
        "    </tr>\n",
        "    <tr>\n",
        "      <th>2014-07-15</th>\n",
        "      <td> 3153.75</td>\n",
        "      <td> 18.8811</td>\n",
        "      <td> 0.058</td>\n",
        "      <td> 0.034</td>\n",
        "      <td>-0.010130</td>\n",
        "      <td> 258.397229</td>\n",
        "      <td> 11</td>\n",
        "      <td> 0.999995</td>\n",
        "      <td> 3083.296781</td>\n",
        "      <td> 0.037181</td>\n",
        "      <td> 3057.728232</td>\n",
        "    </tr>\n",
        "    <tr>\n",
        "      <th>2014-07-16</th>\n",
        "      <td> 3202.94</td>\n",
        "      <td> 17.4739</td>\n",
        "      <td> 0.058</td>\n",
        "      <td> 0.036</td>\n",
        "      <td> 0.015477</td>\n",
        "      <td> 289.781854</td>\n",
        "      <td> 12</td>\n",
        "      <td> 0.999997</td>\n",
        "      <td> 3095.871295</td>\n",
        "      <td> 0.048425</td>\n",
        "      <td> 3076.289765</td>\n",
        "    </tr>\n",
        "    <tr>\n",
        "      <th>2014-07-17</th>\n",
        "      <td> 3157.82</td>\n",
        "      <td> 17.4739</td>\n",
        "      <td> 0.057</td>\n",
        "      <td> 0.039</td>\n",
        "      <td>-0.014187</td>\n",
        "      <td> 307.901592</td>\n",
        "      <td> 13</td>\n",
        "      <td> 0.999998</td>\n",
        "      <td> 3111.572099</td>\n",
        "      <td> 0.062129</td>\n",
        "      <td> 3094.760204</td>\n",
        "    </tr>\n",
        "    <tr>\n",
        "      <th>2014-07-18</th>\n",
        "      <td> 3164.21</td>\n",
        "      <td> 17.4739</td>\n",
        "      <td> 0.059</td>\n",
        "      <td> 0.037</td>\n",
        "      <td> 0.002022</td>\n",
        "      <td> 285.009002</td>\n",
        "      <td> 14</td>\n",
        "      <td> 1.000000</td>\n",
        "      <td> 3088.845586</td>\n",
        "      <td> 0.079407</td>\n",
        "      <td> 3111.755271</td>\n",
        "    </tr>\n",
        "  </tbody>\n",
        "</table>\n",
        "</div>"
       ],
       "metadata": {},
       "output_type": "pyout",
       "prompt_number": 6,
       "text": [
        "               SX5E     V6I1     2w  EONIA       R_t    sigma**2   t  \\\n",
        "Date                                                                   \n",
        "2014-07-01  3258.71  14.0030  0.061  0.026       NaN         NaN   1   \n",
        "2014-07-02  3252.25  13.5367  0.058  0.023 -0.001984    9.922836   2   \n",
        "2014-07-03  3289.75  11.9063  0.060  0.032  0.011465  170.569492   3   \n",
        "2014-07-04  3270.47  11.8867  0.059  0.032 -0.005878  142.734439   4   \n",
        "2014-07-07  3230.92  14.1179  0.059  0.029 -0.012167  200.310053   5   \n",
        "2014-07-08  3184.38  16.5533  0.059  0.027 -0.014509  266.350289   6   \n",
        "2014-07-09  3203.10  15.3004  0.058  0.033  0.005861  236.388509   7   \n",
        "2014-07-10  3150.59  17.5459  0.058  0.036 -0.016529  300.977757   8   \n",
        "2014-07-11  3157.05  16.0369  0.058  0.050  0.002048  264.677144   9   \n",
        "2014-07-14  3185.86  15.4014  0.058  0.052  0.009084  258.375032  10   \n",
        "2014-07-15  3153.75  18.8811  0.058  0.034 -0.010130  258.397229  11   \n",
        "2014-07-16  3202.94  17.4739  0.058  0.036  0.015477  289.781854  12   \n",
        "2014-07-17  3157.82  17.4739  0.057  0.039 -0.014187  307.901592  13   \n",
        "2014-07-18  3164.21  17.4739  0.059  0.037  0.002022  285.009002  14   \n",
        "\n",
        "                DF_t         F_tS   ARMVM_t         F_ti  \n",
        "Date                                                      \n",
        "2014-07-01  0.999979  3000.000000  0.000000  3000.000000  \n",
        "2014-07-02  0.999980  2962.399064  0.000000  3000.000000  \n",
        "2014-07-03  0.999982  2951.853740 -0.003432  2950.019350  \n",
        "2014-07-04  0.999984  2945.631726 -0.009547  2953.911525  \n",
        "2014-07-07  0.999985  3003.602831 -0.016452  2945.734639  \n",
        "2014-07-08  0.999987  3074.659311 -0.016039  3003.673898  \n",
        "2014-07-09  0.999988  3039.168956 -0.008042  3074.112071  \n",
        "2014-07-10  0.999990  3107.844533 -0.002913  3039.332259  \n",
        "2014-07-11  0.999992  3065.903320  0.012494  3107.353049  \n",
        "2014-07-14  0.999993  3056.215962  0.025574  3066.438671  \n",
        "2014-07-15  0.999995  3083.296781  0.037181  3057.728232  \n",
        "2014-07-16  0.999997  3095.871295  0.048425  3076.289765  \n",
        "2014-07-17  0.999998  3111.572099  0.062129  3094.760204  \n",
        "2014-07-18  1.000000  3088.845586  0.079407  3111.755271  "
       ]
      }
     ],
     "prompt_number": 6
    },
    {
     "cell_type": "code",
     "collapsed": false,
     "input": [
      "futures = 100000. / (2 * 15) * T / (T - data['t']['2014-07-09'])\n",
      "futures"
     ],
     "language": "python",
     "metadata": {},
     "outputs": [
      {
       "metadata": {},
       "output_type": "pyout",
       "prompt_number": 7,
       "text": [
        "6666.666666666667"
       ]
      }
     ],
     "prompt_number": 7
    },
    {
     "cell_type": "code",
     "collapsed": false,
     "input": [
      "F_ti = data['F_ti']['2014-07-09']\n",
      "F_ti"
     ],
     "language": "python",
     "metadata": {},
     "outputs": [
      {
       "metadata": {},
       "output_type": "pyout",
       "prompt_number": 8,
       "text": [
        "3074.1120711860904"
       ]
      }
     ],
     "prompt_number": 8
    },
    {
     "cell_type": "code",
     "collapsed": false,
     "input": [
      "sigma_t2 = (data['t']['2014-07-09'] * data['sigma**2']['2014-07-09']\n",
      "         + (T - data['t']['2014-07-09']) * 15 ** 2) / T\n",
      "sigma_t2"
     ],
     "language": "python",
     "metadata": {},
     "outputs": [
      {
       "metadata": {},
       "output_type": "pyout",
       "prompt_number": 9,
       "text": [
        "230.69425436809692"
       ]
      }
     ],
     "prompt_number": 9
    },
    {
     "cell_type": "code",
     "collapsed": false,
     "input": [
      "F_t = (data['DF_t']['2014-07-09'] * (sigma_t2 - data['V6I1']['2014-07-01'] ** 2)\n",
      "               - data['ARMVM_t']['2014-07-09'] + 3000)\n",
      "F_t"
     ],
     "language": "python",
     "metadata": {},
     "outputs": [
      {
       "metadata": {},
       "output_type": "pyout",
       "prompt_number": 10,
       "text": [
        "3034.6178886332254"
       ]
      }
     ],
     "prompt_number": 10
    },
    {
     "cell_type": "code",
     "collapsed": false,
     "input": [
      "P_ti = futures * F_t\n",
      "P_ti"
     ],
     "language": "python",
     "metadata": {},
     "outputs": [
      {
       "metadata": {},
       "output_type": "pyout",
       "prompt_number": 11,
       "text": [
        "20230785.924221504"
       ]
      }
     ],
     "prompt_number": 11
    },
    {
     "cell_type": "heading",
     "level": 2,
     "metadata": {},
     "source": [
      "Trade Matching"
     ]
    },
    {
     "cell_type": "code",
     "collapsed": false,
     "input": [
      "F_tS = data['F_tS']['2014-07-09']\n",
      "F_tS"
     ],
     "language": "python",
     "metadata": {},
     "outputs": [
      {
       "metadata": {},
       "output_type": "pyout",
       "prompt_number": 12,
       "text": [
        "3039.1689563444738"
       ]
      }
     ],
     "prompt_number": 12
    },
    {
     "cell_type": "code",
     "collapsed": false,
     "input": [
      "P_t = futures * F_tS\n",
      "P_t"
     ],
     "language": "python",
     "metadata": {},
     "outputs": [
      {
       "metadata": {},
       "output_type": "pyout",
       "prompt_number": 13,
       "text": [
        "20261126.375629827"
       ]
      }
     ],
     "prompt_number": 13
    },
    {
     "cell_type": "code",
     "collapsed": false,
     "input": [
      "P_t - P_ti"
     ],
     "language": "python",
     "metadata": {},
     "outputs": [
      {
       "metadata": {},
       "output_type": "pyout",
       "prompt_number": 14,
       "text": [
        "30340.451408322901"
       ]
      }
     ],
     "prompt_number": 14
    },
    {
     "cell_type": "code",
     "collapsed": false,
     "input": [
      "100000 * (data['V6I1']['2014-07-09'] - 15)"
     ],
     "language": "python",
     "metadata": {},
     "outputs": [
      {
       "metadata": {},
       "output_type": "pyout",
       "prompt_number": 15,
       "text": [
        "30039.999999999978"
       ]
      }
     ],
     "prompt_number": 15
    },
    {
     "cell_type": "heading",
     "level": 2,
     "metadata": {},
     "source": [
      "Different Traded Volatilities"
     ]
    },
    {
     "cell_type": "code",
     "collapsed": false,
     "input": [
      "import numpy as np\n",
      "trad_vols = np.arange(14, 16.01, 0.5)\n",
      "trad_vols"
     ],
     "language": "python",
     "metadata": {},
     "outputs": [
      {
       "metadata": {},
       "output_type": "pyout",
       "prompt_number": 16,
       "text": [
        "array([ 14. ,  14.5,  15. ,  15.5,  16. ])"
       ]
      }
     ],
     "prompt_number": 16
    },
    {
     "cell_type": "code",
     "collapsed": false,
     "input": [
      "sigma_t2 = (data['t']['2014-07-09'] * data['sigma**2']['2014-07-09']\n",
      "         + (T - data['t']['2014-07-09']) * trad_vols ** 2) / T\n",
      "sigma_t2"
     ],
     "language": "python",
     "metadata": {},
     "outputs": [
      {
       "metadata": {},
       "output_type": "pyout",
       "prompt_number": 17,
       "text": [
        "array([ 216.19425437,  223.31925437,  230.69425437,  238.31925437,\n",
        "        246.19425437])"
       ]
      }
     ],
     "prompt_number": 17
    },
    {
     "cell_type": "code",
     "collapsed": false,
     "input": [
      "F_t = (data['DF_t']['2014-07-09'] * (sigma_t2 - data['V6I1']['2014-07-01'] ** 2)\n",
      "               - data['ARMVM_t']['2014-07-09'] + 3000)\n",
      "F_t"
     ],
     "language": "python",
     "metadata": {},
     "outputs": [
      {
       "metadata": {},
       "output_type": "pyout",
       "prompt_number": 18,
       "text": [
        "array([ 3020.11805548,  3027.2429735 ,  3034.61788863,  3042.24280089,\n",
        "        3050.11771028])"
       ]
      }
     ],
     "prompt_number": 18
    },
    {
     "cell_type": "code",
     "collapsed": false,
     "input": [
      "margins = futures * (F_tS - F_t)\n",
      "margins"
     ],
     "language": "python",
     "metadata": {},
     "outputs": [
      {
       "metadata": {},
       "output_type": "pyout",
       "prompt_number": 19,
       "text": [
        "array([ 127006.00575262,   79506.55232482,   30340.45140832,\n",
        "        -20492.29699687,  -72991.69289076])"
       ]
      }
     ],
     "prompt_number": 19
    },
    {
     "cell_type": "code",
     "collapsed": false,
     "input": [
      "results = pd.DataFrame({'margins': margins}, index=trad_vols)\n",
      "%matplotlib inline\n",
      "results.plot()"
     ],
     "language": "python",
     "metadata": {},
     "outputs": [
      {
       "metadata": {},
       "output_type": "pyout",
       "prompt_number": 20,
       "text": [
        "<matplotlib.axes._subplots.AxesSubplot at 0x7f53d5946b90>"
       ]
      },
      {
       "metadata": {},
       "output_type": "display_data",
       "png": "[encoded data removed]",
       "text": [
        "<matplotlib.figure.Figure at 0x7f53d5946590>"
       ]
      }
     ],
     "prompt_number": 20
    },
    {
     "cell_type": "heading",
     "level": 2,
     "metadata": {},
     "source": [
      "After the Trade Matching"
     ]
    },
    {
     "cell_type": "code",
     "collapsed": false,
     "input": [
      "F_diffs = (data['F_tS'] - data['F_tS'].shift(1))\n",
      "F_diffs"
     ],
     "language": "python",
     "metadata": {},
     "outputs": [
      {
       "metadata": {},
       "output_type": "pyout",
       "prompt_number": 21,
       "text": [
        "Date\n",
        "2014-07-01          NaN\n",
        "2014-07-02   -37.600936\n",
        "2014-07-03   -10.545324\n",
        "2014-07-04    -6.222014\n",
        "2014-07-07    57.971104\n",
        "2014-07-08    71.056480\n",
        "2014-07-09   -35.490354\n",
        "2014-07-10    68.675577\n",
        "2014-07-11   -41.941213\n",
        "2014-07-14    -9.687357\n",
        "2014-07-15    27.080818\n",
        "2014-07-16    12.574514\n",
        "2014-07-17    15.700804\n",
        "2014-07-18   -22.726513\n",
        "Name: F_tS, dtype: float64"
       ]
      }
     ],
     "prompt_number": 21
    },
    {
     "cell_type": "code",
     "collapsed": false,
     "input": [
      "margin_t = futures * F_diffs[F_diffs.index >= '2014-07-09']\n",
      "margin_t"
     ],
     "language": "python",
     "metadata": {},
     "outputs": [
      {
       "metadata": {},
       "output_type": "pyout",
       "prompt_number": 22,
       "text": [
        "Date\n",
        "2014-07-09   -236602.361179\n",
        "2014-07-10    457837.178527\n",
        "2014-07-11   -279608.089785\n",
        "2014-07-14    -64582.382079\n",
        "2014-07-15    180538.788285\n",
        "2014-07-16     83830.093704\n",
        "2014-07-17    104672.027649\n",
        "2014-07-18   -151510.084295\n",
        "Name: F_tS, dtype: float64"
       ]
      }
     ],
     "prompt_number": 22
    },
    {
     "cell_type": "code",
     "collapsed": false,
     "input": [
      "results = pd.DataFrame(np.tile(margin_t, (len(trad_vols), 1)).T,\n",
      "                       index=margin_t.index,\n",
      "                       columns=trad_vols)\n",
      "results.loc['2014-07-09', :] = margins\n",
      "  # setting the different first day margins\n",
      "results"
     ],
     "language": "python",
     "metadata": {},
     "outputs": [
      {
       "html": [
        "<div style=\"max-height:1000px;max-width:1500px;overflow:auto;\">\n",
        "<table border=\"1\" class=\"dataframe\">\n",
        "  <thead>\n",
        "    <tr style=\"text-align: right;\">\n",
        "      <th></th>\n",
        "      <th>14.0</th>\n",
        "      <th>14.5</th>\n",
        "      <th>15.0</th>\n",
        "      <th>15.5</th>\n",
        "      <th>16.0</th>\n",
        "    </tr>\n",
        "    <tr>\n",
        "      <th>Date</th>\n",
        "      <th></th>\n",
        "      <th></th>\n",
        "      <th></th>\n",
        "      <th></th>\n",
        "      <th></th>\n",
        "    </tr>\n",
        "  </thead>\n",
        "  <tbody>\n",
        "    <tr>\n",
        "      <th>2014-07-09</th>\n",
        "      <td> 127006.005753</td>\n",
        "      <td>  79506.552325</td>\n",
        "      <td>  30340.451408</td>\n",
        "      <td> -20492.296997</td>\n",
        "      <td> -72991.692891</td>\n",
        "    </tr>\n",
        "    <tr>\n",
        "      <th>2014-07-10</th>\n",
        "      <td> 457837.178527</td>\n",
        "      <td> 457837.178527</td>\n",
        "      <td> 457837.178527</td>\n",
        "      <td> 457837.178527</td>\n",
        "      <td> 457837.178527</td>\n",
        "    </tr>\n",
        "    <tr>\n",
        "      <th>2014-07-11</th>\n",
        "      <td>-279608.089785</td>\n",
        "      <td>-279608.089785</td>\n",
        "      <td>-279608.089785</td>\n",
        "      <td>-279608.089785</td>\n",
        "      <td>-279608.089785</td>\n",
        "    </tr>\n",
        "    <tr>\n",
        "      <th>2014-07-14</th>\n",
        "      <td> -64582.382079</td>\n",
        "      <td> -64582.382079</td>\n",
        "      <td> -64582.382079</td>\n",
        "      <td> -64582.382079</td>\n",
        "      <td> -64582.382079</td>\n",
        "    </tr>\n",
        "    <tr>\n",
        "      <th>2014-07-15</th>\n",
        "      <td> 180538.788285</td>\n",
        "      <td> 180538.788285</td>\n",
        "      <td> 180538.788285</td>\n",
        "      <td> 180538.788285</td>\n",
        "      <td> 180538.788285</td>\n",
        "    </tr>\n",
        "    <tr>\n",
        "      <th>2014-07-16</th>\n",
        "      <td>  83830.093704</td>\n",
        "      <td>  83830.093704</td>\n",
        "      <td>  83830.093704</td>\n",
        "      <td>  83830.093704</td>\n",
        "      <td>  83830.093704</td>\n",
        "    </tr>\n",
        "    <tr>\n",
        "      <th>2014-07-17</th>\n",
        "      <td> 104672.027649</td>\n",
        "      <td> 104672.027649</td>\n",
        "      <td> 104672.027649</td>\n",
        "      <td> 104672.027649</td>\n",
        "      <td> 104672.027649</td>\n",
        "    </tr>\n",
        "    <tr>\n",
        "      <th>2014-07-18</th>\n",
        "      <td>-151510.084295</td>\n",
        "      <td>-151510.084295</td>\n",
        "      <td>-151510.084295</td>\n",
        "      <td>-151510.084295</td>\n",
        "      <td>-151510.084295</td>\n",
        "    </tr>\n",
        "  </tbody>\n",
        "</table>\n",
        "</div>"
       ],
       "metadata": {},
       "output_type": "pyout",
       "prompt_number": 23,
       "text": [
        "                     14.0           14.5           15.0           15.5  \\\n",
        "Date                                                                     \n",
        "2014-07-09  127006.005753   79506.552325   30340.451408  -20492.296997   \n",
        "2014-07-10  457837.178527  457837.178527  457837.178527  457837.178527   \n",
        "2014-07-11 -279608.089785 -279608.089785 -279608.089785 -279608.089785   \n",
        "2014-07-14  -64582.382079  -64582.382079  -64582.382079  -64582.382079   \n",
        "2014-07-15  180538.788285  180538.788285  180538.788285  180538.788285   \n",
        "2014-07-16   83830.093704   83830.093704   83830.093704   83830.093704   \n",
        "2014-07-17  104672.027649  104672.027649  104672.027649  104672.027649   \n",
        "2014-07-18 -151510.084295 -151510.084295 -151510.084295 -151510.084295   \n",
        "\n",
        "                     16.0  \n",
        "Date                       \n",
        "2014-07-09  -72991.692891  \n",
        "2014-07-10  457837.178527  \n",
        "2014-07-11 -279608.089785  \n",
        "2014-07-14  -64582.382079  \n",
        "2014-07-15  180538.788285  \n",
        "2014-07-16   83830.093704  \n",
        "2014-07-17  104672.027649  \n",
        "2014-07-18 -151510.084295  "
       ]
      }
     ],
     "prompt_number": 23
    },
    {
     "cell_type": "code",
     "collapsed": false,
     "input": [
      "results.cumsum().plot(figsize=(9, 6), title='cumulative P&L')"
     ],
     "language": "python",
     "metadata": {},
     "outputs": [
      {
       "metadata": {},
       "output_type": "pyout",
       "prompt_number": 24,
       "text": [
        "<matplotlib.axes._subplots.AxesSubplot at 0x7f53d5906a10>"
       ]
      },
      {
       "metadata": {},
       "output_type": "display_data",
       "png": "[encoded data removed]",
       "text": [
        "<matplotlib.figure.Figure at 0x7f53d5885250>"
       ]
      }
     ],
     "prompt_number": 24
    },
    {
     "cell_type": "heading",
     "level": 2,
     "metadata": {},
     "source": [
      "Further Details"
     ]
    },
    {
     "cell_type": "heading",
     "level": 3,
     "metadata": {},
     "source": [
      "Interest Rate Calculation"
     ]
    },
    {
     "cell_type": "heading",
     "level": 3,
     "metadata": {},
     "source": [
      "Market Disruption Events"
     ]
    },
    {
     "cell_type": "markdown",
     "metadata": {},
     "source": [
      "<img src=\"http://hilpisch.com/tpq_logo.png\" alt=\"The Python Quants\" width=\"35%\" align=\"right\" border=\"0\"><br>\n",
      "\n",
      "<a href=\"http://www.pythonquants.com\" target=\"_blank\">www.pythonquants.com</a> | <a href=\"mailto:analytics@pythonquants.com\">analytics@pythonquants.com</a> | <a href=\"http://twitter.com/dyjh\" target=\"_blank\">@dyjh</a>\n",
      "\n",
      "**Eurex Advanced Services** |\n",
      "<a href=\"http://www.eurexchange.com/advanced-services/\">Eurex Advanced Services Web site</a>\n",
      "\n",
      "**Python Quant Platform** |\n",
      "<a href=\"http://quant-platform.com\">http://quant-platform.com</a>\n",
      "\n",
      "**Derivatives Analytics with Python** |\n",
      "<a href=\"http://www.derivatives-analytics-with-python.com\" target=\"_blank\">Derivatives Analytics @ Wiley Finance</a>\n",
      "\n",
      "**Python for Finance** |\n",
      "<a href=\"http://shop.oreilly.com/product/0636920032441.do\" target=\"_blank\">Python for Finance @ O'Reilly</a>"
     ]
    }
   ],
   "metadata": {}
  }
 ]
}