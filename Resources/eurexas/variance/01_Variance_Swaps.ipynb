{
 "metadata": {
  "name": "",
  "signature": "sha256:0de5dfd0b8cb8171e35fc70ef344d41f1a91a30842dbc3a0142f9aeda78158e6"
 },
 "nbformat": 3,
 "nbformat_minor": 0,
 "worksheets": [
  {
   "cells": [
    {
     "cell_type": "markdown",
     "metadata": {},
     "source": [
      "<div id=\"under\" style=\"left: 0px; top: 0px; position: relative\"> <img src=\"http://hilpisch.com/header.jpg\"> </div>"
     ]
    },
    {
     "cell_type": "heading",
     "level": 1,
     "metadata": {},
     "source": [
      "Realized Variance and Variance Swaps"
     ]
    },
    {
     "cell_type": "markdown",
     "metadata": {},
     "source": [
      "Dr. Yves J. Hilpisch\n",
      "\n",
      "The Python Quants GmbH\n",
      "\n",
      "<a href='mailto:analytics@pythonquants.com'>analytics@pythonquants.com</a>\n",
      "\n",
      "<a href='http://pythonquants.com'>www.pythonquants.com</a>"
     ]
    },
    {
     "cell_type": "heading",
     "level": 2,
     "metadata": {},
     "source": [
      "Tutorial Pages"
     ]
    },
    {
     "cell_type": "markdown",
     "metadata": {},
     "source": [
      "You find the **Variance Advanced Services** tutorial pages under\n",
      "\n",
      "**<a href=\"http://www.eurexchange.com/advanced-services/variance/\" target=\"_blank\">http://www.eurexchange.com/advanced-services/variance/</a>**\n",
      "\n",
      "The respective **tutorial page** on which this IPython Notebook is based on is found under:\n",
      "\n",
      "**<a href=\"http://www.eurexchange.com/advanced-services/variance/01_Variance_Swaps.html\" target=\"_blank\">Realized Variance and Variance Swaps</a>**\n",
      "\n",
      "A **general overview** of the Advanced Services offering is given here:\n",
      "\n",
      "**<a href=\"http://www.eurexchange.com/advanced-services/\" target=\"_blank\">http://www.eurexchange.com/advanced-services/</a>**"
     ]
    },
    {
     "cell_type": "heading",
     "level": 2,
     "metadata": {},
     "source": [
      "Realized Variance"
     ]
    },
    {
     "cell_type": "code",
     "collapsed": false,
     "input": [
      "import numpy as np  # library for array operations\n",
      "import pandas as pd  # library for time series management\n",
      "import math  # mathematical functions"
     ],
     "language": "python",
     "metadata": {},
     "outputs": []
    },
    {
     "cell_type": "code",
     "collapsed": false,
     "input": [
      "# text/csv file containing daily closing level of EURO STOXX 50 index\n",
      "es_url = 'http://www.stoxx.com/download/historical_values/hbrbcpe.txt'"
     ],
     "language": "python",
     "metadata": {},
     "outputs": []
    },
    {
     "cell_type": "code",
     "collapsed": false,
     "input": [
      "# column names for the data set\n",
      "cols = ['Date', 'SX5P', 'SX5E', 'SXXP', 'SXXE',\n",
      "        'SXXF', 'SXXA', 'DK5F', 'DKXF', 'DEL']\n",
      "\n",
      "# reading the data with pandas\n",
      "try:\n",
      "    es = pd.read_csv(es_url,  # filename\n",
      "                     header=None,  # ignore column names\n",
      "                     index_col=0,  # index column (dates)\n",
      "                     parse_dates=True,  # parse these dates\n",
      "                     dayfirst=True,  # format of dates\n",
      "                     skiprows=4,  # ignore these rows\n",
      "                     sep=';',  # data separator\n",
      "                     names=cols)  # use these column names\n",
      "\n",
      "    # deleting the helper column\n",
      "    del es['DEL']\n",
      "except:\n",
      "    # read stored data if there is no Internet connection\n",
      "    es = pd.HDFStore('data/SX5E.h5', 'r')['SX5E']"
     ],
     "language": "python",
     "metadata": {},
     "outputs": []
    },
    {
     "cell_type": "code",
     "collapsed": false,
     "input": [
      "es.tail()"
     ],
     "language": "python",
     "metadata": {},
     "outputs": []
    },
    {
     "cell_type": "code",
     "collapsed": false,
     "input": [
      "data = pd.DataFrame({'SX5E': es['SX5E']})\n",
      "%matplotlib inline\n",
      "data.plot(figsize=(10, 5));"
     ],
     "language": "python",
     "metadata": {},
     "outputs": []
    },
    {
     "cell_type": "code",
     "collapsed": false,
     "input": [
      "data['R_n'] = np.log(data['SX5E'] / data['SX5E'].shift(1))"
     ],
     "language": "python",
     "metadata": {},
     "outputs": []
    },
    {
     "cell_type": "code",
     "collapsed": false,
     "input": [
      "data.tail()"
     ],
     "language": "python",
     "metadata": {},
     "outputs": []
    },
    {
     "cell_type": "code",
     "collapsed": false,
     "input": [
      "data['sigma**2'] = 10000 * 252 * np.cumsum(data['R_n'] ** 2) / np.arange(len(data))\n",
      "  # np.cumsum calculates the element-wise cumulative sum of an array/time series\n",
      "  # np.arange(N) gives an array of the form [0, 1, ..., N]\n",
      "    "
     ],
     "language": "python",
     "metadata": {},
     "outputs": []
    },
    {
     "cell_type": "code",
     "collapsed": false,
     "input": [
      "data.tail()"
     ],
     "language": "python",
     "metadata": {},
     "outputs": []
    },
    {
     "cell_type": "code",
     "collapsed": false,
     "input": [
      "data[['SX5E', 'sigma**2']].plot(subplots=True,\n",
      "                                 figsize=(10, 8),\n",
      "                                 color='blue',\n",
      "                                 grid=True);"
     ],
     "language": "python",
     "metadata": {},
     "outputs": []
    },
    {
     "cell_type": "code",
     "collapsed": false,
     "input": [
      "# select time series data with date later than given data\n",
      "short = data[['SX5E', 'R_n']][data.index > '31-12-2013']\n",
      "\n",
      "# calculate the realized variance in percent values\n",
      "short['sigma**2'] = 10000 * 252 * np.cumsum(short['R_n'] ** 2) / np.arange(len(short))\n"
     ],
     "language": "python",
     "metadata": {},
     "outputs": []
    },
    {
     "cell_type": "code",
     "collapsed": false,
     "input": [
      "short.head()"
     ],
     "language": "python",
     "metadata": {},
     "outputs": []
    },
    {
     "cell_type": "code",
     "collapsed": false,
     "input": [
      "short[['SX5E', 'sigma**2']].plot(subplots=True,\n",
      "                                 figsize=(10, 8),\n",
      "                                 color='blue',\n",
      "                                 grid=True);"
     ],
     "language": "python",
     "metadata": {},
     "outputs": []
    },
    {
     "cell_type": "heading",
     "level": 2,
     "metadata": {},
     "source": [
      "Variance Swaps"
     ]
    },
    {
     "cell_type": "heading",
     "level": 3,
     "metadata": {},
     "source": [
      "Definition of a Variance Swap"
     ]
    },
    {
     "cell_type": "heading",
     "level": 3,
     "metadata": {},
     "source": [
      "Numerical Example"
     ]
    },
    {
     "cell_type": "code",
     "collapsed": false,
     "input": [
      "def generate_path(S0, r, sigma, T, M):\n",
      "    ''' Function to simulate a geometric Brownian motion.\n",
      "    \n",
      "    Parameters\n",
      "    ==========\n",
      "    S0: float\n",
      "        initial index level\n",
      "    r: float\n",
      "        constant risk-less short rate\n",
      "    sigma: float\n",
      "        instantaneous volatility\n",
      "    T: float\n",
      "        date of maturity (in year fractions)\n",
      "    M: int\n",
      "        number of time intervals\n",
      "    \n",
      "    Returns\n",
      "    =======\n",
      "    path: pandas DataFrame object\n",
      "        simulated path\n",
      "    '''\n",
      "    # length of time interval\n",
      "    dt = float(T) / M\n",
      "    # random numbers\n",
      "    np.random.seed(100000)\n",
      "    rn = np.random.standard_normal(M + 1)\n",
      "    # simulation of path\n",
      "    path = S0 * np.exp(np.cumsum((r - 0.5 * sigma ** 2) * dt\n",
      "                                  + sigma * math.sqrt(dt) * rn))\n",
      "    # setting initial value\n",
      "    path[0] = S0\n",
      "    return pd.DataFrame(path, columns=['index'])\n"
     ],
     "language": "python",
     "metadata": {},
     "outputs": []
    },
    {
     "cell_type": "code",
     "collapsed": false,
     "input": [
      "S0 = 100  # initial index level\n",
      "r = 0.005  # risk-less short rate\n",
      "sigma = 0.2  # instantaneous volatility\n",
      "T = 1.0 # maturity date\n",
      "M = 50  # number of time intervals\n",
      "\n",
      "data = generate_path(S0, r, sigma, T, M)\n",
      "data.plot(figsize=(10, 5));"
     ],
     "language": "python",
     "metadata": {},
     "outputs": []
    },
    {
     "cell_type": "code",
     "collapsed": false,
     "input": [
      "data['R_t'] = np.log(data['index'] / data['index'].shift(1))\n",
      "\n",
      "# scaling now by M / T since returns are not necessarily daily returns\n",
      "data['sigma**2'] = 10000 * M / T * np.cumsum(data['R_t'] ** 2) / np.arange(len(data))\n",
      "\n",
      "data.tail()"
     ],
     "language": "python",
     "metadata": {},
     "outputs": []
    },
    {
     "cell_type": "code",
     "collapsed": false,
     "input": [
      "data[['index', 'sigma**2']].plot(subplots=True,\n",
      "                                 figsize=(10, 8),\n",
      "                                 color='blue',\n",
      "                                 grid=True);"
     ],
     "language": "python",
     "metadata": {},
     "outputs": []
    },
    {
     "cell_type": "code",
     "collapsed": false,
     "input": [
      "data['sigma**2'].iloc[-1] - 20 ** 2"
     ],
     "language": "python",
     "metadata": {},
     "outputs": []
    },
    {
     "cell_type": "code",
     "collapsed": false,
     "input": [
      "Notional = 100000. / (2 * 20)\n",
      "Notional"
     ],
     "language": "python",
     "metadata": {},
     "outputs": []
    },
    {
     "cell_type": "code",
     "collapsed": false,
     "input": [
      "Notional * (data['sigma**2'].iloc[-1] - 20 ** 2)"
     ],
     "language": "python",
     "metadata": {},
     "outputs": []
    },
    {
     "cell_type": "heading",
     "level": 3,
     "metadata": {},
     "source": [
      "Mark-to-Market"
     ]
    },
    {
     "cell_type": "code",
     "collapsed": false,
     "input": [
      "dt = T / M\n",
      "t = np.arange(M + 1) * dt\n",
      "t"
     ],
     "language": "python",
     "metadata": {},
     "outputs": []
    },
    {
     "cell_type": "code",
     "collapsed": false,
     "input": [
      "sigma_K = 20\n",
      "data['V_t'] = Notional * np.exp(-r * (T - t)) * ((t * data['sigma**2']\n",
      "                                     + (T - t) * sigma_K ** 2) / T - sigma_K ** 2) \n",
      "data.tail()"
     ],
     "language": "python",
     "metadata": {},
     "outputs": []
    },
    {
     "cell_type": "code",
     "collapsed": false,
     "input": [
      "data[['index', 'sigma**2', 'V_t']].plot(subplots=True,\n",
      "                                 figsize=(10, 12),\n",
      "                                 color='blue',\n",
      "                                 grid=True);"
     ],
     "language": "python",
     "metadata": {},
     "outputs": []
    },
    {
     "cell_type": "heading",
     "level": 3,
     "metadata": {},
     "source": [
      "Vega Sensitivity"
     ]
    },
    {
     "cell_type": "heading",
     "level": 3,
     "metadata": {},
     "source": [
      "Variance Swap on the EURO STOXX 50"
     ]
    },
    {
     "cell_type": "code",
     "collapsed": false,
     "input": [
      "es.info()"
     ],
     "language": "python",
     "metadata": {},
     "outputs": []
    },
    {
     "cell_type": "code",
     "collapsed": false,
     "input": [
      "vs_url = 'http://www.stoxx.com/download/historical_values/h_vstoxx.txt'\n",
      "\n",
      "try:\n",
      "    vs = pd.read_csv(vs_url,  # filename\n",
      "                     index_col=0,  # index column (dates)\n",
      "                     parse_dates=True,  # parse date information\n",
      "                     dayfirst=True, # day before month\n",
      "                     header=2)  # header/column names\n",
      "except:\n",
      "    # read stored data if there is no Internet connection\n",
      "    vs = pd.HDFStore('data/V2TX.h5', 'r')['V2TX']\n",
      "\n",
      "vs.info()"
     ],
     "language": "python",
     "metadata": {},
     "outputs": []
    },
    {
     "cell_type": "code",
     "collapsed": false,
     "input": [
      "# 14 trading days\n",
      "T = 14."
     ],
     "language": "python",
     "metadata": {},
     "outputs": []
    },
    {
     "cell_type": "code",
     "collapsed": false,
     "input": [
      "data = pd.DataFrame(es['SX5E'][(es.index > '30-6-2014')\n",
      "                        & (es.index < '19-07-2014')])"
     ],
     "language": "python",
     "metadata": {},
     "outputs": []
    },
    {
     "cell_type": "code",
     "collapsed": false,
     "input": [
      "data['V6I1'] = vs['V6I1'][(vs.index > '30-6-2014')\n",
      "                        & (vs.index < '19-07-2014')]"
     ],
     "language": "python",
     "metadata": {},
     "outputs": []
    },
    {
     "cell_type": "code",
     "collapsed": false,
     "input": [
      "data"
     ],
     "language": "python",
     "metadata": {},
     "outputs": []
    },
    {
     "cell_type": "code",
     "collapsed": false,
     "input": [
      "data = data.fillna(method='ffill')"
     ],
     "language": "python",
     "metadata": {},
     "outputs": []
    },
    {
     "cell_type": "code",
     "collapsed": false,
     "input": [
      "h5 = pd.HDFStore('data/SX5E_V6I1.h5')\n",
      "h5['SX5E_V6I1'] = data\n",
      "h5.close()"
     ],
     "language": "python",
     "metadata": {},
     "outputs": []
    },
    {
     "cell_type": "code",
     "collapsed": false,
     "input": [
      "sigma_K = data['V6I1'][0]\n",
      "Notional = 100000 / (2. * sigma_K)\n",
      "Notional"
     ],
     "language": "python",
     "metadata": {},
     "outputs": []
    },
    {
     "cell_type": "code",
     "collapsed": false,
     "input": [
      "data['R_t'] = np.log(data['SX5E'] / data['SX5E'].shift(1))"
     ],
     "language": "python",
     "metadata": {},
     "outputs": []
    },
    {
     "cell_type": "code",
     "collapsed": false,
     "input": [
      "data['sigma**2'] = 10000 * 252 * np.cumsum(data['R_t'] ** 2) / np.arange(len(data))"
     ],
     "language": "python",
     "metadata": {},
     "outputs": []
    },
    {
     "cell_type": "code",
     "collapsed": false,
     "input": [
      "t = np.arange(1, 15)\n",
      "t"
     ],
     "language": "python",
     "metadata": {},
     "outputs": []
    },
    {
     "cell_type": "code",
     "collapsed": false,
     "input": [
      "r = 0.0006\n",
      "data['V_t'] = np.exp(-r * (T - t) / 365.) * ((t * data['sigma**2']\n",
      "                + (T - t) * data['V6I1'] ** 2) / T - sigma_K ** 2) "
     ],
     "language": "python",
     "metadata": {},
     "outputs": []
    },
    {
     "cell_type": "code",
     "collapsed": false,
     "input": [
      "data['V_t'].loc['2014-07-01'] = 0.0"
     ],
     "language": "python",
     "metadata": {},
     "outputs": []
    },
    {
     "cell_type": "code",
     "collapsed": false,
     "input": [
      "data"
     ],
     "language": "python",
     "metadata": {},
     "outputs": []
    },
    {
     "cell_type": "code",
     "collapsed": false,
     "input": [
      "Notional * data['V_t'][-1]"
     ],
     "language": "python",
     "metadata": {},
     "outputs": []
    },
    {
     "cell_type": "code",
     "collapsed": false,
     "input": [
      "data[['SX5E', 'sigma**2', 'V_t']].plot(subplots=True,\n",
      "                                       color='blue',\n",
      "                                       figsize=(10, 9));"
     ],
     "language": "python",
     "metadata": {},
     "outputs": []
    },
    {
     "cell_type": "code",
     "collapsed": false,
     "input": [
      "h5 = pd.HDFStore('data/var_data.h5', 'w')\n",
      "h5['var_swap'] = data\n",
      "h5.close()"
     ],
     "language": "python",
     "metadata": {},
     "outputs": []
    },
    {
     "cell_type": "heading",
     "level": 2,
     "metadata": {},
     "source": [
      "Variance vs. Volatility"
     ]
    },
    {
     "cell_type": "heading",
     "level": 3,
     "metadata": {},
     "source": [
      "Squared Variations"
     ]
    },
    {
     "cell_type": "heading",
     "level": 3,
     "metadata": {},
     "source": [
      "Additivity in Time"
     ]
    },
    {
     "cell_type": "code",
     "collapsed": false,
     "input": [
      "# function to calculate the realized variance\n",
      "rv = lambda ret_dat: 10000 * 252. / N * np.sum(ret_dat ** 2)"
     ],
     "language": "python",
     "metadata": {},
     "outputs": []
    },
    {
     "cell_type": "code",
     "collapsed": false,
     "input": [
      "data = np.array([0.01, 0.02, 0.03, 0.04, 0.05])"
     ],
     "language": "python",
     "metadata": {},
     "outputs": []
    },
    {
     "cell_type": "code",
     "collapsed": false,
     "input": [
      "N = len(data)\n",
      "N"
     ],
     "language": "python",
     "metadata": {},
     "outputs": []
    },
    {
     "cell_type": "code",
     "collapsed": false,
     "input": [
      "rv(data[:2]) + rv(data[2:])"
     ],
     "language": "python",
     "metadata": {},
     "outputs": []
    },
    {
     "cell_type": "code",
     "collapsed": false,
     "input": [
      "rv(data)"
     ],
     "language": "python",
     "metadata": {},
     "outputs": []
    },
    {
     "cell_type": "code",
     "collapsed": false,
     "input": [
      "data = pd.DataFrame(es['SX5E'][(es.index > '31-12-2012')\n",
      "                             & (es.index < '01-01-2014')])\n",
      "data['R_t'] = np.log(data['SX5E'] / data['SX5E'].shift(1))  # we need log returns"
     ],
     "language": "python",
     "metadata": {},
     "outputs": []
    },
    {
     "cell_type": "code",
     "collapsed": false,
     "input": [
      "N = len(data) - 1\n",
      "N"
     ],
     "language": "python",
     "metadata": {},
     "outputs": []
    },
    {
     "cell_type": "code",
     "collapsed": false,
     "input": [
      "var_1st = rv(data['R_t'][data.index < '2013-07-01'])\n",
      "var_1st"
     ],
     "language": "python",
     "metadata": {},
     "outputs": []
    },
    {
     "cell_type": "code",
     "collapsed": false,
     "input": [
      "var_2nd = rv(data['R_t'][data.index > '2013-06-30']) \n",
      "var_2nd"
     ],
     "language": "python",
     "metadata": {},
     "outputs": []
    },
    {
     "cell_type": "code",
     "collapsed": false,
     "input": [
      "var_1st + var_2nd"
     ],
     "language": "python",
     "metadata": {},
     "outputs": []
    },
    {
     "cell_type": "code",
     "collapsed": false,
     "input": [
      "var_full = rv(data['R_t'])\n",
      "var_full"
     ],
     "language": "python",
     "metadata": {},
     "outputs": []
    },
    {
     "cell_type": "code",
     "collapsed": false,
     "input": [
      "vol_1st = math.sqrt(rv(data['R_t'][data.index < '2013-07-01']))\n",
      "vol_1st"
     ],
     "language": "python",
     "metadata": {},
     "outputs": []
    },
    {
     "cell_type": "code",
     "collapsed": false,
     "input": [
      "vol_2nd = math.sqrt(rv(data['R_t'][data.index > '2013-06-30']))\n",
      "vol_2nd"
     ],
     "language": "python",
     "metadata": {},
     "outputs": []
    },
    {
     "cell_type": "code",
     "collapsed": false,
     "input": [
      "vol_1st + vol_2nd"
     ],
     "language": "python",
     "metadata": {},
     "outputs": []
    },
    {
     "cell_type": "code",
     "collapsed": false,
     "input": [
      "vol_full = math.sqrt(rv(data['R_t']))\n",
      "vol_full"
     ],
     "language": "python",
     "metadata": {},
     "outputs": []
    },
    {
     "cell_type": "heading",
     "level": 3,
     "metadata": {},
     "source": [
      "Static Hedges"
     ]
    },
    {
     "cell_type": "heading",
     "level": 3,
     "metadata": {},
     "source": [
      "Broad Measure of Risk"
     ]
    },
    {
     "cell_type": "heading",
     "level": 2,
     "metadata": {},
     "source": [
      "Further Reading"
     ]
    },
    {
     "cell_type": "markdown",
     "metadata": {},
     "source": [
      "<img src=\"http://hilpisch.com/tpq_logo.png\" alt=\"The Python Quants\" width=\"35%\" align=\"right\" border=\"0\"><br>\n",
      "\n",
      "<a href=\"http://www.pythonquants.com\" target=\"_blank\">www.pythonquants.com</a> | <a href=\"mailto:analytics@pythonquants.com\">analytics@pythonquants.com</a> | <a href=\"http://twitter.com/dyjh\" target=\"_blank\">@dyjh</a>\n",
      "\n",
      "**Eurex Advanced Services** |\n",
      "<a href=\"http://www.eurexchange.com/advanced-services/\">Eurex Advanced Services Web site</a>\n",
      "\n",
      "**Python Quant Platform** |\n",
      "<a href=\"http://quant-platform.com\">http://quant-platform.com</a>\n",
      "\n",
      "**Derivatives Analytics with Python** |\n",
      "<a href=\"http://www.derivatives-analytics-with-python.com\" target=\"_blank\">Derivatives Analytics @ Wiley Finance</a>\n",
      "\n",
      "**Python for Finance** |\n",
      "<a href=\"http://shop.oreilly.com/product/0636920032441.do\" target=\"_blank\">Python for Finance @ O'Reilly</a>"
     ]
    }
   ],
   "metadata": {}
  }
 ]
}