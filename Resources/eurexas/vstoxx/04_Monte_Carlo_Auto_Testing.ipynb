{
 "metadata": {
  "name": "",
  "signature": "sha256:2e66db11e0f4a1fff537636786d2674b03a3e84ac440d415a63ca73718b96da4"
 },
 "nbformat": 3,
 "nbformat_minor": 0,
 "worksheets": [
  {
   "cells": [
    {
     "cell_type": "markdown",
     "metadata": {},
     "source": [
      "<div id=\"under\" style=\"left: 0px; top: 0px; position: relative\"> <img src=\"http://hilpisch.com/header.jpg\"> </div>"
     ]
    },
    {
     "cell_type": "heading",
     "level": 1,
     "metadata": {},
     "source": [
      "Automated Monte Carlo Tests"
     ]
    },
    {
     "cell_type": "markdown",
     "metadata": {},
     "source": [
      "Dr. Yves J. Hilpisch\n",
      "\n",
      "The Python Quants GmbH\n",
      "\n",
      "<a href='mailto:analytics@pythonquants.com'>analytics@pythonquants.com</a>\n",
      "\n",
      "<a href='http://pythonquants.com'>www.pythonquants.com</a>"
     ]
    },
    {
     "cell_type": "heading",
     "level": 2,
     "metadata": {},
     "source": [
      "Tutorial Pages"
     ]
    },
    {
     "cell_type": "markdown",
     "metadata": {},
     "source": [
      "You find the **VSTOXX Advanced Services** tutorial pages under\n",
      "\n",
      "**<a href=\"http://www.eurexchange.com/advanced-services/vstoxx/\" target=\"_blank\">http://www.eurexchange.com/advanced-services/vstoxx/</a>**\n",
      "\n",
      "The respective **tutorial page** on which this IPython Notebook is based on is found under:\n",
      "\n",
      "**<a href=\"http://www.eurexchange.com/advanced-services/vstoxx/04_Monte_Carlo_Auto_Testing.html\" target=\"_blank\">Automated Monte Carlo Tests</a>**\n",
      "\n",
      "A **general overview** of the Advanced Services offering is given here:\n",
      "\n",
      "**<a href=\"http://www.eurexchange.com/advanced-services/\" target=\"_blank\">http://www.eurexchange.com/advanced-services/</a>**"
     ]
    },
    {
     "cell_type": "heading",
     "level": 2,
     "metadata": {},
     "source": [
      "The Test Runs"
     ]
    },
    {
     "cell_type": "code",
     "collapsed": false,
     "input": [
      "import sys\n",
      "import numpy as np\n",
      "import pandas as pd\n",
      "sys.path.append('scripts')\n",
      "path = './data/'"
     ],
     "language": "python",
     "metadata": {},
     "outputs": []
    },
    {
     "cell_type": "markdown",
     "metadata": {},
     "source": [
      "Uncomment next line to conduct the complete Monte Carlo test series."
     ]
    },
    {
     "cell_type": "code",
     "collapsed": false,
     "input": [
      "# %run scripts/simulation_analysis.py\n",
      "# takes 15+ mins"
     ],
     "language": "python",
     "metadata": {},
     "outputs": []
    },
    {
     "cell_type": "heading",
     "level": 2,
     "metadata": {},
     "source": [
      "Results Analysis"
     ]
    },
    {
     "cell_type": "heading",
     "level": 3,
     "metadata": {},
     "source": [
      "Overview"
     ]
    },
    {
     "cell_type": "code",
     "collapsed": false,
     "input": [
      "import simulation_results as sr"
     ],
     "language": "python",
     "metadata": {},
     "outputs": []
    },
    {
     "cell_type": "code",
     "collapsed": false,
     "input": [
      "sr.print_results_long(idh=3)"
     ],
     "language": "python",
     "metadata": {},
     "outputs": []
    },
    {
     "cell_type": "code",
     "collapsed": false,
     "input": [
      "%matplotlib inline\n",
      "sr.plot_error_ratio()"
     ],
     "language": "python",
     "metadata": {},
     "outputs": []
    },
    {
     "cell_type": "heading",
     "level": 3,
     "metadata": {},
     "source": [
      "Ad hoc Analyses with pandas"
     ]
    },
    {
     "cell_type": "code",
     "collapsed": false,
     "input": [
      "import pandas as pd\n",
      "\n",
      "filename = 'data/simulation_results.h5'\n",
      "\n",
      "h5 = pd.HDFStore(filename, 'r')\n",
      "\n",
      "data = h5['sim_results']\n",
      "\n",
      "h5.close()\n",
      "\n",
      "data.info()"
     ],
     "language": "python",
     "metadata": {},
     "outputs": []
    },
    {
     "cell_type": "code",
     "collapsed": false,
     "input": [
      "data.groupby(['mo_match']).mean()[['error_ratio']]"
     ],
     "language": "python",
     "metadata": {},
     "outputs": []
    },
    {
     "cell_type": "code",
     "collapsed": false,
     "input": [
      "data.groupby(['mo_match', 'anti_paths']).mean()[['error_ratio', 'errors']]"
     ],
     "language": "python",
     "metadata": {},
     "outputs": []
    },
    {
     "cell_type": "code",
     "collapsed": false,
     "input": [
      "data.groupby(['time_steps', 'paths']).mean()[['error_ratio', 'time_opt']]"
     ],
     "language": "python",
     "metadata": {},
     "outputs": []
    },
    {
     "cell_type": "code",
     "collapsed": false,
     "input": [
      "import matplotlib.pyplot as plt\n",
      "df = data.groupby(['time_steps', 'paths']).mean()[['error_ratio', 'time_opt']]\n",
      "\n",
      "df.plot(x='time_opt', y='error_ratio', style='bo')\n",
      "plt.xlabel('time per option valuation')\n",
      "plt.ylabel('error ratio')"
     ],
     "language": "python",
     "metadata": {},
     "outputs": []
    },
    {
     "cell_type": "markdown",
     "metadata": {},
     "source": [
      "<img src=\"http://hilpisch.com/tpq_logo.png\" alt=\"The Python Quants\" width=\"35%\" align=\"right\" border=\"0\"><br>\n",
      "\n",
      "<a href=\"http://www.pythonquants.com\" target=\"_blank\">www.pythonquants.com</a> | <a href=\"mailto:analytics@pythonquants.com\">analytics@pythonquants.com</a> | <a href=\"http://twitter.com/dyjh\" target=\"_blank\">@dyjh</a>\n",
      "\n",
      "**Eurex Advanced Services** |\n",
      "<a href=\"http://www.eurexchange.com/advanced-services/\">Eurex Advanced Services Web site</a>\n",
      "\n",
      "**Python Quant Platform** |\n",
      "<a href=\"http://quant-platform.com\">http://quant-platform.com</a>\n",
      "\n",
      "**Derivatives Analytics with Python** |\n",
      "<a href=\"http://www.derivatives-analytics-with-python.com\" target=\"_blank\">Derivatives Analytics @ Wiley Finance</a>\n",
      "\n",
      "**Python for Finance** |\n",
      "<a href=\"http://shop.oreilly.com/product/0636920032441.do\" target=\"_blank\">Python for Finance @ O'Reilly</a>"
     ]
    }
   ],
   "metadata": {}
  }
 ]
}