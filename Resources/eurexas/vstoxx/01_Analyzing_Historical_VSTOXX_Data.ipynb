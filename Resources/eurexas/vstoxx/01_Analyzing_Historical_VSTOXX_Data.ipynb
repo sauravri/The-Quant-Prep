{
 "metadata": {
  "name": "",
  "signature": "sha256:cf8cc30da7ff148278db07ba1e66b9c4ffc959ce3a1f5bd7019d4c82ea46daea"
 },
 "nbformat": 3,
 "nbformat_minor": 0,
 "worksheets": [
  {
   "cells": [
    {
     "cell_type": "markdown",
     "metadata": {},
     "source": [
      "<div id=\"under\" style=\"left: 0px; top: 0px; position: relative\"> <img src=\"http://hilpisch.com/header.jpg\"> </div>"
     ]
    },
    {
     "cell_type": "heading",
     "level": 1,
     "metadata": {},
     "source": [
      "Analyzing Historical VSTOXX Data"
     ]
    },
    {
     "cell_type": "markdown",
     "metadata": {},
     "source": [
      "Dr. Yves J. Hilpisch\n",
      "\n",
      "The Python Quants GmbH\n",
      "\n",
      "<a href='mailto:analytics@pythonquants.com'>analytics@pythonquants.com</a>\n",
      "\n",
      "<a href='http://pythonquants.com'>www.pythonquants.com</a>"
     ]
    },
    {
     "cell_type": "heading",
     "level": 2,
     "metadata": {},
     "source": [
      "Tutorial Pages"
     ]
    },
    {
     "cell_type": "markdown",
     "metadata": {},
     "source": [
      "You find the **VSTOXX Advanced Services** tutorial pages under\n",
      "\n",
      "**<a href=\"http://www.eurexchange.com/advanced-services/vstoxx/\" target=\"_blank\">http://www.eurexchange.com/advanced-services/vstoxx/</a>**\n",
      "\n",
      "The respective **tutorial page** on which this IPython Notebook is based on is found under:\n",
      "\n",
      "**<a href=\"http://www.eurexchange.com/advanced-services/vstoxx/01_Analyzing_Historical_VSTOXX_Data.html\" target=\"_blank\">Analyzing Historical VSTOXX Data</a>**\n",
      "\n",
      "A **general overview** of the Advanced Services offering is given here:\n",
      "\n",
      "**<a href=\"http://www.eurexchange.com/advanced-services/\" target=\"_blank\">http://www.eurexchange.com/advanced-services/</a>**"
     ]
    },
    {
     "cell_type": "heading",
     "level": 2,
     "metadata": {},
     "source": [
      "Creation of a Database"
     ]
    },
    {
     "cell_type": "code",
     "collapsed": false,
     "input": [
      "import pandas as pd\n",
      "\n",
      "from urllib import urlretrieve\n",
      "\n",
      "path = './data/'  # path to data folder\n",
      "\n",
      "source = 'http://www.stoxx.com/download/historical_values/'\n",
      "\n",
      "es_url = source + 'hbrbcpe.txt'\n",
      "\n",
      "vs_url = source + 'h_vstoxx.txt'\n",
      "\n",
      "urlretrieve(es_url, path + 'es.txt')  # ES50 data file\n",
      "\n",
      "urlretrieve(vs_url, path + 'vs.txt')  # VSTOXX data file"
     ],
     "language": "python",
     "metadata": {},
     "outputs": []
    },
    {
     "cell_type": "code",
     "collapsed": false,
     "input": [
      "!ls $path*.txt"
     ],
     "language": "python",
     "metadata": {},
     "outputs": []
    },
    {
     "cell_type": "code",
     "collapsed": false,
     "input": [
      "with open(path + 'es.txt', 'r') as f:\n",
      "    for _ in range(10):\n",
      "        print f.readline(),"
     ],
     "language": "python",
     "metadata": {},
     "outputs": []
    },
    {
     "cell_type": "code",
     "collapsed": false,
     "input": [
      "# new column names (without white space)\n",
      "# addition column 'DEL' -- to be deleted after parsing\n",
      "columns = ['Date', 'SX5P', 'SX5E', 'SXXP', 'SXXE',\n",
      "           'SXXF', 'SXXA', 'DK5F', 'DKXF', 'DEL']\n",
      "\n",
      "es = pd.read_csv(path + 'es.txt',  # filename\n",
      "                 index_col=0,  # index column (dates)\n",
      "                 parse_dates=True,  # parse date information\n",
      "                 dayfirst=True,  # day before month\n",
      "                 header=None,  # ignore header information\n",
      "                 skiprows=4,  # ignore first 4 rows\n",
      "                 names=columns,  # use custom column names\n",
      "                 sep=';')  # separator character\n",
      "\n",
      "del es['DEL']  # deletes helper column\n",
      "\n",
      "es.to_csv(path + 'es.csv')  # saves cleaned-up data\n",
      "\n",
      "es.info()"
     ],
     "language": "python",
     "metadata": {},
     "outputs": []
    },
    {
     "cell_type": "code",
     "collapsed": false,
     "input": [
      "with open(path + 'vs.txt', 'r') as f:\n",
      "    for _ in range(10):\n",
      "        print f.readline(),"
     ],
     "language": "python",
     "metadata": {},
     "outputs": []
    },
    {
     "cell_type": "code",
     "collapsed": false,
     "input": [
      "vs = pd.read_csv(path + 'vs.txt',  # filename\n",
      "                 index_col=0,  # index column (dates)\n",
      "                 parse_dates=True,  # parse date information\n",
      "                 dayfirst=True, # day before month\n",
      "                 header=2)  # header/column names\n",
      "\n",
      "vs.to_csv(path + 'vs.csv')  # saves cleaned-up data\n",
      "\n",
      "vs.info()"
     ],
     "language": "python",
     "metadata": {},
     "outputs": []
    },
    {
     "cell_type": "code",
     "collapsed": false,
     "input": [
      "import datetime as dt\n",
      "\n",
      "data = pd.DataFrame({'EUROSTOXX' :\n",
      "            es['SX5E'][es.index > dt.datetime(1999, 1, 1)],\n",
      "                   'VSTOXX' : \n",
      "            vs['V2TX'][vs.index > dt.datetime(1999, 1, 1)]})\n",
      "\n",
      "data.info()"
     ],
     "language": "python",
     "metadata": {},
     "outputs": []
    },
    {
     "cell_type": "code",
     "collapsed": false,
     "input": [
      "print es.ix[:10].to_string()\n",
      "\n",
      "print vs.ix[:10].to_string()\n",
      "\n",
      "print data.ix[:10].to_string()"
     ],
     "language": "python",
     "metadata": {},
     "outputs": []
    },
    {
     "cell_type": "code",
     "collapsed": false,
     "input": [
      "h5 = pd.HDFStore(path + 'es_vs_data.h5', 'w')\n",
      "\n",
      "h5['es'] = es\n",
      "\n",
      "h5['vs'] = vs\n",
      "\n",
      "h5['data'] = data\n",
      "\n",
      "h5\n",
      "\n",
      "h5.close()"
     ],
     "language": "python",
     "metadata": {},
     "outputs": []
    },
    {
     "cell_type": "heading",
     "level": 2,
     "metadata": {},
     "source": [
      "Data Analysis"
     ]
    },
    {
     "cell_type": "code",
     "collapsed": false,
     "input": [
      "h5 = pd.HDFStore(path  + 'es_vs_data.h5', 'r')\n",
      "\n",
      "es = h5['es']\n",
      "\n",
      "vs = h5['vs']\n",
      "\n",
      "data = h5['data']\n",
      "\n",
      "h5.close()"
     ],
     "language": "python",
     "metadata": {},
     "outputs": []
    },
    {
     "cell_type": "code",
     "collapsed": false,
     "input": [
      "data.describe()"
     ],
     "language": "python",
     "metadata": {},
     "outputs": []
    },
    {
     "cell_type": "code",
     "collapsed": false,
     "input": [
      "%matplotlib inline\n",
      "data.plot(subplots=True,  # generate sub-plots per column\n",
      "              figsize=(9, 6),  # sizing of the figure\n",
      "              color='blue',  # color to plot the data\n",
      "              grid=True)  # plot a grid"
     ],
     "language": "python",
     "metadata": {},
     "outputs": []
    },
    {
     "cell_type": "code",
     "collapsed": false,
     "input": [
      "data.diff().hist(figsize=(10, 5),  # figure sizing\n",
      "                 color='blue',  # color for the plotted data\n",
      "                 bins=100)  # number of bins to be used"
     ],
     "language": "python",
     "metadata": {},
     "outputs": []
    },
    {
     "cell_type": "code",
     "collapsed": false,
     "input": [
      "print data.pct_change().ix[:10]"
     ],
     "language": "python",
     "metadata": {},
     "outputs": []
    },
    {
     "cell_type": "code",
     "collapsed": false,
     "input": [
      "data.pct_change().hist(figsize=(10, 5),\n",
      "                       color='blue', \n",
      "                       bins=100)"
     ],
     "language": "python",
     "metadata": {},
     "outputs": []
    },
    {
     "cell_type": "code",
     "collapsed": false,
     "input": [
      "import numpy as np\n",
      "\n",
      "log_rets = np.log(data / data.shift(1))\n",
      "\n",
      "print log_rets.ix[:10].to_string()"
     ],
     "language": "python",
     "metadata": {},
     "outputs": []
    },
    {
     "cell_type": "code",
     "collapsed": false,
     "input": [
      "log_rets.plot(subplots=True,\n",
      "              figsize=(9, 6),\n",
      "              color='blue',\n",
      "              grid=True)"
     ],
     "language": "python",
     "metadata": {},
     "outputs": []
    },
    {
     "cell_type": "code",
     "collapsed": false,
     "input": [
      "log_rets.corr()"
     ],
     "language": "python",
     "metadata": {},
     "outputs": []
    },
    {
     "cell_type": "code",
     "collapsed": false,
     "input": [
      "log_rets['EUROSTOXX'].corr(log_rets['VSTOXX'])"
     ],
     "language": "python",
     "metadata": {},
     "outputs": []
    },
    {
     "cell_type": "code",
     "collapsed": false,
     "input": [
      "import matplotlib.pyplot as plt\n",
      "# plot log returns as scatter plot\n",
      "log_rets.plot(x='EUROSTOXX', y='VSTOXX', kind='scatter')\n",
      "\n",
      "# delete NaN values\n",
      "log_rets = log_rets.dropna()\n",
      "\n",
      "# make linear regression\n",
      "p = np.polyfit(log_rets['EUROSTOXX'].values,\n",
      "               log_rets['VSTOXX'].values,\n",
      "               deg=1)\n",
      "\n",
      "# plot the regression line\n",
      "plt.plot(log_rets['EUROSTOXX'], \n",
      "         np.polyval(p, log_rets['EUROSTOXX']), 'r')"
     ],
     "language": "python",
     "metadata": {},
     "outputs": []
    },
    {
     "cell_type": "code",
     "collapsed": false,
     "input": [
      "pd.rolling_corr(log_rets['EUROSTOXX'],\n",
      "                log_rets['VSTOXX'],\n",
      "                window=252).plot(figsize=(9, 5))\n",
      "plt.ylabel('rolling yearly correlation')"
     ],
     "language": "python",
     "metadata": {},
     "outputs": []
    },
    {
     "cell_type": "markdown",
     "metadata": {},
     "source": [
      "<img src=\"http://hilpisch.com/tpq_logo.png\" alt=\"The Python Quants\" width=\"35%\" align=\"right\" border=\"0\"><br>\n",
      "\n",
      "<a href=\"http://www.pythonquants.com\" target=\"_blank\">www.pythonquants.com</a> | <a href=\"mailto:analytics@pythonquants.com\">analytics@pythonquants.com</a> | <a href=\"http://twitter.com/dyjh\" target=\"_blank\">@dyjh</a>\n",
      "\n",
      "**Eurex Advanced Services** |\n",
      "<a href=\"http://www.eurexchange.com/advanced-services/\">Eurex Advanced Services Web site</a>\n",
      "\n",
      "**Python Quant Platform** |\n",
      "<a href=\"http://quant-platform.com\">http://quant-platform.com</a>\n",
      "\n",
      "**Derivatives Analytics with Python** |\n",
      "<a href=\"http://www.derivatives-analytics-with-python.com\" target=\"_blank\">Derivatives Analytics @ Wiley Finance</a>\n",
      "\n",
      "**Python for Finance** |\n",
      "<a href=\"http://shop.oreilly.com/product/0636920032441.do\" target=\"_blank\">Python for Finance @ O'Reilly</a>"
     ]
    }
   ],
   "metadata": {}
  }
 ]
}