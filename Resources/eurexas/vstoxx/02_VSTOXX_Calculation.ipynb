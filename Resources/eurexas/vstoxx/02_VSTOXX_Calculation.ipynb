{
 "metadata": {
  "name": "",
  "signature": "sha256:953ff4dc8f2bd718ad8a497e238fb10416276bb5157bfcd24648a4ad9bddfe1a"
 },
 "nbformat": 3,
 "nbformat_minor": 0,
 "worksheets": [
  {
   "cells": [
    {
     "cell_type": "markdown",
     "metadata": {},
     "source": [
      "<div id=\"under\" style=\"left: 0px; top: 0px; position: relative\"> <img src=\"http://hilpisch.com/header.jpg\"> </div>"
     ]
    },
    {
     "cell_type": "heading",
     "level": 1,
     "metadata": {},
     "source": [
      "Calculating the VSTOXX Index"
     ]
    },
    {
     "cell_type": "markdown",
     "metadata": {},
     "source": [
      "Dr. Yves J. Hilpisch\n",
      "\n",
      "The Python Quants GmbH\n",
      "\n",
      "<a href='mailto:analytics@pythonquants.com'>analytics@pythonquants.com</a>\n",
      "\n",
      "<a href='http://pythonquants.com'>www.pythonquants.com</a>"
     ]
    },
    {
     "cell_type": "heading",
     "level": 2,
     "metadata": {},
     "source": [
      "Tutorial Pages"
     ]
    },
    {
     "cell_type": "markdown",
     "metadata": {},
     "source": [
      "You find the **VSTOXX Advanced Services** tutorial pages under\n",
      "\n",
      "**<a href=\"http://www.eurexchange.com/advanced-services/vstoxx/\" target=\"_blank\">http://www.eurexchange.com/advanced-services/vstoxx/</a>**\n",
      "\n",
      "The respective **tutorial page** on which this IPython Notebook is based on is found under:\n",
      "\n",
      "**<a href=\"http://www.eurexchange.com/advanced-services/vstoxx/02_VSTOXX_Calculation.html\" target=\"_blank\">Calculating the VSTOXX Index</a>**\n",
      "\n",
      "A **general overview** of the Advanced Services offering is given here:\n",
      "\n",
      "**<a href=\"http://www.eurexchange.com/advanced-services/\" target=\"_blank\">http://www.eurexchange.com/advanced-services/</a>**"
     ]
    },
    {
     "cell_type": "heading",
     "level": 2,
     "metadata": {},
     "source": [
      "Collecting the Data"
     ]
    },
    {
     "cell_type": "code",
     "collapsed": false,
     "input": [
      "import sys\n",
      "sys.path.append('scripts')\n",
      "import warnings\n",
      "warnings.simplefilter('ignore')\n",
      "path = './data/'"
     ],
     "language": "python",
     "metadata": {},
     "outputs": [],
     "prompt_number": 1
    },
    {
     "cell_type": "code",
     "collapsed": false,
     "input": [
      "import index_collect_option_data as icod"
     ],
     "language": "python",
     "metadata": {},
     "outputs": [],
     "prompt_number": 2
    },
    {
     "cell_type": "code",
     "collapsed": false,
     "input": [
      "reload(icod)"
     ],
     "language": "python",
     "metadata": {},
     "outputs": [
      {
       "metadata": {},
       "output_type": "pyout",
       "prompt_number": 3,
       "text": [
        "<module 'index_collect_option_data' from 'scripts/index_collect_option_data.pyc'>"
       ]
      }
     ],
     "prompt_number": 3
    },
    {
     "cell_type": "code",
     "collapsed": false,
     "input": [
      "import pandas as pd\n",
      "import datetime as dt\n",
      "import numpy as np"
     ],
     "language": "python",
     "metadata": {},
     "outputs": [],
     "prompt_number": 4
    },
    {
     "cell_type": "code",
     "collapsed": false,
     "input": [
      "today = dt.datetime.now()\n",
      "yesterday = today - dt.timedelta(days=1)\n",
      "ds = yesterday.strftime(\"%Y%m%d\")\n",
      "ds"
     ],
     "language": "python",
     "metadata": {},
     "outputs": [
      {
       "metadata": {},
       "output_type": "pyout",
       "prompt_number": 5,
       "text": [
        "'20150914'"
       ]
      }
     ],
     "prompt_number": 5
    },
    {
     "cell_type": "code",
     "collapsed": false,
     "input": [
      "call_data = icod.get_data_from_www(oType='Call', matMonth=11, matYear=2015, date=ds)\n",
      "put_data = icod.get_data_from_www(oType='Put', matMonth=11, matYear=2015, date=ds)"
     ],
     "language": "python",
     "metadata": {},
     "outputs": [],
     "prompt_number": 6
    },
    {
     "cell_type": "code",
     "collapsed": false,
     "input": [
      "import datetime as dt; import requests"
     ],
     "language": "python",
     "metadata": {},
     "outputs": [],
     "prompt_number": 7
    },
    {
     "cell_type": "code",
     "collapsed": false,
     "input": [
      "calls = icod.parse_data(call_data, yesterday)  # parse the raw data\n",
      "puts = icod.parse_data(put_data, yesterday)  # parse the raw data"
     ],
     "language": "python",
     "metadata": {},
     "outputs": [],
     "prompt_number": 8
    },
    {
     "cell_type": "code",
     "collapsed": false,
     "input": [
      "calls.info()"
     ],
     "language": "python",
     "metadata": {},
     "outputs": [
      {
       "output_type": "stream",
       "stream": "stdout",
       "text": [
        "<class 'pandas.core.frame.DataFrame'>\n",
        "MultiIndex: 110 entries, (2015-09-14 00:00:00, 500.0) to (2015-09-14 00:00:00, 4200.0)\n",
        "Data columns (total 8 columns):\n",
        "Version number              110 non-null float64\n",
        "Opening price               110 non-null float64\n",
        "Daily high                  110 non-null float64\n",
        "Daily low                   110 non-null float64\n",
        "Underlying closing price    110 non-null float64\n",
        "Daily settlem. price        110 non-null float64\n",
        "Traded contracts            110 non-null int64\n",
        "Open interest (adj.)*       110 non-null int64\n",
        "dtypes: float64(6), int64(2)"
       ]
      }
     ],
     "prompt_number": 9
    },
    {
     "cell_type": "code",
     "collapsed": false,
     "input": [
      "puts.info()"
     ],
     "language": "python",
     "metadata": {},
     "outputs": [
      {
       "output_type": "stream",
       "stream": "stdout",
       "text": [
        "<class 'pandas.core.frame.DataFrame'>\n",
        "MultiIndex: 110 entries, (2015-09-14 00:00:00, 500.0) to (2015-09-14 00:00:00, 4200.0)\n",
        "Data columns (total 8 columns):\n",
        "Version number              110 non-null float64\n",
        "Opening price               110 non-null float64\n",
        "Daily high                  110 non-null float64\n",
        "Daily low                   110 non-null float64\n",
        "Underlying closing price    110 non-null float64\n",
        "Daily settlem. price        110 non-null float64\n",
        "Traded contracts            110 non-null int64\n",
        "Open interest (adj.)*       110 non-null int64\n",
        "dtypes: float64(6), int64(2)"
       ]
      }
     ],
     "prompt_number": 10
    },
    {
     "cell_type": "code",
     "collapsed": false,
     "input": [
      "calls = pd.DataFrame(calls.rename(columns={\"Daily settlem. price\": \"Call_Price\"}).pop('Call_Price').astype(float))"
     ],
     "language": "python",
     "metadata": {},
     "outputs": [],
     "prompt_number": 11
    },
    {
     "cell_type": "code",
     "collapsed": false,
     "input": [
      "puts = pd.DataFrame(puts.rename(columns={\"Daily settlem. price\": \"Put_Price\"}).pop('Put_Price').astype(float))"
     ],
     "language": "python",
     "metadata": {},
     "outputs": [],
     "prompt_number": 12
    },
    {
     "cell_type": "code",
     "collapsed": false,
     "input": [
      "dataset = icod.merge_and_filter(puts, calls)"
     ],
     "language": "python",
     "metadata": {},
     "outputs": [],
     "prompt_number": 13
    },
    {
     "cell_type": "code",
     "collapsed": false,
     "input": [
      "dataset.info()"
     ],
     "language": "python",
     "metadata": {},
     "outputs": [
      {
       "output_type": "stream",
       "stream": "stdout",
       "text": [
        "<class 'pandas.core.frame.DataFrame'>\n",
        "MultiIndex: 91 entries, (2015-09-14 00:00:00, 1450.0) to (2015-09-14 00:00:00, 4200.0)\n",
        "Data columns (total 2 columns):\n",
        "Call_Price    91 non-null float64\n",
        "Put_Price     91 non-null float64\n",
        "dtypes: float64(2)"
       ]
      }
     ],
     "prompt_number": 14
    },
    {
     "cell_type": "code",
     "collapsed": false,
     "input": [
      "os = icod.collect_option_series(10, 2015, yesterday)\n",
      "os.info()"
     ],
     "language": "python",
     "metadata": {},
     "outputs": [
      {
       "output_type": "stream",
       "stream": "stdout",
       "text": [
        "<class 'pandas.core.frame.DataFrame'>\n",
        "MultiIndex: 83 entries, (2015-09-14 00:00:00, 1900.0) to (2015-09-14 00:00:00, 3950.0)\n",
        "Data columns (total 2 columns):\n",
        "Call_Price    83 non-null float64\n",
        "Put_Price     83 non-null float64\n",
        "dtypes: float64(2)"
       ]
      }
     ],
     "prompt_number": 15
    },
    {
     "cell_type": "code",
     "collapsed": false,
     "input": [
      "os.index"
     ],
     "language": "python",
     "metadata": {},
     "outputs": [
      {
       "metadata": {},
       "output_type": "pyout",
       "prompt_number": 16,
       "text": [
        "MultiIndex(levels=[[2015-09-14 00:00:00], [500.0, 600.0, 700.0, 800.0, 850.0, 900.0, 950.0, 1000.0, 1050.0, 1100.0, 1150.0, 1200.0, 1250.0, 1300.0, 1350.0, 1400.0, 1450.0, 1500.0, 1550.0, 1600.0, 1650.0, 1700.0, 1750.0, 1800.0, 1850.0, 1900.0, 1925.0, 1950.0, 1975.0, 2000.0, 2025.0, 2050.0, 2075.0, 2100.0, 2125.0, 2150.0, 2175.0, 2200.0, 2225.0, 2250.0, 2275.0, 2300.0, 2325.0, 2350.0, 2375.0, 2400.0, 2425.0, 2450.0, 2475.0, 2500.0, 2525.0, 2550.0, 2575.0, 2600.0, 2625.0, 2650.0, 2675.0, 2700.0, 2725.0, 2750.0, 2775.0, 2800.0, 2825.0, 2850.0, 2875.0, 2900.0, 2925.0, 2950.0, 2975.0, 3000.0, 3025.0, 3050.0, 3075.0, 3100.0, 3125.0, 3150.0, 3175.0, 3200.0, 3225.0, 3250.0, 3275.0, 3300.0, 3325.0, 3350.0, 3375.0, 3400.0, 3425.0, 3450.0, 3475.0, 3500.0, 3525.0, 3550.0, 3575.0, 3600.0, 3625.0, 3650.0, 3675.0, 3700.0, 3725.0, 3750.0, ...]],\n",
        "           labels=[[0, 0, 0, 0, 0, 0, 0, 0, 0, 0, 0, 0, 0, 0, 0, 0, 0, 0, 0, 0, 0, 0, 0, 0, 0, 0, 0, 0, 0, 0, 0, 0, 0, 0, 0, 0, 0, 0, 0, 0, 0, 0, 0, 0, 0, 0, 0, 0, 0, 0, 0, 0, 0, 0, 0, 0, 0, 0, 0, 0, 0, 0, 0, 0, 0, 0, 0, 0, 0, 0, 0, 0, 0, 0, 0, 0, 0, 0, 0, 0, 0, 0, 0], [25, 26, 27, 28, 29, 30, 31, 32, 33, 34, 35, 36, 37, 38, 39, 40, 41, 42, 43, 44, 45, 46, 47, 48, 49, 50, 51, 52, 53, 54, 55, 56, 57, 58, 59, 60, 61, 62, 63, 64, 65, 66, 67, 68, 69, 70, 71, 72, 73, 74, 75, 76, 77, 78, 79, 80, 81, 82, 83, 84, 85, 86, 87, 88, 89, 90, 91, 92, 93, 94, 95, 96, 97, 98, 99, 100, 101, 102, 103, 104, 105, 106, 107]],\n",
        "           names=[u' Pricing day', u'Strike price'])"
       ]
      }
     ],
     "prompt_number": 16
    },
    {
     "cell_type": "markdown",
     "metadata": {},
     "source": [
      "Uncomment the following line if you want to conduct the data collection process."
     ]
    },
    {
     "cell_type": "code",
     "collapsed": false,
     "input": [
      "# %time icod.data_collection(path)"
     ],
     "language": "python",
     "metadata": {},
     "outputs": [
      {
       "output_type": "stream",
       "stream": "stdout",
       "text": [
        "CPU times: user 4.05 s, sys: 195 ms, total: 4.25 s\n",
        "Wall time: 4min 32s\n"
       ]
      }
     ],
     "prompt_number": 17
    },
    {
     "cell_type": "code",
     "collapsed": false,
     "input": [
      "store = pd.HDFStore(path + 'index_option_series.h5', 'r')\n",
      "store"
     ],
     "language": "python",
     "metadata": {},
     "outputs": [
      {
       "metadata": {},
       "output_type": "pyout",
       "prompt_number": 18,
       "text": [
        "<class 'pandas.io.pytables.HDFStore'>\n",
        "File path: ./data/index_option_series.h5\n",
        "/Aug15            frame        (shape->[42,2])  \n",
        "/Nov15            frame        (shape->[1297,2])\n",
        "/Oct15            frame        (shape->[1659,2])\n",
        "/Sep15            frame        (shape->[1047,2])"
       ]
      }
     ],
     "prompt_number": 18
    },
    {
     "cell_type": "code",
     "collapsed": false,
     "input": [
      "Nov15 = store['Nov15']\n",
      "Nov15.info()"
     ],
     "language": "python",
     "metadata": {},
     "outputs": [
      {
       "output_type": "stream",
       "stream": "stdout",
       "text": [
        "<class 'pandas.core.frame.DataFrame'>\n",
        "MultiIndex: 1297 entries, (2015-08-24 00:00:00, 2900.0) to (2015-09-14 00:00:00, 4200.0)\n",
        "Data columns (total 2 columns):\n",
        "Call_Price    1297 non-null float64\n",
        "Put_Price     1297 non-null float64\n",
        "dtypes: float64(2)"
       ]
      }
     ],
     "prompt_number": 19
    },
    {
     "cell_type": "code",
     "collapsed": false,
     "input": [
      "Nov15.ix[25:35]"
     ],
     "language": "python",
     "metadata": {},
     "outputs": [
      {
       "html": [
        "<div style=\"max-height:1000px;max-width:1500px;overflow:auto;\">\n",
        "<table border=\"1\" class=\"dataframe\">\n",
        "  <thead>\n",
        "    <tr style=\"text-align: right;\">\n",
        "      <th></th>\n",
        "      <th></th>\n",
        "      <th>Call_Price</th>\n",
        "      <th>Put_Price</th>\n",
        "    </tr>\n",
        "    <tr>\n",
        "      <th> Pricing day</th>\n",
        "      <th>Strike price</th>\n",
        "      <th></th>\n",
        "      <th></th>\n",
        "    </tr>\n",
        "  </thead>\n",
        "  <tbody>\n",
        "    <tr>\n",
        "      <th rowspan=\"4\" valign=\"top\">2015-08-24</th>\n",
        "      <th>3525</th>\n",
        "      <td>   28.3</td>\n",
        "      <td> 495.0</td>\n",
        "    </tr>\n",
        "    <tr>\n",
        "      <th>3550</th>\n",
        "      <td>   25.4</td>\n",
        "      <td> 517.2</td>\n",
        "    </tr>\n",
        "    <tr>\n",
        "      <th>3575</th>\n",
        "      <td>   22.8</td>\n",
        "      <td> 539.6</td>\n",
        "    </tr>\n",
        "    <tr>\n",
        "      <th>3600</th>\n",
        "      <td>   20.4</td>\n",
        "      <td> 562.2</td>\n",
        "    </tr>\n",
        "    <tr>\n",
        "      <th rowspan=\"6\" valign=\"top\">2015-08-25</th>\n",
        "      <th>2000</th>\n",
        "      <td> 1220.6</td>\n",
        "      <td>   2.1</td>\n",
        "    </tr>\n",
        "    <tr>\n",
        "      <th>2025</th>\n",
        "      <td> 1195.9</td>\n",
        "      <td>   2.3</td>\n",
        "    </tr>\n",
        "    <tr>\n",
        "      <th>2050</th>\n",
        "      <td> 1171.2</td>\n",
        "      <td>   2.6</td>\n",
        "    </tr>\n",
        "    <tr>\n",
        "      <th>2075</th>\n",
        "      <td> 1146.5</td>\n",
        "      <td>   2.9</td>\n",
        "    </tr>\n",
        "    <tr>\n",
        "      <th>2100</th>\n",
        "      <td> 1121.8</td>\n",
        "      <td>   3.2</td>\n",
        "    </tr>\n",
        "    <tr>\n",
        "      <th>2125</th>\n",
        "      <td> 1097.2</td>\n",
        "      <td>   3.6</td>\n",
        "    </tr>\n",
        "  </tbody>\n",
        "</table>\n",
        "</div>"
       ],
       "metadata": {},
       "output_type": "pyout",
       "prompt_number": 20,
       "text": [
        "                           Call_Price  Put_Price\n",
        " Pricing day Strike price                       \n",
        "2015-08-24   3525                28.3      495.0\n",
        "             3550                25.4      517.2\n",
        "             3575                22.8      539.6\n",
        "             3600                20.4      562.2\n",
        "2015-08-25   2000              1220.6        2.1\n",
        "             2025              1195.9        2.3\n",
        "             2050              1171.2        2.6\n",
        "             2075              1146.5        2.9\n",
        "             2100              1121.8        3.2\n",
        "             2125              1097.2        3.6"
       ]
      }
     ],
     "prompt_number": 20
    },
    {
     "cell_type": "code",
     "collapsed": false,
     "input": [
      "store.close()"
     ],
     "language": "python",
     "metadata": {},
     "outputs": [],
     "prompt_number": 21
    },
    {
     "cell_type": "heading",
     "level": 2,
     "metadata": {},
     "source": [
      "Calculating the Sub-Indexes"
     ]
    },
    {
     "cell_type": "code",
     "collapsed": false,
     "input": [
      "import index_subindex_calculation as isc\n",
      "reload(isc)"
     ],
     "language": "python",
     "metadata": {},
     "outputs": [
      {
       "metadata": {},
       "output_type": "pyout",
       "prompt_number": 22,
       "text": [
        "<module 'index_subindex_calculation' from 'scripts/index_subindex_calculation.pyc'>"
       ]
      }
     ],
     "prompt_number": 22
    },
    {
     "cell_type": "code",
     "collapsed": false,
     "input": [
      "si = isc.make_subindex(path)"
     ],
     "language": "python",
     "metadata": {},
     "outputs": [],
     "prompt_number": 23
    },
    {
     "cell_type": "code",
     "collapsed": false,
     "input": [
      "from urllib import urlretrieve\n",
      "\n",
      "url = \"http://www.stoxx.com/download/historical_values/h_vstoxx.txt\"\n",
      "urlretrieve(url, path + 'vs.txt')  # VSTOXX data file\n",
      "vs = pd.read_csv(path + 'vs.txt',  # filename\n",
      "                 index_col=0,  # index column (dates)\n",
      "                 parse_dates=True,  # parse date information\n",
      "                 dayfirst=True, # day before month\n",
      "                 header=2)  # header/column names\n",
      "\n",
      "vs.to_csv(path + 'vs.csv')  # saves cleaned-up data\n",
      "\n",
      "vs.info()"
     ],
     "language": "python",
     "metadata": {},
     "outputs": [
      {
       "output_type": "stream",
       "stream": "stdout",
       "text": [
        "<class 'pandas.core.frame.DataFrame'>\n",
        "DatetimeIndex: 4252 entries, 1999-01-04 00:00:00 to 2015-09-14 00:00:00\n",
        "Data columns (total 9 columns):\n",
        "V2TX    4252 non-null float64\n",
        "V6I1    3811 non-null float64\n",
        "V6I2    4252 non-null float64\n",
        "V6I3    4194 non-null float64\n",
        "V6I4    4252 non-null float64\n",
        "V6I5    4252 non-null float64\n",
        "V6I6    4236 non-null float64\n",
        "V6I7    4252 non-null float64\n",
        "V6I8    4239 non-null float64\n",
        "dtypes: float64(9)"
       ]
      }
     ],
     "prompt_number": 24
    },
    {
     "cell_type": "code",
     "collapsed": false,
     "input": [
      "VSTOXX = pd.read_csv(path + 'vs.csv', index_col=0, parse_dates=True)"
     ],
     "language": "python",
     "metadata": {},
     "outputs": [],
     "prompt_number": 25
    },
    {
     "cell_type": "code",
     "collapsed": false,
     "input": [
      "VSTOXX.info()"
     ],
     "language": "python",
     "metadata": {},
     "outputs": [
      {
       "output_type": "stream",
       "stream": "stdout",
       "text": [
        "<class 'pandas.core.frame.DataFrame'>\n",
        "DatetimeIndex: 4252 entries, 1999-01-04 00:00:00 to 2015-09-14 00:00:00\n",
        "Data columns (total 9 columns):\n",
        "V2TX    4252 non-null float64\n",
        "V6I1    3811 non-null float64\n",
        "V6I2    4252 non-null float64\n",
        "V6I3    4194 non-null float64\n",
        "V6I4    4252 non-null float64\n",
        "V6I5    4252 non-null float64\n",
        "V6I6    4236 non-null float64\n",
        "V6I7    4252 non-null float64\n",
        "V6I8    4239 non-null float64\n",
        "dtypes: float64(9)"
       ]
      }
     ],
     "prompt_number": 26
    },
    {
     "cell_type": "code",
     "collapsed": false,
     "input": [
      "comp = pd.concat((si['V6I2'], VSTOXX['V6I2']),\n",
      "          axis=1, join='inner')\n",
      "comp.columns = ['CALC', 'REAL']\n",
      "comp['DIFF'] = comp['CALC'] - comp['REAL']"
     ],
     "language": "python",
     "metadata": {},
     "outputs": [],
     "prompt_number": 27
    },
    {
     "cell_type": "code",
     "collapsed": false,
     "input": [
      "%matplotlib inline\n",
      "comp[['CALC', 'REAL']].plot(style=['ro', 'b'], figsize=(9, 5))"
     ],
     "language": "python",
     "metadata": {},
     "outputs": [
      {
       "metadata": {},
       "output_type": "pyout",
       "prompt_number": 28,
       "text": [
        "<matplotlib.axes._subplots.AxesSubplot at 0x7ffa03afdf50>"
       ]
      },
      {
       "metadata": {},
       "output_type": "display_data",
       "png": "[encoded data removed]",
       "text": [
        "<matplotlib.figure.Figure at 0x7ffa03afd950>"
       ]
      }
     ],
     "prompt_number": 28
    },
    {
     "cell_type": "code",
     "collapsed": false,
     "input": [
      "comp['DIFF'].plot(kind='bar', figsize=(9, 5))"
     ],
     "language": "python",
     "metadata": {},
     "outputs": [
      {
       "metadata": {},
       "output_type": "pyout",
       "prompt_number": 29,
       "text": [
        "<matplotlib.axes._subplots.AxesSubplot at 0x7ffa03a52650>"
       ]
      },
      {
       "metadata": {},
       "output_type": "display_data",
       "png": "[encoded data removed]",
       "text": [
        "<matplotlib.figure.Figure at 0x7ffa2eaa7890>"
       ]
      }
     ],
     "prompt_number": 29
    },
    {
     "cell_type": "heading",
     "level": 2,
     "metadata": {},
     "source": [
      "Calculating VSTOXX"
     ]
    },
    {
     "cell_type": "code",
     "collapsed": false,
     "input": [
      "import index_vstoxx_calculation as ivc\n",
      "reload(ivc)"
     ],
     "language": "python",
     "metadata": {},
     "outputs": [
      {
       "metadata": {},
       "output_type": "pyout",
       "prompt_number": 30,
       "text": [
        "<module 'index_vstoxx_calculation' from 'scripts/index_vstoxx_calculation.pyc'>"
       ]
      }
     ],
     "prompt_number": 30
    },
    {
     "cell_type": "code",
     "collapsed": false,
     "input": [
      "data = ivc.calculate_vstoxx(path)"
     ],
     "language": "python",
     "metadata": {},
     "outputs": [],
     "prompt_number": 31
    },
    {
     "cell_type": "code",
     "collapsed": false,
     "input": [
      "data.info()"
     ],
     "language": "python",
     "metadata": {},
     "outputs": [
      {
       "output_type": "stream",
       "stream": "stdout",
       "text": [
        "<class 'pandas.core.frame.DataFrame'>\n",
        "DatetimeIndex: 4252 entries, 1999-01-04 00:00:00 to 2015-09-14 00:00:00\n",
        "Data columns (total 20 columns):\n",
        "V2TX                 4252 non-null float64\n",
        "V6I1                 3811 non-null float64\n",
        "V6I2                 4252 non-null float64\n",
        "V6I3                 4194 non-null float64\n",
        "V6I4                 4252 non-null float64\n",
        "V6I5                 4252 non-null float64\n",
        "V6I6                 4236 non-null float64\n",
        "V6I7                 4252 non-null float64\n",
        "V6I8                 4239 non-null float64\n",
        "Settlement date 1    4252 non-null datetime64[ns]\n",
        "Settlement date 2    4252 non-null datetime64[ns]\n",
        "Life time 1          4252 non-null int64\n",
        "Life time 2          4252 non-null int64\n",
        "Use V6I2             4252 non-null bool\n",
        "Subindex to use 1    4252 non-null float64\n",
        "Subindex to use 2    4252 non-null float64\n",
        "Part 1               4252 non-null float64\n",
        "Part 2               4252 non-null float64\n",
        "VSTOXX               4252 non-null float64\n",
        "Difference           4252 non-null float64\n",
        "dtypes: bool(1), datetime64[ns](2), float64(15), int64(2)"
       ]
      }
     ],
     "prompt_number": 32
    },
    {
     "cell_type": "code",
     "collapsed": false,
     "input": [
      "# Output: average error of re-calculation\n",
      "data[\"Difference\"].mean()"
     ],
     "language": "python",
     "metadata": {},
     "outputs": [
      {
       "metadata": {},
       "output_type": "pyout",
       "prompt_number": 33,
       "text": [
        "0.0013845932772237103"
       ]
      }
     ],
     "prompt_number": 33
    },
    {
     "cell_type": "code",
     "collapsed": false,
     "input": [
      "# Original vs. re-calculated VSTOXX index\n",
      "%matplotlib inline\n",
      "data[['V2TX', 'VSTOXX']].plot(subplots=True, figsize=(9, 6),\n",
      "                              style=\"blue\", grid=True)"
     ],
     "language": "python",
     "metadata": {},
     "outputs": [
      {
       "metadata": {},
       "output_type": "pyout",
       "prompt_number": 34,
       "text": [
        "array([<matplotlib.axes._subplots.AxesSubplot object at 0x7ffa039ad810>,\n",
        "       <matplotlib.axes._subplots.AxesSubplot object at 0x7ffa037cc150>], dtype=object)"
       ]
      },
      {
       "metadata": {},
       "output_type": "display_data",
       "png": "[encoded data removed]",
       "text": [
        "<matplotlib.figure.Figure at 0x7ffa03de3ad0>"
       ]
      }
     ],
     "prompt_number": 34
    },
    {
     "cell_type": "code",
     "collapsed": false,
     "input": [
      "# Differences between single values\n",
      "data['Difference'].plot(figsize=(9, 5), style=\"r\", grid=True,\n",
      "                        ylim=(-1, 1))"
     ],
     "language": "python",
     "metadata": {},
     "outputs": [
      {
       "metadata": {},
       "output_type": "pyout",
       "prompt_number": 35,
       "text": [
        "<matplotlib.axes._subplots.AxesSubplot at 0x7ffa039b2b10>"
       ]
      },
      {
       "metadata": {},
       "output_type": "display_data",
       "png": "[encoded data removed]",
       "text": [
        "<matplotlib.figure.Figure at 0x7ffa03572210>"
       ]
      }
     ],
     "prompt_number": 35
    },
    {
     "cell_type": "markdown",
     "metadata": {},
     "source": [
      "<img src=\"http://hilpisch.com/tpq_logo.png\" alt=\"The Python Quants\" width=\"35%\" align=\"right\" border=\"0\"><br>\n",
      "\n",
      "<a href=\"http://www.pythonquants.com\" target=\"_blank\">www.pythonquants.com</a> | <a href=\"mailto:analytics@pythonquants.com\">analytics@pythonquants.com</a> | <a href=\"http://twitter.com/dyjh\" target=\"_blank\">@dyjh</a>\n",
      "\n",
      "**Eurex Advanced Services** |\n",
      "<a href=\"http://www.eurexchange.com/advanced-services/\">Eurex Advanced Services Web site</a>\n",
      "\n",
      "**Python Quant Platform** |\n",
      "<a href=\"http://quant-platform.com\">http://quant-platform.com</a>\n",
      "\n",
      "**Derivatives Analytics with Python** |\n",
      "<a href=\"http://www.derivatives-analytics-with-python.com\" target=\"_blank\">Derivatives Analytics @ Wiley Finance</a>\n",
      "\n",
      "**Python for Finance** |\n",
      "<a href=\"http://shop.oreilly.com/product/0636920032441.do\" target=\"_blank\">Python for Finance @ O'Reilly</a>"
     ]
    }
   ],
   "metadata": {}
  }
 ]
}