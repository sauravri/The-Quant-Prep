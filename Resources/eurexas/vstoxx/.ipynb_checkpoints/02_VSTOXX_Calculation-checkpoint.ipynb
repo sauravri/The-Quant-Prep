{
 "metadata": {
  "name": "",
  "signature": "sha256:bf987f444052d765f301722b28db5b1fe675d7f40a99584eecb8325d7d87fee6"
 },
 "nbformat": 3,
 "nbformat_minor": 0,
 "worksheets": [
  {
   "cells": [
    {
     "cell_type": "markdown",
     "metadata": {},
     "source": [
      "<div id=\"under\" style=\"left: 0px; top: 0px; position: relative\"> <img src=\"http://hilpisch.com/header.jpg\"> </div>"
     ]
    },
    {
     "cell_type": "heading",
     "level": 1,
     "metadata": {},
     "source": [
      "Calculating the VSTOXX Index"
     ]
    },
    {
     "cell_type": "markdown",
     "metadata": {},
     "source": [
      "Dr. Yves J. Hilpisch\n",
      "\n",
      "The Python Quants GmbH\n",
      "\n",
      "<a href='mailto:analytics@pythonquants.com'>analytics@pythonquants.com</a>\n",
      "\n",
      "<a href='http://pythonquants.com'>www.pythonquants.com</a>"
     ]
    },
    {
     "cell_type": "heading",
     "level": 2,
     "metadata": {},
     "source": [
      "Tutorial Pages"
     ]
    },
    {
     "cell_type": "markdown",
     "metadata": {},
     "source": [
      "You find the **VSTOXX Advanced Services** tutorial pages under\n",
      "\n",
      "**<a href=\"http://www.eurexchange.com/advanced-services/vstoxx/\" target=\"_blank\">http://www.eurexchange.com/advanced-services/vstoxx/</a>**\n",
      "\n",
      "The respective **tutorial page** on which this IPython Notebook is based on is found under:\n",
      "\n",
      "**<a href=\"http://www.eurexchange.com/advanced-services/vstoxx/02_VSTOXX_Calculation.html\" target=\"_blank\">Calculating the VSTOXX Index</a>**\n",
      "\n",
      "A **general overview** of the Advanced Services offering is given here:\n",
      "\n",
      "**<a href=\"http://www.eurexchange.com/advanced-services/\" target=\"_blank\">http://www.eurexchange.com/advanced-services/</a>**"
     ]
    },
    {
     "cell_type": "heading",
     "level": 2,
     "metadata": {},
     "source": [
      "Collecting the Data"
     ]
    },
    {
     "cell_type": "code",
     "collapsed": false,
     "input": [
      "import sys\n",
      "sys.path.append('scripts')\n",
      "import warnings\n",
      "warnings.simplefilter('ignore')\n",
      "path = './data/'"
     ],
     "language": "python",
     "metadata": {},
     "outputs": []
    },
    {
     "cell_type": "code",
     "collapsed": false,
     "input": [
      "import index_collect_option_data as icod"
     ],
     "language": "python",
     "metadata": {},
     "outputs": []
    },
    {
     "cell_type": "code",
     "collapsed": false,
     "input": [
      "reload(icod)"
     ],
     "language": "python",
     "metadata": {},
     "outputs": []
    },
    {
     "cell_type": "code",
     "collapsed": false,
     "input": [
      "import pandas as pd\n",
      "import datetime as dt\n",
      "import numpy as np"
     ],
     "language": "python",
     "metadata": {},
     "outputs": []
    },
    {
     "cell_type": "code",
     "collapsed": false,
     "input": [
      "today = dt.datetime.now()\n",
      "yesterday = today - dt.timedelta(days=1)\n",
      "ds = yesterday.strftime(\"%Y%m%d\")\n",
      "ds"
     ],
     "language": "python",
     "metadata": {},
     "outputs": []
    },
    {
     "cell_type": "code",
     "collapsed": false,
     "input": [
      "call_data = icod.get_data_from_www(oType='Call', matMonth=6, matYear=2015, date=ds)\n",
      "put_data = icod.get_data_from_www(oType='Put', matMonth=6, matYear=2015, date=ds)"
     ],
     "language": "python",
     "metadata": {},
     "outputs": []
    },
    {
     "cell_type": "code",
     "collapsed": false,
     "input": [
      "calls = icod.parse_data(call_data, yesterday)  # parse the raw data\n",
      "puts = icod.parse_data(put_data, yesterday)  # parse the raw data"
     ],
     "language": "python",
     "metadata": {},
     "outputs": []
    },
    {
     "cell_type": "code",
     "collapsed": false,
     "input": [
      "calls.info()"
     ],
     "language": "python",
     "metadata": {},
     "outputs": []
    },
    {
     "cell_type": "code",
     "collapsed": false,
     "input": [
      "puts.info()"
     ],
     "language": "python",
     "metadata": {},
     "outputs": []
    },
    {
     "cell_type": "code",
     "collapsed": false,
     "input": [
      "calls = pd.DataFrame(calls.rename(columns={\"Daily settlem. price\": \"Call_Price\"}).pop('Call_Price').astype(float))"
     ],
     "language": "python",
     "metadata": {},
     "outputs": []
    },
    {
     "cell_type": "code",
     "collapsed": false,
     "input": [
      "puts = pd.DataFrame(puts.rename(columns={\"Daily settlem. price\": \"Put_Price\"}).pop('Put_Price').astype(float))"
     ],
     "language": "python",
     "metadata": {},
     "outputs": []
    },
    {
     "cell_type": "code",
     "collapsed": false,
     "input": [
      "dataset = icod.merge_and_filter(puts, calls)"
     ],
     "language": "python",
     "metadata": {},
     "outputs": []
    },
    {
     "cell_type": "code",
     "collapsed": false,
     "input": [
      "dataset.info()"
     ],
     "language": "python",
     "metadata": {},
     "outputs": []
    },
    {
     "cell_type": "code",
     "collapsed": false,
     "input": [
      "os = icod.collect_option_series(6, 2015, yesterday)\n",
      "os.info()"
     ],
     "language": "python",
     "metadata": {},
     "outputs": []
    },
    {
     "cell_type": "code",
     "collapsed": false,
     "input": [
      "os.index"
     ],
     "language": "python",
     "metadata": {},
     "outputs": []
    },
    {
     "cell_type": "markdown",
     "metadata": {},
     "source": [
      "Uncomment the following line if you want to conduct the data collection process."
     ]
    },
    {
     "cell_type": "code",
     "collapsed": false,
     "input": [
      "# %time icod.data_collection(path)"
     ],
     "language": "python",
     "metadata": {},
     "outputs": []
    },
    {
     "cell_type": "code",
     "collapsed": false,
     "input": [
      "store = pd.HDFStore(path + 'index_option_series.h5', 'r')\n",
      "store"
     ],
     "language": "python",
     "metadata": {},
     "outputs": []
    },
    {
     "cell_type": "code",
     "collapsed": false,
     "input": [
      "Feb15 = store['Feb15']\n",
      "Feb15.info()"
     ],
     "language": "python",
     "metadata": {},
     "outputs": []
    },
    {
     "cell_type": "code",
     "collapsed": false,
     "input": [
      "Feb15.ix[25:35]"
     ],
     "language": "python",
     "metadata": {},
     "outputs": []
    },
    {
     "cell_type": "code",
     "collapsed": false,
     "input": [
      "store.close()"
     ],
     "language": "python",
     "metadata": {},
     "outputs": []
    },
    {
     "cell_type": "heading",
     "level": 2,
     "metadata": {},
     "source": [
      "Calculating the Sub-Indexes"
     ]
    },
    {
     "cell_type": "code",
     "collapsed": false,
     "input": [
      "import index_subindex_calculation as isc\n",
      "reload(isc)"
     ],
     "language": "python",
     "metadata": {},
     "outputs": []
    },
    {
     "cell_type": "code",
     "collapsed": false,
     "input": [
      "si = isc.make_subindex(path)"
     ],
     "language": "python",
     "metadata": {},
     "outputs": []
    },
    {
     "cell_type": "code",
     "collapsed": false,
     "input": [
      "from urllib import urlretrieve\n",
      "\n",
      "url = \"http://www.stoxx.com/download/historical_values/h_vstoxx.txt\"\n",
      "urlretrieve(url, path + 'vs.txt')  # VSTOXX data file\n",
      "vs = pd.read_csv(path + 'vs.txt',  # filename\n",
      "                 index_col=0,  # index column (dates)\n",
      "                 parse_dates=True,  # parse date information\n",
      "                 dayfirst=True, # day before month\n",
      "                 header=2)  # header/column names\n",
      "\n",
      "vs.to_csv(path + 'vs.csv')  # saves cleaned-up data\n",
      "\n",
      "vs.info()"
     ],
     "language": "python",
     "metadata": {},
     "outputs": []
    },
    {
     "cell_type": "code",
     "collapsed": false,
     "input": [
      "VSTOXX = pd.read_csv(path + 'vs.csv', index_col=0, parse_dates=True)"
     ],
     "language": "python",
     "metadata": {},
     "outputs": []
    },
    {
     "cell_type": "code",
     "collapsed": false,
     "input": [
      "VSTOXX.info()"
     ],
     "language": "python",
     "metadata": {},
     "outputs": []
    },
    {
     "cell_type": "code",
     "collapsed": false,
     "input": [
      "comp = pd.concat((si['V6I2'], VSTOXX['V6I2']),\n",
      "          axis=1, join='inner')\n",
      "comp.columns = ['CALC', 'REAL']\n",
      "comp['DIFF'] = comp['CALC'] - comp['REAL']"
     ],
     "language": "python",
     "metadata": {},
     "outputs": []
    },
    {
     "cell_type": "code",
     "collapsed": false,
     "input": [
      "%matplotlib inline\n",
      "comp[['CALC', 'REAL']].plot(style=['ro', 'b'], figsize=(9, 5))"
     ],
     "language": "python",
     "metadata": {},
     "outputs": []
    },
    {
     "cell_type": "code",
     "collapsed": false,
     "input": [
      "comp['DIFF'].plot(kind='bar', figsize=(9, 5))"
     ],
     "language": "python",
     "metadata": {},
     "outputs": []
    },
    {
     "cell_type": "heading",
     "level": 2,
     "metadata": {},
     "source": [
      "Calculating VSTOXX"
     ]
    },
    {
     "cell_type": "code",
     "collapsed": false,
     "input": [
      "import index_vstoxx_calculation as ivc\n",
      "reload(ivc)"
     ],
     "language": "python",
     "metadata": {},
     "outputs": []
    },
    {
     "cell_type": "code",
     "collapsed": false,
     "input": [
      "data = ivc.calculate_vstoxx(path)"
     ],
     "language": "python",
     "metadata": {},
     "outputs": []
    },
    {
     "cell_type": "code",
     "collapsed": false,
     "input": [
      "data.info()"
     ],
     "language": "python",
     "metadata": {},
     "outputs": []
    },
    {
     "cell_type": "code",
     "collapsed": false,
     "input": [
      "# Output: average error of re-calculation\n",
      "data[\"Difference\"].mean()"
     ],
     "language": "python",
     "metadata": {},
     "outputs": []
    },
    {
     "cell_type": "code",
     "collapsed": false,
     "input": [
      "# Original vs. re-calculated VSTOXX index\n",
      "%matplotlib inline\n",
      "data[['V2TX', 'VSTOXX']].plot(subplots=True, figsize=(9, 6),\n",
      "                              style=\"blue\", grid=True)"
     ],
     "language": "python",
     "metadata": {},
     "outputs": []
    },
    {
     "cell_type": "code",
     "collapsed": false,
     "input": [
      "# Differences between single values\n",
      "data['Difference'].plot(figsize=(9, 5), style=\"r\", grid=True,\n",
      "                        ylim=(-1, 1))"
     ],
     "language": "python",
     "metadata": {},
     "outputs": []
    },
    {
     "cell_type": "markdown",
     "metadata": {},
     "source": [
      "<img src=\"http://hilpisch.com/tpq_logo.png\" alt=\"The Python Quants\" width=\"35%\" align=\"right\" border=\"0\"><br>\n",
      "\n",
      "<a href=\"http://www.pythonquants.com\" target=\"_blank\">www.pythonquants.com</a> | <a href=\"mailto:analytics@pythonquants.com\">analytics@pythonquants.com</a> | <a href=\"http://twitter.com/dyjh\" target=\"_blank\">@dyjh</a>\n",
      "\n",
      "**Eurex Advanced Services** |\n",
      "<a href=\"http://www.eurexchange.com/advanced-services/\">Eurex Advanced Services Web site</a>\n",
      "\n",
      "**Python Quant Platform** |\n",
      "<a href=\"http://quant-platform.com\">http://quant-platform.com</a>\n",
      "\n",
      "**Derivatives Analytics with Python** |\n",
      "<a href=\"http://www.derivatives-analytics-with-python.com\" target=\"_blank\">Derivatives Analytics @ Wiley Finance</a>\n",
      "\n",
      "**Python for Finance** |\n",
      "<a href=\"http://shop.oreilly.com/product/0636920032441.do\" target=\"_blank\">Python for Finance @ O'Reilly</a>"
     ]
    }
   ],
   "metadata": {}
  }
 ]
}