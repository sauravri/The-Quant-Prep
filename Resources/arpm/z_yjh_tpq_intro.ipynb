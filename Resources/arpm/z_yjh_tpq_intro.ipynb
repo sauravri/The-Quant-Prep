{
 "cells": [
  {
   "cell_type": "markdown",
   "metadata": {
    "slideshow": {
     "slide_type": "slide"
    }
   },
   "source": [
    "<img src=\"http://hilpisch.com/tpq_logo.png\" alt=\"The Python Quants\" width=\"35%\" align=\"right\" border=\"0\"><br>"
   ]
  },
  {
   "cell_type": "markdown",
   "metadata": {},
   "source": [
    "# The Python Quants "
   ]
  },
  {
   "cell_type": "markdown",
   "metadata": {},
   "source": [
    "**ARPM Python Conference**\n",
    "\n",
    "**New York City, 13. August 2016**"
   ]
  },
  {
   "cell_type": "markdown",
   "metadata": {},
   "source": [
    "Dr. Yves J. Hilpisch"
   ]
  },
  {
   "cell_type": "markdown",
   "metadata": {},
   "source": [
    "[yves@tpq.io](mailto:yves@tpq.io) | [http://tpq.io](http://tpq.io) | [@dyjh](http://twitter.com/dyjh)\n",
    "\n",
    "The Python Quants GmbH"
   ]
  },
  {
   "cell_type": "markdown",
   "metadata": {
    "slideshow": {
     "slide_type": "slide"
    }
   },
   "source": [
    "## The Python Quants"
   ]
  },
  {
   "cell_type": "markdown",
   "metadata": {
    "slideshow": {
     "slide_type": "subslide"
    }
   },
   "source": [
    "<img src=\"http://hilpisch.com/tpq_logo.png\" width=\"60%\">\n",
    "\n",
    "http://tpq.io"
   ]
  },
  {
   "cell_type": "markdown",
   "metadata": {
    "slideshow": {
     "slide_type": "subslide"
    }
   },
   "source": [
    "<img src=\"http://hilpisch.com/pqp_overview.png\" width=\"90%\">\n",
    "\n",
    "http://pqp.io"
   ]
  },
  {
   "cell_type": "markdown",
   "metadata": {
    "slideshow": {
     "slide_type": "subslide"
    }
   },
   "source": [
    "<img src=\"http://datapark.io/img/logo.png\" width=\"60%\">\n",
    "\n",
    "http://datapark.io"
   ]
  },
  {
   "cell_type": "markdown",
   "metadata": {
    "slideshow": {
     "slide_type": "subslide"
    }
   },
   "source": [
    "<img src=\"https://camo.githubusercontent.com/ae62a985112cd05290e6f5392215ba664b14dc87/687474703a2f2f68696c70697363682e636f6d2f64785f646f635f30322e706e67\" width=\"90%\">\n",
    "\n",
    "http://dx-analytics.com"
   ]
  },
  {
   "cell_type": "markdown",
   "metadata": {
    "slideshow": {
     "slide_type": "subslide"
    }
   },
   "source": [
    "<img src=\"http://hilpisch.com/images/python_for_finance.png\" width=\"40%\">\n",
    "\n",
    "http://python-for-finance.com"
   ]
  },
  {
   "cell_type": "markdown",
   "metadata": {
    "slideshow": {
     "slide_type": "subslide"
    }
   },
   "source": [
    "<img src=\"http://hilpisch.com/images/derivatives_analytics_front.jpg\" width=\"40%\">\n",
    "\n",
    "http://derivatives-analytics-with-python.com"
   ]
  },
  {
   "cell_type": "markdown",
   "metadata": {
    "slideshow": {
     "slide_type": "subslide"
    }
   },
   "source": [
    "<img src=\"http://hilpisch.com/images/lvvd_cover.png\" width=\"40%\">\n",
    "\n",
    "http://lvvd.tpq.io"
   ]
  },
  {
   "cell_type": "markdown",
   "metadata": {
    "slideshow": {
     "slide_type": "subslide"
    }
   },
   "source": [
    "<img src=\"http://hilpisch.com/images/pff_certificate.png\">\n",
    "\n",
    "http://training.tpq.io/pythonforfinance.html"
   ]
  },
  {
   "cell_type": "markdown",
   "metadata": {
    "slideshow": {
     "slide_type": "subslide"
    }
   },
   "source": [
    "For the curious:\n",
    "\n",
    "* http://tpq.io (company Web site)\n",
    "* http://pqp.io (Quant Platform)\n",
    "* http://datapark.io (data science in the browser)\n",
    "* http://fpq.io (For Python Quants conference)\n",
    "* http://meetup.com/Python-for-Quant-Finance-London/ (1,500+ members)\n",
    "* http://pff.tpq.io | http://dawp.tpq.io | http://lvvd.tpq.io\n",
    "* http://hilpisch.com (all my talks and more)\n",
    "* http://twitter.com/dyjh (events, talks, finance news)\n",
    "* http://training.tpq.io (online training)"
   ]
  },
  {
   "cell_type": "markdown",
   "metadata": {
    "slideshow": {
     "slide_type": "slide"
    }
   },
   "source": [
    "## Agenda"
   ]
  },
  {
   "cell_type": "markdown",
   "metadata": {},
   "source": [
    "Topics for the tutorial:\n",
    "\n",
    "* **Python & Jupyter**: logging in to the Jupyter Notebook server\n",
    "* **Stochastics**: random numbers, stochastic processes, option pricing by Monte Carlo, risk measures\n",
    "* **Statistics (a)**: normality of returns, mean-variance portfolio approach\n",
    "* **Statistics (b)**: Principal Component Analysis (PCA), Bayesian statistics with PyMC3"
   ]
  },
  {
   "cell_type": "markdown",
   "metadata": {
    "slideshow": {
     "slide_type": "slide"
    }
   },
   "source": [
    "<img src=\"http://hilpisch.com/tpq_logo.png\" alt=\"The Python Quants\" width=\"35%\" align=\"right\" border=\"0\"><br>\n",
    "\n",
    "<a href=\"http://tpq.io\" target=\"_blank\">http://tpq.io</a> | <a href=\"http://twitter.com/dyjh\" target=\"_blank\">@dyjh</a> | <a href=\"mailto:team@tpq.io\">team@tpq.io</a>\n",
    "\n",
    "**Python Quant Platform** |\n",
    "<a href=\"http://quant-platform.com\">http://quant-platform.com</a>\n",
    "\n",
    "**Python for Finance** |\n",
    "<a href=\"http://python-for-finance.com\" target=\"_blank\">Python for Finance @ O'Reilly</a>\n",
    "\n",
    "**Derivatives Analytics with Python** |\n",
    "<a href=\"http://derivatives-analytics-with-python.com\" target=\"_blank\">Derivatives Analytics @ Wiley Finance</a>\n",
    "\n",
    "**Listed Volatility and Variance Derivatives** |\n",
    "<a href=\"http://lvvd.tpq.io\" target=\"_blank\">Listed VV Derivatives @ Wiley Finance</a>\n",
    "\n",
    "**Python Training** |\n",
    "<a href=\"http://training.tpq.io\" target=\"_blank\">Python for Finance University Certificate</a>"
   ]
  }
 ],
 "metadata": {
  "celltoolbar": "Slideshow",
  "kernelspec": {
   "display_name": "Python 2",
   "language": "python",
   "name": "python2"
  },
  "language_info": {
   "codemirror_mode": {
    "name": "ipython",
    "version": 2
   },
   "file_extension": ".py",
   "mimetype": "text/x-python",
   "name": "python",
   "nbconvert_exporter": "python",
   "pygments_lexer": "ipython2",
   "version": "2.7.12"
  },
  "widgets": {
   "state": {},
   "version": "1.1.2"
  }
 },
 "nbformat": 4,
 "nbformat_minor": 0
}
