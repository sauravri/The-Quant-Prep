{
 "cells": [
  {
   "cell_type": "markdown",
   "metadata": {},
   "source": [
    "# The Readme"
   ]
  },
  {
   "cell_type": "markdown",
   "metadata": {},
   "source": [
    "This is the rather simplistic documentation example from the Tools & Skills class of The Python Quants."
   ]
  },
  {
   "cell_type": "markdown",
   "metadata": {},
   "source": [
    "## Package\n",
    "\n",
    "The package documented contains a total of three simple Python files, two of which are in sub-folders/sub-packages, with a single function each.\n",
    "\n",
    "## Training\n",
    "\n",
    "In addition to the package files, the Git repository contains also other files used for the training session.\n",
    "\n",
    "Slides are found under http://hilpisch.com/tools_skills_dist.pdf.\n",
    "\n",
    "##  Documentation\n",
    "\n",
    "### Sphinx\n",
    "\n",
    "The `Sphinx` package represents a standard in Python documentation. See e.g. http://www.sphinx-doc.org and http://www.sphinx-doc.org/en/stable/tutorial.html.\n",
    "\n",
    "A valuable add-on is the `nbsphinx` extension which allows you to directly include Jupyter Notebook files into your documentation. See https://nbsphinx.readthedocs.io.\n",
    "\n",
    "### Environment\n",
    "\n",
    "On the shell, create an environment with `conda`:\n",
    "\n",
    "    conda create -n docu-pylib python=3.9 ipython jupyterlab\n",
    "    conda activate docu-pylib\n",
    "    pip install sphinx nbsphinx\n",
    "\n",
    "### Build the Documentation\n",
    "\n",
    "Clone the Github repository to your local working folder:\n",
    "\n",
    "    git clone http://github.com/yhilpisch/documentation\n",
    "    \n",
    "Navigate to the repository folder and execute a doctest as well as build the documentation:\n",
    "\n",
    "    cd documentation\n",
    "    \n",
    "Uncomment in `pylib/mod.py` the following code\n",
    "\n",
    "    >>> # from pylib import *\n",
    "\n",
    "Execute the doctest:\n",
    "\n",
    "    make doctest\n",
    "\n",
    "Build the HTML documentation:\n",
    "\n",
    "    make html\n",
    "\n",
    "The HTML documents are found in `_build`.\n",
    "    \n",
    "## First Steps\n",
    "    \n",
    "Start a Python interactive session session and e.g. execute:\n",
    "\n",
    "    >>> import pylib\n",
    "    >>> pylib.one(10)\n",
    "    10\n",
    "    >>> pylib.two(20)\n",
    "    40\n",
    "    >>> pylib.three(3)\n",
    "    9"
   ]
  },
  {
   "cell_type": "markdown",
   "metadata": {},
   "source": [
    "## Copyright\n",
    "\n",
    "The material is copyright (c) Dr. Yves J. Hilpisch | The Python Quants GmbH. MIT License."
   ]
  }
 ],
 "metadata": {
  "kernelspec": {
   "display_name": "Python 3",
   "language": "python",
   "name": "python3"
  },
  "language_info": {
   "codemirror_mode": {
    "name": "ipython",
    "version": 3
   },
   "file_extension": ".py",
   "mimetype": "text/x-python",
   "name": "python",
   "nbconvert_exporter": "python",
   "pygments_lexer": "ipython3",
   "version": "3.8.6"
  }
 },
 "nbformat": 4,
 "nbformat_minor": 4
}
