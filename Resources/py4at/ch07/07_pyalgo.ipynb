{
 "cells": [
  {
   "cell_type": "markdown",
   "metadata": {},
   "source": [
    "<img src=\"http://hilpisch.com/tpq_logo.png\" alt=\"The Python Quants\" width=\"35%\" align=\"right\" border=\"0\"><br>"
   ]
  },
  {
   "cell_type": "markdown",
   "metadata": {},
   "source": [
    "# Python for Algorithmic Trading "
   ]
  },
  {
   "cell_type": "markdown",
   "metadata": {},
   "source": [
    "**Chapter 07 &mdash; Working with Real-Time Data and Sockets**"
   ]
  },
  {
   "cell_type": "markdown",
   "metadata": {},
   "source": [
    "## Visualizing Streaming Data with Plotly"
   ]
  },
  {
   "cell_type": "markdown",
   "metadata": {},
   "source": [
    "### The Basics"
   ]
  },
  {
   "cell_type": "code",
   "execution_count": 1,
   "metadata": {},
   "outputs": [],
   "source": [
    "import zmq\n",
    "from datetime import datetime\n",
    "import plotly.graph_objects as go"
   ]
  },
  {
   "cell_type": "code",
   "execution_count": 2,
   "metadata": {},
   "outputs": [],
   "source": [
    "symbol = 'SYMBOL'"
   ]
  },
  {
   "cell_type": "code",
   "execution_count": 3,
   "metadata": {},
   "outputs": [
    {
     "data": {
      "application/vnd.jupyter.widget-view+json": {
       "model_id": "c7d31bbd2fa441609b6452ab7490179f",
       "version_major": 2,
       "version_minor": 0
      },
      "text/plain": [
       "FigureWidget({\n",
       "    'data': [{'type': 'scatter', 'uid': 'fe17a401-0e26-49de-8c3c-0a1d738a7c32'}], 'layout': {'template': '...'}\n",
       "})"
      ]
     },
     "execution_count": 3,
     "metadata": {},
     "output_type": "execute_result"
    }
   ],
   "source": [
    "fig = go.FigureWidget()\n",
    "fig.add_scatter()\n",
    "fig"
   ]
  },
  {
   "cell_type": "code",
   "execution_count": 4,
   "metadata": {},
   "outputs": [],
   "source": [
    "context = zmq.Context()"
   ]
  },
  {
   "cell_type": "code",
   "execution_count": 5,
   "metadata": {},
   "outputs": [],
   "source": [
    "socket = context.socket(zmq.SUB)"
   ]
  },
  {
   "cell_type": "code",
   "execution_count": 6,
   "metadata": {},
   "outputs": [
    {
     "data": {
      "text/plain": [
       "<SocketContext(connect='tcp://0.0.0.0:5555')>"
      ]
     },
     "execution_count": 6,
     "metadata": {},
     "output_type": "execute_result"
    }
   ],
   "source": [
    "socket.connect('tcp://0.0.0.0:5555')"
   ]
  },
  {
   "cell_type": "code",
   "execution_count": 7,
   "metadata": {},
   "outputs": [],
   "source": [
    "socket.setsockopt_string(zmq.SUBSCRIBE, 'SYMBOL')"
   ]
  },
  {
   "cell_type": "code",
   "execution_count": 8,
   "metadata": {},
   "outputs": [],
   "source": [
    "times = list()\n",
    "prices = list()"
   ]
  },
  {
   "cell_type": "code",
   "execution_count": 9,
   "metadata": {},
   "outputs": [],
   "source": [
    "for _ in range(50):\n",
    "    msg = socket.recv_string()\n",
    "    t = datetime.now()\n",
    "    times.append(t)\n",
    "    _, price = msg.split()\n",
    "    prices.append(float(price))\n",
    "    fig.data[0].x = times\n",
    "    fig.data[0].y = prices"
   ]
  },
  {
   "cell_type": "code",
   "execution_count": 10,
   "metadata": {},
   "outputs": [
    {
     "data": {
      "application/vnd.jupyter.widget-view+json": {
       "model_id": "67abc7dc970841dc8d2c50e5ac6cc297",
       "version_major": 2,
       "version_minor": 0
      },
      "text/plain": [
       "FigureWidget({\n",
       "    'data': [{'name': 'SYMBOL', 'type': 'scatter', 'uid': '65131e73-a9f4-45c5-838a-0466297e6109'},\n",
       "             {'line': {'dash': 'dot', 'width': 1},\n",
       "              'mode': 'lines+markers',\n",
       "              'name': 'SMA1',\n",
       "              'type': 'scatter',\n",
       "              'uid': '51947a1c-8715-4fab-ac39-9677ccb4ea00'},\n",
       "             {'line': {'dash': 'dash', 'width': 1},\n",
       "              'mode': 'lines+markers',\n",
       "              'name': 'SMA2',\n",
       "              'type': 'scatter',\n",
       "              'uid': '10cc9fc1-63c9-467b-8c89-c1fbc69866d0'}],\n",
       "    'layout': {'template': '...'}\n",
       "})"
      ]
     },
     "execution_count": 10,
     "metadata": {},
     "output_type": "execute_result"
    }
   ],
   "source": [
    "fig = go.FigureWidget()\n",
    "fig.add_scatter(name='SYMBOL')\n",
    "fig.add_scatter(name='SMA1', line=dict(width=1, dash='dot'),\n",
    "                mode='lines+markers')\n",
    "fig.add_scatter(name='SMA2', line=dict(width=1, dash='dash'),\n",
    "                mode='lines+markers')\n",
    "fig"
   ]
  },
  {
   "cell_type": "code",
   "execution_count": 11,
   "metadata": {},
   "outputs": [],
   "source": [
    "import pandas as pd"
   ]
  },
  {
   "cell_type": "code",
   "execution_count": 12,
   "metadata": {},
   "outputs": [],
   "source": [
    "df = pd.DataFrame()"
   ]
  },
  {
   "cell_type": "code",
   "execution_count": 13,
   "metadata": {},
   "outputs": [],
   "source": [
    "for _ in range(75):\n",
    "    msg = socket.recv_string()\n",
    "    t = datetime.now()\n",
    "    sym, price = msg.split()\n",
    "    df = pd.concat((df, pd.DataFrame({sym: float(price)}, index=[t])))\n",
    "    df['SMA1'] = df[sym].rolling(5).mean()\n",
    "    df['SMA2'] = df[sym].rolling(10).mean()\n",
    "    fig.data[0].x = df.index\n",
    "    fig.data[1].x = df.index\n",
    "    fig.data[2].x = df.index\n",
    "    fig.data[0].y = df[sym]\n",
    "    fig.data[1].y = df['SMA1']\n",
    "    fig.data[2].y = df['SMA2']"
   ]
  },
  {
   "cell_type": "code",
   "execution_count": 14,
   "metadata": {},
   "outputs": [],
   "source": [
    "from plotly.subplots import make_subplots"
   ]
  },
  {
   "cell_type": "code",
   "execution_count": 15,
   "metadata": {},
   "outputs": [],
   "source": [
    "f = make_subplots(rows=3, cols=1, shared_xaxes=True)\n",
    "f.append_trace(go.Scatter(name='SYMBOL'), row=1, col=1)\n",
    "f.append_trace(go.Scatter(name='RETURN', line=dict(width=1, dash='dot'),\n",
    "                mode='lines+markers', marker={'symbol': 'triangle-up'}),\n",
    "                row=2, col=1)\n",
    "f.append_trace(go.Scatter(name='MOMENTUM', line=dict(width=1, dash='dash'),\n",
    "                mode='lines+markers', marker={'symbol': 'x'}), row=3, col=1)\n",
    "# f.update_layout(height=600)"
   ]
  },
  {
   "cell_type": "code",
   "execution_count": 16,
   "metadata": {},
   "outputs": [],
   "source": [
    "fig = go.FigureWidget(f)"
   ]
  },
  {
   "cell_type": "code",
   "execution_count": 17,
   "metadata": {},
   "outputs": [
    {
     "data": {
      "application/vnd.jupyter.widget-view+json": {
       "model_id": "1ffcaeadda5d495ca9fdcd0360b66124",
       "version_major": 2,
       "version_minor": 0
      },
      "text/plain": [
       "FigureWidget({\n",
       "    'data': [{'name': 'SYMBOL',\n",
       "              'type': 'scatter',\n",
       "              'uid': '25224502-3a06-44b7-8400-43b57f140266',\n",
       "              'xaxis': 'x',\n",
       "              'yaxis': 'y'},\n",
       "             {'line': {'dash': 'dot', 'width': 1},\n",
       "              'marker': {'symbol': 'triangle-up'},\n",
       "              'mode': 'lines+markers',\n",
       "              'name': 'RETURN',\n",
       "              'type': 'scatter',\n",
       "              'uid': '965a7d1b-3f86-43b8-941d-5db44be76272',\n",
       "              'xaxis': 'x2',\n",
       "              'yaxis': 'y2'},\n",
       "             {'line': {'dash': 'dash', 'width': 1},\n",
       "              'marker': {'symbol': 'x'},\n",
       "              'mode': 'lines+markers',\n",
       "              'name': 'MOMENTUM',\n",
       "              'type': 'scatter',\n",
       "              'uid': '4e34f588-3445-4873-8537-1d4921ab0fd1',\n",
       "              'xaxis': 'x3',\n",
       "              'yaxis': 'y3'}],\n",
       "    'layout': {'template': '...',\n",
       "               'xaxis': {'anchor': 'y', 'domain': [0.0, 1.0], 'matches': 'x3', 'showticklabels': False},\n",
       "               'xaxis2': {'anchor': 'y2', 'domain': [0.0, 1.0], 'matches': 'x3', 'showticklabels': False},\n",
       "               'xaxis3': {'anchor': 'y3', 'domain': [0.0, 1.0]},\n",
       "               'yaxis': {'anchor': 'x', 'domain': [0.7333333333333333, 1.0]},\n",
       "               'yaxis2': {'anchor': 'x2', 'domain': [0.36666666666666664, 0.6333333333333333]},\n",
       "               'yaxis3': {'anchor': 'x3', 'domain': [0.0, 0.26666666666666666]}}\n",
       "})"
      ]
     },
     "execution_count": 17,
     "metadata": {},
     "output_type": "execute_result"
    }
   ],
   "source": [
    "fig"
   ]
  },
  {
   "cell_type": "code",
   "execution_count": 18,
   "metadata": {},
   "outputs": [],
   "source": [
    "import numpy as np"
   ]
  },
  {
   "cell_type": "code",
   "execution_count": 19,
   "metadata": {},
   "outputs": [],
   "source": [
    "df = pd.DataFrame()"
   ]
  },
  {
   "cell_type": "code",
   "execution_count": 20,
   "metadata": {},
   "outputs": [],
   "source": [
    "for _ in range(75):\n",
    "    msg = socket.recv_string()\n",
    "    t = datetime.now()\n",
    "    sym, price = msg.split()\n",
    "    df = pd.concat((df, pd.DataFrame({sym: float(price)}, index=[t])))\n",
    "    df['RET'] = np.log(df[sym] / df[sym].shift(1))\n",
    "    df['MOM'] = df['RET'].rolling(10).mean()\n",
    "    fig.data[0].x = df.index\n",
    "    fig.data[1].x = df.index\n",
    "    fig.data[2].x = df.index\n",
    "    fig.data[0].y = df[sym]\n",
    "    fig.data[1].y = df['RET']\n",
    "    fig.data[2].y = df['MOM']"
   ]
  },
  {
   "cell_type": "code",
   "execution_count": 21,
   "metadata": {},
   "outputs": [],
   "source": [
    "socket = context.socket(zmq.SUB)"
   ]
  },
  {
   "cell_type": "code",
   "execution_count": 22,
   "metadata": {},
   "outputs": [
    {
     "data": {
      "text/plain": [
       "<SocketContext(connect='tcp://0.0.0.0:5556')>"
      ]
     },
     "execution_count": 22,
     "metadata": {},
     "output_type": "execute_result"
    }
   ],
   "source": [
    "socket.connect('tcp://0.0.0.0:5556')"
   ]
  },
  {
   "cell_type": "code",
   "execution_count": 23,
   "metadata": {},
   "outputs": [],
   "source": [
    "socket.setsockopt_string(zmq.SUBSCRIBE, '')"
   ]
  },
  {
   "cell_type": "code",
   "execution_count": 24,
   "metadata": {},
   "outputs": [
    {
     "name": "stdout",
     "output_type": "stream",
     "text": [
      "68.474 53.983 71.530 38.054 59.391 75.852 64.257 10.243\n",
      "85.594 35.873 99.103 87.356 29.510 17.177 37.536 31.896\n",
      "90.249 52.428 93.202 27.194 34.724 90.042 93.446 98.263\n",
      "4.691 52.580 51.060 45.090 69.747 53.265 44.013 14.755\n",
      "32.432 5.754 6.585 75.092 83.102 85.810 25.832 78.937\n"
     ]
    }
   ],
   "source": [
    "for _ in range(5):\n",
    "    msg = socket.recv_string()\n",
    "    print(msg)"
   ]
  },
  {
   "cell_type": "code",
   "execution_count": 25,
   "metadata": {},
   "outputs": [
    {
     "data": {
      "application/vnd.jupyter.widget-view+json": {
       "model_id": "22f61089caea49f5944e686fb9e18acc",
       "version_major": 2,
       "version_minor": 0
      },
      "text/plain": [
       "FigureWidget({\n",
       "    'data': [{'type': 'bar', 'uid': '2269afba-c4f6-4ce5-b905-6095f9a14e2a'}], 'layout': {'template': '...'}\n",
       "})"
      ]
     },
     "execution_count": 25,
     "metadata": {},
     "output_type": "execute_result"
    }
   ],
   "source": [
    "fig = go.FigureWidget()\n",
    "fig.add_bar()\n",
    "fig"
   ]
  },
  {
   "cell_type": "code",
   "execution_count": 26,
   "metadata": {},
   "outputs": [],
   "source": [
    "x = list('abcdefgh')\n",
    "fig.data[0].x = x\n",
    "for _ in range(100):\n",
    "    msg = socket.recv_string()\n",
    "    y = msg.split()\n",
    "    y = [float(n) for n in y]\n",
    "    fig.data[0].y = y"
   ]
  },
  {
   "cell_type": "markdown",
   "metadata": {},
   "source": [
    "<img src=\"http://hilpisch.com/tpq_logo.png\" alt=\"The Python Quants\" width=\"35%\" align=\"right\" border=\"0\"><br>\n",
    "\n",
    "<a href=\"http://tpq.io\" target=\"_blank\">http://tpq.io</a> | <a href=\"http://twitter.com/dyjh\" target=\"_blank\">@dyjh</a> | <a href=\"mailto:training@tpq.io\">training@tpq.io</a>"
   ]
  }
 ],
 "metadata": {
  "anaconda-cloud": {},
  "kernelspec": {
   "display_name": "Python 3 (ipykernel)",
   "language": "python",
   "name": "python3"
  },
  "language_info": {
   "codemirror_mode": {
    "name": "ipython",
    "version": 3
   },
   "file_extension": ".py",
   "mimetype": "text/x-python",
   "name": "python",
   "nbconvert_exporter": "python",
   "pygments_lexer": "ipython3",
   "version": "3.10.12"
  }
 },
 "nbformat": 4,
 "nbformat_minor": 4
}
