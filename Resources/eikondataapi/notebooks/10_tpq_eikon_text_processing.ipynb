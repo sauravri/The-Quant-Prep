{
 "cells": [
  {
   "cell_type": "markdown",
   "metadata": {},
   "source": [
    "<img src=\"http://eikon.tpq.io/refinitiv_logo.png\" width=\"28%\" align=\"left\" style=\"vertical-align: top; padding-top: 23px;\">\n",
    "<img src=\"http://hilpisch.com/tpq_logo_long.png\" width=\"36%\" align=\"right\" style=\"vertical-align: top;\">"
   ]
  },
  {
   "cell_type": "markdown",
   "metadata": {},
   "source": [
    "# Eikon Data API"
   ]
  },
  {
   "cell_type": "markdown",
   "metadata": {},
   "source": [
    "**Natural Language Processing for News**\n",
    "\n",
    "Dr. Yves J. Hilpisch | The Python Quants GmbH\n",
    "\n",
    "<a href=\"http://tpq.io\" target=\"_blank\">http://tpq.io</a> | <a href=\"http://twitter.com/dyjh\" target=\"_blank\">@dyjh</a> | <a href=\"mailto:training@tpq.io\">training@tpq.io</a>\n",
    "\n",
    "<img src=\"http://hilpisch.com/images/tr_eikon_02.png\" width=350px align=left>"
   ]
  },
  {
   "cell_type": "markdown",
   "metadata": {},
   "source": [
    "## The Agenda"
   ]
  },
  {
   "cell_type": "markdown",
   "metadata": {},
   "source": [
    "This tutorial covers **natural language processing (NLP)** based on news from the Eikon Data API:\n",
    "\n",
    "* Retrieving News Headlines and Story Texts\n",
    "* Extracting Raw Text from HTML\n",
    "* Tokenizing a Raw Text\n",
    "* Collecting Raw Texts and Tokenizing Them\n",
    "* Building a Vocabulary for a Raw Text Collection"
   ]
  },
  {
   "cell_type": "markdown",
   "metadata": {},
   "source": [
    "## Imports and Versions"
   ]
  },
  {
   "cell_type": "markdown",
   "metadata": {},
   "source": [
    "The following imports several **packages** as used in the following."
   ]
  },
  {
   "cell_type": "code",
   "execution_count": 1,
   "metadata": {},
   "outputs": [],
   "source": [
    "import nltk, bs4  # NLP toolkit & BeautyfulSoup\n",
    "import eikon as ek  # the Eikon Python wrapper package\n",
    "from bs4 import BeautifulSoup  # HTML parsing\n",
    "from nltk import word_tokenize  # tokenizing\n",
    "import configparser as cp"
   ]
  },
  {
   "cell_type": "markdown",
   "metadata": {},
   "source": [
    "The following **Python and package versions** are used."
   ]
  },
  {
   "cell_type": "code",
   "execution_count": 2,
   "metadata": {},
   "outputs": [
    {
     "name": "stdout",
     "output_type": "stream",
     "text": [
      "3.6.4 |Anaconda, Inc.| (default, Dec 21 2017, 15:39:08) \n",
      "[GCC 4.2.1 Compatible Clang 4.0.1 (tags/RELEASE_401/final)]\n"
     ]
    }
   ],
   "source": [
    "import sys\n",
    "print(sys.version)"
   ]
  },
  {
   "cell_type": "code",
   "execution_count": 3,
   "metadata": {},
   "outputs": [
    {
     "data": {
      "text/plain": [
       "'0.1.12'"
      ]
     },
     "execution_count": 3,
     "metadata": {},
     "output_type": "execute_result"
    }
   ],
   "source": [
    "ek.__version__"
   ]
  },
  {
   "cell_type": "code",
   "execution_count": 4,
   "metadata": {},
   "outputs": [
    {
     "data": {
      "text/plain": [
       "'3.2.5'"
      ]
     },
     "execution_count": 4,
     "metadata": {},
     "output_type": "execute_result"
    }
   ],
   "source": [
    "nltk.__version__"
   ]
  },
  {
   "cell_type": "code",
   "execution_count": 5,
   "metadata": {},
   "outputs": [
    {
     "data": {
      "text/plain": [
       "'4.6.0'"
      ]
     },
     "execution_count": 5,
     "metadata": {},
     "output_type": "execute_result"
    }
   ],
   "source": [
    "bs4.__version__"
   ]
  },
  {
   "cell_type": "markdown",
   "metadata": {},
   "source": [
    "## Connecting to Eikon Data API"
   ]
  },
  {
   "cell_type": "markdown",
   "metadata": {},
   "source": [
    "This code sets the `app_id` to connect to the **Eikon Data API Proxy** which needs to be running locally. It requires the previously created text file `eikon.cfg` to be in the current working directory."
   ]
  },
  {
   "cell_type": "code",
   "execution_count": 6,
   "metadata": {},
   "outputs": [
    {
     "data": {
      "text/plain": [
       "['eikon.cfg']"
      ]
     },
     "execution_count": 6,
     "metadata": {},
     "output_type": "execute_result"
    }
   ],
   "source": [
    "cfg = cp.ConfigParser()\n",
    "cfg.read('eikon.cfg')  # adjust for different file location"
   ]
  },
  {
   "cell_type": "code",
   "execution_count": 7,
   "metadata": {},
   "outputs": [],
   "source": [
    "ek.set_app_key(cfg['eikon']['app_id']) #set_app_id function being deprecated"
   ]
  },
  {
   "cell_type": "markdown",
   "metadata": {},
   "source": [
    "## Reading News Headlines"
   ]
  },
  {
   "cell_type": "markdown",
   "metadata": {},
   "source": [
    "The function `ek.get_news_headlines()` allows you to search for and retrieve **news headlines**, including `storyId` values needed to retrieve the full news text."
   ]
  },
  {
   "cell_type": "markdown",
   "metadata": {},
   "source": [
    "A `query` string might contain `RICs` and other words to be searched for."
   ]
  },
  {
   "cell_type": "code",
   "execution_count": 8,
   "metadata": {},
   "outputs": [],
   "source": [
    "news = ek.get_news_headlines('R:TSLA.O PRODUCTION',\n",
    "                         date_from='2018-02-15',\n",
    "                         date_to='2018-03-16',\n",
    "                         count=5\n",
    "                        )"
   ]
  },
  {
   "cell_type": "code",
   "execution_count": 9,
   "metadata": {},
   "outputs": [
    {
     "data": {
      "text/html": [
       "<div>\n",
       "<style scoped>\n",
       "    .dataframe tbody tr th:only-of-type {\n",
       "        vertical-align: middle;\n",
       "    }\n",
       "\n",
       "    .dataframe tbody tr th {\n",
       "        vertical-align: top;\n",
       "    }\n",
       "\n",
       "    .dataframe thead th {\n",
       "        text-align: right;\n",
       "    }\n",
       "</style>\n",
       "<table border=\"1\" class=\"dataframe\">\n",
       "  <thead>\n",
       "    <tr style=\"text-align: right;\">\n",
       "      <th></th>\n",
       "      <th>versionCreated</th>\n",
       "      <th>text</th>\n",
       "      <th>storyId</th>\n",
       "      <th>sourceCode</th>\n",
       "    </tr>\n",
       "  </thead>\n",
       "  <tbody>\n",
       "    <tr>\n",
       "      <th>2018-03-14 21:49:23.000</th>\n",
       "      <td>2018-03-14 21:49:23.000</td>\n",
       "      <td>Tesla says Model S, Model X production efficie...</td>\n",
       "      <td>urn:newsml:reuters.com:20180314:nL3N1QW5TX:2</td>\n",
       "      <td>NS:RTRS</td>\n",
       "    </tr>\n",
       "    <tr>\n",
       "      <th>2018-03-12 17:01:58.016</th>\n",
       "      <td>2018-03-12 17:01:58.016</td>\n",
       "      <td>Tesla (TSLA) Shares Gain Amid Production Delay...</td>\n",
       "      <td>urn:newsml:reuters.com:20180312:nNRA5phjec:1</td>\n",
       "      <td>NS:ZACKSC</td>\n",
       "    </tr>\n",
       "    <tr>\n",
       "      <th>2018-03-12 01:28:10.000</th>\n",
       "      <td>2018-03-12 01:28:10.000</td>\n",
       "      <td>Tesla paused Model 3 production for planned up...</td>\n",
       "      <td>urn:newsml:reuters.com:20180312:nL1N1QU00F:2</td>\n",
       "      <td>NS:RTRS</td>\n",
       "    </tr>\n",
       "    <tr>\n",
       "      <th>2018-03-11 23:39:28.000</th>\n",
       "      <td>2018-03-11 23:42:48.000</td>\n",
       "      <td>MEDIA LINK-Tesla temporarily suspended Model 3...</td>\n",
       "      <td>urn:newsml:reuters.com:20180311:nL1N1QT0LN:2</td>\n",
       "      <td>NS:RTRS</td>\n",
       "    </tr>\n",
       "    <tr>\n",
       "      <th>2018-02-26 06:05:12.873</th>\n",
       "      <td>2018-02-26 06:05:12.873</td>\n",
       "      <td>(LEAD) Tesla-Model S P100D (LEAD) Tesla launch...</td>\n",
       "      <td>urn:newsml:reuters.com:20180226:nNRA5ma8ay:1</td>\n",
       "      <td>NS:YONNWS</td>\n",
       "    </tr>\n",
       "  </tbody>\n",
       "</table>\n",
       "</div>"
      ],
      "text/plain": [
       "                                 versionCreated  \\\n",
       "2018-03-14 21:49:23.000 2018-03-14 21:49:23.000   \n",
       "2018-03-12 17:01:58.016 2018-03-12 17:01:58.016   \n",
       "2018-03-12 01:28:10.000 2018-03-12 01:28:10.000   \n",
       "2018-03-11 23:39:28.000 2018-03-11 23:42:48.000   \n",
       "2018-02-26 06:05:12.873 2018-02-26 06:05:12.873   \n",
       "\n",
       "                                                                      text  \\\n",
       "2018-03-14 21:49:23.000  Tesla says Model S, Model X production efficie...   \n",
       "2018-03-12 17:01:58.016  Tesla (TSLA) Shares Gain Amid Production Delay...   \n",
       "2018-03-12 01:28:10.000  Tesla paused Model 3 production for planned up...   \n",
       "2018-03-11 23:39:28.000  MEDIA LINK-Tesla temporarily suspended Model 3...   \n",
       "2018-02-26 06:05:12.873  (LEAD) Tesla-Model S P100D (LEAD) Tesla launch...   \n",
       "\n",
       "                                                              storyId  \\\n",
       "2018-03-14 21:49:23.000  urn:newsml:reuters.com:20180314:nL3N1QW5TX:2   \n",
       "2018-03-12 17:01:58.016  urn:newsml:reuters.com:20180312:nNRA5phjec:1   \n",
       "2018-03-12 01:28:10.000  urn:newsml:reuters.com:20180312:nL1N1QU00F:2   \n",
       "2018-03-11 23:39:28.000  urn:newsml:reuters.com:20180311:nL1N1QT0LN:2   \n",
       "2018-02-26 06:05:12.873  urn:newsml:reuters.com:20180226:nNRA5ma8ay:1   \n",
       "\n",
       "                        sourceCode  \n",
       "2018-03-14 21:49:23.000    NS:RTRS  \n",
       "2018-03-12 17:01:58.016  NS:ZACKSC  \n",
       "2018-03-12 01:28:10.000    NS:RTRS  \n",
       "2018-03-11 23:39:28.000    NS:RTRS  \n",
       "2018-02-26 06:05:12.873  NS:YONNWS  "
      ]
     },
     "execution_count": 9,
     "metadata": {},
     "output_type": "execute_result"
    }
   ],
   "source": [
    "news"
   ]
  },
  {
   "cell_type": "markdown",
   "metadata": {},
   "source": [
    "## Retrieving Full Text"
   ]
  },
  {
   "cell_type": "markdown",
   "metadata": {},
   "source": [
    "The function `ek.get_news_story()` retrieves the full text of a **news story** given the `storyId` value."
   ]
  },
  {
   "cell_type": "markdown",
   "metadata": {},
   "source": [
    "The `storyId` values are stored in the respective column of the `news` `DataFrame` object as created above."
   ]
  },
  {
   "cell_type": "code",
   "execution_count": 10,
   "metadata": {
    "scrolled": true
   },
   "outputs": [
    {
     "data": {
      "text/plain": [
       "2018-03-14 21:49:23.000    urn:newsml:reuters.com:20180314:nL3N1QW5TX:2\n",
       "2018-03-12 17:01:58.016    urn:newsml:reuters.com:20180312:nNRA5phjec:1\n",
       "2018-03-12 01:28:10.000    urn:newsml:reuters.com:20180312:nL1N1QU00F:2\n",
       "2018-03-11 23:39:28.000    urn:newsml:reuters.com:20180311:nL1N1QT0LN:2\n",
       "2018-02-26 06:05:12.873    urn:newsml:reuters.com:20180226:nNRA5ma8ay:1\n",
       "Name: storyId, dtype: object"
      ]
     },
     "execution_count": 10,
     "metadata": {},
     "output_type": "execute_result"
    }
   ],
   "source": [
    "news['storyId']"
   ]
  },
  {
   "cell_type": "markdown",
   "metadata": {},
   "source": [
    "To read a news story, **pick out one story via its storyId and display the full text** provided as HTML code."
   ]
  },
  {
   "cell_type": "code",
   "execution_count": 11,
   "metadata": {},
   "outputs": [],
   "source": [
    "storyId = news['storyId'][1]"
   ]
  },
  {
   "cell_type": "code",
   "execution_count": 12,
   "metadata": {},
   "outputs": [],
   "source": [
    "from IPython.display import HTML"
   ]
  },
  {
   "cell_type": "code",
   "execution_count": 13,
   "metadata": {},
   "outputs": [
    {
     "data": {
      "text/html": [
       "<div class=\"storyContent\" lang=\"en\"><div class=\"tr-npp-dateline\"><p>Mar 12, 2018</p></div><div class=\"tr-npp-lead\"><p>Shares of Tesla <a href=\"http://www.zacks.com/stock/quote/TSLA\" data-type=\"url\" class=\"tr-link\" translate=\"no\">TSLA</a> popped more than 3.5% in early morning trading Monday, despite cautious reports that the electric car manufacturer was forced to pause production of its low-priced Model 3 in February.</p><p>Tesla temporarily suspended production of the Model 3 from Feb. 20 to 24 to adjust equipment, improve automation, and increase production rates, according to <em><a href=\"https://www.cnbc.com/2018/03/12/tesla-paused-model-3-production-for-planned-upgrade-in-february.html\" data-type=\"url\" class=\"tr-link\" translate=\"no\">CNBC</a> </em> . But the company says this activity is normal.</p></div><div class=\"tr-npp-body\"><p>\"Our Model 3 production plan includes periods of planned downtime in both Fremont and Gigafactory 1. These periods are used to improve automation and systematically address bottlenecks in order to increase production rates,\" a Tesla spokesperson told <em>CNBC</em> .</p><p>Tesla continues to inch closer towards its goal of reaching weekly Model 3 production rates of 2,500 by the end of Q1 and 5,000 by the end of Q2. In the most recent quarter, Tesla said it delivered 29,967 total vehicles, with 1,542 of those being Model 3s.</p><p>The electric car giant has struggled to ramp up Model 3 production, leading to some concern about short-term spending and efficiency. Meanwhile, Tesla appears to looking at new ways to generate revenue in an effort to offset some of these costs.</p><p>For example, Tesla just increased the price of its pay-per-use Supercharger model. Tesla used to offer owners access to its growing network of 1,180 stations and 9,000 Superchargers for free, but the company switched to a paid system over a year ago. Now, access to the charging stations will cost drivers more.</p><p>\"We occasionally adjust rates to reflect current local electricity and usage. The overriding principle is that Supercharging will always remain significantly cheaper than gasoline, as we only aim to recover a portion of our costs while setting up a fair system for everyone. This will never be a profit center for Tesla,\" a spokesperson told <em><a href=\"https://electrek.co/2018/03/11/tesla-increases-cost-supercharger/\" data-type=\"url\" class=\"tr-link\" translate=\"no\">Electrek</a> .</em> </p><p>The rate changes occurred throughout the U.S., with price hikes varying by region. Some Tesla owners still have free access to Superchargers if they were referred to the company by an existing buyer.</p><p>Tesla's disappointing production numbers have caused its stock to fluctuate over the past six months or so. Shares are up more than 5% year to date, but analysts have been hesitant to take a bullish stance on TSLA lately.</p><p>Over the past 60 days, we have witnessed eight negative revisions for Tesla's full-year earnings estimates, outpacing the three positive revisions we have seen in that time. The company is now expected to post an adjusted loss of $7.02 per share in the current fiscal year.</p><p>TSLA is currently sporting a Zacks Rank #4 (Sell), as well as an \"F\" grade for Value in our Style Scores system.</p><p><em>Want more market analysis from this author? Make sure to follow @</em><em><a href=\"https://twitter.com/Ryan_McQueeney\" data-type=\"url\" class=\"tr-link\" translate=\"no\">Ryan_McQueeney</a>  </em><em>on Twitter!</em> </p><p><em>The Hottest Tech Mega-Trend of All</em></p><p>Last year, it generated $8 billion in global revenues. By 2020, it's predicted to blast through the roof to $47 billion. Famed investor Mark Cuban says it will produce \"the world's first trillionaires,\" but that should still leave plenty of money for regular investors who make the right trades early.</p><p><em><a href=\"https://www.zacks.com/registration/ultimatetrader/welcome/eoffer/381b?add=1749&amp;adid=ZCOM_ZU_AIReport_A_STOCKSINTHENEWS_AIMEGA_031218&amp;icid=EOAC-STOCKSINTHENEWS-tx-ZU031218\" data-type=\"url\" class=\"tr-link\" translate=\"no\">See Zacks' 3 Best Stocks to Play This Trend &gt;&gt;</a> </em></p><p>Want the latest recommendations from Zacks Investment Research? Today, you can download 7 Best Stocks for the Next 30 Days.</p><p><a href=\"http://www.zacks.com/registration/pfp/?ALERT=RPT_7BST_LP194&amp;ADID=NEWSTEX_CONTENT_ZER_ARTCAT_STOCKS_IN_THE_NEWS&amp;cid=CS-NEWSTEX-FT-295338\" data-type=\"url\" class=\"tr-link\" translate=\"no\">Click to get this free report</a></p><p> </p><p><a href=\"http://www.zacks.com/registration/pfp?ALERT=ZER_LINK&amp;d_alert=ZER_CONF&amp;t=TSLA&amp;ADID=NEWSTEX_CONTENT_ZER_ARTCAT_STOCKS_IN_THE_NEWS&amp;cid=CS-NEWSTEX-FT-295338\" data-type=\"url\" class=\"tr-link\" translate=\"no\">Tesla, Inc. (TSLA): Free Stock Analysis Report</a></p><p> </p><p><a href=\"http://www.zacks.com/stock/news/295338/tesla-tsla-shares-gain-amid-production-delays-higher-supercharger-prices?cid=CS-NEWSTEX-FT-295338\" data-type=\"url\" class=\"tr-link\" translate=\"no\">To read this article on Zacks.com click here.</a></p><p> </p><p><a href=\"http://www.zacks.com/\" data-type=\"url\" class=\"tr-link\" translate=\"no\">Zacks Investment Research</a></p><p>The views expressed in any and all content distributed by Newstex and its re-distributors (collectively, the \"Newstex Authoritative Content\") are solely those of the respective author(s) and not necessarily the views of Newstex or its re-distributors. Stories from such authors are provided \"AS IS,\" with no warranties, and confer no rights. The material and information provided in Newstex Authoritative Content are for general information only and should not, in any respect, be relied on as professional advice. Newstex Authoritative Content is not \"read and approved\" before it is posted. Accordingly, neither Newstex nor its re-distributors make any claims, promises or guarantees about the accuracy, completeness, or adequacy of the information contained therein or linked to from such content, nor do they take responsibility for any aspect of such content. The Newstex Authoritative Content shall be construed as author-based content and commentary. Accordingly, no warranties or other guarantees are offered as to the quality of the opinions, commentary or anything else appearing in such Newstex Authoritative Content. Newstex and its re-distributors expressly reserve the right to delete stories at its and their sole discretion.</p></div><p class=\"line-break\"><br/></p><p class=\"tr-copyright\">Copyright (c) 2018 Zacks Investment Research</p></div>"
      ],
      "text/plain": [
       "<IPython.core.display.HTML object>"
      ]
     },
     "execution_count": 13,
     "metadata": {},
     "output_type": "execute_result"
    }
   ],
   "source": [
    "HTML(ek.get_news_story(storyId))"
   ]
  },
  {
   "cell_type": "markdown",
   "metadata": {},
   "source": [
    "## Extracting Raw Text"
   ]
  },
  {
   "cell_type": "markdown",
   "metadata": {},
   "source": [
    "For the purposes of parsing the story text, **raw text** is better suited than HTML. To this end, the `bs4` package is helpful in transforming the HTML content to text."
   ]
  },
  {
   "cell_type": "code",
   "execution_count": 14,
   "metadata": {},
   "outputs": [],
   "source": [
    "html = ek.get_news_story(storyId)"
   ]
  },
  {
   "cell_type": "code",
   "execution_count": 15,
   "metadata": {},
   "outputs": [],
   "source": [
    "raw = BeautifulSoup(html, 'html5lib').get_text()"
   ]
  },
  {
   "cell_type": "code",
   "execution_count": 16,
   "metadata": {},
   "outputs": [],
   "source": [
    "ind = raw.find('Tesla')"
   ]
  },
  {
   "cell_type": "code",
   "execution_count": 17,
   "metadata": {},
   "outputs": [
    {
     "name": "stdout",
     "output_type": "stream",
     "text": [
      "Tesla TSLA popped more than 3.5% in early morning trading Monday, despite cautious reports that the electric car manufacturer was forced to pause production of its low-priced Model 3 in February.Tesla temporarily suspended production of the Model 3 from Feb. 20 to 24 to adjust equipment, improve automation, and increase production rates, according to CNBC  . But the company says this activity is normal.\"Our Model 3 production plan includes periods of planned downtime in both Fremont and Gigafact\n"
     ]
    }
   ],
   "source": [
    "print(raw[ind:ind + 500])"
   ]
  },
  {
   "cell_type": "markdown",
   "metadata": {},
   "source": [
    "## Tokens for a Text"
   ]
  },
  {
   "cell_type": "markdown",
   "metadata": {},
   "source": [
    "Using `nltk` **tokenization**, i.e., the splitting up of a raw text into unique elements, is easily accomplished. The `punkt` package for `nltk` is needed."
   ]
  },
  {
   "cell_type": "code",
   "execution_count": 18,
   "metadata": {},
   "outputs": [
    {
     "name": "stdout",
     "output_type": "stream",
     "text": [
      "[nltk_data] Downloading package punkt to /Users/yves/nltk_data...\n",
      "[nltk_data]   Package punkt is already up-to-date!\n"
     ]
    },
    {
     "data": {
      "text/plain": [
       "True"
      ]
     },
     "execution_count": 18,
     "metadata": {},
     "output_type": "execute_result"
    }
   ],
   "source": [
    "nltk.download('punkt')  # downloads package if required"
   ]
  },
  {
   "cell_type": "code",
   "execution_count": 19,
   "metadata": {},
   "outputs": [],
   "source": [
    "tokens = word_tokenize(raw)  # derives tokens for the raw text"
   ]
  },
  {
   "cell_type": "code",
   "execution_count": 20,
   "metadata": {
    "scrolled": false
   },
   "outputs": [
    {
     "data": {
      "text/plain": [
       "['reports',\n",
       " 'that',\n",
       " 'the',\n",
       " 'electric',\n",
       " 'car',\n",
       " 'manufacturer',\n",
       " 'was',\n",
       " 'forced',\n",
       " 'to',\n",
       " 'pause',\n",
       " 'production',\n",
       " 'of',\n",
       " 'its',\n",
       " 'low-priced',\n",
       " 'Model',\n",
       " '3',\n",
       " 'in',\n",
       " 'February.Tesla',\n",
       " 'temporarily',\n",
       " 'suspended']"
      ]
     },
     "execution_count": 20,
     "metadata": {},
     "output_type": "execute_result"
    }
   ],
   "source": [
    "tokens[20:40]"
   ]
  },
  {
   "cell_type": "markdown",
   "metadata": {},
   "source": [
    "On the basis of tokens, **contexts** for different tokens (words) are easily selected."
   ]
  },
  {
   "cell_type": "code",
   "execution_count": 21,
   "metadata": {},
   "outputs": [],
   "source": [
    "text = nltk.Text(tokens)"
   ]
  },
  {
   "cell_type": "code",
   "execution_count": 22,
   "metadata": {},
   "outputs": [
    {
     "name": "stdout",
     "output_type": "stream",
     "text": [
      "Displaying 8 of 8 matches:\n",
      " manufacturer was forced to pause production of its low-priced Model 3 in Febr\n",
      "ruary.Tesla temporarily suspended production of the Model 3 from Feb. 20 to 24\n",
      "improve automation , and increase production rates , according to CNBC . But t\n",
      "tivity is normal . `` Our Model 3 production plan includes periods of planned \n",
      " bottlenecks in order to increase production rates , '' a Tesla spokesperson t\n",
      "s goal of reaching weekly Model 3 production rates of 2,500 by the end of Q1 a\n",
      " has struggled to ramp up Model 3 production , leading to some concern about s\n",
      "ting buyer.Tesla 's disappointing production numbers have caused its stock to \n"
     ]
    }
   ],
   "source": [
    "text.concordance('production')"
   ]
  },
  {
   "cell_type": "markdown",
   "metadata": {},
   "source": [
    "## Collecting Raw Texts"
   ]
  },
  {
   "cell_type": "markdown",
   "metadata": {},
   "source": [
    "The analyses that follow are based on **all news stories** as seen above. To this end, the raw texts are collected in a `list` object."
   ]
  },
  {
   "cell_type": "code",
   "execution_count": 23,
   "metadata": {},
   "outputs": [],
   "source": [
    "stories = []\n",
    "for storyId in news['storyId']:\n",
    "    html = ek.get_news_story(storyId)\n",
    "    stories.append(BeautifulSoup(html, 'html5lib').get_text())"
   ]
  },
  {
   "cell_type": "code",
   "execution_count": 24,
   "metadata": {},
   "outputs": [
    {
     "name": "stdout",
     "output_type": "stream",
     "text": [
      " decreased considerably, following the latest report of quality problems that co\n",
      "e electric car manufacturer was forced to pause production of its low-priced Mod\n",
      "lanned work to adjust equipment in order to improve automation and increase prod\n",
      "loomberg reported on Sunday.Source link: https://www.bloomberg.com/news/articles\n",
      "mation in 3rd para)SEOUL, Feb. 26 (Yonhap) -- U.S. carmaker Tesla Motors Inc. on\n"
     ]
    }
   ],
   "source": [
    "for story in stories:\n",
    "    print(story[120:200])"
   ]
  },
  {
   "cell_type": "markdown",
   "metadata": {},
   "source": [
    "## Tokens for Raw Texts"
   ]
  },
  {
   "cell_type": "markdown",
   "metadata": {},
   "source": [
    "The same approach is now applied to all the story texts as collected above."
   ]
  },
  {
   "cell_type": "code",
   "execution_count": 25,
   "metadata": {},
   "outputs": [],
   "source": [
    "collection = ''.join(stories)  # combines all texts"
   ]
  },
  {
   "cell_type": "code",
   "execution_count": 26,
   "metadata": {},
   "outputs": [],
   "source": [
    "tokens = word_tokenize(collection)  # derives tokens from the collection"
   ]
  },
  {
   "cell_type": "code",
   "execution_count": 27,
   "metadata": {},
   "outputs": [
    {
     "data": {
      "text/plain": [
       "['carmaker',\n",
       " 'from',\n",
       " 'hitting',\n",
       " 'its',\n",
       " 'production',\n",
       " 'targets.The',\n",
       " 'electric',\n",
       " 'car',\n",
       " 'maker',\n",
       " 'told',\n",
       " 'Reuters',\n",
       " 'on',\n",
       " 'Wednesday',\n",
       " 'production',\n",
       " 'of',\n",
       " '100,000',\n",
       " 'Model',\n",
       " 'S',\n",
       " 'and',\n",
       " 'Model']"
      ]
     },
     "execution_count": 27,
     "metadata": {},
     "output_type": "execute_result"
    }
   ],
   "source": [
    "tokens[40:60]"
   ]
  },
  {
   "cell_type": "markdown",
   "metadata": {},
   "source": [
    "Based on the new set of tokens, the collection of raw texts can now be searched and contexts can be looked up."
   ]
  },
  {
   "cell_type": "code",
   "execution_count": 28,
   "metadata": {},
   "outputs": [],
   "source": [
    "text = nltk.Text(tokens)"
   ]
  },
  {
   "cell_type": "code",
   "execution_count": 29,
   "metadata": {},
   "outputs": [
    {
     "name": "stdout",
     "output_type": "stream",
     "text": [
      "Displaying 21 of 21 matches:\n",
      "ent the carmaker from hitting its production targets.The electric car maker to\n",
      "r maker told Reuters on Wednesday production of 100,000 Model S and Model X ve\n",
      "arts leading to costly rework and production delays , citing several current a\n",
      " manufacturer was forced to pause production of its low-priced Model 3 in Febr\n",
      "ruary.Tesla temporarily suspended production of the Model 3 from Feb. 20 to 24\n",
      "improve automation , and increase production rates , according to CNBC . But t\n",
      "tivity is normal . `` Our Model 3 production plan includes periods of planned \n",
      " bottlenecks in order to increase production rates , '' a Tesla spokesperson t\n",
      "s goal of reaching weekly Model 3 production rates of 2,500 by the end of Q1 a\n",
      " has struggled to ramp up Model 3 production , leading to some concern about s\n",
      "ting buyer.Tesla 's disappointing production numbers have caused its stock to \n",
      " Inc TSLA.O temporarily suspended production of its Model 3 electric car from \n",
      "o improve automation and increase production rates.Tesla said the planned paus\n",
      "up a new product . `` Our Model 3 production plan includes periods of planned \n",
      " bottlenecks in order to increase production rates , '' a Tesla spokesperson s\n",
      "d not provide specifics about the production upgrade , but it said there could\n",
      "ontinues to target weekly Model 3 production rates of 2,500 by the end of the \n",
      "f accurately forecasting specific production rates at specific points in time \n",
      "hese actions should result in our production rate significantly increasing dur\n",
      ") Tesla launches world 's fastest production car in S. Korea ( ATTN : CHANGES \n",
      " one of the quickest accelerating production cars in the world , in South Kore\n"
     ]
    }
   ],
   "source": [
    "text.concordance('production')"
   ]
  },
  {
   "cell_type": "code",
   "execution_count": 30,
   "metadata": {},
   "outputs": [
    {
     "name": "stdout",
     "output_type": "stream",
     "text": [
      "Displaying 4 of 4 matches:\n",
      "uipment , improve automation , and increase production rates , according to CN\n",
      "ly address bottlenecks in order to increase production rates , '' a Tesla spok\n",
      "in order to improve automation and increase production rates.Tesla said the pl\n",
      "ly address bottlenecks in order to increase production rates , '' a Tesla spok\n"
     ]
    }
   ],
   "source": [
    "text.concordance('increase')"
   ]
  },
  {
   "cell_type": "code",
   "execution_count": 31,
   "metadata": {},
   "outputs": [
    {
     "name": "stdout",
     "output_type": "stream",
     "text": [
      "Displaying 5 of 5 matches:\n",
      " 24 to adjust equipment , improve automation , and increase production rates ,\n",
      "These periods are used to improve automation and systematically address bottle\n",
      "ust equipment in order to improve automation and increase production rates.Tes\n",
      "These periods are used to improve automation and systematically address bottle\n",
      "nned downtime was used to improve automation and reduce bottlenecks , Bloomber\n"
     ]
    }
   ],
   "source": [
    "text.concordance('automation')"
   ]
  },
  {
   "cell_type": "code",
   "execution_count": 32,
   "metadata": {},
   "outputs": [
    {
     "name": "stdout",
     "output_type": "stream",
     "text": [
      "Displaying 5 of 5 matches:\n",
      "ion of 100,000 Model S and Model X vehicles is now possible in a two-shift cyc\n",
      "sla said it delivered 29,967 total vehicles , with 1,542 of those being Model \n",
      "livered 28,425 Model S and Model X vehicles and 1,542 Model 3 vehicles , total\n",
      "Model X vehicles and 1,542 Model 3 vehicles , totaling 29,967 deliveries . ( R\n",
      " growing appetite for all-electric vehicles ( EVs ) here.Using Ludicrous mode \n"
     ]
    }
   ],
   "source": [
    "text.concordance('vehicles')"
   ]
  },
  {
   "cell_type": "markdown",
   "metadata": {},
   "source": [
    "## Building a Vocabulary"
   ]
  },
  {
   "cell_type": "markdown",
   "metadata": {},
   "source": [
    "Based on the tokens, a **vocabulary** can be created."
   ]
  },
  {
   "cell_type": "code",
   "execution_count": 33,
   "metadata": {},
   "outputs": [],
   "source": [
    "words = sorted([w.lower() for w in tokens])"
   ]
  },
  {
   "cell_type": "code",
   "execution_count": 34,
   "metadata": {},
   "outputs": [
    {
     "data": {
      "text/plain": [
       "333"
      ]
     },
     "execution_count": 34,
     "metadata": {},
     "output_type": "execute_result"
    }
   ],
   "source": [
    "ind = words.index('a')  # first occurance of 'a'\n",
    "ind"
   ]
  },
  {
   "cell_type": "code",
   "execution_count": 35,
   "metadata": {},
   "outputs": [
    {
     "data": {
      "text/plain": [
       "['a', 'a', 'a', 'a', 'a', 'a', 'a', 'a', 'a', 'a', 'a', 'a', 'a', 'a', 'a']"
      ]
     },
     "execution_count": 35,
     "metadata": {},
     "output_type": "execute_result"
    }
   ],
   "source": [
    "words[ind: ind+15]"
   ]
  },
  {
   "cell_type": "markdown",
   "metadata": {},
   "source": [
    "The following code **deletes duplicates** and **sorts** the remaining `list` object alphabetically."
   ]
  },
  {
   "cell_type": "code",
   "execution_count": 36,
   "metadata": {},
   "outputs": [],
   "source": [
    "words = sorted(list(set(words[ind:])))"
   ]
  },
  {
   "cell_type": "code",
   "execution_count": 37,
   "metadata": {},
   "outputs": [
    {
     "data": {
      "text/plain": [
       "['a',\n",
       " 'about',\n",
       " 'absorb',\n",
       " 'accelerating',\n",
       " 'acceleration',\n",
       " 'access',\n",
       " 'according',\n",
       " 'accordingly',\n",
       " 'accuracy',\n",
       " 'accurately',\n",
       " 'achieve',\n",
       " 'actions',\n",
       " 'activity',\n",
       " 'add',\n",
       " 'address',\n",
       " 'adequacy',\n",
       " 'adjust',\n",
       " 'adjusted',\n",
       " 'adults',\n",
       " 'advice']"
      ]
     },
     "execution_count": 37,
     "metadata": {},
     "output_type": "execute_result"
    }
   ],
   "source": [
    "words[:20]"
   ]
  },
  {
   "cell_type": "markdown",
   "metadata": {},
   "source": [
    "## Conclusions"
   ]
  },
  {
   "cell_type": "markdown",
   "metadata": {},
   "source": [
    "This tutorial covers the following **natural language processing (NLP)** tasks based on the Eikon Data API and respective Python packages:\n",
    "\n",
    "* Retrieving News Headlines and Story Texts\n",
    "* Extracting Raw Text from HTML\n",
    "* Tokenizing a Raw Text\n",
    "* Collecting Raw Texts and Tokenizing Them\n",
    "* Building a Vocabulary for a Raw Text Collection"
   ]
  },
  {
   "cell_type": "markdown",
   "metadata": {},
   "source": [
    "## Eikon Data API Developer Resources"
   ]
  },
  {
   "cell_type": "markdown",
   "metadata": {},
   "source": [
    "* [Overview](https://developers.thomsonreuters.com/eikon-data-apis) \n",
    "* [Quick Start ](https://developers.thomsonreuters.com/eikon-data-apis/quick-start)\n",
    "* [Documentation](https://developers.thomsonreuters.com/eikon-data-apis/docs)\n",
    "* [Downloads](https://developers.thomsonreuters.com/eikon-data-apis/downloads)\n",
    "* [Tutorials](https://developers.thomsonreuters.com/eikon-data-apis/learning)\n",
    "* [Q&A Forums](https://developers.thomsonreuters.com/eikon-data-apis/qa) \n",
    "\n",
    "Data Item Browser Application: Type `DIB` into Eikon Search Bar.\n",
    "\n",
    "* [Article on Chains](https://developers.thomsonreuters.com/article/simple-chain-objects-ema-part-1)"
   ]
  },
  {
   "cell_type": "markdown",
   "metadata": {},
   "source": [
    "<img src=\"http://eikon.tpq.io/refinitiv_logo.png\" width=\"28%\" align=\"left\" style=\"vertical-align: top; padding-top: 23px;\">\n",
    "<img src=\"http://hilpisch.com/tpq_logo_long.png\" width=\"36%\" align=\"right\" style=\"vertical-align: top;\">"
   ]
  }
 ],
 "metadata": {
  "kernelspec": {
   "display_name": "Python 3",
   "language": "python",
   "name": "python3"
  },
  "language_info": {
   "codemirror_mode": {
    "name": "ipython",
    "version": 3
   },
   "file_extension": ".py",
   "mimetype": "text/x-python",
   "name": "python",
   "nbconvert_exporter": "python",
   "pygments_lexer": "ipython3",
   "version": "3.6.4"
  }
 },
 "nbformat": 4,
 "nbformat_minor": 2
}
